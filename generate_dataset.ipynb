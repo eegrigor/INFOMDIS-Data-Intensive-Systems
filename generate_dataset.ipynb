{
 "cells": [
  {
   "cell_type": "code",
   "execution_count": 111,
   "metadata": {},
   "outputs": [],
   "source": [
    "import numpy as np\n",
    "import pandas as pd \n",
    "import queue"
   ]
  },
  {
   "cell_type": "code",
   "execution_count": 112,
   "metadata": {},
   "outputs": [],
   "source": [
    "number_of_servers = 100\n",
    "connections = 20000"
   ]
  },
  {
   "cell_type": "code",
   "execution_count": 113,
   "metadata": {},
   "outputs": [
    {
     "name": "stdout",
     "output_type": "stream",
     "text": [
      "[[0 1 0 ... 0 0 0]\n",
      " [0 0 2 ... 2 2 1]\n",
      " [0 1 0 ... 0 1 5]\n",
      " ...\n",
      " [0 2 1 ... 0 2 2]\n",
      " [0 2 1 ... 2 0 1]\n",
      " [0 0 0 ... 0 0 0]]\n"
     ]
    }
   ],
   "source": [
    "server_matrix = np.zeros((number_of_servers,number_of_servers), dtype=int)\n",
    "\n",
    "for i in range(connections):\n",
    "    row = 0\n",
    "    col = 0 \n",
    "    while row == col:\n",
    "        row = np.random.randint(1,number_of_servers-1)\n",
    "        col = np.random.randint(1,number_of_servers)\n",
    "    \n",
    "    server_matrix[row,col] += 1 \n",
    "\n",
    "server_matrix[0,1] =1 \n",
    "server_matrix[4,2]=1\n",
    "print(server_matrix)"
   ]
  },
  {
   "cell_type": "code",
   "execution_count": 114,
   "metadata": {},
   "outputs": [
    {
     "name": "stdout",
     "output_type": "stream",
     "text": [
      "[0 8 9 8 6 7 6 5 9 6 5 5 6 8 7 6 6 7 7 7 7 5 6 6 5 8 8 7 6 6 7 6 7 6 7 6 9\n",
      " 5 7 7 7 7 5 6 7 7 8 6 6 6 8 5 6 7 9 6 5 6 7 6 6 5 9 6 6 7 6 6 6 7 8 7 8 7\n",
      " 5 6 5 6 6 4 6 8 6 7 7 8 6 6 9 6 6 5 8 4 6 6 5 5 6 6]\n"
     ]
    }
   ],
   "source": [
    "max_server_number = np.amax(server_matrix, axis=0)\n",
    "print(max_server_number)"
   ]
  },
  {
   "cell_type": "code",
   "execution_count": 115,
   "metadata": {},
   "outputs": [],
   "source": [
    "server_names = []\n",
    "count = 0\n",
    "\n",
    "for max_number in max_server_number:\n",
    "    if count == 0:\n",
    "        server_names.append(\"null\")\n",
    "    elif max_number == 1:\n",
    "        server_names.append(\"S-\" + str(count))\n",
    "    elif max_number > 1:\n",
    "        tmp = []\n",
    "        for i in range(1, max_number+1):\n",
    "            tmp.append(\"S-\" + str(count)+ \".\" + str(i))\n",
    "        server_names.append(tmp)\n",
    "    else:\n",
    "        continue\n",
    "    count += 1\n"
   ]
  },
  {
   "cell_type": "code",
   "execution_count": 116,
   "metadata": {},
   "outputs": [
    {
     "name": "stdout",
     "output_type": "stream",
     "text": [
      "100\n"
     ]
    }
   ],
   "source": [
    "print(len(server_names))"
   ]
  },
  {
   "cell_type": "code",
   "execution_count": 117,
   "metadata": {},
   "outputs": [],
   "source": [
    "# number_cases = 5\n",
    "# req = [\"Request\", \"Response\"]\n",
    "# max_servers = 2\n",
    "\n",
    "# with open(\"data.txt\", \"w\") as file:\n",
    "#     for i in range(number_cases):\n",
    "#         count_severs = 0 \n",
    "#         requests = []\n",
    "#         responses = []\n",
    "#         server_sequence = []\n",
    "#         number_sequence = []\n",
    "#         server_sequence.append(\"null\")\n",
    "#         number_sequence.append(0)\n",
    "#         server_number = np.random.choice(np.nonzero(server_matrix[0])[0])\n",
    "#         number_sequence.append(server_number)\n",
    "#         if max_server_number[server_number]==1:\n",
    "#             server = np.random.choice([server_names[server_number]])\n",
    "#         else:\n",
    "#             server = np.random.choice(server_names[server_number])\n",
    "#         server_sequence.append(server)\n",
    "#         requests.append([\"null\", str(server)])\n",
    "#         file.write(\"<null, \"+ server + \", Request,\" + str(i) +\"> \\n\")\n",
    "#         count_severs += 1 \n",
    "#         while len(server_sequence) <= max_servers+1 :\n",
    "#             if requests == responses:\n",
    "#                 break\n",
    "#             r = np.random.choice(req)\n",
    "#             if r == \"Response\":\n",
    "#                 if [server_sequence[-2] , server_sequence[-1]] not in requests:\n",
    "#                     continue\n",
    "#                 file.write(\"<\" + server_sequence[-1] + \", \" + server_sequence[-2] + \", Response,\" +str(i)+ \"> \\n\")\n",
    "#                 responses.append([server_sequence[-2] , server_sequence[-1]])\n",
    "#                 number_sequence.append(number_sequence[-2])\n",
    "                \n",
    "#             else:\n",
    "#                 server_number = np.random.choice(np.nonzero(server_matrix[number_sequence[-1]])[0])\n",
    "#                 number_sequence.append(server_number)\n",
    "#                 if max_server_number[server_number]==1:\n",
    "#                     server = np.random.choice([server_names[server_number]])\n",
    "#                 else:\n",
    "#                     server = np.random.choice(server_names[server_number])\n",
    "#                 server_sequence.append(server)\n",
    "#                 print(server_sequence[-2])\n",
    "#                 requests.append([server_sequence[-2] ,server])\n",
    "#                 file.write(\"<\" + server_sequence[-2] + \", \" + server + \", Request,\" +str(i)+\"> \\n\")\n",
    "    \n",
    "#         if requests != responses:\n",
    "#             for j in range(1,len(requests)+1):\n",
    "#                 if requests[-j] in responses:\n",
    "#                     continue\n",
    "#                 else:\n",
    "#                     file.write(\"<\" + requests[-j][1] + \", \" + requests[-j][0] + \", Response,\" +str(i)+ \"> \\n\")\n",
    "#         print(i)\n",
    "#         print(server_sequence)\n",
    "#         print(requests)\n",
    "#         print(responses)\n",
    "#         print(number_sequence)"
   ]
  },
  {
   "cell_type": "code",
   "execution_count": 118,
   "metadata": {},
   "outputs": [],
   "source": [
    "number_cases = 500000\n",
    "req = [\"Request\", \"Response\"]\n",
    "max_requests = 20\n",
    "\n",
    "with open(\"data.txt\", \"w\") as file:\n",
    "    for i in range(number_cases):\n",
    "        \n",
    "        count_requests = 0 \n",
    "        q_servers = queue.LifoQueue()\n",
    "        q_server_numbers = queue.LifoQueue()\n",
    "\n",
    "        q_servers.put(\"null\")\n",
    "        q_server_numbers.put(0)\n",
    "\n",
    "        server_number = np.random.choice(np.nonzero(server_matrix[0])[0])\n",
    "        q_server_numbers.put(server_number)\n",
    "\n",
    "        if max_server_number[server_number]==1:\n",
    "            server = np.random.choice([server_names[server_number]])\n",
    "        else:\n",
    "            server = np.random.choice(server_names[server_number])\n",
    "        q_servers.put(server)\n",
    "\n",
    "        file.write(\"<null, \"+ server + \", Request, \" + str(i) +\">\\n\")\n",
    "\n",
    "        count_requests += 1\n",
    "        while count_requests <= max_requests+1:\n",
    "            if q_servers.queue[-1] == 'null' and count_requests>=1:\n",
    "                break\n",
    "            r = np.random.choice(req)\n",
    "            if r == \"Response\":\n",
    "                file.write(\"<\"+ q_servers.queue[-1] +\", \" + q_servers.queue[-2] + \", Response, \" + str(i) +\">\\n\")\n",
    "                q_servers.get()\n",
    "                q_server_numbers.get()\n",
    "\n",
    "            else:\n",
    "                if np.nonzero(server_matrix[q_server_numbers.queue[-1]])[0].size == 0:\n",
    "                    continue\n",
    "                req_server_number =  np.random.choice(np.nonzero(server_matrix[q_server_numbers.queue[-1]])[0]) - 1 \n",
    "                count_requests += 1\n",
    "                if len(np.nonzero(server_matrix[q_server_numbers.queue[-1]])[0])==1 and req_server_number in q_server_numbers.queue:\n",
    "                    continue\n",
    "                while req_server_number in q_server_numbers.queue:\n",
    "                    req_server_number =  np.random.choice(np.nonzero(server_matrix[q_server_numbers.queue[-1]])[0])\n",
    "                q_server_numbers.put(req_server_number)\n",
    "                \n",
    "                if max_server_number[req_server_number]==1:\n",
    "                    server = np.random.choice([server_names[req_server_number]])\n",
    "                else:\n",
    "                    server = np.random.choice(server_names[req_server_number])\n",
    "\n",
    "                q_servers.put(server)\n",
    "\n",
    "                file.write(\"<\" + q_servers.queue[-2] + \", \" + server + \", Request, \" +str(i)+\">\\n\")\n",
    "        \n",
    "        while  not q_servers.empty():\n",
    "            if q_servers.queue[-1] == 'null':\n",
    "                break\n",
    "            else:\n",
    "                file.write(\"<\"+ q_servers.queue[-1] +\", \" + q_servers.queue[-2] + \", Response, \" + str(i) +\">\\n\")\n",
    "                q_servers.get()"
   ]
  },
  {
   "cell_type": "code",
   "execution_count": 119,
   "metadata": {},
   "outputs": [],
   "source": [
    "# import numpy as np\n",
    "# import networkx as nx\n",
    "# import matplotlib.pyplot as plt\n",
    "\n",
    "# adj_matrix = server_matrix\n",
    "\n",
    "# # Create a graph object\n",
    "# G = nx.DiGraph()\n",
    "\n",
    "# # Add nodes to the graph\n",
    "# num_nodes = adj_matrix.shape[0]\n",
    "# G.add_nodes_from(range(num_nodes))\n",
    "\n",
    "# # Add edges to the graph\n",
    "# for i in range(num_nodes):\n",
    "#     for j in range(i + 1, num_nodes):\n",
    "#         if adj_matrix[i][j] > 0:\n",
    "#             G.add_edge(i, j, weight=adj_matrix[i][j])\n",
    "\n",
    "# # Define the layout (e.g., spring_layout, shell_layout, etc.)\n",
    "# pos = nx.spring_layout(G)\n",
    "\n",
    "# # Adjust figure size before plotting\n",
    "# plt.figure(figsize=(20, 20))  # Adjust the numbers (width, height) as desired\n",
    "\n",
    "# # Draw nodes\n",
    "# nx.draw_networkx_nodes(G, pos, node_color='skyblue', node_size=500)\n",
    "\n",
    "# # Draw edges\n",
    "# nx.draw_networkx_edges(G, pos, edgelist=G.edges(), width=1)\n",
    "\n",
    "# # Draw edge labels\n",
    "# edge_labels = nx.get_edge_attributes(G, 'weight')\n",
    "# nx.draw_networkx_edge_labels(G, pos, edge_labels=edge_labels)\n",
    "\n",
    "# # Draw node labels (optional)\n",
    "# nx.draw_networkx_labels(G, pos, font_size=12, font_family='sans-serif')\n",
    "\n",
    "# # Display the graph\n",
    "# plt.title('Weighted Graph from Adjacency Matrix')\n",
    "# plt.axis('off')\n",
    "# plt.show()"
   ]
  }
 ],
 "metadata": {
  "kernelspec": {
   "display_name": "data_intensive_systems",
   "language": "python",
   "name": "python3"
  },
  "language_info": {
   "codemirror_mode": {
    "name": "ipython",
    "version": 3
   },
   "file_extension": ".py",
   "mimetype": "text/x-python",
   "name": "python",
   "nbconvert_exporter": "python",
   "pygments_lexer": "ipython3",
   "version": "3.11.9"
  }
 },
 "nbformat": 4,
 "nbformat_minor": 2
}
