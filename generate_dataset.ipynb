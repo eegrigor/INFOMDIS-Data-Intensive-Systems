{
 "cells": [
  {
   "cell_type": "code",
   "execution_count": 203,
   "metadata": {},
   "outputs": [],
   "source": [
    "import numpy as np\n",
    "import pandas as pd \n",
    "import queue"
   ]
  },
  {
   "cell_type": "code",
   "execution_count": 261,
   "metadata": {},
   "outputs": [],
   "source": [
    "number_of_servers = 50\n",
    "connections = 200"
   ]
  },
  {
   "cell_type": "code",
   "execution_count": 262,
   "metadata": {},
   "outputs": [
    {
     "name": "stdout",
     "output_type": "stream",
     "text": [
      "[[0 1 0 ... 0 0 0]\n",
      " [0 0 0 ... 0 0 0]\n",
      " [0 0 0 ... 0 0 0]\n",
      " ...\n",
      " [0 0 0 ... 0 0 0]\n",
      " [0 0 0 ... 0 0 0]\n",
      " [0 0 0 ... 0 0 0]]\n"
     ]
    }
   ],
   "source": [
    "server_matrix = np.zeros((number_of_servers,number_of_servers), dtype=int)\n",
    "\n",
    "for i in range(connections):\n",
    "    row = 0\n",
    "    col = 0 \n",
    "    while row == col:\n",
    "        row = np.random.randint(1,number_of_servers-1)\n",
    "        col = np.random.randint(1,number_of_servers)\n",
    "    \n",
    "    server_matrix[row,col] += 1 \n",
    "\n",
    "server_matrix[0,1] =1 \n",
    "server_matrix[4,2]=1\n",
    "print(server_matrix)"
   ]
  },
  {
   "cell_type": "code",
   "execution_count": 284,
   "metadata": {},
   "outputs": [
    {
     "name": "stdout",
     "output_type": "stream",
     "text": [
      "[0 1 1 2 1 2 1 2 1 1 1 1 1 1 1 1 1 1 1 1 2 1 1 1 1 1 1 1 1 1 1 1 1 1 1 1 1\n",
      " 1 1 1 1 1 1 1 2 1 1 1 1 1]\n"
     ]
    }
   ],
   "source": [
    "max_server_number = np.amax(server_matrix, axis=0)\n",
    "print(max_server_number)"
   ]
  },
  {
   "cell_type": "code",
   "execution_count": 285,
   "metadata": {},
   "outputs": [],
   "source": [
    "server_names = []\n",
    "count = 0\n",
    "\n",
    "for max_number in max_server_number:\n",
    "    if count == 0:\n",
    "        server_names.append(\"null\")\n",
    "    elif max_number == 1:\n",
    "        server_names.append(\"S-\" + str(count))\n",
    "    elif max_number > 1:\n",
    "        tmp = []\n",
    "        for i in range(1, max_number+1):\n",
    "            tmp.append(\"S-\" + str(count)+ \".\" + str(i))\n",
    "        server_names.append(tmp)\n",
    "    else:\n",
    "        continue\n",
    "    count += 1\n"
   ]
  },
  {
   "cell_type": "code",
   "execution_count": 283,
   "metadata": {},
   "outputs": [
    {
     "name": "stdout",
     "output_type": "stream",
     "text": [
      "50\n"
     ]
    }
   ],
   "source": [
    "print(len(server_names))"
   ]
  },
  {
   "cell_type": "code",
   "execution_count": 180,
   "metadata": {},
   "outputs": [
    {
     "name": "stdout",
     "output_type": "stream",
     "text": [
      "0\n",
      "['null', 'S-1']\n",
      "[['null', 'S-1']]\n",
      "[['null', 'S-1']]\n",
      "[0, 1, 0]\n",
      "S-1\n",
      "S-2.1\n",
      "1\n",
      "['null', 'S-1', 'S-2.1', 'S-1']\n",
      "[['null', 'S-1'], ['S-1', 'S-2.1'], ['S-2.1', 'S-1']]\n",
      "[]\n",
      "[0, 1, 2, 1]\n",
      "S-1\n",
      "S-2.2\n",
      "2\n",
      "['null', 'S-1', 'S-2.2', 'S-2.2']\n",
      "[['null', 'S-1'], ['S-1', 'S-2.2'], ['S-2.2', 'S-2.2']]\n",
      "[['S-1', 'S-2.2']]\n",
      "[0, 1, 2, 1, 2]\n",
      "3\n",
      "['null', 'S-1']\n",
      "[['null', 'S-1']]\n",
      "[['null', 'S-1']]\n",
      "[0, 1, 0]\n",
      "S-1\n",
      "S-2.3\n",
      "4\n",
      "['null', 'S-1', 'S-2.3', 'S-2.1']\n",
      "[['null', 'S-1'], ['S-1', 'S-2.3'], ['S-2.3', 'S-2.1']]\n",
      "[['S-1', 'S-2.3']]\n",
      "[0, 1, 2, 1, 2]\n"
     ]
    }
   ],
   "source": [
    "# number_cases = 5\n",
    "# req = [\"Request\", \"Response\"]\n",
    "# max_servers = 2\n",
    "\n",
    "# with open(\"data.txt\", \"w\") as file:\n",
    "#     for i in range(number_cases):\n",
    "#         count_severs = 0 \n",
    "#         requests = []\n",
    "#         responses = []\n",
    "#         server_sequence = []\n",
    "#         number_sequence = []\n",
    "#         server_sequence.append(\"null\")\n",
    "#         number_sequence.append(0)\n",
    "#         server_number = np.random.choice(np.nonzero(server_matrix[0])[0])\n",
    "#         number_sequence.append(server_number)\n",
    "#         if max_server_number[server_number]==1:\n",
    "#             server = np.random.choice([server_names[server_number]])\n",
    "#         else:\n",
    "#             server = np.random.choice(server_names[server_number])\n",
    "#         server_sequence.append(server)\n",
    "#         requests.append([\"null\", str(server)])\n",
    "#         file.write(\"<null, \"+ server + \", Request,\" + str(i) +\"> \\n\")\n",
    "#         count_severs += 1 \n",
    "#         while len(server_sequence) <= max_servers+1 :\n",
    "#             if requests == responses:\n",
    "#                 break\n",
    "#             r = np.random.choice(req)\n",
    "#             if r == \"Response\":\n",
    "#                 if [server_sequence[-2] , server_sequence[-1]] not in requests:\n",
    "#                     continue\n",
    "#                 file.write(\"<\" + server_sequence[-1] + \", \" + server_sequence[-2] + \", Response,\" +str(i)+ \"> \\n\")\n",
    "#                 responses.append([server_sequence[-2] , server_sequence[-1]])\n",
    "#                 number_sequence.append(number_sequence[-2])\n",
    "                \n",
    "#             else:\n",
    "#                 server_number = np.random.choice(np.nonzero(server_matrix[number_sequence[-1]])[0])\n",
    "#                 number_sequence.append(server_number)\n",
    "#                 if max_server_number[server_number]==1:\n",
    "#                     server = np.random.choice([server_names[server_number]])\n",
    "#                 else:\n",
    "#                     server = np.random.choice(server_names[server_number])\n",
    "#                 server_sequence.append(server)\n",
    "#                 print(server_sequence[-2])\n",
    "#                 requests.append([server_sequence[-2] ,server])\n",
    "#                 file.write(\"<\" + server_sequence[-2] + \", \" + server + \", Request,\" +str(i)+\"> \\n\")\n",
    "    \n",
    "#         if requests != responses:\n",
    "#             for j in range(1,len(requests)+1):\n",
    "#                 if requests[-j] in responses:\n",
    "#                     continue\n",
    "#                 else:\n",
    "#                     file.write(\"<\" + requests[-j][1] + \", \" + requests[-j][0] + \", Response,\" +str(i)+ \"> \\n\")\n",
    "#         print(i)\n",
    "#         print(server_sequence)\n",
    "#         print(requests)\n",
    "#         print(responses)\n",
    "#         print(number_sequence)"
   ]
  },
  {
   "cell_type": "code",
   "execution_count": 292,
   "metadata": {},
   "outputs": [],
   "source": [
    "number_cases = 5 \n",
    "req = [\"Request\", \"Response\"]\n",
    "max_requests = 3\n",
    "\n",
    "with open(\"data.txt\", \"w\") as file:\n",
    "    for i in range(number_cases):\n",
    "        \n",
    "        count_requests = 0 \n",
    "        q_servers = queue.LifoQueue()\n",
    "        q_server_numbers = queue.LifoQueue()\n",
    "\n",
    "        q_servers.put(\"null\")\n",
    "        q_server_numbers.put(0)\n",
    "\n",
    "        server_number = np.random.choice(np.nonzero(server_matrix[0])[0])\n",
    "        q_server_numbers.put(server_number)\n",
    "\n",
    "        if max_server_number[server_number]==1:\n",
    "            server = np.random.choice([server_names[server_number]])\n",
    "        else:\n",
    "            server = np.random.choice(server_names[server_number])\n",
    "        q_servers.put(server)\n",
    "\n",
    "        file.write(\"<null, \"+ server + \", Request,\" + str(i) +\"> \\n\")\n",
    "\n",
    "        count_requests += 1\n",
    "        while count_requests <= max_requests+1:\n",
    "            if q_servers.queue[-1] == 'null' and count_requests>=1:\n",
    "                break\n",
    "            r = np.random.choice(req)\n",
    "            if r == \"Response\":\n",
    "                file.write(\"<\"+ q_servers.queue[-1] +\", \" + q_servers.queue[-2] + \", Response,\" + str(i) +\"> \\n\")\n",
    "                q_servers.get()\n",
    "                q_server_numbers.get()\n",
    "\n",
    "            else:\n",
    "                req_server_number =  np.random.choice(np.nonzero(server_matrix[q_server_numbers.queue[-1]])[0])\n",
    "                count_requests += 1\n",
    "                if len(np.nonzero(server_matrix[q_server_numbers.queue[-1]])[0])==1 and req_server_number in q_server_numbers.queue:\n",
    "                    continue\n",
    "                while req_server_number in q_server_numbers.queue:\n",
    "                    req_server_number =  np.random.choice(np.nonzero(server_matrix[q_server_numbers.queue[-1]])[0])\n",
    "                q_server_numbers.put(req_server_number)\n",
    "                \n",
    "                if max_server_number[req_server_number]==1:\n",
    "                    server = np.random.choice([server_names[req_server_number]])\n",
    "                else:\n",
    "                    server = np.random.choice(server_names[req_server_number])\n",
    "\n",
    "                q_servers.put(server)\n",
    "\n",
    "                file.write(\"<\" + q_servers.queue[-2] + \", \" + server + \", Request,\" +str(i)+\"> \\n\")\n",
    "        \n",
    "        while  not q_servers.empty():\n",
    "            if q_servers.queue[-1] == 'null':\n",
    "                break\n",
    "            else:\n",
    "                file.write(\"<\"+ q_servers.queue[-1] +\", \" + q_servers.queue[-2] + \", Response,\" + str(i) +\"> \\n\")\n",
    "                q_servers.get()\n",
    "        \n",
    "\n",
    "        "
   ]
  }
 ],
 "metadata": {
  "kernelspec": {
   "display_name": "data_intensive_systems",
   "language": "python",
   "name": "python3"
  },
  "language_info": {
   "codemirror_mode": {
    "name": "ipython",
    "version": 3
   },
   "file_extension": ".py",
   "mimetype": "text/x-python",
   "name": "python",
   "nbconvert_exporter": "python",
   "pygments_lexer": "ipython3",
   "version": "3.11.9"
  }
 },
 "nbformat": 4,
 "nbformat_minor": 2
}
