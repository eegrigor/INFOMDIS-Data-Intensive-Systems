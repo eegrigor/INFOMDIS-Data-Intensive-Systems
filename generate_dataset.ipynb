{
 "cells": [
  {
   "cell_type": "code",
   "execution_count": 1,
   "metadata": {},
   "outputs": [],
   "source": [
    "import numpy as np\n",
    "import pandas as pd \n",
    "import queue"
   ]
  },
  {
   "cell_type": "code",
   "execution_count": 26,
   "metadata": {},
   "outputs": [],
   "source": [
    "number_of_servers = 50\n",
    "connections = 100000"
   ]
  },
  {
   "cell_type": "code",
   "execution_count": 27,
   "metadata": {},
   "outputs": [
    {
     "name": "stdout",
     "output_type": "stream",
     "text": [
      "[[ 0  1  0 ...  0  0  0]\n",
      " [ 0  0 45 ... 31 54 35]\n",
      " [ 0 32  0 ... 50 38 54]\n",
      " ...\n",
      " [ 0 40 34 ...  0 51 47]\n",
      " [ 0 53 35 ... 34  0 37]\n",
      " [ 0  0  0 ...  0  0  0]]\n"
     ]
    }
   ],
   "source": [
    "server_matrix = np.zeros((number_of_servers,number_of_servers), dtype=int)\n",
    "\n",
    "for i in range(connections):\n",
    "    row = 0\n",
    "    col = 0 \n",
    "    while row == col:\n",
    "        row = np.random.randint(1,number_of_servers-1)\n",
    "        col = np.random.randint(1,number_of_servers)\n",
    "    \n",
    "    server_matrix[row,col] += 1 \n",
    "\n",
    "server_matrix[0,1] =1 \n",
    "server_matrix[4,2]=1\n",
    "print(server_matrix)"
   ]
  },
  {
   "cell_type": "code",
   "execution_count": 30,
   "metadata": {},
   "outputs": [
    {
     "name": "stdout",
     "output_type": "stream",
     "text": [
      "[ 0 60 56 57 60 61 54 56 63 59 59 59 57 66 57 59 63 56 57 59 58 62 53 60\n",
      " 60 54 65 64 54 54 64 59 62 56 57 55 61 56 56 57 59 55 62 62 58 58 56 57\n",
      " 68 55]\n"
     ]
    }
   ],
   "source": [
    "max_server_number = np.amax(server_matrix, axis=0)\n",
    "print(max_server_number)"
   ]
  },
  {
   "cell_type": "code",
   "execution_count": 23,
   "metadata": {},
   "outputs": [],
   "source": [
    "server_names = []\n",
    "count = 0\n",
    "\n",
    "for max_number in max_server_number:\n",
    "    if count == 0:\n",
    "        server_names.append(\"null\")\n",
    "    elif max_number == 1:\n",
    "        server_names.append(\"S-\" + str(count))\n",
    "    elif max_number > 1:\n",
    "        tmp = []\n",
    "        for i in range(1, max_number+1):\n",
    "            tmp.append(\"S-\" + str(count)+ \".\" + str(i))\n",
    "        server_names.append(tmp)\n",
    "    else:\n",
    "        continue\n",
    "    count += 1\n"
   ]
  },
  {
   "cell_type": "code",
   "execution_count": 24,
   "metadata": {},
   "outputs": [
    {
     "name": "stdout",
     "output_type": "stream",
     "text": [
      "49\n"
     ]
    }
   ],
   "source": [
    "print(len(server_names))"
   ]
  },
  {
   "cell_type": "code",
   "execution_count": 7,
   "metadata": {},
   "outputs": [],
   "source": [
    "# number_cases = 5\n",
    "# req = [\"Request\", \"Response\"]\n",
    "# max_servers = 2\n",
    "\n",
    "# with open(\"data.txt\", \"w\") as file:\n",
    "#     for i in range(number_cases):\n",
    "#         count_severs = 0 \n",
    "#         requests = []\n",
    "#         responses = []\n",
    "#         server_sequence = []\n",
    "#         number_sequence = []\n",
    "#         server_sequence.append(\"null\")\n",
    "#         number_sequence.append(0)\n",
    "#         server_number = np.random.choice(np.nonzero(server_matrix[0])[0])\n",
    "#         number_sequence.append(server_number)\n",
    "#         if max_server_number[server_number]==1:\n",
    "#             server = np.random.choice([server_names[server_number]])\n",
    "#         else:\n",
    "#             server = np.random.choice(server_names[server_number])\n",
    "#         server_sequence.append(server)\n",
    "#         requests.append([\"null\", str(server)])\n",
    "#         file.write(\"<null, \"+ server + \", Request,\" + str(i) +\"> \\n\")\n",
    "#         count_severs += 1 \n",
    "#         while len(server_sequence) <= max_servers+1 :\n",
    "#             if requests == responses:\n",
    "#                 break\n",
    "#             r = np.random.choice(req)\n",
    "#             if r == \"Response\":\n",
    "#                 if [server_sequence[-2] , server_sequence[-1]] not in requests:\n",
    "#                     continue\n",
    "#                 file.write(\"<\" + server_sequence[-1] + \", \" + server_sequence[-2] + \", Response,\" +str(i)+ \"> \\n\")\n",
    "#                 responses.append([server_sequence[-2] , server_sequence[-1]])\n",
    "#                 number_sequence.append(number_sequence[-2])\n",
    "                \n",
    "#             else:\n",
    "#                 server_number = np.random.choice(np.nonzero(server_matrix[number_sequence[-1]])[0])\n",
    "#                 number_sequence.append(server_number)\n",
    "#                 if max_server_number[server_number]==1:\n",
    "#                     server = np.random.choice([server_names[server_number]])\n",
    "#                 else:\n",
    "#                     server = np.random.choice(server_names[server_number])\n",
    "#                 server_sequence.append(server)\n",
    "#                 print(server_sequence[-2])\n",
    "#                 requests.append([server_sequence[-2] ,server])\n",
    "#                 file.write(\"<\" + server_sequence[-2] + \", \" + server + \", Request,\" +str(i)+\"> \\n\")\n",
    "    \n",
    "#         if requests != responses:\n",
    "#             for j in range(1,len(requests)+1):\n",
    "#                 if requests[-j] in responses:\n",
    "#                     continue\n",
    "#                 else:\n",
    "#                     file.write(\"<\" + requests[-j][1] + \", \" + requests[-j][0] + \", Response,\" +str(i)+ \"> \\n\")\n",
    "#         print(i)\n",
    "#         print(server_sequence)\n",
    "#         print(requests)\n",
    "#         print(responses)\n",
    "#         print(number_sequence)"
   ]
  },
  {
   "cell_type": "code",
   "execution_count": 9,
   "metadata": {},
   "outputs": [
    {
     "ename": "ValueError",
     "evalue": "'a' cannot be empty unless no samples are taken",
     "output_type": "error",
     "traceback": [
      "\u001b[0;31m---------------------------------------------------------------------------\u001b[0m",
      "\u001b[0;31mValueError\u001b[0m                                Traceback (most recent call last)",
      "Cell \u001b[0;32mIn[9], line 37\u001b[0m\n\u001b[1;32m     34\u001b[0m     q_server_numbers\u001b[38;5;241m.\u001b[39mget()\n\u001b[1;32m     36\u001b[0m \u001b[38;5;28;01melse\u001b[39;00m:\n\u001b[0;32m---> 37\u001b[0m     req_server_number \u001b[38;5;241m=\u001b[39m  np\u001b[38;5;241m.\u001b[39mrandom\u001b[38;5;241m.\u001b[39mchoice(np\u001b[38;5;241m.\u001b[39mnonzero(server_matrix[q_server_numbers\u001b[38;5;241m.\u001b[39mqueue[\u001b[38;5;241m-\u001b[39m\u001b[38;5;241m1\u001b[39m]])[\u001b[38;5;241m0\u001b[39m])\n\u001b[1;32m     38\u001b[0m     count_requests \u001b[38;5;241m+\u001b[39m\u001b[38;5;241m=\u001b[39m \u001b[38;5;241m1\u001b[39m\n\u001b[1;32m     39\u001b[0m     \u001b[38;5;28;01mif\u001b[39;00m \u001b[38;5;28mlen\u001b[39m(np\u001b[38;5;241m.\u001b[39mnonzero(server_matrix[q_server_numbers\u001b[38;5;241m.\u001b[39mqueue[\u001b[38;5;241m-\u001b[39m\u001b[38;5;241m1\u001b[39m]])[\u001b[38;5;241m0\u001b[39m])\u001b[38;5;241m==\u001b[39m\u001b[38;5;241m1\u001b[39m \u001b[38;5;129;01mand\u001b[39;00m req_server_number \u001b[38;5;129;01min\u001b[39;00m q_server_numbers\u001b[38;5;241m.\u001b[39mqueue:\n",
      "File \u001b[0;32mnumpy/random/mtrand.pyx:951\u001b[0m, in \u001b[0;36mnumpy.random.mtrand.RandomState.choice\u001b[0;34m()\u001b[0m\n",
      "\u001b[0;31mValueError\u001b[0m: 'a' cannot be empty unless no samples are taken"
     ]
    }
   ],
   "source": [
    "number_cases = 1000\n",
    "req = [\"Request\", \"Response\"]\n",
    "max_requests = 5\n",
    "\n",
    "with open(\"data.txt\", \"w\") as file:\n",
    "    for i in range(number_cases):\n",
    "        \n",
    "        count_requests = 0 \n",
    "        q_servers = queue.LifoQueue()\n",
    "        q_server_numbers = queue.LifoQueue()\n",
    "\n",
    "        q_servers.put(\"null\")\n",
    "        q_server_numbers.put(0)\n",
    "\n",
    "        server_number = np.random.choice(np.nonzero(server_matrix[0])[0])\n",
    "        q_server_numbers.put(server_number)\n",
    "\n",
    "        if max_server_number[server_number]==1:\n",
    "            server = np.random.choice([server_names[server_number]])\n",
    "        else:\n",
    "            server = np.random.choice(server_names[server_number])\n",
    "        q_servers.put(server)\n",
    "\n",
    "        file.write(\"<null, \"+ server + \", Request, \" + str(i) +\">\\n\")\n",
    "\n",
    "        count_requests += 1\n",
    "        while count_requests <= max_requests+1:\n",
    "            if q_servers.queue[-1] == 'null' and count_requests>=1:\n",
    "                break\n",
    "            r = np.random.choice(req)\n",
    "            if r == \"Response\":\n",
    "                file.write(\"<\"+ q_servers.queue[-1] +\", \" + q_servers.queue[-2] + \", Response, \" + str(i) +\">\\n\")\n",
    "                q_servers.get()\n",
    "                q_server_numbers.get()\n",
    "\n",
    "            else:\n",
    "                req_server_number =  np.random.choice(np.nonzero(server_matrix[q_server_numbers.queue[-1]])[0])\n",
    "                count_requests += 1\n",
    "                if len(np.nonzero(server_matrix[q_server_numbers.queue[-1]])[0])==1 and req_server_number in q_server_numbers.queue:\n",
    "                    continue\n",
    "                while req_server_number in q_server_numbers.queue:\n",
    "                    req_server_number =  np.random.choice(np.nonzero(server_matrix[q_server_numbers.queue[-1]])[0])\n",
    "                q_server_numbers.put(req_server_number)\n",
    "                \n",
    "                if max_server_number[req_server_number]==1:\n",
    "                    server = np.random.choice([server_names[req_server_number]])\n",
    "                else:\n",
    "                    server = np.random.choice(server_names[req_server_number])\n",
    "\n",
    "                q_servers.put(server)\n",
    "\n",
    "                file.write(\"<\" + q_servers.queue[-2] + \", \" + server + \", Request, \" +str(i)+\">\\n\")\n",
    "        \n",
    "        while  not q_servers.empty():\n",
    "            if q_servers.queue[-1] == 'null':\n",
    "                break\n",
    "            else:\n",
    "                file.write(\"<\"+ q_servers.queue[-1] +\", \" + q_servers.queue[-2] + \", Response, \" + str(i) +\">\\n\")\n",
    "                q_servers.get()"
   ]
  },
  {
   "cell_type": "code",
   "execution_count": 19,
   "metadata": {},
   "outputs": [
    {
     "data": {
      "text/plain": [
       "(array([ 0,  1,  1, ..., 48, 48, 48]), array([ 1,  3,  4, ..., 44, 45, 46]))"
      ]
     },
     "execution_count": 19,
     "metadata": {},
     "output_type": "execute_result"
    }
   ],
   "source": [
    "np.nonzero(server_matrix[:])"
   ]
  },
  {
   "cell_type": "code",
   "execution_count": 38,
   "metadata": {},
   "outputs": [
    {
     "data": {
      "image/png": "[encoded data removed]",
      "text/plain": [
       "<Figure size 640x480 with 1 Axes>"
      ]
     },
     "metadata": {},
     "output_type": "display_data"
    }
   ],
   "source": [
    "import matplotlib.pyplot as plt\n",
    "import networkx as nx\n",
    "import numpy as np\n",
    "\n",
    "adj_matrix = server_matrix\n",
    "G = nx.Graph()\n",
    "num_nodes = adj_matrix.shape[0]  # Number of nodes in the graph\n",
    "G.add_nodes_from(range(num_nodes))\n",
    "for i in range(num_nodes):\n",
    "    for j in range(i + 1, num_nodes):  # Only iterate over the upper triangle\n",
    "        if adj_matrix[i][j] > 0:\n",
    "            G.add_edge(i, j, weight=adj_matrix[i][j])\n",
    "\n",
    "# Define the layout (e.g., spring_layout, shell_layout, etc.)\n",
    "pos = nx.spring_layout(G)\n",
    "\n",
    "# Draw nodes\n",
    "nx.draw_networkx_nodes(G, pos, node_color='skyblue', node_size=1)\n",
    "\n",
    "# Draw edges\n",
    "nx.draw_networkx_edges(G, pos, edgelist=G.edges(), width=2)\n",
    "\n",
    "# Draw edge labels\n",
    "edge_labels = nx.get_edge_attributes(G, 'weight')\n",
    "nx.draw_networkx_edge_labels(G, pos, edge_labels=edge_labels)\n",
    "\n",
    "# Draw node labels (optional)\n",
    "nx.draw_networkx_labels(G, pos, font_size=12, font_family='sans-serif')\n",
    "\n",
    "# Display the graph\n",
    "plt.title('Weighted Graph from Adjacency Matrix')\n",
    "plt.axis('off')\n",
    "plt.show()"
   ]
  }
 ],
 "metadata": {
  "kernelspec": {
   "display_name": "data_intensive_systems",
   "language": "python",
   "name": "python3"
  },
  "language_info": {
   "codemirror_mode": {
    "name": "ipython",
    "version": 3
   },
   "file_extension": ".py",
   "mimetype": "text/x-python",
   "name": "python",
   "nbconvert_exporter": "python",
   "pygments_lexer": "ipython3",
   "version": "3.11.9"
  }
 },
 "nbformat": 4,
 "nbformat_minor": 2
}
