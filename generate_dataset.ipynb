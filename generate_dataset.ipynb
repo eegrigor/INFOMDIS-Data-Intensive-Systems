{
 "cells": [
  {
   "cell_type": "markdown",
   "metadata": {},
   "source": [
    "# Data Generation"
   ]
  },
  {
   "cell_type": "code",
   "execution_count": 9,
   "metadata": {},
   "outputs": [],
   "source": [
    "import numpy as np\n",
    "import pandas as pd \n",
    "import queue\n",
    "import random\n",
    "import datetime"
   ]
  },
  {
   "cell_type": "code",
   "execution_count": 10,
   "metadata": {},
   "outputs": [],
   "source": [
    "number_of_servers = 200\n",
    "connections = 2000"
   ]
  },
  {
   "cell_type": "code",
   "execution_count": 11,
   "metadata": {},
   "outputs": [
    {
     "name": "stdout",
     "output_type": "stream",
     "text": [
      "[[0 0 0 ... 0 0 0]\n",
      " [0 0 0 ... 0 0 0]\n",
      " [0 1 0 ... 0 0 1]\n",
      " ...\n",
      " [0 0 0 ... 0 0 0]\n",
      " [0 0 0 ... 0 0 0]\n",
      " [0 0 0 ... 0 0 0]]\n"
     ]
    }
   ],
   "source": [
    "server_matrix = np.zeros((number_of_servers,number_of_servers), dtype=int)\n",
    "\n",
    "# Ensure that every server has at least on connection \n",
    "for i in range(1,number_of_servers):\n",
    "    row = np.random.randint(1,number_of_servers-1)\n",
    "    col = np.random.randint(1,number_of_servers)\n",
    "    while row == i:\n",
    "         row = np.random.randint(1,number_of_servers-1)\n",
    "    while col == i:\n",
    "        col = np.random.randint(1,number_of_servers-1)\n",
    "    if i != number_of_servers-1:\n",
    "        server_matrix[i,col] = 1\n",
    "    server_matrix[row,i] = 1 \n",
    "\n",
    "for i in range(connections):\n",
    "    row = 0\n",
    "    col = 0 \n",
    "    while row == col:\n",
    "        row = np.random.randint(1,number_of_servers-1)\n",
    "        col = np.random.randint(1,number_of_servers)\n",
    "    \n",
    "    server_matrix[row,col] += 1 \n",
    "\n",
    "server_matrix[0,np.random.randint(1,number_of_servers)-1] =1 \n",
    "print(server_matrix)"
   ]
  },
  {
   "cell_type": "code",
   "execution_count": 12,
   "metadata": {},
   "outputs": [
    {
     "name": "stdout",
     "output_type": "stream",
     "text": [
      "[0 2 1 1 2 2 1 2 1 2 2 2 2 1 1 1 1 1 1 1 1 2 1 1 1 1 1 1 1 1 1 2 1 1 2 1 1\n",
      " 2 1 2 2 1 1 1 1 1 2 1 2 1 1 1 1 2 1 1 2 1 2 1 1 2 1 2 1 2 1 2 1 1 1 2 2 1\n",
      " 1 1 1 1 1 1 2 1 1 1 1 1 2 2 1 1 1 1 1 1 2 2 1 2 1 1 2 1 2 2 2 2 2 3 1 1 2\n",
      " 1 1 1 2 1 1 1 2 2 1 3 1 1 2 2 1 1 1 2 2 1 1 1 2 1 1 2 2 1 2 2 1 1 1 1 1 1\n",
      " 2 2 1 1 2 2 1 1 3 2 1 1 1 1 1 1 1 1 1 1 1 1 1 1 1 2 1 2 2 1 2 2 2 1 1 1 1\n",
      " 1 1 1 2 1 1 1 1 1 1 2 1 2 1 1]\n"
     ]
    }
   ],
   "source": [
    "max_server_number = np.amax(server_matrix, axis=0)\n",
    "print(max_server_number)"
   ]
  },
  {
   "cell_type": "code",
   "execution_count": 13,
   "metadata": {},
   "outputs": [],
   "source": [
    "server_names = []\n",
    "count = 0\n",
    "\n",
    "for max_number in max_server_number:\n",
    "    if count == 0:\n",
    "        server_names.append(\"null\")\n",
    "    elif max_number == 1:\n",
    "        server_names.append(\"S-\" + str(count))\n",
    "    elif max_number > 1:\n",
    "        tmp = []\n",
    "        for i in range(1, max_number+1):\n",
    "            tmp.append(\"S-\" + str(count)+ \".\" + str(i))\n",
    "        server_names.append(tmp)\n",
    "    else:\n",
    "        continue\n",
    "    count += 1\n"
   ]
  },
  {
   "cell_type": "code",
   "execution_count": 14,
   "metadata": {},
   "outputs": [
    {
     "name": "stdout",
     "output_type": "stream",
     "text": [
      "200\n"
     ]
    }
   ],
   "source": [
    "print(len(server_names))"
   ]
  },
  {
   "cell_type": "code",
   "execution_count": 16,
   "metadata": {},
   "outputs": [],
   "source": [
    "number_cases = 10000\n",
    "req = [\"Request\", \"Response\"]\n",
    "max_requests = 5\n",
    "\n",
    "with open(\"data.txt\", \"w\") as file:\n",
    "    for i in range(number_cases):\n",
    "        \n",
    "        count_requests = 0 \n",
    "        q_servers = queue.LifoQueue()\n",
    "        q_server_numbers = queue.LifoQueue()\n",
    "\n",
    "        q_servers.put(\"null\")\n",
    "        q_server_numbers.put(0)\n",
    "\n",
    "        server_number = np.random.choice(np.nonzero(server_matrix[0])[0])\n",
    "        q_server_numbers.put(server_number)\n",
    "\n",
    "        if max_server_number[server_number]==1:\n",
    "            server = np.random.choice([server_names[server_number]])\n",
    "        else:\n",
    "            server = np.random.choice(server_names[server_number])\n",
    "        q_servers.put(server)\n",
    "\n",
    "        hours = random.randint(0, 23)\n",
    "        minutes = random.randint(0, 59)\n",
    "        seconds = random.randint(0, 59)\n",
    "        year = 2023\n",
    "        month = random.randint(1,12)\n",
    "        day = random.randint(1,28)\n",
    "        process_time = datetime.datetime(year=year,month=month,day=day,hour=hours, minute=minutes, second=seconds)\n",
    "        \n",
    "        file.write(\"<null, \"+ server + \", \"+ str(process_time) + \", Request, \" + str(i) +\">\\n\")\n",
    "\n",
    "        count_requests += 1\n",
    "        while count_requests <= max_requests+1:\n",
    "            if q_servers.queue[-1] == 'null' and count_requests>=1:\n",
    "                break\n",
    "            r = np.random.choice(req)\n",
    "            if r == \"Response\":\n",
    "                process_time = process_time + datetime.timedelta(minutes=random.randrange(60))\n",
    "                file.write(\"<\"+ q_servers.queue[-1] +\", \" + q_servers.queue[-2] + \", \"+ str(process_time) + \", Response, \" + str(i) +\">\\n\")\n",
    "                q_servers.get()\n",
    "                q_server_numbers.get()\n",
    "\n",
    "            else:\n",
    "                if np.nonzero(server_matrix[q_server_numbers.queue[-1]])[0].size == 0:\n",
    "                    continue\n",
    "                req_server_number =  np.random.choice(np.nonzero(server_matrix[q_server_numbers.queue[-1]])[0]) - 1 \n",
    "                count_requests += 1\n",
    "                if len(np.nonzero(server_matrix[q_server_numbers.queue[-1]])[0])==1 and req_server_number in q_server_numbers.queue:\n",
    "                    continue\n",
    "                while req_server_number in q_server_numbers.queue:\n",
    "                    req_server_number =  np.random.choice(np.nonzero(server_matrix[q_server_numbers.queue[-1]])[0])\n",
    "                q_server_numbers.put(req_server_number)\n",
    "                \n",
    "                if max_server_number[req_server_number]==1:\n",
    "                    server = np.random.choice([server_names[req_server_number]])\n",
    "                else:\n",
    "                    server = np.random.choice(server_names[req_server_number])\n",
    "\n",
    "                q_servers.put(server)\n",
    "                process_time = process_time + datetime.timedelta(minutes=random.randrange(60))\n",
    "                file.write(\"<\" + q_servers.queue[-2] + \", \" + server + \", \"+ str(process_time) + \", Request, \" +str(i)+\">\\n\")\n",
    "        \n",
    "        while  not q_servers.empty():\n",
    "            if q_servers.queue[-1] == 'null':\n",
    "                break\n",
    "            else:\n",
    "                process_time = process_time + datetime.timedelta(minutes=random.randrange(60))\n",
    "                file.write(\"<\"+ q_servers.queue[-1] +\", \" + q_servers.queue[-2] + \", \"+ str(process_time) + \", Response, \" + str(i) +\">\\n\")\n",
    "                q_servers.get()"
   ]
  }
 ],
 "metadata": {
  "kernelspec": {
   "display_name": "data_intensive_systems",
   "language": "python",
   "name": "python3"
  },
  "language_info": {
   "codemirror_mode": {
    "name": "ipython",
    "version": 3
   },
   "file_extension": ".py",
   "mimetype": "text/x-python",
   "name": "python",
   "nbconvert_exporter": "python",
   "pygments_lexer": "ipython3",
   "version": "3.11.9"
  }
 },
 "nbformat": 4,
 "nbformat_minor": 2
}
