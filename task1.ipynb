{
 "cells": [
  {
   "cell_type": "code",
   "execution_count": 128,
   "metadata": {},
   "outputs": [],
   "source": [
    "import pyspark\n",
    "from pyspark import SparkContext, SparkConf\n",
    "from pyspark.sql import SparkSession\n",
    "import pandas as pd \n",
    "import numpy as np \n",
    "from pyspark.sql.functions import split, col, regexp_replace, collect_list, explode, concat, collect_set, array_union, flatten\n",
    "from pyspark.ml.feature import CountVectorizer\n",
    "from pyspark.ml.feature import MinHashLSH\n",
    "from pyspark.ml.linalg import Vectors\n",
    "from pyspark.sql import SparkSession\n",
    "from pyspark.sql.functions import col, udf\n",
    "from pyspark.sql.types import ArrayType, StringType, BooleanType"
   ]
  },
  {
   "cell_type": "code",
   "execution_count": 129,
   "metadata": {},
   "outputs": [
    {
     "data": {
      "text/html": [
       "\n",
       "            <div>\n",
       "                <p><b>SparkSession - in-memory</b></p>\n",
       "                \n",
       "        <div>\n",
       "            <p><b>SparkContext</b></p>\n",
       "\n",
       "            <p><a href=\"http://macbook-pro.home:4040\">Spark UI</a></p>\n",
       "\n",
       "            <dl>\n",
       "              <dt>Version</dt>\n",
       "                <dd><code>v3.5.1</code></dd>\n",
       "              <dt>Master</dt>\n",
       "                <dd><code>local[*]</code></dd>\n",
       "              <dt>AppName</dt>\n",
       "                <dd><code>Projet-Task-1</code></dd>\n",
       "            </dl>\n",
       "        </div>\n",
       "        \n",
       "            </div>\n",
       "        "
      ],
      "text/plain": [
       "<pyspark.sql.session.SparkSession at 0x15d07af50>"
      ]
     },
     "execution_count": 129,
     "metadata": {},
     "output_type": "execute_result"
    }
   ],
   "source": [
    "spark = SparkSession.builder \\\n",
    "    .appName(\"Projet-Task-1\") \\\n",
    "    .master(\"local[*]\") \\\n",
    "    .config(\"spark.driver.memory\", \"2G\") \\\n",
    "    .config(\"spark.driver.maxResultSize\", \"2g\") \\\n",
    "    .getOrCreate()\n",
    "spark"
   ]
  },
  {
   "cell_type": "code",
   "execution_count": 130,
   "metadata": {},
   "outputs": [],
   "source": [
    "# spark.stop()"
   ]
  },
  {
   "cell_type": "code",
   "execution_count": 131,
   "metadata": {},
   "outputs": [],
   "source": [
    "df = spark.read.text(\"data.txt\").toDF(\"Log\")"
   ]
  },
  {
   "cell_type": "code",
   "execution_count": 132,
   "metadata": {},
   "outputs": [
    {
     "name": "stdout",
     "output_type": "stream",
     "text": [
      "root\n",
      " |-- Log: array (nullable = true)\n",
      " |    |-- element: string (containsNull = false)\n",
      " |-- First Server: string (nullable = true)\n",
      " |-- Second Server: string (nullable = true)\n",
      " |-- Communication Type: string (nullable = true)\n",
      " |-- Process ID: string (nullable = true)\n",
      "\n",
      "+--------------------+------------+-------------+------------------+----------+\n",
      "|                 Log|First Server|Second Server|Communication Type|Process ID|\n",
      "+--------------------+------------+-------------+------------------+----------+\n",
      "|[null, S-1.2, Req...|        null|        S-1.2|           Request|         0|\n",
      "|[S-1.2, null, Res...|       S-1.2|         null|          Response|         0|\n",
      "|[null, S-1.3, Req...|        null|        S-1.3|           Request|         1|\n",
      "|[S-1.3, S-48.2, R...|       S-1.3|       S-48.2|           Request|         1|\n",
      "|[S-48.2, S-27.3, ...|      S-48.2|       S-27.3|           Request|         1|\n",
      "|[S-27.3, S-48.2, ...|      S-27.3|       S-48.2|          Response|         1|\n",
      "|[S-48.2, S-1.3, R...|      S-48.2|        S-1.3|          Response|         1|\n",
      "|[S-1.3, null, Res...|       S-1.3|         null|          Response|         1|\n",
      "|[null, S-1.2, Req...|        null|        S-1.2|           Request|         2|\n",
      "|[S-1.2, null, Res...|       S-1.2|         null|          Response|         2|\n",
      "|[null, S-1.3, Req...|        null|        S-1.3|           Request|         3|\n",
      "|[S-1.3, S-24.3, R...|       S-1.3|       S-24.3|           Request|         3|\n",
      "|[S-24.3, S-17.2, ...|      S-24.3|       S-17.2|           Request|         3|\n",
      "|[S-17.2, S-28.3, ...|      S-17.2|       S-28.3|           Request|         3|\n",
      "|[S-28.3, S-29.3, ...|      S-28.3|       S-29.3|           Request|         3|\n",
      "|[S-29.3, S-32.1, ...|      S-29.3|       S-32.1|           Request|         3|\n",
      "|[S-32.1, S-29.3, ...|      S-32.1|       S-29.3|          Response|         3|\n",
      "|[S-29.3, S-32.2, ...|      S-29.3|       S-32.2|           Request|         3|\n",
      "|[S-32.2, S-29.3, ...|      S-32.2|       S-29.3|          Response|         3|\n",
      "|[S-29.3, S-28.3, ...|      S-29.3|       S-28.3|          Response|         3|\n",
      "+--------------------+------------+-------------+------------------+----------+\n",
      "only showing top 20 rows\n",
      "\n"
     ]
    }
   ],
   "source": [
    "df = df.withColumn(\"Log\", regexp_replace(col(\"Log\"), \"[<>]\", \"\"))\n",
    "df = df.withColumn(\"Log\", regexp_replace(col(\"Log\"), \",\", \"\"))\n",
    "df = df.withColumn(\"Log\", split(col(\"Log\"), \" \"))\n",
    "\n",
    "# df.printSchema()\n",
    "# df.show()\n",
    "\n",
    "columns = [\"First Server\", \"Second Server\", \"Communication Type\", \"Process ID\"]\n",
    "\n",
    "for i in range(len(columns)):\n",
    "    # print(columns[i])\n",
    "    df = df.withColumn(columns[i], col(\"Log\")[i])\n",
    "\n",
    "df.printSchema()\n",
    "df.show()"
   ]
  },
  {
   "cell_type": "code",
   "execution_count": 133,
   "metadata": {},
   "outputs": [],
   "source": [
    "# Remove Process ID from request \n",
    "log = udf(lambda x: x[:-1], ArrayType(StringType())) \n",
    "df = df.withColumn('Log', log('Log')) "
   ]
  },
  {
   "cell_type": "code",
   "execution_count": 134,
   "metadata": {},
   "outputs": [
    {
     "name": "stdout",
     "output_type": "stream",
     "text": [
      "root\n",
      " |-- Process ID: string (nullable = true)\n",
      " |-- Log: array (nullable = false)\n",
      " |    |-- element: array (containsNull = false)\n",
      " |    |    |-- element: string (containsNull = true)\n",
      " |-- First Server: array (nullable = false)\n",
      " |    |-- element: string (containsNull = false)\n",
      " |-- Second Server: array (nullable = false)\n",
      " |    |-- element: string (containsNull = false)\n",
      " |-- FCommunication Type: array (nullable = false)\n",
      " |    |-- element: string (containsNull = false)\n",
      "\n",
      "+----------+--------------------+--------------------+--------------------+--------------------+\n",
      "|Process ID|                 Log|        First Server|       Second Server| FCommunication Type|\n",
      "+----------+--------------------+--------------------+--------------------+--------------------+\n",
      "|         7|[[null, S-1.1, Re...|[null, S-1.1, S-2...|[S-1.1, S-23.1, S...|[Request, Request...|\n",
      "|        15|[[null, S-1.1, Re...|[null, S-1.1, S-3...|[S-1.1, S-38.1, S...|[Request, Request...|\n",
      "|        11|[[null, S-1.3, Re...|[null, S-1.3, S-4...|[S-1.3, S-44.4, S...|[Request, Request...|\n",
      "|         3|[[null, S-1.3, Re...|[null, S-1.3, S-2...|[S-1.3, S-24.3, S...|[Request, Request...|\n",
      "|        30|[[S7, S8, Response]]|                [S7]|                [S8]|          [Response]|\n",
      "|         8|[[null, S-1.2, Re...|       [null, S-1.2]|       [S-1.2, null]| [Request, Response]|\n",
      "|        16|[[null, S-1.1, Re...|[null, S-1.1, S-2...|[S-1.1, S-23.3, S...|[Request, Request...|\n",
      "|         0|[[null, S-1.2, Re...|       [null, S-1.2]|       [S-1.2, null]| [Request, Response]|\n",
      "|         5|[[null, S-1.3, Re...|[null, S-1.3, S-4...|[S-1.3, S-45.3, S...|[Request, Request...|\n",
      "|        18|[[null, S-1.3, Re...|[null, S-1.3, S-2...|[S-1.3, S-23.2, S...|[Request, Request...|\n",
      "|        17|[[null, S-1.3, Re...|[null, S-1.3, S-2...|[S-1.3, S-26.4, S...|[Request, Request...|\n",
      "|         6|[[null, S-1.2, Re...|       [null, S-1.2]|       [S-1.2, null]| [Request, Response]|\n",
      "|        19|[[null, S-1.1, Re...|[null, S-1.1, S-2...|[S-1.1, S-27.1, S...|[Request, Request...|\n",
      "|         9|[[null, S-1.2, Re...|[null, S-1.2, S-4...|[S-1.2, S-48.2, S...|[Request, Request...|\n",
      "|         1|[[null, S-1.3, Re...|[null, S-1.3, S-4...|[S-1.3, S-48.2, S...|[Request, Request...|\n",
      "|        20|[[S7, S8, Response]]|                [S7]|                [S8]|          [Response]|\n",
      "|        10|[[null, S-1.1, Re...|       [null, S-1.1]|       [S-1.1, null]| [Request, Response]|\n",
      "|         4|[[null, S-1.3, Re...|[null, S-1.3, S-2...|[S-1.3, S-20.3, S...|[Request, Request...|\n",
      "|        12|[[null, S-1.2, Re...|       [null, S-1.2]|       [S-1.2, null]| [Request, Response]|\n",
      "|        13|[[null, S-1.2, Re...|[null, S-1.2, S-1...|[S-1.2, S-15.3, S...|[Request, Request...|\n",
      "+----------+--------------------+--------------------+--------------------+--------------------+\n",
      "only showing top 20 rows\n",
      "\n"
     ]
    }
   ],
   "source": [
    "grouped_df = df.groupBy(\"Process ID\").agg(collect_list(\"Log\").alias(\"Log\"), \n",
    "                                          collect_list(\"First Server\").alias(\"First Server\"),\n",
    "                                          collect_list(\"Second Server\").alias(\"Second Server\"),\n",
    "                                          collect_list(\"Communication Type\").alias(\"FCommunication Type\"))\n",
    "\n",
    "grouped_df.printSchema()\n",
    "grouped_df.show()"
   ]
  },
  {
   "cell_type": "code",
   "execution_count": 135,
   "metadata": {},
   "outputs": [
    {
     "name": "stdout",
     "output_type": "stream",
     "text": [
      "+--------------------+------------+-------------+------------------+----------+\n",
      "|                 Log|First Server|Second Server|Communication Type|Process ID|\n",
      "+--------------------+------------+-------------+------------------+----------+\n",
      "|[null, S-1.2, Req...|        null|        S-1.2|           Request|         0|\n",
      "|[S-1.2, null, Res...|       S-1.2|         null|          Response|         0|\n",
      "|[null, S-1.3, Req...|        null|        S-1.3|           Request|         1|\n",
      "|[S-1.3, S-48.2, R...|       S-1.3|       S-48.2|           Request|         1|\n",
      "|[S-48.2, S-27.3, ...|      S-48.2|       S-27.3|           Request|         1|\n",
      "|[S-27.3, S-48.2, ...|      S-27.3|       S-48.2|          Response|         1|\n",
      "|[S-48.2, S-1.3, R...|      S-48.2|        S-1.3|          Response|         1|\n",
      "|[S-1.3, null, Res...|       S-1.3|         null|          Response|         1|\n",
      "|[null, S-1.2, Req...|        null|        S-1.2|           Request|         2|\n",
      "|[S-1.2, null, Res...|       S-1.2|         null|          Response|         2|\n",
      "|[null, S-1.3, Req...|        null|        S-1.3|           Request|         3|\n",
      "|[S-1.3, S-24.3, R...|       S-1.3|       S-24.3|           Request|         3|\n",
      "|[S-24.3, S-17.2, ...|      S-24.3|       S-17.2|           Request|         3|\n",
      "|[S-17.2, S-28.3, ...|      S-17.2|       S-28.3|           Request|         3|\n",
      "|[S-28.3, S-29.3, ...|      S-28.3|       S-29.3|           Request|         3|\n",
      "|[S-29.3, S-32.1, ...|      S-29.3|       S-32.1|           Request|         3|\n",
      "|[S-32.1, S-29.3, ...|      S-32.1|       S-29.3|          Response|         3|\n",
      "|[S-29.3, S-32.2, ...|      S-29.3|       S-32.2|           Request|         3|\n",
      "|[S-32.2, S-29.3, ...|      S-32.2|       S-29.3|          Response|         3|\n",
      "|[S-29.3, S-28.3, ...|      S-29.3|       S-28.3|          Response|         3|\n",
      "+--------------------+------------+-------------+------------------+----------+\n",
      "only showing top 20 rows\n",
      "\n"
     ]
    }
   ],
   "source": [
    "df.show()"
   ]
  },
  {
   "cell_type": "code",
   "execution_count": 136,
   "metadata": {},
   "outputs": [
    {
     "name": "stdout",
     "output_type": "stream",
     "text": [
      "root\n",
      " |-- Process ID: string (nullable = true)\n",
      " |-- First Server: array (nullable = false)\n",
      " |    |-- element: string (containsNull = false)\n",
      " |-- Second Server: array (nullable = false)\n",
      " |    |-- element: string (containsNull = false)\n",
      " |-- Servers: array (nullable = false)\n",
      " |    |-- element: string (containsNull = false)\n",
      "\n",
      "+----------+--------------------+--------------------+--------------------+\n",
      "|Process ID|        First Server|       Second Server|             Servers|\n",
      "+----------+--------------------+--------------------+--------------------+\n",
      "|         7|[S-23.1, S-1.1, S...|[S-23.1, S-1.1, S...|[S-23.1, S-1.1, S...|\n",
      "|        15|[S-1.1, S-38.1, n...|[S-1.1, S-38.1, n...|[S-1.1, S-38.1, n...|\n",
      "|        11|[S-44.4, S-2.3, S...|[S-44.4, S-2.3, S...|[S-44.4, S-2.3, S...|\n",
      "|         3|[S-1.3, S-28.3, S...|[S-1.3, S-28.3, S...|[S-1.3, S-28.3, S...|\n",
      "|        30|                [S7]|                [S8]|            [S7, S8]|\n",
      "|         8|       [S-1.2, null]|       [S-1.2, null]|       [S-1.2, null]|\n",
      "|        16|[S-1.1, S-23.3, n...|[S-1.1, S-23.3, n...|[S-1.1, S-23.3, n...|\n",
      "|         0|       [S-1.2, null]|       [S-1.2, null]|       [S-1.2, null]|\n",
      "|         5|[S-41.2, S-1.3, S...|[S-41.2, S-1.3, S...|[S-41.2, S-1.3, S...|\n",
      "|        18|[S-9.2, S-1.3, S-...|[S-9.2, S-1.3, S-...|[S-9.2, S-1.3, S-...|\n",
      "|        17|[S-1.3, S-26.4, S...|[S-1.3, S-26.4, S...|[S-1.3, S-26.4, S...|\n",
      "|         6|       [S-1.2, null]|       [S-1.2, null]|       [S-1.2, null]|\n",
      "|        19|[S-1.1, S-35.1, S...|[S-1.1, S-35.1, S...|[S-1.1, S-35.1, S...|\n",
      "|         9|[S-48.2, S-25.1, ...|[S-48.2, S-25.1, ...|[S-48.2, S-25.1, ...|\n",
      "|         1|[S-48.2, S-1.3, n...|[S-48.2, S-1.3, S...|[S-48.2, S-1.3, n...|\n",
      "|        20|                [S7]|                [S8]|            [S7, S8]|\n",
      "|        10|       [S-1.1, null]|       [S-1.1, null]|       [S-1.1, null]|\n",
      "|         4|[S-1.3, S-20.3, n...|[S-1.3, S-20.3, n...|[S-1.3, S-20.3, n...|\n",
      "|        12|       [S-1.2, null]|       [S-1.2, null]|       [S-1.2, null]|\n",
      "|        13|[S-15.3, S-1.2, n...|[S-15.3, S-1.2, n...|[S-15.3, S-1.2, n...|\n",
      "+----------+--------------------+--------------------+--------------------+\n",
      "only showing top 20 rows\n",
      "\n"
     ]
    }
   ],
   "source": [
    "distinct_servers_df = df.groupBy(\"Process ID\").agg(collect_set(\"First Server\").alias(\"First Server\"),\n",
    "                                                   collect_set(\"Second Server\").alias(\"Second Server\"))\n",
    "\n",
    "distinct_servers_df = distinct_servers_df.withColumn(\"Servers\", array_union(\"First Server\", \"Second Server\"))\n",
    "\n",
    "distinct_servers_df.printSchema()\n",
    "distinct_servers_df.show()"
   ]
  },
  {
   "cell_type": "code",
   "execution_count": 137,
   "metadata": {},
   "outputs": [
    {
     "name": "stdout",
     "output_type": "stream",
     "text": [
      "root\n",
      " |-- Process ID: string (nullable = true)\n",
      " |-- Characteristic Matrix: vector (nullable = true)\n",
      "\n",
      "+----------+---------------------+\n",
      "|Process ID|Characteristic Matrix|\n",
      "+----------+---------------------+\n",
      "|         7| (47,[0,3,4,5,29,4...|\n",
      "|        15| (47,[0,3,13],[1.0...|\n",
      "|        11| (47,[0,2,5,18,24,...|\n",
      "|         3| (47,[0,2,12,21,22...|\n",
      "|        30| (47,[6,8],[1.0,1.0])|\n",
      "|         8| (47,[0,1],[1.0,1.0])|\n",
      "|        16| (47,[0,3,36],[1.0...|\n",
      "|         0| (47,[0,1],[1.0,1.0])|\n",
      "|         5| (47,[0,2,15,17],[...|\n",
      "|        18| (47,[0,2,14,43],[...|\n",
      "|        17| (47,[0,2,10,23,25...|\n",
      "|         6| (47,[0,1],[1.0,1.0])|\n",
      "|        19| (47,[0,3,4,9,16,2...|\n",
      "|         9| (47,[0,1,7,27,40]...|\n",
      "|         1| (47,[0,2,7,33],[1...|\n",
      "|        20| (47,[6,8],[1.0,1.0])|\n",
      "|        10| (47,[0,3],[1.0,1.0])|\n",
      "|         4| (47,[0,2,11],[1.0...|\n",
      "|        12| (47,[0,1],[1.0,1.0])|\n",
      "|        13| (47,[0,1,26],[1.0...|\n",
      "+----------+---------------------+\n",
      "only showing top 20 rows\n",
      "\n",
      "Rows of Characteristic Matrix:  ['null', 'S-1.2', 'S-1.3', 'S-1.1', 'S-20.1', 'S-19.4', 'S8', 'S-48.2', 'S7', 'S-27.1', 'S-12.2', 'S-20.3', 'S-28.3', 'S-38.1', 'S-23.2', 'S-45.3', 'S-36.3', 'S-41.2', 'S-36.2', 'S-14.2', 'S-5.1', 'S-29.3', 'S-32.2', 'S-40.3', 'S-2.3', 'S-26.4', 'S-15.3', 'S-11.2', 'S-41.1', 'S-30.3', 'S-9.3', 'S-44.4', 'S-4.3', 'S-27.3', 'S-46.4', 'S-32.1', 'S-23.3', 'S-31.3', 'S-20.2', 'S-24.3', 'S-25.1', 'S-32.3', 'S-35.3', 'S-9.2', 'S-17.2', 'S-23.1', 'S-35.1']\n"
     ]
    }
   ],
   "source": [
    "characteristics = CountVectorizer(inputCol=\"Servers\", outputCol=\"Characteristic Matrix\")\n",
    "\n",
    "model = characteristics.fit(distinct_servers_df)\n",
    "char_matrix = model.transform(distinct_servers_df).select(\"Process ID\", \"Characteristic Matrix\")\n",
    "\n",
    "char_matrix.printSchema()\n",
    "char_matrix.show()\n",
    "\n",
    "servers = model.vocabulary\n",
    "print(\"Rows of Characteristic Matrix: \", servers)"
   ]
  },
  {
   "cell_type": "code",
   "execution_count": 138,
   "metadata": {},
   "outputs": [
    {
     "name": "stdout",
     "output_type": "stream",
     "text": [
      "+----------+---------------------+--------------------+\n",
      "|Process ID|Characteristic Matrix|          Signatures|\n",
      "+----------+---------------------+--------------------+\n",
      "|         7| (47,[0,3,4,5,29,4...|[[6.3456052E7], [...|\n",
      "|        15| (47,[0,3,13],[1.0...|[[3.92606065E8], ...|\n",
      "|        11| (47,[0,2,5,18,24,...|[[2.60448184E8], ...|\n",
      "|         3| (47,[0,2,12,21,22...|[[1.9478414E8], [...|\n",
      "|        30| (47,[6,8],[1.0,1.0])|[[9.1874821E8], [...|\n",
      "|         8| (47,[0,1],[1.0,1.0])|[[1.29949889E8], ...|\n",
      "|        16| (47,[0,3,36],[1.0...|[[7.87420122E8], ...|\n",
      "|         0| (47,[0,1],[1.0,1.0])|[[1.29949889E8], ...|\n",
      "|         5| (47,[0,2,15,17],[...|[[7.87420122E8], ...|\n",
      "|        18| (47,[0,2,14,43],[...|[[7.87420122E8], ...|\n",
      "|        17| (47,[0,2,10,23,25...|[[1.29120096E8], ...|\n",
      "|         6| (47,[0,1],[1.0,1.0])|[[1.29949889E8], ...|\n",
      "|        19| (47,[0,3,4,9,16,2...|[[1.95613933E8], ...|\n",
      "|         9| (47,[0,1,7,27,40]...|[[1.29949889E8], ...|\n",
      "|         1| (47,[0,2,7,33],[1...|[[2.61277977E8], ...|\n",
      "|        20| (47,[6,8],[1.0,1.0])|[[9.1874821E8], [...|\n",
      "|        10| (47,[0,3],[1.0,1.0])|[[7.87420122E8], ...|\n",
      "|         4| (47,[0,2,11],[1.0...|[[7.87420122E8], ...|\n",
      "|        12| (47,[0,1],[1.0,1.0])|[[1.29949889E8], ...|\n",
      "|        13| (47,[0,1,26],[1.0...|[[1.29949889E8], ...|\n",
      "+----------+---------------------+--------------------+\n",
      "only showing top 20 rows\n",
      "\n"
     ]
    }
   ],
   "source": [
    "minhash = MinHashLSH(inputCol=\"Characteristic Matrix\", outputCol=\"Signatures\", numHashTables=5)\n",
    "\n",
    "# MinHash produces the signatures for the Characteritic matrix \n",
    "# numvHashTables is the number of the hush functioms that we want to use and the lenght of the signature \n",
    "model = minhash.fit(char_matrix)\n",
    "signatures = model.transform(char_matrix)\n",
    "\n",
    "signatures.show()"
   ]
  },
  {
   "cell_type": "code",
   "execution_count": 139,
   "metadata": {},
   "outputs": [
    {
     "name": "stdout",
     "output_type": "stream",
     "text": [
      "+--------------------+--------------------+----------------+\n",
      "|            datasetA|            datasetB|Jaccard Distance|\n",
      "+--------------------+--------------------+----------------+\n",
      "|{2, (47,[0,1],[1....|{0, [[1.29949889E...|             0.0|\n",
      "|{6, (47,[0,1],[1....|{2, [[1.29949889E...|             0.0|\n",
      "|{2, (47,[0,1],[1....|{2, [[1.29949889E...|             0.0|\n",
      "|{2, (47,[0,1],[1....|{8, [[1.29949889E...|             0.0|\n",
      "|{0, (47,[0,1],[1....|{0, [[1.29949889E...|             0.0|\n",
      "|{19, (47,[0,3,4,9...|{19, [[1.95613933...|             0.0|\n",
      "|{12, (47,[0,1],[1...|{2, [[1.29949889E...|             0.0|\n",
      "|{12, (47,[0,1],[1...|{0, [[1.29949889E...|             0.0|\n",
      "|{11, (47,[0,2,5,1...|{11, [[2.60448184...|             0.0|\n",
      "|{6, (47,[0,1],[1....|{12, [[1.29949889...|             0.0|\n",
      "|{6, (47,[0,1],[1....|{6, [[1.29949889E...|             0.0|\n",
      "|{2, (47,[0,1],[1....|{12, [[1.29949889...|             0.0|\n",
      "|{12, (47,[0,1],[1...|{12, [[1.29949889...|             0.0|\n",
      "|{5, (47,[0,2,15,1...|{5, [[7.87420122E...|             0.0|\n",
      "|{2, (47,[0,1],[1....|{6, [[1.29949889E...|             0.0|\n",
      "|{6, (47,[0,1],[1....|{0, [[1.29949889E...|             0.0|\n",
      "|{20, (47,[6,8],[1...|{20, [[9.1874821E...|             0.0|\n",
      "|{0, (47,[0,1],[1....|{8, [[1.29949889E...|             0.0|\n",
      "|{30, (47,[6,8],[1...|{30, [[9.1874821E...|             0.0|\n",
      "|{10, (47,[0,3],[1...|{10, [[7.87420122...|             0.0|\n",
      "+--------------------+--------------------+----------------+\n",
      "only showing top 20 rows\n",
      "\n"
     ]
    }
   ],
   "source": [
    "# approxSimilarityJoin uses autmatically LSH to find rows that it is most likely \n",
    "# to have same \"Signatures\"\n",
    "# threshold: pairs with Jaccard Distance lower than threshlod\n",
    "similar_pairs = model.approxSimilarityJoin(signatures, signatures, threshold=0.01, distCol=\"Jaccard Distance\")\n",
    "similar_pairs.show()"
   ]
  },
  {
   "cell_type": "code",
   "execution_count": 140,
   "metadata": {},
   "outputs": [
    {
     "data": {
      "text/plain": [
       "44"
      ]
     },
     "execution_count": 140,
     "metadata": {},
     "output_type": "execute_result"
    }
   ],
   "source": [
    "similar_pairs.count()"
   ]
  },
  {
   "cell_type": "code",
   "execution_count": 141,
   "metadata": {},
   "outputs": [],
   "source": [
    "similar_pairs = similar_pairs.select(\"datasetA.Process ID\", \"datasetB.Process ID\", \n",
    "                     \"Jaccard Distance\") \\\n",
    "                    # .filter((col(\"datasetA.Process ID\") != col(\"datasetB.Process ID\")))"
   ]
  },
  {
   "cell_type": "code",
   "execution_count": 142,
   "metadata": {},
   "outputs": [],
   "source": [
    "new_cols = [\"Process ID A\", \"Process ID B\", \"Jaccard Distance\"]\n",
    "similar_pairs = similar_pairs.toDF(*new_cols)"
   ]
  },
  {
   "cell_type": "code",
   "execution_count": 143,
   "metadata": {},
   "outputs": [
    {
     "name": "stdout",
     "output_type": "stream",
     "text": [
      "+------------+------------+----------------+\n",
      "|Process ID A|Process ID B|Jaccard Distance|\n",
      "+------------+------------+----------------+\n",
      "|           2|           0|             0.0|\n",
      "|           6|           2|             0.0|\n",
      "|           2|           2|             0.0|\n",
      "|           2|           8|             0.0|\n",
      "|           0|           0|             0.0|\n",
      "|          19|          19|             0.0|\n",
      "|          12|           2|             0.0|\n",
      "|          12|           0|             0.0|\n",
      "|          11|          11|             0.0|\n",
      "|           6|          12|             0.0|\n",
      "|           6|           6|             0.0|\n",
      "|           2|          12|             0.0|\n",
      "|          12|          12|             0.0|\n",
      "|           5|           5|             0.0|\n",
      "|           2|           6|             0.0|\n",
      "|           6|           0|             0.0|\n",
      "|          20|          20|             0.0|\n",
      "|           0|           8|             0.0|\n",
      "|          30|          30|             0.0|\n",
      "|          10|          10|             0.0|\n",
      "+------------+------------+----------------+\n",
      "only showing top 20 rows\n",
      "\n"
     ]
    }
   ],
   "source": [
    "similar_pairs.show()"
   ]
  },
  {
   "cell_type": "code",
   "execution_count": 144,
   "metadata": {},
   "outputs": [],
   "source": [
    "pairs = similar_pairs.join(grouped_df, similar_pairs[\"Process ID A\"] == col(\"Process ID\")) \\\n",
    "                     .select(col(\"Process ID A\"), col(\"Process ID B\"), col(\"Log\").alias(\"Log A\")) \\\n",
    "                     .join(grouped_df, similar_pairs[\"Process ID B\"] == col(\"Process ID\")) \\\n",
    "                     .select(col(\"Process ID A\"), col(\"Process ID B\"), col(\"Log A\"), col(\"Log\").alias(\"Log B\"))"
   ]
  },
  {
   "cell_type": "code",
   "execution_count": 145,
   "metadata": {},
   "outputs": [
    {
     "name": "stdout",
     "output_type": "stream",
     "text": [
      "+------------+------------+--------------------+--------------------+\n",
      "|Process ID A|Process ID B|               Log A|               Log B|\n",
      "+------------+------------+--------------------+--------------------+\n",
      "|           2|           0|[[null, S-1.2, Re...|[[null, S-1.2, Re...|\n",
      "|           6|           2|[[null, S-1.2, Re...|[[null, S-1.2, Re...|\n",
      "|           2|           2|[[null, S-1.2, Re...|[[null, S-1.2, Re...|\n",
      "|           2|           8|[[null, S-1.2, Re...|[[null, S-1.2, Re...|\n",
      "|           0|           0|[[null, S-1.2, Re...|[[null, S-1.2, Re...|\n",
      "|          19|          19|[[null, S-1.1, Re...|[[null, S-1.1, Re...|\n",
      "|          12|           2|[[null, S-1.2, Re...|[[null, S-1.2, Re...|\n",
      "|          12|           0|[[null, S-1.2, Re...|[[null, S-1.2, Re...|\n",
      "|          11|          11|[[null, S-1.3, Re...|[[null, S-1.3, Re...|\n",
      "|           6|          12|[[null, S-1.2, Re...|[[null, S-1.2, Re...|\n",
      "|           6|           6|[[null, S-1.2, Re...|[[null, S-1.2, Re...|\n",
      "|           2|          12|[[null, S-1.2, Re...|[[null, S-1.2, Re...|\n",
      "|          12|          12|[[null, S-1.2, Re...|[[null, S-1.2, Re...|\n",
      "|           5|           5|[[null, S-1.3, Re...|[[null, S-1.3, Re...|\n",
      "|           2|           6|[[null, S-1.2, Re...|[[null, S-1.2, Re...|\n",
      "|           6|           0|[[null, S-1.2, Re...|[[null, S-1.2, Re...|\n",
      "|          20|          20|[[S7, S8, Response]]|[[S7, S8, Response]]|\n",
      "|           0|           8|[[null, S-1.2, Re...|[[null, S-1.2, Re...|\n",
      "|          30|          30|[[S7, S8, Response]]|[[S7, S8, Response]]|\n",
      "|          10|          10|[[null, S-1.1, Re...|[[null, S-1.1, Re...|\n",
      "+------------+------------+--------------------+--------------------+\n",
      "only showing top 20 rows\n",
      "\n"
     ]
    }
   ],
   "source": [
    "pairs.show()"
   ]
  },
  {
   "cell_type": "code",
   "execution_count": 146,
   "metadata": {},
   "outputs": [],
   "source": [
    "def original_check(x,y):\n",
    "    return x==y\n",
    "\n",
    "orifinal_checking = udf(original_check, BooleanType())\n",
    "same_pairs = pairs.filter(orifinal_checking(col(\"Log A\"), col(\"Log B\")))"
   ]
  },
  {
   "cell_type": "code",
   "execution_count": 147,
   "metadata": {},
   "outputs": [],
   "source": [
    "from pyspark.sql.functions import col, count\n",
    "same_pairs = same_pairs.groupBy(\"Log A\").agg(collect_set(\"Process ID A\"))"
   ]
  },
  {
   "cell_type": "code",
   "execution_count": 148,
   "metadata": {},
   "outputs": [
    {
     "name": "stdout",
     "output_type": "stream",
     "text": [
      "+--------------------+-------------------------+\n",
      "|               Log A|collect_set(Process ID A)|\n",
      "+--------------------+-------------------------+\n",
      "|[[null, S-1.3, Re...|                     [17]|\n",
      "|[[null, S-1.1, Re...|                     [19]|\n",
      "|[[null, S-1.3, Re...|                     [18]|\n",
      "|[[null, S-1.2, Re...|         [12, 2, 8, 6, 0]|\n",
      "|[[null, S-1.3, Re...|                     [11]|\n",
      "|[[null, S-1.3, Re...|                      [4]|\n",
      "|[[null, S-1.1, Re...|                     [16]|\n",
      "|[[null, S-1.2, Re...|                      [9]|\n",
      "|[[null, S-1.1, Re...|                     [10]|\n",
      "|[[null, S-1.2, Re...|                     [14]|\n",
      "|[[null, S-1.3, Re...|                      [3]|\n",
      "|[[S7, S8, Response]]|                 [20, 30]|\n",
      "|[[null, S-1.3, Re...|                      [5]|\n",
      "|[[null, S-1.1, Re...|                      [7]|\n",
      "|[[null, S-1.2, Re...|                     [13]|\n",
      "|[[null, S-1.1, Re...|                     [15]|\n",
      "|[[null, S-1.3, Re...|                      [1]|\n",
      "+--------------------+-------------------------+\n",
      "\n"
     ]
    }
   ],
   "source": [
    "same_pairs.show()"
   ]
  },
  {
   "cell_type": "code",
   "execution_count": 149,
   "metadata": {},
   "outputs": [],
   "source": [
    "from pyspark.sql.types import IntegerType\n"
   ]
  },
  {
   "cell_type": "markdown",
   "metadata": {},
   "source": [
    "# Shingling"
   ]
  },
  {
   "cell_type": "code",
   "execution_count": 150,
   "metadata": {},
   "outputs": [],
   "source": [
    "def k_shingling(text, k):\n",
    "    shingles = set()\n",
    "    for i in range(len(text) - k + 1):\n",
    "        shingle = text[i:i + k]\n",
    "        shingles.add(shingle)\n",
    "    return list(shingles)\n",
    "\n",
    "k_shingling_udf = udf(lambda text: k_shingling(text, 10), ArrayType(StringType()))"
   ]
  },
  {
   "cell_type": "code",
   "execution_count": 151,
   "metadata": {},
   "outputs": [
    {
     "name": "stdout",
     "output_type": "stream",
     "text": [
      "+--------------------+--------------------+\n",
      "|                 Log|            Shingles|\n",
      "+--------------------+--------------------+\n",
      "|<null, S-1.2, Req...|[, S-1.2, R, l, S...|\n",
      "|<S-1.2, null, Res...|[S-1.2, nul, ll, ...|\n",
      "|<null, S-1.3, Req...|[1.3, Reque, null...|\n",
      "|<S-1.3, S-48.2, R...|[ S-48.2, R, 1.3,...|\n",
      "|<S-48.2, S-27.3, ...|[-48.2, S-2, S-27...|\n",
      "|<S-27.3, S-48.2, ...|[-27.3, S-4, 3, S...|\n",
      "|<S-48.2, S-1.3, R...|[1.3, Respo, <S-4...|\n",
      "|<S-1.3, null, Res...|[ll, Respon, espo...|\n",
      "|<null, S-1.2, Req...|[, S-1.2, R, l, S...|\n",
      "|<S-1.2, null, Res...|[S-1.2, nul, ll, ...|\n",
      "|<null, S-1.3, Req...|[1.3, Reque, null...|\n",
      "|<S-1.3, S-24.3, R...|[.3, S-24.3, S-24...|\n",
      "|<S-24.3, S-17.2, ...|[17.2, Requ, 24.3...|\n",
      "|<S-17.2, S-28.3, ...|[S-28.3, Re, 2, S...|\n",
      "|<S-28.3, S-29.3, ...|[<S-28.3, S, 29.3...|\n",
      "|<S-29.3, S-32.1, ...|[.1, Reques, <S-2...|\n",
      "|<S-32.1, S-29.3, ...|[-29.3, Res, S-32...|\n",
      "|<S-29.3, S-32.2, ...|[, S-32.2, , 3, S...|\n",
      "|<S-32.2, S-29.3, ...|[-29.3, Res, <S-3...|\n",
      "|<S-29.3, S-28.3, ...|[S-28.3, Re, 29.3...|\n",
      "+--------------------+--------------------+\n",
      "only showing top 20 rows\n",
      "\n"
     ]
    }
   ],
   "source": [
    "df = spark.read.text(\"data.txt\").toDF(\"Log\")\n",
    "df_shingles = df.withColumn(\"Shingles\", k_shingling_udf(df[\"Log\"]))\n",
    "df_shingles.show()"
   ]
  },
  {
   "cell_type": "code",
   "execution_count": 152,
   "metadata": {},
   "outputs": [
    {
     "name": "stdout",
     "output_type": "stream",
     "text": [
      "root\n",
      " |-- Log: array (nullable = true)\n",
      " |    |-- element: string (containsNull = false)\n",
      " |-- Shingles: array (nullable = true)\n",
      " |    |-- element: string (containsNull = true)\n",
      "\n",
      "+--------------------+--------------------+\n",
      "|                 Log|            Shingles|\n",
      "+--------------------+--------------------+\n",
      "|[null, S-1.2, Req...|[, S-1.2, R, l, S...|\n",
      "|[S-1.2, null, Res...|[S-1.2, nul, ll, ...|\n",
      "|[null, S-1.3, Req...|[1.3, Reque, null...|\n",
      "|[S-1.3, S-48.2, R...|[ S-48.2, R, 1.3,...|\n",
      "|[S-48.2, S-27.3, ...|[-48.2, S-2, S-27...|\n",
      "|[S-27.3, S-48.2, ...|[-27.3, S-4, 3, S...|\n",
      "|[S-48.2, S-1.3, R...|[1.3, Respo, <S-4...|\n",
      "|[S-1.3, null, Res...|[ll, Respon, espo...|\n",
      "|[null, S-1.2, Req...|[, S-1.2, R, l, S...|\n",
      "|[S-1.2, null, Res...|[S-1.2, nul, ll, ...|\n",
      "|[null, S-1.3, Req...|[1.3, Reque, null...|\n",
      "|[S-1.3, S-24.3, R...|[.3, S-24.3, S-24...|\n",
      "|[S-24.3, S-17.2, ...|[17.2, Requ, 24.3...|\n",
      "|[S-17.2, S-28.3, ...|[S-28.3, Re, 2, S...|\n",
      "|[S-28.3, S-29.3, ...|[<S-28.3, S, 29.3...|\n",
      "|[S-29.3, S-32.1, ...|[.1, Reques, <S-2...|\n",
      "|[S-32.1, S-29.3, ...|[-29.3, Res, S-32...|\n",
      "|[S-29.3, S-32.2, ...|[, S-32.2, , 3, S...|\n",
      "|[S-32.2, S-29.3, ...|[-29.3, Res, <S-3...|\n",
      "|[S-29.3, S-28.3, ...|[S-28.3, Re, 29.3...|\n",
      "+--------------------+--------------------+\n",
      "only showing top 20 rows\n",
      "\n",
      "First Server\n",
      "Second Server\n",
      "Communication Type\n",
      "Process ID\n",
      "root\n",
      " |-- Log: array (nullable = true)\n",
      " |    |-- element: string (containsNull = false)\n",
      " |-- Shingles: array (nullable = true)\n",
      " |    |-- element: string (containsNull = true)\n",
      " |-- First Server: string (nullable = true)\n",
      " |-- Second Server: string (nullable = true)\n",
      " |-- Communication Type: string (nullable = true)\n",
      " |-- Process ID: string (nullable = true)\n",
      "\n",
      "+--------------------+--------------------+------------+-------------+------------------+----------+\n",
      "|                 Log|            Shingles|First Server|Second Server|Communication Type|Process ID|\n",
      "+--------------------+--------------------+------------+-------------+------------------+----------+\n",
      "|[null, S-1.2, Req...|[, S-1.2, R, l, S...|        null|        S-1.2|           Request|         0|\n",
      "|[S-1.2, null, Res...|[S-1.2, nul, ll, ...|       S-1.2|         null|          Response|         0|\n",
      "|[null, S-1.3, Req...|[1.3, Reque, null...|        null|        S-1.3|           Request|         1|\n",
      "|[S-1.3, S-48.2, R...|[ S-48.2, R, 1.3,...|       S-1.3|       S-48.2|           Request|         1|\n",
      "|[S-48.2, S-27.3, ...|[-48.2, S-2, S-27...|      S-48.2|       S-27.3|           Request|         1|\n",
      "|[S-27.3, S-48.2, ...|[-27.3, S-4, 3, S...|      S-27.3|       S-48.2|          Response|         1|\n",
      "|[S-48.2, S-1.3, R...|[1.3, Respo, <S-4...|      S-48.2|        S-1.3|          Response|         1|\n",
      "|[S-1.3, null, Res...|[ll, Respon, espo...|       S-1.3|         null|          Response|         1|\n",
      "|[null, S-1.2, Req...|[, S-1.2, R, l, S...|        null|        S-1.2|           Request|         2|\n",
      "|[S-1.2, null, Res...|[S-1.2, nul, ll, ...|       S-1.2|         null|          Response|         2|\n",
      "|[null, S-1.3, Req...|[1.3, Reque, null...|        null|        S-1.3|           Request|         3|\n",
      "|[S-1.3, S-24.3, R...|[.3, S-24.3, S-24...|       S-1.3|       S-24.3|           Request|         3|\n",
      "|[S-24.3, S-17.2, ...|[17.2, Requ, 24.3...|      S-24.3|       S-17.2|           Request|         3|\n",
      "|[S-17.2, S-28.3, ...|[S-28.3, Re, 2, S...|      S-17.2|       S-28.3|           Request|         3|\n",
      "|[S-28.3, S-29.3, ...|[<S-28.3, S, 29.3...|      S-28.3|       S-29.3|           Request|         3|\n",
      "|[S-29.3, S-32.1, ...|[.1, Reques, <S-2...|      S-29.3|       S-32.1|           Request|         3|\n",
      "|[S-32.1, S-29.3, ...|[-29.3, Res, S-32...|      S-32.1|       S-29.3|          Response|         3|\n",
      "|[S-29.3, S-32.2, ...|[, S-32.2, , 3, S...|      S-29.3|       S-32.2|           Request|         3|\n",
      "|[S-32.2, S-29.3, ...|[-29.3, Res, <S-3...|      S-32.2|       S-29.3|          Response|         3|\n",
      "|[S-29.3, S-28.3, ...|[S-28.3, Re, 29.3...|      S-29.3|       S-28.3|          Response|         3|\n",
      "+--------------------+--------------------+------------+-------------+------------------+----------+\n",
      "only showing top 20 rows\n",
      "\n"
     ]
    }
   ],
   "source": [
    "df_shingles = df_shingles.withColumn(\"Log\", regexp_replace(col(\"Log\"), \"[<>]\", \"\"))\n",
    "df_shingles = df_shingles.withColumn(\"Log\", regexp_replace(col(\"Log\"), \",\", \"\"))\n",
    "df_shingles = df_shingles.withColumn(\"Log\", split(col(\"Log\"), \" \"))\n",
    "\n",
    "df_shingles.printSchema()\n",
    "df_shingles.show()\n",
    "\n",
    "columns = [\"First Server\", \"Second Server\", \"Communication Type\", \"Process ID\"]\n",
    "\n",
    "for i in range(len(columns)):\n",
    "    print(columns[i])\n",
    "    df_shingles = df_shingles.withColumn(columns[i], col(\"Log\")[i])\n",
    "\n",
    "df_shingles.printSchema()\n",
    "df_shingles.show()"
   ]
  },
  {
   "cell_type": "code",
   "execution_count": 153,
   "metadata": {},
   "outputs": [
    {
     "name": "stdout",
     "output_type": "stream",
     "text": [
      "root\n",
      " |-- Process ID: string (nullable = true)\n",
      " |-- Shingles: array (nullable = false)\n",
      " |    |-- element: array (containsNull = false)\n",
      " |    |    |-- element: string (containsNull = true)\n",
      " |-- Flat shingles: array (nullable = false)\n",
      " |    |-- element: string (containsNull = true)\n",
      "\n"
     ]
    }
   ],
   "source": [
    "grouped_df = df_shingles.groupBy(\"Process ID\").agg(collect_set(\"Shingles\").alias(\"Shingles\"))\n",
    "grouped_df = grouped_df.withColumn(\"Flat shingles\", flatten(col(\"Shingles\")))\n",
    "grouped_df.printSchema()"
   ]
  },
  {
   "cell_type": "code",
   "execution_count": 154,
   "metadata": {},
   "outputs": [
    {
     "name": "stdout",
     "output_type": "stream",
     "text": [
      "root\n",
      " |-- Process ID: string (nullable = true)\n",
      " |-- Characteristic Matrix: vector (nullable = true)\n",
      "\n",
      "+----------+---------------------+\n",
      "|Process ID|Characteristic Matrix|\n",
      "+----------+---------------------+\n",
      "|         7| (900,[0,1,2,3,4,7...|\n",
      "|        15| (900,[0,1,2,3,4,5...|\n",
      "|        11| (900,[0,1,2,3,4,5...|\n",
      "|         3| (900,[0,1,2,3,4,7...|\n",
      "|        30| (900,[0,1,2,39,20...|\n",
      "|         8| (900,[0,1,2,3,4,9...|\n",
      "|        16| (900,[0,1,2,3,4,5...|\n",
      "|         0| (900,[0,1,2,3,4,9...|\n",
      "|         5| (900,[0,1,2,3,4,7...|\n",
      "|        18| (900,[0,1,2,3,4,5...|\n",
      "|        17| (900,[0,1,2,3,4,5...|\n",
      "|         6| (900,[0,1,2,3,4,9...|\n",
      "|        19| (900,[0,1,2,3,4,5...|\n",
      "|         9| (900,[0,1,2,3,4,9...|\n",
      "|         1| (900,[0,1,2,3,4,5...|\n",
      "|        20| (900,[0,1,2,206,2...|\n",
      "|        10| (900,[0,1,2,3,4,5...|\n",
      "|         4| (900,[0,1,2,3,4,7...|\n",
      "|        12| (900,[0,1,2,3,4,5...|\n",
      "|        13| (900,[0,1,2,3,4,5...|\n",
      "+----------+---------------------+\n",
      "only showing top 20 rows\n",
      "\n",
      "Rows of Characteristic Matrix:  ['Response, ', ', Response', ' Response,', ', Request,', ' Request, ', 'Request, 1', 'esponse, 1', '.3, Reques', '3, Request', 'l, Respons', ', null, Re', 'null, S-1.', 'll, Respon', 'ull, Respo', ' null, Res', '.2, Reques', '<null, S-1', 'null, Resp', '2, Request', '.3, Respon', '3, Respons', ', S-1.3, R', ' S-1.3, Re', '.1, Reques', '1, Request', ' S-1.1, Re', ', S-1.1, R', ' S-1.2, Re', ', S-1.2, R', '1, Respons', '.1, Respon', '.2, Respon', '1.2, Reque', '2, Respons', '1.1, Respo', '<S-1.2, nu', 'll, S-1.2,', 'S-1.1, Res', 'S-1.3, Res', 'esponse, 3', '.2, null, ', 'ull, S-1.2', '-1.2, null', '1.3, Reque', '1.3, Respo', '<S-1.1, S-', 'S-1.2, Req', '<S-1.3, S-', 'S-1.2, nul', '1.2, null,', '-1.3, Resp', '2, null, R', '-1.2, Requ', 'l, S-1.2, ', '-1.1, Resp', 'S-1.3, nul', 'equest, 17', 'ponse, 11>', 'esponse, 7', 'ull, S-1.3', '3, null, R', '.3, null, ', 'sponse, 7>', 'll, S-1.3,', 'Request, 3', 'sponse, 17', 'equest, 7>', 'quest, 17>', 'quest, 11>', 'equest, 11', 'S-1.3, Req', 'l, S-1.3, ', 'ponse, 17>', 'sponse, 3>', '-1.3, null', 'Request, 7', '<S-1.3, nu', 'equest, 3>', '1.3, null,', '-1.3, Requ', 'sponse, 11', '1, S-1.1, ', 'quest, 19>', 'ponse, 19>', '1.1, Reque', '.1, S-1.1,', 'equest, 19', 'sponse, 19', 'S-1.1, nul', '.1, null, ', '.4, Respon', 'll, S-1.1,', '4, Respons', '1.2, Respo', '-1.1, Requ', '4, Request', '1, null, R', '<S-1.1, nu', '-1.1, null', '.4, Reques', 'l, S-1.1, ', '1.1, null,', 'ull, S-1.1', 'S-1.1, Req', 'S-1.3, S-2', '<S-40.3, S', 'S-40.3, Re', '<S-1.2, S-', 'sponse, 9>', ' S-40.3, R', 'S-1.3, S-4', 'S-40.3, S-', ' S-44.4, R', ', S-44.4, ', '<S-44.4, S', 'equest, 9>', 'S-1.1, S-2', 'S-1.2, Res', 'esponse, 9', 'Request, 9', 'S-44.4, Re', ', S-40.3, ', '-1.2, Resp', 'S-44.4, S-', 'S-29.3, Re', '3, S-1.3, ', 'S-19.4, S-', ', S-29.3, ', 'equest, 5>', 'sponse, 1>', ', S-19.4, ', ' S-20.1, R', 'S-20.1, Re', ' S-48.2, R', 'S-29.3, S-', '5.3, Reque', 'sponse, 5>', 'S-1.1, S-3', '4.4, Respo', '<S-19.4, S', 'S-35.3, S-', 'sponse, 14', 'S-35.3, Re', 'equest, 14', '<S-20.1, S', 'quest, 14>', '40.3, Resp', 'ponse, 18>', '.2, S-1.3,', ', S-20.1, ', '.3, S-1.3,', '5.1, Reque', '0.3, Respo', '44.4, Resp', 'S-48.2, S-', ', S-35.3, ', '-40.3, Res', ' S-29.3, R', 'S-20.1, S-', '<S-48.2, S', 'sponse, 18', ', S-48.2, ', '2, S-1.3, ', '-44.4, Res', 'equest, 1>', 'Request, 5', 'equest, 18', ' S-35.3, R', 'ponse, 14>', '<S-29.3, S', ' S-19.4, R', 'esponse, 5', 'quest, 18>', '0.3, Reque', 'S-48.2, Re', 'S-19.4, Re', '<S-35.3, S', ' S-12.2, R', '0.1, Reque', '35.3, Resp', 'ponse, 16>', '19.4, Requ', 'esponse, 4', '<S-24.3, S', '-29.3, Res', '-24.3, S-1', 'S-11.2, Re', '-35.3, S-3', '<S-12.2, S', '9.4, Reque', '9.3, S-32.', '5.1, S-1.1', 'quest, 13>', 'ponse, 15>', ' S-23.2, R', '8.2, Reque', 'S-23.2, S-', '3, S-1.1, ', '29.3, Resp', '48.2, S-1.', '-19.4, S-2', 'S-26.4, Re', '3, S-44.4,', ' S-17.2, R', '-48.2, Req', ' S-28.3, R', '7, S8, Res', 'equest, 16', '3, S-35.3,', ', S-36.2, ', '<S7, S8, R', 'S-28.3, Re', 'quest, 16>', ', S-32.3, ', 'S-36.2, S-', '<S-32.3, S', 'sponse, 13', '-44.4, S-1', 'S-36.2, Re', '3, S-40.3,', ' S-26.4, R', 'S-32.3, Re', ' S-11.2, R', '.3, S-35.3', 'Request, 4', 'equest, 4>', ', S-26.4, ', '<S-5.1, S-', '2.3, Reque', 'S-12.2, S-', '3, S-17.2,', ', S-28.3, ', '4.3, Reque', '.3, S-17.2', 'sponse, 16', 'S-11.2, S-', '3, S-48.2,', '5.3, Respo', 'S-24.3, Re', 'S-17.2, Re', 'S-41.1, S-', '-20.1, S-1', '.3, S-26.4', ' S-36.2, R', '6.4, Reque', '29.3, S-32', '<S-11.2, S', '9.3, Respo', '-19.4, Req', 'S-1.2, S-4', ', S-23.2, ', '20.1, Requ', '8, Respons', 'sponse, 15', '.3, S-44.4', 'S-17.2, S-', ', S-17.2, ', '-12.2, S-4', '.2, S-41.1', 'esponse, 2', '-1.1, S-35', 'S-12.2, Re', ', S-41.1, ', 'S7, S8, Re', ' S-5.1, Re', '<S-41.1, S', 'S-26.4, S-', '2, S-1.2, ', 'S8, Respon', '-29.3, S-3', '48.2, Requ', ' S-24.3, R', 'sponse, 4>', '<S-23.2, S', ' S-32.3, R', 'equest, 15', ', S-12.2, ', 'S-32.3, S-', '-35.3, Res', '2, S-41.1,', 'ponse, 13>', '.4, S-1.3,', '-17.2, S-2', '1.1, S-23.', 'equest, 13', '<S-28.3, S', '<S-17.2, S', '<S-36.2, S', '-20.1, Req', ' S-41.1, R', '3, S-26.4,', '.3, S-1.1,', 'quest, 15>', '.3, S-48.2', '9.3, Reque', '-48.2, S-1', '2.2, Reque', ', S8, Resp', 'S-41.1, Re', ', S-11.2, ', 'S-23.2, Re', 'S-24.3, S-', ', S-24.3, ', '.2, S-1.2,', '1.1, S-35.', 'S-1.2, S-1', ', S-5.1, R', ' S8, Respo', '-41.1, S-1', 'S-28.3, S-', '<S-26.4, S', '4, S-1.3, ', '.3, S-40.3', '-1.1, S-23', '41.1, S-1.', '1.1, S-27.', 'equest, 12', '44.4, S-36', '28.3, Resp', '-11.2, S-2', '4, S-20.1,', '-27.3, Req', '.2, S-15.3', ', S-15.3, ', '40.3, Requ', '38.1, S-1.', '25.1, S-11', '.2, S-46.4', 'esponse, 0', 'S-23.3, Re', '0.2, Reque', ', S-23.1, ', '7.3, Reque', '5.1, S-11.', '-46.4, S-1', '.2, S-44.4', '-20.1, S-3', '20.2, Requ', '.2, S-29.3', '40.3, S-31', '44.4, S-9.', '7.2, S-28.', '44.4, S-1.', '-20.1, Res', '.3, S-4.3,', '1.1, S-38.', 'Request, 6', '23.1, S-1.', '32.3, Resp', '45.3, S-1.', '20.1, Resp', '.2, S-27.3', '3, S-41.2,', '19.4, S-2.', '1, S-29.3,', '2, S-11.2,', '-30.3, Req', 'S-4.3, Req', '-36.3, Req', '35.1, S-1.', '2, S-46.4,', '2.3, S-19.', 'Request, 8', 'S-25.1, Re', '-23.2, S-9', '-28.3, S-2', '6.2, Reque', '.2, S-48.2', '24.3, S-17', ', S-32.2, ', '41.1, Resp', '.4, S-20.1', '-32.3, Res', ' S-35.1, R', ', S-45.3, ', 'S-5.1, S-1', '-36.2, Req', 'S-9.2, Req', 'S-45.3, Re', '23.2, S-9.', '-1.2, S-48', '4.3, S-40.', '-45.3, S-1', '-28.3, Req', '<S-23.1, S', 'S-31.3, Re', '32.3, S-35', '19.4, S-20', 'S-27.1, S-', '-1.1, S-5.', '.1, S-27.1', '8.1, Reque', '2.2, S-40.', '1.1, S-1.2', '.4, S-36.2', '-30.3, S-3', '.1, S-5.1,', '-1.3, S-48', ' S-14.2, R', '30.3, Requ', '45.3, Requ', 'equest, 6>', '46.4, Requ', 'equest, 0>', '1, S-32.3,', ' S-25.1, R', '-20.2, S-3', '8.3, S-29.', '-17.2, Res', '4, S-9.3, ', '2, S-24.3,', ', S-20.3, ', '-23.1, Req', '-17.2, Req', '1.1, S-14.', 'S-2.3, Req', '20.1, S-32', '1.2, S-1.3', '11.2, S-1.', '4.2, Reque', '11.2, Resp', '-25.1, S-1', '36.2, Resp', '17.2, Resp', 'S-32.2, Re', '1, S-38.1,', '<S-30.3, S', '7.1, Reque', '.3, S-31.3', '1.3, S-48.', '20.3, Requ', ', S-41.2, ', '4.3, S-17.', '6.2, Respo', '15.3, Requ', '6.4, Respo', '0.1, S-19.', ' S-36.3, R', ', S-14.2, ', '<S-32.2, S', '19.4, S-44', 'equest, 2>', ' S-20.3, R', '3.2, S-1.3', '<S-2.3, S-', '-32.1, Req', '15.3, S-1.', '-1.3, S-24', ', S-23.3, ', '41.2, Requ', '1, S-14.2,', ', S-27.1, ', '3, S-32.1,', '.3, S-28.3', '12.2, Requ', 'S-5.1, Req', '8.2, S-1.2', '-5.1, S-36', '9.4, Respo', '-2.3, Requ', '4, S-36.2,', ' S-46.4, R', '-23.3, Req', 'S-15.3, S-', '48.2, S-27', '1.2, S-25.', '28.3, S-17', ', S-36.3, ', '2, S-28.3,', '-1.1, S-20', '26.4, S-40', '23.3, Requ', '3, S-12.2,', '30.3, S-35', '17.2, S-24', '-48.2, S-2', '4, S-40.3,', '6.4, S-1.3', '-36.2, S-2', 'S-35.1, Re', '2.2, Respo', '9.4, S-20.', '1, S-11.2,', '-28.3, Res', '-5.1, Resp', '-14.2, Req', 'S-9.3, Req', '27.3, Requ', '0.1, S-32.', '12.2, Resp', '27.3, S-48', '9.2, Reque', 'S-15.3, Re', '-35.1, S-1', '1, S-19.4,', ' S-9.3, Re', '0.2, S-36.', '12.2, S-46', '2.3, S-20.', '0.3, S-1.3', 'S-27.1, Re', '7.2, Respo', '.1, S-32.3', '4.4, S-1.3', '-41.1, Res', '3, S-20.3,', '.3, S-32.1', 'sponse, 2>', ' S-2.3, Re', '-44.4, S-3', 'ponse, 20>', '2.1, Reque', '2.3, S-35.', '-23.2, Res', '6.4, S-40.', ', S-38.1, ', '.3, S-41.2', '-1.3, S-20', '7.2, Reque', '20.1, S-19', '-31.3, S-4', '40.3, S-12', ', S-25.1, ', '-24.3, Res', '4, S-44.4,', '31.3, Requ', '41.1, Requ', '36.3, S-5.', '3.3, Reque', '3, S-28.3,', 'S-45.3, S-', '44.4, Requ', '1, S-23.1,', '3, S-23.2,', '1.1, S-20.', '<S-23.3, S', '5.3, S-30.', '2, S-25.1,', ', S-46.4, ', '-19.4, Res', ' S-4.3, Re', '-40.3, S-1', ' S-27.3, R', '-20.3, S-1', '.1, S-29.3', '.3, S-20.3', '-29.3, S-2', 'S-9.2, S-2', '1.3, S-20.', '2, S-23.2,', '36.2, S-44', '-4.3, S-40', '8.2, S-27.', '12.2, S-40', '48.2, Resp', '.2, S-24.3', '8.3, Reque', ' S-38.1, R', 'S-23.1, Re', '.3, S-19.4', '2, S-36.2,', '4.4, S-19.', '32.1, Requ', 'S-5.1, S-3', '4, S-2.3, ', '-44.4, Req', '20.3, S-1.', '-15.3, Req', '8.1, S-1.1', '-1.3, S-45', 'S-25.1, S-', '-25.1, Req', '.3, S-32.2', '3, S-32.3,', '0.3, S-31.', ' S-32.2, R', '-19.4, S-4', '.2, S-11.2', '-20.3, Req', '-12.2, Req', '2, S-40.3,', '<S-25.1, S', '6.4, S-12.', 'S-46.4, Re', '-11.2, Res', '3, S-19.4,', 'sponse, 8>', '.3, S-24.3', '40.3, S-4.', '<S-41.2, S', 'S-31.3, S-', '-40.3, S-3', '<S-15.3, S', '2.3, Respo', '-35.3, Req', ', S-30.3, ', '0.3, S-4.3', '3.1, Reque', '.3, S-45.3', '1.3, S-26.', '7.2, S-24.', '6.3, Reque', '8.2, S-1.3', ', S-9.2, R', '.2, S-9.2,', '3, S-31.3,', '-35.1, Req', 'equest, 10', '3, S-30.3,', '3.2, S-9.2', '1, S-27.1,', '1.2, S-1.2', ', S-4.3, R', '-11.2, S-1', 'S-38.1, Re', '.1, S-23.3', '<S-46.4, S', 'sponse, 20', 'S-30.3, Re', '-5.1, S-1.', '.3, S-23.2', '0.1, Respo', '2, S-48.2,', '<S-27.3, S', '2, S-9.2, ', '0.1, S-1.1', '<S-20.2, S', '5.3, S-1.1', 'S-14.2, Re', '8.3, S-17.', 'S-23.1, S-', '-9.3, Requ', '.1, S-14.2', '-26.4, Res', '4.4, S-36.', 'sponse, 6>', '1.3, S-23.', 'S-41.2, Re', ', S-27.3, ', '4, S-12.2,', '35.3, S-32', '<S-38.1, S', 'sponse, 12', '3, S-32.2,', '26.4, S-1.', '7.3, S-48.', '<S-9.3, S-', 'sponse, 0>', '-1.3, S-23', 'S-27.3, Re', '5.3, S-1.2', '1, S-35.3,', '9.2, S-23.', '.1, S-20.1', '1, S-5.1, ', '-20.2, Req', '32.3, Requ', 'S-35.1, S-', '-23.3, S-1', '.3, S-29.3', '.1, S-35.3', 'S-1.1, S-5', '3, S-29.3,', '41.2, S-1.', '2, S-15.3,', '.4, S-40.3', '-2.3, S-19', '-23.2, S-1', '-4.3, Requ', 'S-32.1, Re', '.1, S-23.1', ', S-2.3, R', '-41.1, Req', ' S-9.2, Re', '-1.2, S-11', '5.1, Respo', '.1, S-36.3', '.2, S-20.2', '-1.1, S-27', '-48.2, Res', '.4, S-12.2', '-32.3, Req', 'Request, 2', '23.2, Requ', '-44.4, S-9', '1.2, S-15.', '1, S-23.3,', '-1.3, S-26', 'S-32.1, S-', 'S-20.2, Re', '.2, S-23.2', 'S-4.3, S-4', 'S-41.2, S-', '-31.3, Req', '9.4, S-44.', 'S-27.3, S-', '9.3, S-28.', '<S-20.3, S', '<S-36.3, S', '1.3, S-40.', '44.4, S-19', '5.3, S-32.', '32.3, S-20', '.1, S-19.4', '-32.2, Req', '24.3, Resp', '23.2, S-1.', '-15.3, S-1', '3, S-20.1,', '-9.2, Requ', '-36.2, Res', 'S-9.3, S-4', '1.2, S-48.', '2, S-29.3,', 'S-20.3, S-', '23.1, Requ', '4.3, S-1.3', '24.3, S-1.', 'esponse, 6', '4.4, S-9.3', '1.2, S-41.', '-32.1, S-2', '.4, S-9.3,', ' S-41.2, R', '23.3, S-1.', 'quest, 10>', ' S-31.3, R', '35.3, Requ', ', S-20.2, ', '<S-9.2, S-', '4.2, S-41.', 'S-36.3, S-', '-38.1, Req', ' S-30.3, R', '-27.1, Req', ' S-20.2, R', 'ponse, 30>', '5.1, S-36.', '27.1, Requ', 'ponse, 12>', ' S-15.3, R', '-14.2, S-4', '-32.3, S-3', '.1, S-35.1', '-1.2, S-15', '14.2, Requ', '1.3, S-44.', '2.2, S-46.', '3, S-1.2, ', '28.3, Requ', ', S-9.3, R', '38.1, Requ', 'S-5.1, Res', '4, S-19.4,', '-32.2, S-2', '.2, S-25.1', '-1.3, S-44', '29.3, Requ', 'esponse, 8', '32.1, S-29', ' S-23.1, R', '.1, S-38.1', '<S-45.3, S', '3, S-5.1, ', '29.3, S-28', '-12.2, Res', '<S-35.1, S', 'ponse, 10>', '27.1, S-1.', 'S-20.3, Re', '2, S-27.3,', '0.3, S-35.', '.1, S-1.2,', '6.3, S-5.1', '-38.1, S-1', '-9.2, S-23', '-23.2, Req', '-26.4, S-4', '3, S-24.3,', '46.4, S-12', '-27.3, S-4', '35.3, S-30', '3.1, S-1.1', '-35.3, S-1', '5.3, S-1.3', '-46.4, Req', '-26.4, Req', '14.2, S-41', '-36.3, S-5', '.4, S-2.3,', '23.2, Resp', '-24.3, Req', '2, S-20.2,', '7.1, S-1.1', '-41.2, Req', '0.3, S-12.', '20.2, S-36', '3.2, Reque', 'sponse, 30', '<S-32.1, S', '2, S-44.4,', '-1.1, S-38', '26.4, Resp', '.4, S-19.4', '36.2, Requ', '<S-4.3, S-', '<S-31.3, S', '3, S-45.3,', 'S-46.4, S-', '6.2, S-20.', 'S-20.2, S-', '1, S-35.1,', '-27.1, S-1', '.2, S-36.2', 'sponse, 10', '-40.3, Req', ' S-27.1, R', '3, S-4.3, ', '17.2, Requ', '2.2, S-29.', '3.2, Respo', '-1.3, S-41', '24.3, Requ', ' S-45.3, R', '-40.3, S-2', '1.3, S-24.', ', S-32.1, ', '4.3, Respo', '-23.1, S-1', 'Request, 0', 'S-30.3, S-', '35.1, Requ', '41.1, S-14', 'equest, 8>', '32.2, S-29', '19.4, Resp', '8.2, Respo', ', S-31.3, ', 'S-2.3, S-1', '-26.4, S-1', '9.4, S-2.3', '-5.1, Requ', '-45.3, Req', '25.1, Requ', '31.3, S-40', '-9.3, S-44', '35.3, S-1.', 'S-14.2, S-', '-36.2, S-4', 'S-36.3, Re', '2.1, S-29.', ' S-32.1, R', '.2, S-40.3', 'quest, 12>', '.3, S-1.2,', '.3, S-12.2', '20.1, S-1.', '.3, S-5.1,', '1.2, S-11.', 'S-38.1, S-', '-11.2, Req', '.3, S-20.1', '1.3, S-45.', '17.2, S-28', '.2, S-28.3', ' S-23.3, R', '9.3, S-44.', '28.3, S-29', '0.3, S-26.', '-40.3, S-4', '1.1, S-5.1', '-29.3, Req', '1, S-1.2, ', '-41.2, S-1', '4.4, Reque', '-32.3, S-2', '11.2, Requ', '36.2, S-20', '6.2, S-44.', 'S-23.3, S-', 'S-32.2, S-', '<S-27.1, S', '1, S-20.1,', '.1, S-11.2', '-28.3, S-1', '40.3, S-26', '-1.2, S-41', '11.2, S-25', '32.2, Requ', '.4, S-44.4', '3.3, S-1.1', '36.3, Requ', '.3, S-32.3', '26.4, Requ', '8.3, Respo', '1.3, S-41.', '.3, S-30.3', '<S-14.2, S', '1, S-36.3,', ', S-35.1, ']\n"
     ]
    }
   ],
   "source": [
    "characteristics = CountVectorizer(inputCol=\"Flat shingles\", outputCol=\"Characteristic Matrix\")\n",
    "\n",
    "model = characteristics.fit(grouped_df)\n",
    "char_matrix = model.transform(grouped_df).select(\"Process ID\", \"Characteristic Matrix\")\n",
    "\n",
    "char_matrix.printSchema()\n",
    "char_matrix.show()\n",
    "\n",
    "shingles = model.vocabulary\n",
    "print(\"Rows of Characteristic Matrix: \", shingles)"
   ]
  },
  {
   "cell_type": "code",
   "execution_count": 155,
   "metadata": {},
   "outputs": [
    {
     "name": "stdout",
     "output_type": "stream",
     "text": [
      "+----------+---------------------+--------------------+\n",
      "|Process ID|Characteristic Matrix|          Signatures|\n",
      "+----------+---------------------+--------------------+\n",
      "|         7| (900,[0,1,2,3,4,7...|[[4.4370813E7], [...|\n",
      "|        15| (900,[0,1,2,3,4,5...|[[6.1796466E7], [...|\n",
      "|        11| (900,[0,1,2,3,4,5...|[[4.1051641E7], [...|\n",
      "|         3| (900,[0,1,2,3,4,7...|[[4.8519778E7], [...|\n",
      "|        30| (900,[0,1,2,39,20...|[[1.29949889E8], ...|\n",
      "|         8| (900,[0,1,2,3,4,9...|[[1.29120096E8], ...|\n",
      "|        16| (900,[0,1,2,3,4,5...|[[6.1796466E7], [...|\n",
      "|         0| (900,[0,1,2,3,4,9...|[[1.29120096E8], ...|\n",
      "|         5| (900,[0,1,2,3,4,7...|[[6.2626259E7], [...|\n",
      "|        18| (900,[0,1,2,3,4,5...|[[6.2626259E7], [...|\n",
      "|        17| (900,[0,1,2,3,4,5...|[[4.6030399E7], [...|\n",
      "|         6| (900,[0,1,2,3,4,9...|[[5.3498536E7], [...|\n",
      "|        19| (900,[0,1,2,3,4,5...|[[4.354102E7], [8...|\n",
      "|         9| (900,[0,1,2,3,4,9...|[[5.7647501E7], [...|\n",
      "|         1| (900,[0,1,2,3,4,5...|[[4.6860192E7], [...|\n",
      "|        20| (900,[0,1,2,206,2...|[[1.29949889E8], ...|\n",
      "|        10| (900,[0,1,2,3,4,5...|[[6.1796466E7], [...|\n",
      "|         4| (900,[0,1,2,3,4,7...|[[6.2626259E7], [...|\n",
      "|        12| (900,[0,1,2,3,4,5...|[[1.29120096E8], ...|\n",
      "|        13| (900,[0,1,2,3,4,5...|[[5.183895E7], [2...|\n",
      "+----------+---------------------+--------------------+\n",
      "only showing top 20 rows\n",
      "\n"
     ]
    }
   ],
   "source": [
    "minhash = MinHashLSH(inputCol=\"Characteristic Matrix\", outputCol=\"Signatures\", numHashTables=5)\n",
    "\n",
    "# MinHash produces the signatures for the Characteritic matrix \n",
    "# numvHashTables is the number of the hush functioms that we want to use and the lenght of the signature \n",
    "model = minhash.fit(char_matrix)\n",
    "signatures = model.transform(char_matrix)\n",
    "\n",
    "signatures.show()"
   ]
  },
  {
   "cell_type": "code",
   "execution_count": 156,
   "metadata": {},
   "outputs": [
    {
     "name": "stdout",
     "output_type": "stream",
     "text": [
      "+--------------------+--------------------+-------------------+\n",
      "|            datasetA|            datasetB|   Jaccard Distance|\n",
      "+--------------------+--------------------+-------------------+\n",
      "|{12, (900,[0,1,2,...|{2, [[1.29120096E...| 0.2564102564102564|\n",
      "|{30, (900,[0,1,2,...|{20, [[1.29949889...|              0.375|\n",
      "|{0, (900,[0,1,2,3...|{6, [[5.3498536E7...|0.21621621621621623|\n",
      "|{13, (900,[0,1,2,...|{13, [[5.183895E7...|                0.0|\n",
      "|{8, (900,[0,1,2,3...|{0, [[1.29120096E...|0.21621621621621623|\n",
      "|{5, (900,[0,1,2,3...|{5, [[6.2626259E7...|                0.0|\n",
      "|{19, (900,[0,1,2,...|{19, [[4.354102E7...|                0.0|\n",
      "|{30, (900,[0,1,2,...|{30, [[1.29949889...|                0.0|\n",
      "|{2, (900,[0,1,2,3...|{6, [[5.3498536E7...|0.21621621621621623|\n",
      "|{2, (900,[0,1,2,3...|{2, [[1.29120096E...|                0.0|\n",
      "|{2, (900,[0,1,2,3...|{12, [[1.29120096...| 0.2564102564102564|\n",
      "|{0, (900,[0,1,2,3...|{12, [[1.29120096...| 0.2564102564102564|\n",
      "|{10, (900,[0,1,2,...|{10, [[6.1796466E...|                0.0|\n",
      "|{2, (900,[0,1,2,3...|{0, [[1.29120096E...|0.21621621621621623|\n",
      "|{1, (900,[0,1,2,3...|{1, [[4.6860192E7...|                0.0|\n",
      "|{6, (900,[0,1,2,3...|{2, [[1.29120096E...|0.21621621621621623|\n",
      "|{20, (900,[0,1,2,...|{20, [[1.29949889...|                0.0|\n",
      "|{8, (900,[0,1,2,3...|{6, [[5.3498536E7...|0.21621621621621623|\n",
      "|{6, (900,[0,1,2,3...|{12, [[1.29120096...| 0.2564102564102564|\n",
      "|{7, (900,[0,1,2,3...|{7, [[4.4370813E7...|                0.0|\n",
      "+--------------------+--------------------+-------------------+\n",
      "only showing top 20 rows\n",
      "\n"
     ]
    }
   ],
   "source": [
    "# approxSimilarityJoin uses autmatically LSH to find rows that it is most likely \n",
    "# to have same \"Signatures\"\n",
    "# threshold: pairs with Jaccard Distance lower than threshlod\n",
    "similar_pairs = model.approxSimilarityJoin(signatures, signatures, threshold=0.5, distCol=\"Jaccard Distance\")\n",
    "similar_pairs.show()"
   ]
  },
  {
   "cell_type": "code",
   "execution_count": 157,
   "metadata": {},
   "outputs": [
    {
     "data": {
      "text/plain": [
       "44"
      ]
     },
     "execution_count": 157,
     "metadata": {},
     "output_type": "execute_result"
    }
   ],
   "source": [
    "similar_pairs.count()"
   ]
  },
  {
   "cell_type": "code",
   "execution_count": 158,
   "metadata": {},
   "outputs": [],
   "source": [
    "similar_pairs = similar_pairs.select(\"datasetA.Process ID\", \"datasetB.Process ID\", \n",
    "                     \"Jaccard Distance\").filter((col(\"datasetA.Process ID\") != col(\"datasetB.Process ID\")))"
   ]
  },
  {
   "cell_type": "code",
   "execution_count": 159,
   "metadata": {},
   "outputs": [
    {
     "name": "stdout",
     "output_type": "stream",
     "text": [
      "+----------+----------+-------------------+\n",
      "|Process ID|Process ID|   Jaccard Distance|\n",
      "+----------+----------+-------------------+\n",
      "|        12|         2| 0.2564102564102564|\n",
      "|        30|        20|              0.375|\n",
      "|         0|         6|0.21621621621621623|\n",
      "|         8|         0|0.21621621621621623|\n",
      "|         2|         6|0.21621621621621623|\n",
      "|         2|        12| 0.2564102564102564|\n",
      "|         0|        12| 0.2564102564102564|\n",
      "|         2|         0|0.21621621621621623|\n",
      "|         6|         2|0.21621621621621623|\n",
      "|         8|         6|0.21621621621621623|\n",
      "|         6|        12| 0.2564102564102564|\n",
      "|         0|         2|0.21621621621621623|\n",
      "|         0|         8|0.21621621621621623|\n",
      "|         6|         0|0.21621621621621623|\n",
      "|         8|         2|0.21621621621621623|\n",
      "|        12|         0| 0.2564102564102564|\n",
      "|         6|         8|0.21621621621621623|\n",
      "|         8|        12| 0.2564102564102564|\n",
      "|        12|         6| 0.2564102564102564|\n",
      "|        12|         8| 0.2564102564102564|\n",
      "+----------+----------+-------------------+\n",
      "only showing top 20 rows\n",
      "\n"
     ]
    }
   ],
   "source": [
    "similar_pairs.show()"
   ]
  }
 ],
 "metadata": {
  "kernelspec": {
   "display_name": "data_intensive_systems",
   "language": "python",
   "name": "python3"
  },
  "language_info": {
   "codemirror_mode": {
    "name": "ipython",
    "version": 3
   },
   "file_extension": ".py",
   "mimetype": "text/x-python",
   "name": "python",
   "nbconvert_exporter": "python",
   "pygments_lexer": "ipython3",
   "version": "3.11.9"
  }
 },
 "nbformat": 4,
 "nbformat_minor": 2
}
