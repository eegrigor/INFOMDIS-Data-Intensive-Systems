{
 "cells": [
  {
   "cell_type": "code",
   "execution_count": 104,
   "metadata": {},
   "outputs": [],
   "source": [
    "import pyspark\n",
    "from pyspark import SparkContext, SparkConf\n",
    "from pyspark.sql import SparkSession\n",
    "import pandas as pd \n",
    "import numpy as np \n",
    "from pyspark.sql.functions import split, col, regexp_replace, collect_list"
   ]
  },
  {
   "cell_type": "code",
   "execution_count": 12,
   "metadata": {},
   "outputs": [
    {
     "data": {
      "text/html": [
       "\n",
       "            <div>\n",
       "                <p><b>SparkSession - in-memory</b></p>\n",
       "                \n",
       "        <div>\n",
       "            <p><b>SparkContext</b></p>\n",
       "\n",
       "            <p><a href=\"http://macbook-pro.home:4040\">Spark UI</a></p>\n",
       "\n",
       "            <dl>\n",
       "              <dt>Version</dt>\n",
       "                <dd><code>v3.5.1</code></dd>\n",
       "              <dt>Master</dt>\n",
       "                <dd><code>local[*]</code></dd>\n",
       "              <dt>AppName</dt>\n",
       "                <dd><code>Projet-Task-1</code></dd>\n",
       "            </dl>\n",
       "        </div>\n",
       "        \n",
       "            </div>\n",
       "        "
      ],
      "text/plain": [
       "<pyspark.sql.session.SparkSession at 0x104c3bfd0>"
      ]
     },
     "execution_count": 12,
     "metadata": {},
     "output_type": "execute_result"
    }
   ],
   "source": [
    "spark = SparkSession.builder \\\n",
    "    .appName(\"Projet-Task-1\") \\\n",
    "    .master(\"local[*]\") \\\n",
    "    .config(\"spark.driver.memory\", \"2G\") \\\n",
    "    .config(\"spark.driver.maxResultSize\", \"2g\") \\\n",
    "    .getOrCreate()\n",
    "spark"
   ]
  },
  {
   "cell_type": "code",
   "execution_count": 11,
   "metadata": {},
   "outputs": [],
   "source": [
    "spark.stop()"
   ]
  },
  {
   "cell_type": "code",
   "execution_count": 144,
   "metadata": {},
   "outputs": [],
   "source": [
    "df = spark.read.text(\"data.txt\").toDF(\"Log\")"
   ]
  },
  {
   "cell_type": "code",
   "execution_count": 145,
   "metadata": {},
   "outputs": [
    {
     "name": "stdout",
     "output_type": "stream",
     "text": [
      "root\n",
      " |-- Log: array (nullable = true)\n",
      " |    |-- element: string (containsNull = false)\n",
      "\n",
      "+--------------------+\n",
      "|                 Log|\n",
      "+--------------------+\n",
      "|[null, S-1, Reque...|\n",
      "|[S-1, S-15, Reque...|\n",
      "|[S-15, S-20, Requ...|\n",
      "|[S-20, S-15, Resp...|\n",
      "|[S-15, S-26, Requ...|\n",
      "|[S-26, S-2, Reque...|\n",
      "|[S-2, S-26, Respo...|\n",
      "|[S-26, S-15, Resp...|\n",
      "|[S-15, S-1, Respo...|\n",
      "|[S-1, null, Respo...|\n",
      "|[null, S-1, Reque...|\n",
      "|[S-1, S-48, Reque...|\n",
      "|[S-48, S-46, Requ...|\n",
      "|[S-46, S-14, Requ...|\n",
      "|[S-14, S-12.1, Re...|\n",
      "|[S-12.1, S-14, Re...|\n",
      "|[S-14, S-46, Resp...|\n",
      "|[S-46, S-48, Resp...|\n",
      "|[S-48, S-1, Respo...|\n",
      "|[S-1, null, Respo...|\n",
      "+--------------------+\n",
      "only showing top 20 rows\n",
      "\n",
      "First Server\n",
      "Second Server\n",
      "Communication Type\n",
      "Process ID\n",
      "root\n",
      " |-- Log: array (nullable = true)\n",
      " |    |-- element: string (containsNull = false)\n",
      " |-- First Server: string (nullable = true)\n",
      " |-- Second Server: string (nullable = true)\n",
      " |-- Communication Type: string (nullable = true)\n",
      " |-- Process ID: string (nullable = true)\n",
      "\n",
      "+--------------------+------------+-------------+------------------+----------+\n",
      "|                 Log|First Server|Second Server|Communication Type|Process ID|\n",
      "+--------------------+------------+-------------+------------------+----------+\n",
      "|[null, S-1, Reque...|        null|          S-1|           Request|         0|\n",
      "|[S-1, S-15, Reque...|         S-1|         S-15|           Request|         0|\n",
      "|[S-15, S-20, Requ...|        S-15|         S-20|           Request|         0|\n",
      "|[S-20, S-15, Resp...|        S-20|         S-15|          Response|         0|\n",
      "|[S-15, S-26, Requ...|        S-15|         S-26|           Request|         0|\n",
      "|[S-26, S-2, Reque...|        S-26|          S-2|           Request|         0|\n",
      "|[S-2, S-26, Respo...|         S-2|         S-26|          Response|         0|\n",
      "|[S-26, S-15, Resp...|        S-26|         S-15|          Response|         0|\n",
      "|[S-15, S-1, Respo...|        S-15|          S-1|          Response|         0|\n",
      "|[S-1, null, Respo...|         S-1|         null|          Response|         0|\n",
      "|[null, S-1, Reque...|        null|          S-1|           Request|         1|\n",
      "|[S-1, S-48, Reque...|         S-1|         S-48|           Request|         1|\n",
      "|[S-48, S-46, Requ...|        S-48|         S-46|           Request|         1|\n",
      "|[S-46, S-14, Requ...|        S-46|         S-14|           Request|         1|\n",
      "|[S-14, S-12.1, Re...|        S-14|       S-12.1|           Request|         1|\n",
      "|[S-12.1, S-14, Re...|      S-12.1|         S-14|          Response|         1|\n",
      "|[S-14, S-46, Resp...|        S-14|         S-46|          Response|         1|\n",
      "|[S-46, S-48, Resp...|        S-46|         S-48|          Response|         1|\n",
      "|[S-48, S-1, Respo...|        S-48|          S-1|          Response|         1|\n",
      "|[S-1, null, Respo...|         S-1|         null|          Response|         1|\n",
      "+--------------------+------------+-------------+------------------+----------+\n",
      "only showing top 20 rows\n",
      "\n"
     ]
    }
   ],
   "source": [
    "df = df.withColumn(\"Log\", regexp_replace(col(\"Log\"), \"[<>]\", \"\"))\n",
    "df = df.withColumn(\"Log\", regexp_replace(col(\"Log\"), \",\", \"\"))\n",
    "df = df.withColumn(\"Log\", split(col(\"Log\"), \" \"))\n",
    "\n",
    "df.printSchema()\n",
    "df.show()\n",
    "\n",
    "columns = [\"First Server\", \"Second Server\", \"Communication Type\", \"Process ID\"]\n",
    "\n",
    "for i in range(len(columns)):\n",
    "    print(columns[i])\n",
    "    df = df.withColumn(columns[i], col(\"Log\")[i])\n",
    "\n",
    "df.printSchema()\n",
    "df.show()"
   ]
  },
  {
   "cell_type": "code",
   "execution_count": 152,
   "metadata": {},
   "outputs": [
    {
     "name": "stdout",
     "output_type": "stream",
     "text": [
      "root\n",
      " |-- Process ID: string (nullable = true)\n",
      " |-- Log: array (nullable = false)\n",
      " |    |-- element: array (containsNull = false)\n",
      " |    |    |-- element: string (containsNull = false)\n",
      " |-- First Server: array (nullable = false)\n",
      " |    |-- element: string (containsNull = false)\n",
      " |-- Second Server: array (nullable = false)\n",
      " |    |-- element: string (containsNull = false)\n",
      " |-- FCommunication Type: array (nullable = false)\n",
      " |    |-- element: string (containsNull = false)\n",
      "\n",
      "+----------+--------------------+--------------------+--------------------+--------------------+\n",
      "|Process ID|                 Log|        First Server|       Second Server| FCommunication Type|\n",
      "+----------+--------------------+--------------------+--------------------+--------------------+\n",
      "|         3|[[null, S-1, Requ...|         [null, S-1]|         [S-1, null]| [Request, Response]|\n",
      "|         0|[[null, S-1, Requ...|[null, S-1, S-15,...|[S-1, S-15, S-20,...|[Request, Request...|\n",
      "|         1|[[null, S-1, Requ...|[null, S-1, S-48,...|[S-1, S-48, S-46,...|[Request, Request...|\n",
      "|         4|[[null, S-1, Requ...|         [null, S-1]|         [S-1, null]| [Request, Response]|\n",
      "|         2|[[null, S-1, Requ...|         [null, S-1]|         [S-1, null]| [Request, Response]|\n",
      "+----------+--------------------+--------------------+--------------------+--------------------+\n",
      "\n"
     ]
    }
   ],
   "source": [
    "grouped_df = df.groupBy(\"Process ID\").agg(collect_list(\"Log\").alias(\"Log\"), \n",
    "                                          collect_list(\"First Server\").alias(\"First Server\"),\n",
    "                                          collect_list(\"Second Server\").alias(\"Second Server\"),\n",
    "                                          collect_list(\"Communication Type\").alias(\"FCommunication Type\"))\n",
    "\n",
    "grouped_df.printSchema()\n",
    "grouped_df.show()"
   ]
  }
 ],
 "metadata": {
  "kernelspec": {
   "display_name": "data_intensive_systems",
   "language": "python",
   "name": "python3"
  },
  "language_info": {
   "codemirror_mode": {
    "name": "ipython",
    "version": 3
   },
   "file_extension": ".py",
   "mimetype": "text/x-python",
   "name": "python",
   "nbconvert_exporter": "python",
   "pygments_lexer": "ipython3",
   "version": "3.11.9"
  }
 },
 "nbformat": 4,
 "nbformat_minor": 2
}
