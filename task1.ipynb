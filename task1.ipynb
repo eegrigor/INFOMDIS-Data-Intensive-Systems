{
 "cells": [
  {
   "cell_type": "code",
   "execution_count": 229,
   "metadata": {},
   "outputs": [],
   "source": [
    "import pyspark\n",
    "from pyspark import SparkContext, SparkConf\n",
    "from pyspark.sql import SparkSession\n",
    "import pandas as pd \n",
    "import numpy as np \n",
    "from pyspark.sql.functions import split, col, regexp_replace, collect_list, explode, concat, collect_set, array_union, flatten\n",
    "from pyspark.ml.feature import CountVectorizer\n",
    "from pyspark.ml.feature import MinHashLSH\n",
    "from pyspark.ml.linalg import Vectors\n",
    "from pyspark.sql import SparkSession\n",
    "from pyspark.sql.functions import col, udf\n",
    "from pyspark.sql.types import ArrayType, StringType, BooleanType"
   ]
  },
  {
   "cell_type": "code",
   "execution_count": 230,
   "metadata": {},
   "outputs": [
    {
     "data": {
      "text/html": [
       "\n",
       "            <div>\n",
       "                <p><b>SparkSession - in-memory</b></p>\n",
       "                \n",
       "        <div>\n",
       "            <p><b>SparkContext</b></p>\n",
       "\n",
       "            <p><a href=\"http://macbook-pro.home:4040\">Spark UI</a></p>\n",
       "\n",
       "            <dl>\n",
       "              <dt>Version</dt>\n",
       "                <dd><code>v3.5.1</code></dd>\n",
       "              <dt>Master</dt>\n",
       "                <dd><code>local[*]</code></dd>\n",
       "              <dt>AppName</dt>\n",
       "                <dd><code>Projet-Task-1</code></dd>\n",
       "            </dl>\n",
       "        </div>\n",
       "        \n",
       "            </div>\n",
       "        "
      ],
      "text/plain": [
       "<pyspark.sql.session.SparkSession at 0x15d07af50>"
      ]
     },
     "execution_count": 230,
     "metadata": {},
     "output_type": "execute_result"
    }
   ],
   "source": [
    "spark = SparkSession.builder \\\n",
    "    .appName(\"Projet-Task-1\") \\\n",
    "    .master(\"local[*]\") \\\n",
    "    .config(\"spark.driver.memory\", \"2G\") \\\n",
    "    .config(\"spark.driver.maxResultSize\", \"2g\") \\\n",
    "    .getOrCreate()\n",
    "spark"
   ]
  },
  {
   "cell_type": "code",
   "execution_count": 231,
   "metadata": {},
   "outputs": [],
   "source": [
    "# spark.stop()"
   ]
  },
  {
   "cell_type": "code",
   "execution_count": 232,
   "metadata": {},
   "outputs": [],
   "source": [
    "df = spark.read.text(\"data.txt\").toDF(\"Log\")"
   ]
  },
  {
   "cell_type": "code",
   "execution_count": 233,
   "metadata": {},
   "outputs": [
    {
     "name": "stdout",
     "output_type": "stream",
     "text": [
      "root\n",
      " |-- Log: array (nullable = true)\n",
      " |    |-- element: string (containsNull = false)\n",
      " |-- First Server: string (nullable = true)\n",
      " |-- Second Server: string (nullable = true)\n",
      " |-- Communication Type: string (nullable = true)\n",
      " |-- Process ID: string (nullable = true)\n",
      "\n",
      "+--------------------+------------+-------------+------------------+----------+\n",
      "|                 Log|First Server|Second Server|Communication Type|Process ID|\n",
      "+--------------------+------------+-------------+------------------+----------+\n",
      "|[null, S-1.2, Req...|        null|        S-1.2|           Request|         0|\n",
      "|[S-1.2, null, Res...|       S-1.2|         null|          Response|         0|\n",
      "|[null, S-1.3, Req...|        null|        S-1.3|           Request|         1|\n",
      "|[S-1.3, S-48.2, R...|       S-1.3|       S-48.2|           Request|         1|\n",
      "|[S-48.2, S-27.3, ...|      S-48.2|       S-27.3|           Request|         1|\n",
      "|[S-27.3, S-48.2, ...|      S-27.3|       S-48.2|          Response|         1|\n",
      "|[S-48.2, S-1.3, R...|      S-48.2|        S-1.3|          Response|         1|\n",
      "|[S-1.3, null, Res...|       S-1.3|         null|          Response|         1|\n",
      "|[null, S-1.2, Req...|        null|        S-1.2|           Request|         2|\n",
      "|[S-1.2, null, Res...|       S-1.2|         null|          Response|         2|\n",
      "|[null, S-1.3, Req...|        null|        S-1.3|           Request|         3|\n",
      "|[S-1.3, S-24.3, R...|       S-1.3|       S-24.3|           Request|         3|\n",
      "|[S-24.3, S-17.2, ...|      S-24.3|       S-17.2|           Request|         3|\n",
      "|[S-17.2, S-28.3, ...|      S-17.2|       S-28.3|           Request|         3|\n",
      "|[S-28.3, S-29.3, ...|      S-28.3|       S-29.3|           Request|         3|\n",
      "|[S-29.3, S-32.1, ...|      S-29.3|       S-32.1|           Request|         3|\n",
      "|[S-32.1, S-29.3, ...|      S-32.1|       S-29.3|          Response|         3|\n",
      "|[S-29.3, S-32.2, ...|      S-29.3|       S-32.2|           Request|         3|\n",
      "|[S-32.2, S-29.3, ...|      S-32.2|       S-29.3|          Response|         3|\n",
      "|[S-29.3, S-28.3, ...|      S-29.3|       S-28.3|          Response|         3|\n",
      "+--------------------+------------+-------------+------------------+----------+\n",
      "only showing top 20 rows\n",
      "\n"
     ]
    }
   ],
   "source": [
    "df = df.withColumn(\"Log\", regexp_replace(col(\"Log\"), \"[<>]\", \"\"))\n",
    "df = df.withColumn(\"Log\", regexp_replace(col(\"Log\"), \",\", \"\"))\n",
    "df = df.withColumn(\"Log\", split(col(\"Log\"), \" \"))\n",
    "\n",
    "# df.printSchema()\n",
    "# df.show()\n",
    "\n",
    "columns = [\"First Server\", \"Second Server\", \"Communication Type\", \"Process ID\"]\n",
    "\n",
    "for i in range(len(columns)):\n",
    "    # print(columns[i])\n",
    "    df = df.withColumn(columns[i], col(\"Log\")[i])\n",
    "\n",
    "df.printSchema()\n",
    "df.show()"
   ]
  },
  {
   "cell_type": "code",
   "execution_count": 234,
   "metadata": {},
   "outputs": [],
   "source": [
    "# Remove Process ID from request \n",
    "log = udf(lambda x: x[:-1], ArrayType(StringType())) \n",
    "df = df.withColumn('Log', log('Log')) "
   ]
  },
  {
   "cell_type": "code",
   "execution_count": 235,
   "metadata": {},
   "outputs": [
    {
     "name": "stdout",
     "output_type": "stream",
     "text": [
      "root\n",
      " |-- Process ID: string (nullable = true)\n",
      " |-- Log: array (nullable = false)\n",
      " |    |-- element: array (containsNull = false)\n",
      " |    |    |-- element: string (containsNull = true)\n",
      " |-- First Server: array (nullable = false)\n",
      " |    |-- element: string (containsNull = false)\n",
      " |-- Second Server: array (nullable = false)\n",
      " |    |-- element: string (containsNull = false)\n",
      " |-- FCommunication Type: array (nullable = false)\n",
      " |    |-- element: string (containsNull = false)\n",
      "\n",
      "+----------+--------------------+--------------------+--------------------+--------------------+\n",
      "|Process ID|                 Log|        First Server|       Second Server| FCommunication Type|\n",
      "+----------+--------------------+--------------------+--------------------+--------------------+\n",
      "|         7|[[null, S-1.1, Re...|[null, S-1.1, S-2...|[S-1.1, S-23.1, S...|[Request, Request...|\n",
      "|        15|[[null, S-1.1, Re...|[null, S-1.1, S-3...|[S-1.1, S-38.1, S...|[Request, Request...|\n",
      "|        11|[[null, S-1.3, Re...|[null, S-1.3, S-4...|[S-1.3, S-44.4, S...|[Request, Request...|\n",
      "|         3|[[null, S-1.3, Re...|[null, S-1.3, S-2...|[S-1.3, S-24.3, S...|[Request, Request...|\n",
      "|        30|[[S7, S8, Response]]|                [S7]|                [S8]|          [Response]|\n",
      "|         8|[[null, S-1.2, Re...|       [null, S-1.2]|       [S-1.2, null]| [Request, Response]|\n",
      "|        16|[[null, S-1.1, Re...|[null, S-1.1, S-2...|[S-1.1, S-23.3, S...|[Request, Request...|\n",
      "|         0|[[null, S-1.2, Re...|       [null, S-1.2]|       [S-1.2, null]| [Request, Response]|\n",
      "|         5|[[null, S-1.3, Re...|[null, S-1.3, S-4...|[S-1.3, S-45.3, S...|[Request, Request...|\n",
      "|        18|[[null, S-1.3, Re...|[null, S-1.3, S-2...|[S-1.3, S-23.2, S...|[Request, Request...|\n",
      "|        17|[[null, S-1.3, Re...|[null, S-1.3, S-2...|[S-1.3, S-26.4, S...|[Request, Request...|\n",
      "|         6|[[null, S-1.2, Re...|       [null, S-1.2]|       [S-1.2, null]| [Request, Response]|\n",
      "|        19|[[null, S-1.1, Re...|[null, S-1.1, S-2...|[S-1.1, S-27.1, S...|[Request, Request...|\n",
      "|         9|[[null, S-1.2, Re...|[null, S-1.2, S-4...|[S-1.2, S-48.2, S...|[Request, Request...|\n",
      "|         1|[[null, S-1.3, Re...|[null, S-1.3, S-4...|[S-1.3, S-48.2, S...|[Request, Request...|\n",
      "|        20|[[S7, S8, Response]]|                [S7]|                [S8]|          [Response]|\n",
      "|        10|[[null, S-1.1, Re...|       [null, S-1.1]|       [S-1.1, null]| [Request, Response]|\n",
      "|         4|[[null, S-1.3, Re...|[null, S-1.3, S-2...|[S-1.3, S-20.3, S...|[Request, Request...|\n",
      "|        12|[[null, S-1.2, Re...|       [null, S-1.2]|       [S-1.2, null]| [Request, Response]|\n",
      "|        13|[[null, S-1.2, Re...|[null, S-1.2, S-1...|[S-1.2, S-15.3, S...|[Request, Request...|\n",
      "+----------+--------------------+--------------------+--------------------+--------------------+\n",
      "only showing top 20 rows\n",
      "\n"
     ]
    }
   ],
   "source": [
    "grouped_df = df.groupBy(\"Process ID\").agg(collect_list(\"Log\").alias(\"Log\"), \n",
    "                                          collect_list(\"First Server\").alias(\"First Server\"),\n",
    "                                          collect_list(\"Second Server\").alias(\"Second Server\"),\n",
    "                                          collect_list(\"Communication Type\").alias(\"FCommunication Type\"))\n",
    "\n",
    "grouped_df.printSchema()\n",
    "grouped_df.show()"
   ]
  },
  {
   "cell_type": "code",
   "execution_count": 236,
   "metadata": {},
   "outputs": [
    {
     "name": "stdout",
     "output_type": "stream",
     "text": [
      "+--------------------+------------+-------------+------------------+----------+\n",
      "|                 Log|First Server|Second Server|Communication Type|Process ID|\n",
      "+--------------------+------------+-------------+------------------+----------+\n",
      "|[null, S-1.2, Req...|        null|        S-1.2|           Request|         0|\n",
      "|[S-1.2, null, Res...|       S-1.2|         null|          Response|         0|\n",
      "|[null, S-1.3, Req...|        null|        S-1.3|           Request|         1|\n",
      "|[S-1.3, S-48.2, R...|       S-1.3|       S-48.2|           Request|         1|\n",
      "|[S-48.2, S-27.3, ...|      S-48.2|       S-27.3|           Request|         1|\n",
      "|[S-27.3, S-48.2, ...|      S-27.3|       S-48.2|          Response|         1|\n",
      "|[S-48.2, S-1.3, R...|      S-48.2|        S-1.3|          Response|         1|\n",
      "|[S-1.3, null, Res...|       S-1.3|         null|          Response|         1|\n",
      "|[null, S-1.2, Req...|        null|        S-1.2|           Request|         2|\n",
      "|[S-1.2, null, Res...|       S-1.2|         null|          Response|         2|\n",
      "|[null, S-1.3, Req...|        null|        S-1.3|           Request|         3|\n",
      "|[S-1.3, S-24.3, R...|       S-1.3|       S-24.3|           Request|         3|\n",
      "|[S-24.3, S-17.2, ...|      S-24.3|       S-17.2|           Request|         3|\n",
      "|[S-17.2, S-28.3, ...|      S-17.2|       S-28.3|           Request|         3|\n",
      "|[S-28.3, S-29.3, ...|      S-28.3|       S-29.3|           Request|         3|\n",
      "|[S-29.3, S-32.1, ...|      S-29.3|       S-32.1|           Request|         3|\n",
      "|[S-32.1, S-29.3, ...|      S-32.1|       S-29.3|          Response|         3|\n",
      "|[S-29.3, S-32.2, ...|      S-29.3|       S-32.2|           Request|         3|\n",
      "|[S-32.2, S-29.3, ...|      S-32.2|       S-29.3|          Response|         3|\n",
      "|[S-29.3, S-28.3, ...|      S-29.3|       S-28.3|          Response|         3|\n",
      "+--------------------+------------+-------------+------------------+----------+\n",
      "only showing top 20 rows\n",
      "\n"
     ]
    }
   ],
   "source": [
    "df.show()"
   ]
  },
  {
   "cell_type": "code",
   "execution_count": 237,
   "metadata": {},
   "outputs": [
    {
     "name": "stdout",
     "output_type": "stream",
     "text": [
      "root\n",
      " |-- Process ID: string (nullable = true)\n",
      " |-- First Server: array (nullable = false)\n",
      " |    |-- element: string (containsNull = false)\n",
      " |-- Second Server: array (nullable = false)\n",
      " |    |-- element: string (containsNull = false)\n",
      " |-- Servers: array (nullable = false)\n",
      " |    |-- element: string (containsNull = false)\n",
      "\n",
      "+----------+--------------------+--------------------+--------------------+\n",
      "|Process ID|        First Server|       Second Server|             Servers|\n",
      "+----------+--------------------+--------------------+--------------------+\n",
      "|         7|[S-23.1, S-1.1, S...|[S-23.1, S-1.1, S...|[S-23.1, S-1.1, S...|\n",
      "|        15|[S-1.1, S-38.1, n...|[S-1.1, S-38.1, n...|[S-1.1, S-38.1, n...|\n",
      "|        11|[S-44.4, S-2.3, S...|[S-44.4, S-2.3, S...|[S-44.4, S-2.3, S...|\n",
      "|         3|[S-1.3, S-28.3, S...|[S-1.3, S-28.3, S...|[S-1.3, S-28.3, S...|\n",
      "|        30|                [S7]|                [S8]|            [S7, S8]|\n",
      "|         8|       [S-1.2, null]|       [S-1.2, null]|       [S-1.2, null]|\n",
      "|        16|[S-1.1, S-23.3, n...|[S-1.1, S-23.3, n...|[S-1.1, S-23.3, n...|\n",
      "|         0|       [S-1.2, null]|       [S-1.2, null]|       [S-1.2, null]|\n",
      "|         5|[S-41.2, S-1.3, S...|[S-41.2, S-1.3, S...|[S-41.2, S-1.3, S...|\n",
      "|        18|[S-9.2, S-1.3, S-...|[S-9.2, S-1.3, S-...|[S-9.2, S-1.3, S-...|\n",
      "|        17|[S-1.3, S-26.4, S...|[S-1.3, S-26.4, S...|[S-1.3, S-26.4, S...|\n",
      "|         6|       [S-1.2, null]|       [S-1.2, null]|       [S-1.2, null]|\n",
      "|        19|[S-1.1, S-35.1, S...|[S-1.1, S-35.1, S...|[S-1.1, S-35.1, S...|\n",
      "|         9|[S-48.2, S-25.1, ...|[S-48.2, S-25.1, ...|[S-48.2, S-25.1, ...|\n",
      "|         1|[S-48.2, S-1.3, n...|[S-48.2, S-1.3, S...|[S-48.2, S-1.3, n...|\n",
      "|        20|                [S7]|                [S8]|            [S7, S8]|\n",
      "|        10|       [S-1.1, null]|       [S-1.1, null]|       [S-1.1, null]|\n",
      "|         4|[S-1.3, S-20.3, n...|[S-1.3, S-20.3, n...|[S-1.3, S-20.3, n...|\n",
      "|        12|       [S-1.2, null]|       [S-1.2, null]|       [S-1.2, null]|\n",
      "|        13|[S-15.3, S-1.2, n...|[S-15.3, S-1.2, n...|[S-15.3, S-1.2, n...|\n",
      "+----------+--------------------+--------------------+--------------------+\n",
      "only showing top 20 rows\n",
      "\n"
     ]
    }
   ],
   "source": [
    "distinct_servers_df = df.groupBy(\"Process ID\").agg(collect_set(\"First Server\").alias(\"First Server\"),\n",
    "                                                   collect_set(\"Second Server\").alias(\"Second Server\"))\n",
    "\n",
    "distinct_servers_df = distinct_servers_df.withColumn(\"Servers\", array_union(\"First Server\", \"Second Server\"))\n",
    "\n",
    "distinct_servers_df.printSchema()\n",
    "distinct_servers_df.show()"
   ]
  },
  {
   "cell_type": "code",
   "execution_count": 238,
   "metadata": {},
   "outputs": [
    {
     "name": "stdout",
     "output_type": "stream",
     "text": [
      "root\n",
      " |-- Process ID: string (nullable = true)\n",
      " |-- Characteristic Matrix: vector (nullable = true)\n",
      "\n",
      "+----------+---------------------+\n",
      "|Process ID|Characteristic Matrix|\n",
      "+----------+---------------------+\n",
      "|         7| (47,[0,3,4,5,29,4...|\n",
      "|        15| (47,[0,3,13],[1.0...|\n",
      "|        11| (47,[0,2,5,18,24,...|\n",
      "|         3| (47,[0,2,12,21,22...|\n",
      "|        30| (47,[6,8],[1.0,1.0])|\n",
      "|         8| (47,[0,1],[1.0,1.0])|\n",
      "|        16| (47,[0,3,36],[1.0...|\n",
      "|         0| (47,[0,1],[1.0,1.0])|\n",
      "|         5| (47,[0,2,15,17],[...|\n",
      "|        18| (47,[0,2,14,43],[...|\n",
      "|        17| (47,[0,2,10,23,25...|\n",
      "|         6| (47,[0,1],[1.0,1.0])|\n",
      "|        19| (47,[0,3,4,9,16,2...|\n",
      "|         9| (47,[0,1,7,27,40]...|\n",
      "|         1| (47,[0,2,7,33],[1...|\n",
      "|        20| (47,[6,8],[1.0,1.0])|\n",
      "|        10| (47,[0,3],[1.0,1.0])|\n",
      "|         4| (47,[0,2,11],[1.0...|\n",
      "|        12| (47,[0,1],[1.0,1.0])|\n",
      "|        13| (47,[0,1,26],[1.0...|\n",
      "+----------+---------------------+\n",
      "only showing top 20 rows\n",
      "\n",
      "Rows of Characteristic Matrix:  ['null', 'S-1.2', 'S-1.3', 'S-1.1', 'S-20.1', 'S-19.4', 'S8', 'S-48.2', 'S7', 'S-27.1', 'S-12.2', 'S-20.3', 'S-28.3', 'S-38.1', 'S-23.2', 'S-45.3', 'S-36.3', 'S-41.2', 'S-36.2', 'S-14.2', 'S-5.1', 'S-29.3', 'S-32.2', 'S-40.3', 'S-2.3', 'S-26.4', 'S-15.3', 'S-11.2', 'S-41.1', 'S-30.3', 'S-9.3', 'S-44.4', 'S-4.3', 'S-27.3', 'S-46.4', 'S-32.1', 'S-23.3', 'S-31.3', 'S-20.2', 'S-24.3', 'S-25.1', 'S-32.3', 'S-35.3', 'S-9.2', 'S-17.2', 'S-23.1', 'S-35.1']\n"
     ]
    }
   ],
   "source": [
    "characteristics = CountVectorizer(inputCol=\"Servers\", outputCol=\"Characteristic Matrix\")\n",
    "\n",
    "model = characteristics.fit(distinct_servers_df)\n",
    "char_matrix = model.transform(distinct_servers_df).select(\"Process ID\", \"Characteristic Matrix\")\n",
    "\n",
    "char_matrix.printSchema()\n",
    "char_matrix.show()\n",
    "\n",
    "servers = model.vocabulary\n",
    "print(\"Rows of Characteristic Matrix: \", servers)"
   ]
  },
  {
   "cell_type": "code",
   "execution_count": 239,
   "metadata": {},
   "outputs": [
    {
     "name": "stdout",
     "output_type": "stream",
     "text": [
      "+----------+---------------------+--------------------+\n",
      "|Process ID|Characteristic Matrix|          Signatures|\n",
      "+----------+---------------------+--------------------+\n",
      "|         7| (47,[0,3,4,5,29,4...|[[6.3456052E7], [...|\n",
      "|        15| (47,[0,3,13],[1.0...|[[3.92606065E8], ...|\n",
      "|        11| (47,[0,2,5,18,24,...|[[2.60448184E8], ...|\n",
      "|         3| (47,[0,2,12,21,22...|[[1.9478414E8], [...|\n",
      "|        30| (47,[6,8],[1.0,1.0])|[[9.1874821E8], [...|\n",
      "|         8| (47,[0,1],[1.0,1.0])|[[1.29949889E8], ...|\n",
      "|        16| (47,[0,3,36],[1.0...|[[7.87420122E8], ...|\n",
      "|         0| (47,[0,1],[1.0,1.0])|[[1.29949889E8], ...|\n",
      "|         5| (47,[0,2,15,17],[...|[[7.87420122E8], ...|\n",
      "|        18| (47,[0,2,14,43],[...|[[7.87420122E8], ...|\n",
      "|        17| (47,[0,2,10,23,25...|[[1.29120096E8], ...|\n",
      "|         6| (47,[0,1],[1.0,1.0])|[[1.29949889E8], ...|\n",
      "|        19| (47,[0,3,4,9,16,2...|[[1.95613933E8], ...|\n",
      "|         9| (47,[0,1,7,27,40]...|[[1.29949889E8], ...|\n",
      "|         1| (47,[0,2,7,33],[1...|[[2.61277977E8], ...|\n",
      "|        20| (47,[6,8],[1.0,1.0])|[[9.1874821E8], [...|\n",
      "|        10| (47,[0,3],[1.0,1.0])|[[7.87420122E8], ...|\n",
      "|         4| (47,[0,2,11],[1.0...|[[7.87420122E8], ...|\n",
      "|        12| (47,[0,1],[1.0,1.0])|[[1.29949889E8], ...|\n",
      "|        13| (47,[0,1,26],[1.0...|[[1.29949889E8], ...|\n",
      "+----------+---------------------+--------------------+\n",
      "only showing top 20 rows\n",
      "\n"
     ]
    }
   ],
   "source": [
    "minhash = MinHashLSH(inputCol=\"Characteristic Matrix\", outputCol=\"Signatures\", numHashTables=5)\n",
    "\n",
    "# MinHash produces the signatures for the Characteritic matrix \n",
    "# numvHashTables is the number of the hush functioms that we want to use and the lenght of the signature \n",
    "model = minhash.fit(char_matrix)\n",
    "signatures = model.transform(char_matrix)\n",
    "\n",
    "signatures.show()"
   ]
  },
  {
   "cell_type": "code",
   "execution_count": 240,
   "metadata": {},
   "outputs": [
    {
     "name": "stdout",
     "output_type": "stream",
     "text": [
      "+--------------------+--------------------+----------------+\n",
      "|            datasetA|            datasetB|Jaccard Distance|\n",
      "+--------------------+--------------------+----------------+\n",
      "|{2, (47,[0,1],[1....|{0, [[1.29949889E...|             0.0|\n",
      "|{6, (47,[0,1],[1....|{2, [[1.29949889E...|             0.0|\n",
      "|{2, (47,[0,1],[1....|{2, [[1.29949889E...|             0.0|\n",
      "|{2, (47,[0,1],[1....|{8, [[1.29949889E...|             0.0|\n",
      "|{0, (47,[0,1],[1....|{0, [[1.29949889E...|             0.0|\n",
      "|{19, (47,[0,3,4,9...|{19, [[1.95613933...|             0.0|\n",
      "|{12, (47,[0,1],[1...|{2, [[1.29949889E...|             0.0|\n",
      "|{12, (47,[0,1],[1...|{0, [[1.29949889E...|             0.0|\n",
      "|{11, (47,[0,2,5,1...|{11, [[2.60448184...|             0.0|\n",
      "|{6, (47,[0,1],[1....|{12, [[1.29949889...|             0.0|\n",
      "|{6, (47,[0,1],[1....|{6, [[1.29949889E...|             0.0|\n",
      "|{2, (47,[0,1],[1....|{12, [[1.29949889...|             0.0|\n",
      "|{12, (47,[0,1],[1...|{12, [[1.29949889...|             0.0|\n",
      "|{5, (47,[0,2,15,1...|{5, [[7.87420122E...|             0.0|\n",
      "|{2, (47,[0,1],[1....|{6, [[1.29949889E...|             0.0|\n",
      "|{6, (47,[0,1],[1....|{0, [[1.29949889E...|             0.0|\n",
      "|{20, (47,[6,8],[1...|{20, [[9.1874821E...|             0.0|\n",
      "|{0, (47,[0,1],[1....|{8, [[1.29949889E...|             0.0|\n",
      "|{30, (47,[6,8],[1...|{30, [[9.1874821E...|             0.0|\n",
      "|{10, (47,[0,3],[1...|{10, [[7.87420122...|             0.0|\n",
      "+--------------------+--------------------+----------------+\n",
      "only showing top 20 rows\n",
      "\n"
     ]
    }
   ],
   "source": [
    "# approxSimilarityJoin uses autmatically LSH to find rows that it is most likely \n",
    "# to have same \"Signatures\"\n",
    "# threshold: pairs with Jaccard Distance lower than threshlod\n",
    "similar_pairs = model.approxSimilarityJoin(signatures, signatures, threshold=0.01, distCol=\"Jaccard Distance\")\n",
    "similar_pairs.show()"
   ]
  },
  {
   "cell_type": "code",
   "execution_count": 241,
   "metadata": {},
   "outputs": [
    {
     "data": {
      "text/plain": [
       "44"
      ]
     },
     "execution_count": 241,
     "metadata": {},
     "output_type": "execute_result"
    }
   ],
   "source": [
    "similar_pairs.count()"
   ]
  },
  {
   "cell_type": "code",
   "execution_count": 242,
   "metadata": {},
   "outputs": [],
   "source": [
    "similar_pairs = similar_pairs.select(\"datasetA.Process ID\", \"datasetB.Process ID\", \n",
    "                     \"Jaccard Distance\") \\\n",
    "                    # .filter((col(\"datasetA.Process ID\") != col(\"datasetB.Process ID\")))"
   ]
  },
  {
   "cell_type": "code",
   "execution_count": 243,
   "metadata": {},
   "outputs": [],
   "source": [
    "new_cols = [\"Process ID A\", \"Process ID B\", \"Jaccard Distance\"]\n",
    "similar_pairs = similar_pairs.toDF(*new_cols)"
   ]
  },
  {
   "cell_type": "code",
   "execution_count": 244,
   "metadata": {},
   "outputs": [
    {
     "name": "stdout",
     "output_type": "stream",
     "text": [
      "+------------+------------+----------------+\n",
      "|Process ID A|Process ID B|Jaccard Distance|\n",
      "+------------+------------+----------------+\n",
      "|           2|           0|             0.0|\n",
      "|           6|           2|             0.0|\n",
      "|           2|           2|             0.0|\n",
      "|           2|           8|             0.0|\n",
      "|           0|           0|             0.0|\n",
      "|          19|          19|             0.0|\n",
      "|          12|           2|             0.0|\n",
      "|          12|           0|             0.0|\n",
      "|          11|          11|             0.0|\n",
      "|           6|          12|             0.0|\n",
      "|           6|           6|             0.0|\n",
      "|           2|          12|             0.0|\n",
      "|          12|          12|             0.0|\n",
      "|           5|           5|             0.0|\n",
      "|           2|           6|             0.0|\n",
      "|           6|           0|             0.0|\n",
      "|          20|          20|             0.0|\n",
      "|           0|           8|             0.0|\n",
      "|          30|          30|             0.0|\n",
      "|          10|          10|             0.0|\n",
      "+------------+------------+----------------+\n",
      "only showing top 20 rows\n",
      "\n"
     ]
    }
   ],
   "source": [
    "similar_pairs.show()"
   ]
  },
  {
   "cell_type": "code",
   "execution_count": 245,
   "metadata": {},
   "outputs": [],
   "source": [
    "pairs = similar_pairs.join(grouped_df, similar_pairs[\"Process ID A\"] == col(\"Process ID\")) \\\n",
    "                     .select(col(\"Process ID A\"), col(\"Process ID B\"), col(\"Log\").alias(\"Log A\")) \\\n",
    "                     .join(grouped_df, similar_pairs[\"Process ID B\"] == col(\"Process ID\")) \\\n",
    "                     .select(col(\"Process ID A\"), col(\"Process ID B\"), col(\"Log A\"), col(\"Log\").alias(\"Log B\"))"
   ]
  },
  {
   "cell_type": "code",
   "execution_count": 246,
   "metadata": {},
   "outputs": [
    {
     "name": "stdout",
     "output_type": "stream",
     "text": [
      "+------------+------------+--------------------+--------------------+\n",
      "|Process ID A|Process ID B|               Log A|               Log B|\n",
      "+------------+------------+--------------------+--------------------+\n",
      "|           2|           0|[[null, S-1.2, Re...|[[null, S-1.2, Re...|\n",
      "|           6|           2|[[null, S-1.2, Re...|[[null, S-1.2, Re...|\n",
      "|           2|           2|[[null, S-1.2, Re...|[[null, S-1.2, Re...|\n",
      "|           2|           8|[[null, S-1.2, Re...|[[null, S-1.2, Re...|\n",
      "|           0|           0|[[null, S-1.2, Re...|[[null, S-1.2, Re...|\n",
      "|          19|          19|[[null, S-1.1, Re...|[[null, S-1.1, Re...|\n",
      "|          12|           2|[[null, S-1.2, Re...|[[null, S-1.2, Re...|\n",
      "|          12|           0|[[null, S-1.2, Re...|[[null, S-1.2, Re...|\n",
      "|          11|          11|[[null, S-1.3, Re...|[[null, S-1.3, Re...|\n",
      "|           6|          12|[[null, S-1.2, Re...|[[null, S-1.2, Re...|\n",
      "|           6|           6|[[null, S-1.2, Re...|[[null, S-1.2, Re...|\n",
      "|           2|          12|[[null, S-1.2, Re...|[[null, S-1.2, Re...|\n",
      "|          12|          12|[[null, S-1.2, Re...|[[null, S-1.2, Re...|\n",
      "|           5|           5|[[null, S-1.3, Re...|[[null, S-1.3, Re...|\n",
      "|           2|           6|[[null, S-1.2, Re...|[[null, S-1.2, Re...|\n",
      "|           6|           0|[[null, S-1.2, Re...|[[null, S-1.2, Re...|\n",
      "|          20|          20|[[S7, S8, Response]]|[[S7, S8, Response]]|\n",
      "|           0|           8|[[null, S-1.2, Re...|[[null, S-1.2, Re...|\n",
      "|          30|          30|[[S7, S8, Response]]|[[S7, S8, Response]]|\n",
      "|          10|          10|[[null, S-1.1, Re...|[[null, S-1.1, Re...|\n",
      "+------------+------------+--------------------+--------------------+\n",
      "only showing top 20 rows\n",
      "\n"
     ]
    }
   ],
   "source": [
    "pairs.show()"
   ]
  },
  {
   "cell_type": "code",
   "execution_count": 247,
   "metadata": {},
   "outputs": [],
   "source": [
    "def original_check(x,y):\n",
    "    return x==y\n",
    "\n",
    "orifinal_checking = udf(original_check, BooleanType())\n",
    "same_pairs = pairs.filter(orifinal_checking(col(\"Log A\"), col(\"Log B\")))"
   ]
  },
  {
   "cell_type": "code",
   "execution_count": 248,
   "metadata": {},
   "outputs": [],
   "source": [
    "same_pairs = same_pairs.groupBy(\"Log A\").agg(collect_set(\"Process ID A\"))"
   ]
  },
  {
   "cell_type": "code",
   "execution_count": 249,
   "metadata": {},
   "outputs": [
    {
     "name": "stdout",
     "output_type": "stream",
     "text": [
      "+--------------------+-------------------------+\n",
      "|               Log A|collect_set(Process ID A)|\n",
      "+--------------------+-------------------------+\n",
      "|[[null, S-1.3, Re...|                     [17]|\n",
      "|[[null, S-1.1, Re...|                     [19]|\n",
      "|[[null, S-1.3, Re...|                     [18]|\n",
      "|[[null, S-1.2, Re...|         [12, 2, 8, 6, 0]|\n",
      "|[[null, S-1.3, Re...|                     [11]|\n",
      "|[[null, S-1.3, Re...|                      [4]|\n",
      "|[[null, S-1.1, Re...|                     [16]|\n",
      "|[[null, S-1.2, Re...|                      [9]|\n",
      "|[[null, S-1.1, Re...|                     [10]|\n",
      "|[[null, S-1.2, Re...|                     [14]|\n",
      "|[[null, S-1.3, Re...|                      [3]|\n",
      "|[[S7, S8, Response]]|                 [20, 30]|\n",
      "|[[null, S-1.3, Re...|                      [5]|\n",
      "|[[null, S-1.1, Re...|                      [7]|\n",
      "|[[null, S-1.2, Re...|                     [13]|\n",
      "|[[null, S-1.1, Re...|                     [15]|\n",
      "|[[null, S-1.3, Re...|                      [1]|\n",
      "+--------------------+-------------------------+\n",
      "\n"
     ]
    }
   ],
   "source": [
    "same_pairs.show()"
   ]
  },
  {
   "cell_type": "markdown",
   "metadata": {},
   "source": [
    "# Shingling"
   ]
  },
  {
   "cell_type": "code",
   "execution_count": 250,
   "metadata": {},
   "outputs": [],
   "source": [
    "def k_shingling(text, k):\n",
    "    shingles = set()\n",
    "    for i in range(len(text) - k + 1):\n",
    "        shingle = text[i:i + k]\n",
    "        shingles.add(shingle)\n",
    "    return list(shingles)\n",
    "\n",
    "k_shingling_udf = udf(lambda text: k_shingling(text, 5), ArrayType(StringType()))"
   ]
  },
  {
   "cell_type": "code",
   "execution_count": 251,
   "metadata": {},
   "outputs": [
    {
     "name": "stdout",
     "output_type": "stream",
     "text": [
      "+--------------------+--------------------+--------------------+\n",
      "|                 Log|           Log_split|            Shingles|\n",
      "+--------------------+--------------------+--------------------+\n",
      "|<null, S-1.2, Req...|null, S-1.2, Request|[null,, l, S-, qu...|\n",
      "|<S-1.2, null, Res...|S-1.2, null, Resp...|[2, nu, .2, n, l,...|\n",
      "|<null, S-1.3, Req...|null, S-1.3, Request|[null,, l, S-, qu...|\n",
      "|<S-1.3, S-48.2, R...|S-1.3, S-48.2, Re...|[ S-48, 3, S-, qu...|\n",
      "|<S-48.2, S-27.3, ...|S-48.2, S-27.3, R...|[.2, S, eques, 2,...|\n",
      "|<S-27.3, S-48.2, ...|S-27.3, S-48.2, R...|[3, S-, .3, S, es...|\n",
      "|<S-48.2, S-1.3, R...|S-48.2, S-1.3, Re...|[.2, S, espon, 2,...|\n",
      "|<S-1.3, null, Res...|S-1.3, null, Resp...|[ponse, l, Re, nu...|\n",
      "|<null, S-1.2, Req...|null, S-1.2, Request|[null,, l, S-, qu...|\n",
      "|<S-1.2, null, Res...|S-1.2, null, Resp...|[2, nu, .2, n, l,...|\n",
      "|<null, S-1.3, Req...|null, S-1.3, Request|[null,, l, S-, qu...|\n",
      "|<S-1.3, S-24.3, R...|S-1.3, S-24.3, Re...|[3, S-, , Req, qu...|\n",
      "|<S-24.3, S-17.2, ...|S-24.3, S-17.2, R...|[3, S-, 17.2,, .3...|\n",
      "|<S-17.2, S-28.3, ...|S-17.2, S-28.3, R...|[.2, S, -28.3, 17...|\n",
      "|<S-28.3, S-29.3, ...|S-28.3, S-29.3, R...|[3, S-, -28.3, .3...|\n",
      "|<S-29.3, S-32.1, ...|S-29.3, S-32.1, R...|[3, S-, 1, Re, .3...|\n",
      "|<S-32.1, S-29.3, ...|S-32.1, S-29.3, R...|[espon, spons, 32...|\n",
      "|<S-29.3, S-32.2, ...|S-29.3, S-32.2, R...|[3, S-, .3, S, eq...|\n",
      "|<S-32.2, S-29.3, ...|S-32.2, S-29.3, R...|[.2, S, espon, 2,...|\n",
      "|<S-29.3, S-28.3, ...|S-29.3, S-28.3, R...|[3, S-, -28.3, .3...|\n",
      "+--------------------+--------------------+--------------------+\n",
      "only showing top 20 rows\n",
      "\n"
     ]
    }
   ],
   "source": [
    "df = spark.read.text(\"data.txt\").toDF(\"Log\")\n",
    "log = udf(lambda x: x[1:-4], StringType()) \n",
    "df = df.withColumn('Log_split', log('Log')) \n",
    "df.collect()\n",
    "df_shingles = df.withColumn(\"Shingles\", k_shingling_udf(df[\"Log_split\"]))\n",
    "df_shingles.show()"
   ]
  },
  {
   "cell_type": "code",
   "execution_count": 252,
   "metadata": {},
   "outputs": [
    {
     "data": {
      "text/plain": [
       "[Row(Log='<null, S-1.2, Request, 0>', Log_split='null, S-1.2, Request', Shingles=['null,', 'l, S-', 'quest', '1.2, ', 'ull, ', ', S-1', '.2, R', '2, Re', ' Requ', 'S-1.2', 'eques', 'll, S', ' S-1.', '-1.2,', 'Reque', ', Req']),\n",
       " Row(Log='<S-1.2, null, Response, 0>', Log_split='S-1.2, null, Response', Shingles=['2, nu', '.2, n', 'l, Re', 'null,', ', nul', '1.2, ', 'ull, ', ' null', ' Resp', 'll, R', ', Res', 'espon', 'S-1.2', '-1.2,', 'spons', 'Respo', 'ponse']),\n",
       " Row(Log='<null, S-1.3, Request, 1>', Log_split='null, S-1.3, Request', Shingles=['null,', 'l, S-', 'quest', '1.3, ', 'ull, ', ', S-1', '-1.3,', ' Requ', 'eques', '3, Re', 'll, S', ' S-1.', 'Reque', '.3, R', ', Req', 'S-1.3']),\n",
       " Row(Log='<S-1.3, S-48.2, Request, 1>', Log_split='S-1.3, S-48.2, Request', Shingles=[' S-48', '3, S-', 'quest', '1.3, ', 'S-48.', ', S-4', '-1.3,', '.2, R', '.3, S', '2, Re', ' Requ', 'eques', '8.2, ', 'Reque', '48.2,', ', Req', 'S-1.3', '-48.2']),\n",
       " Row(Log='<S-48.2, S-27.3, Request, 1>', Log_split='S-48.2, S-27.3, Request', Shingles=['.2, S', 'eques', '2, S-', '8.2, ', '27.3,', 'Reque', ' S-27', 'S-27.', 'quest', 'S-48.', '3, Re', '48.2,', ', Req', '7.3, ', '-27.3', '.3, R', ' Requ', ', S-2', '-48.2']),\n",
       " Row(Log='<S-27.3, S-48.2, Response, 1>', Log_split='S-27.3, S-48.2, Response', Shingles=['3, S-', '.3, S', 'espon', '27.3,', '8.2, ', 'spons', '.2, R', 'S-27.', '2, Re', ', Res', 'S-48.', 'Respo', '48.2,', 'ponse', ' S-48', ' Resp', '7.3, ', '-27.3', ', S-4', '-48.2']),\n",
       " Row(Log='<S-48.2, S-1.3, Response, 1>', Log_split='S-48.2, S-1.3, Response', Shingles=['.2, S', 'espon', '2, S-', '8.2, ', 'spons', 'S-1.3', ', Res', ' S-1.', '1.3, ', 'S-48.', '3, Re', 'Respo', '48.2,', 'ponse', ' Resp', ', S-1', '-1.3,', '.3, R', '-48.2']),\n",
       " Row(Log='<S-1.3, null, Response, 1>', Log_split='S-1.3, null, Response', Shingles=['ponse', 'l, Re', 'null,', ', nul', '1.3, ', 'ull, ', ' null', '-1.3,', 'll, R', ', Res', ' Resp', 'espon', '3, nu', 'spons', 'Respo', '.3, n', 'S-1.3']),\n",
       " Row(Log='<null, S-1.2, Request, 2>', Log_split='null, S-1.2, Request', Shingles=['null,', 'l, S-', 'quest', '1.2, ', 'ull, ', ', S-1', '.2, R', '2, Re', ' Requ', 'S-1.2', 'eques', 'll, S', ' S-1.', '-1.2,', 'Reque', ', Req']),\n",
       " Row(Log='<S-1.2, null, Response, 2>', Log_split='S-1.2, null, Response', Shingles=['2, nu', '.2, n', 'l, Re', 'null,', ', nul', '1.2, ', 'ull, ', ' null', ' Resp', 'll, R', ', Res', 'espon', 'S-1.2', '-1.2,', 'spons', 'Respo', 'ponse']),\n",
       " Row(Log='<null, S-1.3, Request, 3>', Log_split='null, S-1.3, Request', Shingles=['null,', 'l, S-', 'quest', '1.3, ', 'ull, ', ', S-1', '-1.3,', ' Requ', 'eques', '3, Re', 'll, S', ' S-1.', 'Reque', '.3, R', ', Req', 'S-1.3']),\n",
       " Row(Log='<S-1.3, S-24.3, Request, 3>', Log_split='S-1.3, S-24.3, Request', Shingles=['3, S-', ', Req', 'quest', '1.3, ', '-1.3,', '.3, S', ' Requ', '24.3,', 'S-24.', 'eques', '3, Re', '4.3, ', 'Reque', '.3, R', '-24.3', ', S-2', ' S-24', 'S-1.3']),\n",
       " Row(Log='<S-24.3, S-17.2, Request, 3>', Log_split='S-24.3, S-17.2, Request', Shingles=['3, S-', '17.2,', '.3, S', 'eques', '-17.2', 'Reque', '-24.3', '24.3,', 'S-24.', 'S-17.', '.2, R', '2, Re', 'quest', '7.2, ', '4.3, ', ', Req', ' S-17', ', S-1', ' Requ']),\n",
       " Row(Log='<S-17.2, S-28.3, Request, 3>', Log_split='S-17.2, S-28.3, Request', Shingles=['.2, S', '-28.3', '17.2,', 'eques', '-17.2', '2, S-', 'Reque', 'S-17.', 'S-28.', '28.3,', 'quest', '7.2, ', '3, Re', ', Req', ' S-28', '8.3, ', '.3, R', ' Requ', ', S-2']),\n",
       " Row(Log='<S-28.3, S-29.3, Request, 3>', Log_split='S-28.3, S-29.3, Request', Shingles=['3, S-', '-28.3', '.3, S', 'eques', 'Reque', '29.3,', 'S-28.', '9.3, ', '-29.3', '28.3,', 'quest', '3, Re', ' S-29', ', Req', 'S-29.', '8.3, ', '.3, R', ' Requ', ', S-2']),\n",
       " Row(Log='<S-29.3, S-32.1, Request, 3>', Log_split='S-29.3, S-32.1, Request', Shingles=['3, S-', '1, Re', '.3, S', 'eques', 'Reque', '32.1,', '29.3,', '9.3, ', ' S-32', '-32.1', '-29.3', 'quest', 'S-32.', ', S-3', ', Req', '2.1, ', 'S-29.', '.1, R', ' Requ']),\n",
       " Row(Log='<S-32.1, S-29.3, Response, 3>', Log_split='S-32.1, S-29.3, Response', Shingles=['espon', 'spons', '32.1,', '.1, S', '9.3, ', ', Res', '-32.1', '-29.3', 'S-32.', '3, Re', ' S-29', 'Respo', 'ponse', '2.1, ', ' Resp', '1, S-', 'S-29.', '.3, R', '29.3,', ', S-2']),\n",
       " Row(Log='<S-29.3, S-32.2, Request, 3>', Log_split='S-29.3, S-32.2, Request', Shingles=['3, S-', '.3, S', 'eques', 'Reque', '29.3,', '9.3, ', ' S-32', '.2, R', '2.2, ', '2, Re', '-29.3', 'quest', 'S-32.', '-32.2', ', S-3', '32.2,', ', Req', 'S-29.', ' Requ']),\n",
       " Row(Log='<S-32.2, S-29.3, Response, 3>', Log_split='S-32.2, S-29.3, Response', Shingles=['.2, S', 'espon', '2, S-', 'spons', '9.3, ', '2.2, ', ', Res', '-29.3', 'S-32.', '-32.2', '3, Re', '32.2,', ' S-29', 'Respo', 'ponse', ' Resp', 'S-29.', '.3, R', '29.3,', ', S-2']),\n",
       " Row(Log='<S-29.3, S-28.3, Response, 3>', Log_split='S-29.3, S-28.3, Response', Shingles=['3, S-', '-28.3', '.3, S', 'espon', 'spons', 'S-28.', '9.3, ', ', Res', '-29.3', '28.3,', '3, Re', 'Respo', 'ponse', ' S-28', ' Resp', 'S-29.', '8.3, ', '.3, R', '29.3,', ', S-2']),\n",
       " Row(Log='<S-28.3, S-17.2, Response, 3>', Log_split='S-28.3, S-17.2, Response', Shingles=['3, S-', '-28.3', '17.2,', '.3, S', 'espon', '-17.2', 'spons', 'S-17.', 'S-28.', '.2, R', ', Res', '2, Re', '28.3,', '7.2, ', 'Respo', ' S-17', 'ponse', ' Resp', ', S-1', '8.3, ']),\n",
       " Row(Log='<S-17.2, S-24.3, Response, 3>', Log_split='S-17.2, S-24.3, Response', Shingles=['.2, S', '17.2,', 'espon', '-17.2', '2, S-', 'spons', '-24.3', '24.3,', 'S-24.', ' S-24', 'S-17.', ', Res', '7.2, ', '3, Re', '4.3, ', 'Respo', 'ponse', ' Resp', '.3, R', ', S-2']),\n",
       " Row(Log='<S-24.3, S-1.3, Response, 3>', Log_split='S-24.3, S-1.3, Response', Shingles=['3, S-', '.3, S', 'espon', 'spons', '-24.3', '24.3,', 'S-24.', 'S-1.3', ', Res', ' S-1.', '1.3, ', '3, Re', '4.3, ', 'Respo', 'ponse', ' Resp', ', S-1', '-1.3,', '.3, R']),\n",
       " Row(Log='<S-1.3, null, Response, 3>', Log_split='S-1.3, null, Response', Shingles=['ponse', 'l, Re', 'null,', ', nul', '1.3, ', 'ull, ', ' null', '-1.3,', 'll, R', ', Res', ' Resp', 'espon', '3, nu', 'spons', 'Respo', '.3, n', 'S-1.3']),\n",
       " Row(Log='<null, S-1.3, Request, 4>', Log_split='null, S-1.3, Request', Shingles=['null,', 'l, S-', 'quest', '1.3, ', 'ull, ', ', S-1', '-1.3,', ' Requ', 'eques', '3, Re', 'll, S', ' S-1.', 'Reque', '.3, R', ', Req', 'S-1.3']),\n",
       " Row(Log='<S-1.3, S-20.3, Request, 4>', Log_split='S-1.3, S-20.3, Request', Shingles=['3, S-', ' S-20', '0.3, ', ', Req', '1.3, ', '-20.3', 'quest', '-1.3,', '.3, S', ' Requ', 'S-20.', 'eques', '3, Re', 'Reque', '.3, R', '20.3,', ', S-2', 'S-1.3']),\n",
       " Row(Log='<S-20.3, S-1.3, Response, 4>', Log_split='S-20.3, S-1.3, Response', Shingles=['3, S-', '.3, S', 'espon', 'S-20.', 'spons', 'S-1.3', '0.3, ', '-20.3', ', Res', ' S-1.', '1.3, ', '3, Re', 'Respo', 'ponse', ' Resp', ', S-1', '-1.3,', '.3, R', '20.3,']),\n",
       " Row(Log='<S-1.3, null, Response, 4>', Log_split='S-1.3, null, Response', Shingles=['ponse', 'l, Re', 'null,', ', nul', '1.3, ', 'ull, ', ' null', '-1.3,', 'll, R', ', Res', ' Resp', 'espon', '3, nu', 'spons', 'Respo', '.3, n', 'S-1.3']),\n",
       " Row(Log='<null, S-1.3, Request, 5>', Log_split='null, S-1.3, Request', Shingles=['null,', 'l, S-', 'quest', '1.3, ', 'ull, ', ', S-1', '-1.3,', ' Requ', 'eques', '3, Re', 'll, S', ' S-1.', 'Reque', '.3, R', ', Req', 'S-1.3']),\n",
       " Row(Log='<S-1.3, S-45.3, Request, 5>', Log_split='S-1.3, S-45.3, Request', Shingles=['3, S-', 'quest', '1.3, ', ', S-4', '-1.3,', '45.3,', '.3, S', ' Requ', ' S-45', 'eques', '3, Re', '-45.3', 'Reque', '.3, R', '5.3, ', ', Req', 'S-45.', 'S-1.3']),\n",
       " Row(Log='<S-45.3, S-1.3, Response, 5>', Log_split='S-45.3, S-1.3, Response', Shingles=['3, S-', '.3, S', 'espon', 'spons', 'S-1.3', ', Res', ' S-1.', '5.3, ', '1.3, ', '3, Re', 'Respo', 'ponse', ' Resp', ', S-1', '45.3,', '-1.3,', '-45.3', '.3, R', 'S-45.']),\n",
       " Row(Log='<S-1.3, S-41.2, Request, 5>', Log_split='S-1.3, S-41.2, Request', Shingles=['3, S-', '-41.2', 'quest', '1.3, ', '1.2, ', ', S-4', '-1.3,', '.2, R', '.3, S', '2, Re', ' Requ', 'eques', 'Reque', ' S-41', 'S-41.', '41.2,', ', Req', 'S-1.3']),\n",
       " Row(Log='<S-41.2, S-1.3, Response, 5>', Log_split='S-41.2, S-1.3, Response', Shingles=['.2, S', '1.2, ', 'espon', '2, S-', 'spons', 'S-1.3', '-41.2', ', Res', ' S-1.', 'S-41.', '1.3, ', '3, Re', 'Respo', 'ponse', ' Resp', ', S-1', '-1.3,', '.3, R', '41.2,']),\n",
       " Row(Log='<S-1.3, null, Response, 5>', Log_split='S-1.3, null, Response', Shingles=['ponse', 'l, Re', 'null,', ', nul', '1.3, ', 'ull, ', ' null', '-1.3,', 'll, R', ', Res', ' Resp', 'espon', '3, nu', 'spons', 'Respo', '.3, n', 'S-1.3']),\n",
       " Row(Log='<null, S-1.2, Request, 6>', Log_split='null, S-1.2, Request', Shingles=['null,', 'l, S-', 'quest', '1.2, ', 'ull, ', ', S-1', '.2, R', '2, Re', ' Requ', 'S-1.2', 'eques', 'll, S', ' S-1.', '-1.2,', 'Reque', ', Req']),\n",
       " Row(Log='<S-1.2, null, Response, 6>', Log_split='S-1.2, null, Response', Shingles=['2, nu', '.2, n', 'l, Re', 'null,', ', nul', '1.2, ', 'ull, ', ' null', ' Resp', 'll, R', ', Res', 'espon', 'S-1.2', '-1.2,', 'spons', 'Respo', 'ponse']),\n",
       " Row(Log='<null, S-1.1, Request, 7>', Log_split='null, S-1.1, Request', Shingles=['1.1, ', 'null,', 'l, S-', 'quest', '1, Re', 'ull, ', ', S-1', '-1.1,', 'S-1.1', ' Requ', 'eques', 'll, S', ' S-1.', 'Reque', '.1, R', ', Req']),\n",
       " Row(Log='<S-1.1, S-23.1, Request, 7>', Log_split='S-1.1, S-23.1, Request', Shingles=[' S-23', '1.1, ', '.1, S', '-23.1', '3.1, ', 'quest', '1, Re', '1, S-', '-1.1,', 'S-1.1', ' Requ', 'eques', 'Reque', 'S-23.', '.1, R', ', Req', '23.1,', ', S-2']),\n",
       " Row(Log='<S-23.1, S-1.1, Response, 7>', Log_split='S-23.1, S-1.1, Response', Shingles=['1, Re', 'espon', 'spons', '23.1,', '1.1, ', '.1, S', 'S-1.1', ', Res', ' S-1.', 'S-23.', '-23.1', 'Respo', 'ponse', '3.1, ', ' Resp', '1, S-', ', S-1', '-1.1,', '.1, R']),\n",
       " Row(Log='<S-1.1, S-35.3, Request, 7>', Log_split='S-1.1, S-35.3, Request', Shingles=['1.1, ', '.1, S', 'S-35.', 'quest', '1, S-', '-1.1,', 'S-1.1', '-35.3', ' Requ', ', S-3', 'eques', '3, Re', ' S-35', '35.3,', '.3, R', 'Reque', '5.3, ', ', Req']),\n",
       " Row(Log='<S-35.3, S-32.3, Request, 7>', Log_split='S-35.3, S-32.3, Request', Shingles=['3, S-', '.3, S', 'eques', 'Reque', ' S-32', '2.3, ', '35.3,', '5.3, ', '-32.3', 'S-35.', 'quest', 'S-32.', ', S-3', '3, Re', ', Req', '32.3,', '-35.3', '.3, R', ' Requ']),\n",
       " Row(Log='<S-32.3, S-20.1, Request, 7>', Log_split='S-32.3, S-20.1, Request', Shingles=['3, S-', '1, Re', '.3, S', '0.1, ', 'S-20.', 'eques', 'Reque', ' S-20', '2.3, ', '-32.3', '20.1,', 'quest', 'S-32.', '-20.1', ', Req', '32.3,', '.1, R', ' Requ', ', S-2']),\n",
       " Row(Log='<S-20.1, S-19.4, Request, 7>', Log_split='S-20.1, S-19.4, Request', Shingles=['S-19.', '0.1, ', 'S-20.', 'eques', 'Reque', '.1, S', '-19.4', '4, Re', '.4, R', '19.4,', '20.1,', 'quest', '-20.1', '9.4, ', ', Req', '1, S-', ', S-1', ' Requ', ' S-19']),\n",
       " Row(Log='<S-19.4, S-20.1, Response, 7>', Log_split='S-19.4, S-20.1, Response', Shingles=['1, Re', 'S-19.', '0.1, ', 'espon', 'S-20.', 'spons', ' S-20', '-19.4', ', Res', '.4, S', '19.4,', '20.1,', '4, S-', '-20.1', '9.4, ', 'Respo', 'ponse', ' Resp', '.1, R', ', S-2']),\n",
       " Row(Log='<S-20.1, S-32.3, Response, 7>', Log_split='S-20.1, S-32.3, Response', Shingles=['0.1, ', 'espon', 'S-20.', 'spons', '.1, S', ' S-32', '2.3, ', ', Res', '-32.3', '20.1,', 'S-32.', ', S-3', '-20.1', '3, Re', 'Respo', '32.3,', 'ponse', ' Resp', '1, S-', '.3, R']),\n",
       " Row(Log='<S-32.3, S-35.3, Response, 7>', Log_split='S-32.3, S-35.3, Response', Shingles=['3, S-', '.3, S', 'espon', ' S-35', 'spons', '2.3, ', ', Res', '35.3,', '5.3, ', '-32.3', 'S-35.', 'S-32.', ', S-3', '3, Re', 'Respo', '32.3,', 'ponse', ' Resp', '-35.3', '.3, R']),\n",
       " Row(Log='<S-35.3, S-30.3, Request, 7>', Log_split='S-35.3, S-30.3, Request', Shingles=['3, S-', ' S-30', '.3, S', 'eques', 'Reque', '0.3, ', '35.3,', '5.3, ', 'S-35.', 'quest', 'S-30.', ', S-3', '3, Re', ', Req', '30.3,', '-35.3', '.3, R', ' Requ', '-30.3']),\n",
       " Row(Log='<S-30.3, S-35.3, Response, 7>', Log_split='S-30.3, S-35.3, Response', Shingles=['3, S-', '.3, S', 'espon', ' S-35', 'spons', '0.3, ', ', Res', '35.3,', '5.3, ', 'S-35.', 'S-30.', ', S-3', '3, Re', 'Respo', 'ponse', ' Resp', '30.3,', '-35.3', '.3, R', '-30.3']),\n",
       " Row(Log='<S-35.3, S-1.1, Response, 7>', Log_split='S-35.3, S-1.1, Response', Shingles=['3, S-', '1, Re', '.3, S', 'espon', 'spons', '1.1, ', 'S-1.1', ', Res', ' S-1.', '35.3,', '5.3, ', 'S-35.', 'Respo', 'ponse', ' Resp', '-1.1,', ', S-1', '-35.3', '.1, R']),\n",
       " Row(Log='<S-1.1, null, Response, 7>', Log_split='S-1.1, null, Response', Shingles=['.1, n', '1.1, ', 'l, Re', 'null,', ', nul', ' Resp', '-1.1,', ' null', 'ull, ', 'S-1.1', 'll, R', ', Res', 'espon', 'spons', 'Respo', '1, nu', 'ponse']),\n",
       " Row(Log='<null, S-1.2, Request, 8>', Log_split='null, S-1.2, Request', Shingles=['null,', 'l, S-', 'quest', '1.2, ', 'ull, ', ', S-1', '.2, R', '2, Re', ' Requ', 'S-1.2', 'eques', 'll, S', ' S-1.', '-1.2,', 'Reque', ', Req']),\n",
       " Row(Log='<S-1.2, null, Response, 8>', Log_split='S-1.2, null, Response', Shingles=['2, nu', '.2, n', 'l, Re', 'null,', ', nul', '1.2, ', 'ull, ', ' null', ' Resp', 'll, R', ', Res', 'espon', 'S-1.2', '-1.2,', 'spons', 'Respo', 'ponse']),\n",
       " Row(Log='<null, S-1.2, Request, 9>', Log_split='null, S-1.2, Request', Shingles=['null,', 'l, S-', 'quest', '1.2, ', 'ull, ', ', S-1', '.2, R', '2, Re', ' Requ', 'S-1.2', 'eques', 'll, S', ' S-1.', '-1.2,', 'Reque', ', Req']),\n",
       " Row(Log='<S-1.2, S-48.2, Request, 9>', Log_split='S-1.2, S-48.2, Request', Shingles=[' S-48', '.2, S', 'quest', '1.2, ', 'S-48.', ', S-4', '.2, R', '2, Re', ' Requ', 'S-1.2', 'eques', '2, S-', '-1.2,', '8.2, ', 'Reque', '48.2,', ', Req', '-48.2']),\n",
       " Row(Log='<S-48.2, S-1.2, Response, 9>', Log_split='S-48.2, S-1.2, Response', Shingles=['.2, S', '1.2, ', 'espon', '2, S-', '8.2, ', 'spons', '.2, R', ', Res', '2, Re', 'S-1.2', ' S-1.', 'S-48.', 'Respo', '48.2,', 'ponse', ' Resp', ', S-1', '-1.2,', '-48.2']),\n",
       " Row(Log='<S-1.2, S-11.2, Request, 9>', Log_split='S-1.2, S-11.2, Request', Shingles=['.2, S', 'quest', '1.2, ', '.2, R', ', S-1', '11.2,', '2, Re', ' Requ', 'S-1.2', 'eques', '-11.2', '2, S-', '-1.2,', 'Reque', 'S-11.', ', Req', ' S-11']),\n",
       " Row(Log='<S-11.2, S-25.1, Request, 9>', Log_split='S-11.2, S-25.1, Request', Shingles=['.2, S', '1.2, ', '25.1,', '1, Re', 'eques', '-11.2', '2, S-', 'Reque', 'S-11.', '-25.1', 'S-25.', 'quest', ' S-25', ', Req', '11.2,', '5.1, ', '.1, R', ' Requ', ', S-2']),\n",
       " Row(Log='<S-25.1, S-11.2, Response, 9>', Log_split='S-25.1, S-11.2, Response', Shingles=['1.2, ', '25.1,', 'espon', '-11.2', 'spons', 'S-11.', '.1, S', '.2, R', ', Res', '2, Re', '-25.1', 'S-25.', ' S-11', 'Respo', 'ponse', ' Resp', '1, S-', ', S-1', '11.2,', '5.1, ']),\n",
       " Row(Log='<S-11.2, S-1.2, Response, 9>', Log_split='S-11.2, S-1.2, Response', Shingles=['Respo', '.2, S', ' Resp', '1.2, ', '.2, R', '11.2,', ', S-1', ', Res', '2, Re', 'espon', 'S-1.2', '-11.2', '2, S-', ' S-1.', '-1.2,', 'spons', 'S-11.', 'ponse']),\n",
       " Row(Log='<S-1.2, null, Response, 9>', Log_split='S-1.2, null, Response', Shingles=['2, nu', '.2, n', 'l, Re', 'null,', ', nul', '1.2, ', 'ull, ', ' null', ' Resp', 'll, R', ', Res', 'espon', 'S-1.2', '-1.2,', 'spons', 'Respo', 'ponse']),\n",
       " Row(Log='<null, S-1.1, Request, 10>', Log_split='null, S-1.1, Request,', Shingles=['1.1, ', 'null,', 'l, S-', 'quest', '1, Re', 'ull, ', ', S-1', '-1.1,', 'S-1.1', ' Requ', 'uest,', 'eques', 'll, S', ' S-1.', 'Reque', '.1, R', ', Req']),\n",
       " Row(Log='<S-1.1, null, Response, 10>', Log_split='S-1.1, null, Response,', Shingles=['.1, n', '1.1, ', 'l, Re', 'onse,', 'null,', ', nul', ' Resp', '-1.1,', ' null', 'ull, ', 'S-1.1', 'll, R', ', Res', 'espon', 'spons', 'Respo', '1, nu', 'ponse']),\n",
       " Row(Log='<null, S-1.3, Request, 11>', Log_split='null, S-1.3, Request,', Shingles=['null,', 'l, S-', 'quest', '1.3, ', 'ull, ', ', S-1', '-1.3,', ' Requ', 'uest,', 'eques', '3, Re', 'll, S', ' S-1.', 'Reque', '.3, R', ', Req', 'S-1.3']),\n",
       " Row(Log='<S-1.3, S-44.4, Request, 11>', Log_split='S-1.3, S-44.4, Request,', Shingles=['3, S-', '.3, S', 'eques', 'Reque', 'S-1.3', 'uest,', '4, Re', '.4, R', ' S-44', 'quest', '1.3, ', '4.4, ', ', Req', '-44.4', ', S-4', '-1.3,', '44.4,', ' Requ', 'S-44.']),\n",
       " Row(Log='<S-44.4, S-36.2, Request, 11>', Log_split='S-44.4, S-36.2, Request,', Shingles=['eques', 'Reque', '36.2,', '6.2, ', '.2, R', '2, Re', 'uest,', '-36.2', 'S-36.', '.4, S', 'quest', '4, S-', ', S-3', '4.4, ', ', Req', ' S-36', '-44.4', '44.4,', ' Requ', 'S-44.']),\n",
       " Row(Log='<S-36.2, S-20.2, Request, 11>', Log_split='S-36.2, S-20.2, Request,', Shingles=['.2, S', 'S-20.', 'eques', '2, S-', 'Reque', '36.2,', '0.2, ', '-20.2', '6.2, ', ' S-20', '.2, R', '2, Re', 'uest,', '-36.2', 'S-36.', 'quest', ', Req', '20.2,', ' Requ', ', S-2']),\n",
       " Row(Log='<S-20.2, S-36.2, Response, 11>', Log_split='S-20.2, S-36.2, Response,', Shingles=['.2, S', 'espon', 'S-20.', '2, S-', 'spons', '36.2,', '0.2, ', 'onse,', '-20.2', '6.2, ', '.2, R', ', Res', '2, Re', '-36.2', 'S-36.', ', S-3', 'Respo', ' S-36', 'ponse', ' Resp', '20.2,']),\n",
       " Row(Log='<S-36.2, S-44.4, Response, 11>', Log_split='S-36.2, S-44.4, Response,', Shingles=['.2, S', 'espon', '2, S-', 'spons', '36.2,', 'onse,', '6.2, ', ', Res', '-36.2', '4, Re', '.4, R', 'S-36.', ' S-44', '4.4, ', 'Respo', '-44.4', 'ponse', ' Resp', ', S-4', '44.4,', 'S-44.']),\n",
       " Row(Log='<S-44.4, S-19.4, Request, 11>', Log_split='S-44.4, S-19.4, Request,', Shingles=['S-19.', 'eques', 'Reque', '-19.4', 'uest,', '4, Re', '.4, R', '.4, S', '19.4,', 'quest', '4, S-', '9.4, ', '4.4, ', 'S-44.', ', Req', '-44.4', ', S-1', '44.4,', ' Requ', ' S-19']),\n",
       " Row(Log='<S-19.4, S-2.3, Request, 11>', Log_split='S-19.4, S-2.3, Request,', Shingles=['S-19.', 'eques', 'Reque', ' S-2.', '2.3, ', '-19.4', 'uest,', '.4, S', '19.4,', 'quest', '4, S-', '9.4, ', '3, Re', 'S-2.3', ', Req', '-2.3,', '.3, R', ' Requ', ', S-2']),\n",
       " Row(Log='<S-2.3, S-19.4, Response, 11>', Log_split='S-2.3, S-19.4, Response,', Shingles=['3, S-', 'S-19.', '.3, S', 'espon', 'spons', 'onse,', '2.3, ', '-19.4', ', Res', '4, Re', '.4, R', '19.4,', '9.4, ', 'Respo', 'S-2.3', '-2.3,', 'ponse', ' Resp', ', S-1', ' S-19']),\n",
       " Row(Log='<S-19.4, S-44.4, Response, 11>', Log_split='S-19.4, S-44.4, Response,', Shingles=['S-19.', 'espon', 'spons', 'onse,', '-19.4', ', Res', '4, Re', '.4, R', '.4, S', '19.4,', ' S-44', '4, S-', '9.4, ', '4.4, ', 'Respo', '-44.4', 'ponse', ' Resp', ', S-4', '44.4,', 'S-44.']),\n",
       " Row(Log='<S-44.4, S-9.3, Request, 11>', Log_split='S-44.4, S-9.3, Request,', Shingles=['eques', 'Reque', ', S-9', '9.3, ', '-9.3,', 'uest,', '.4, S', 'quest', '4, S-', '4.4, ', '3, Re', 'S-9.3', ', Req', '-44.4', ' S-9.', '44.4,', '.3, R', ' Requ', 'S-44.']),\n",
       " Row(Log='<S-9.3, S-44.4, Response, 11>', Log_split='S-9.3, S-44.4, Response,', Shingles=['3, S-', '.3, S', 'espon', 'spons', 'onse,', '9.3, ', '-9.3,', ', Res', '4, Re', '.4, R', ' S-44', '4.4, ', 'S-9.3', 'Respo', '-44.4', 'ponse', ' Resp', ', S-4', '44.4,', 'S-44.']),\n",
       " Row(Log='<S-44.4, S-1.3, Response, 11>', Log_split='S-44.4, S-1.3, Response,', Shingles=['espon', 'spons', 'S-1.3', 'onse,', ', Res', ' S-1.', '.4, S', '1.3, ', '4, S-', '4.4, ', '3, Re', 'Respo', '-44.4', 'ponse', ' Resp', ', S-1', '-1.3,', '44.4,', '.3, R', 'S-44.']),\n",
       " Row(Log='<S-1.3, null, Response, 11>', Log_split='S-1.3, null, Response,', Shingles=['onse,', 'ponse', 'l, Re', 'null,', ', nul', '1.3, ', 'ull, ', ' null', '-1.3,', 'll, R', ', Res', ' Resp', 'espon', '3, nu', 'spons', 'Respo', '.3, n', 'S-1.3']),\n",
       " Row(Log='<null, S-1.2, Request, 12>', Log_split='null, S-1.2, Request,', Shingles=['null,', 'l, S-', 'quest', '1.2, ', 'ull, ', ', S-1', '.2, R', '2, Re', ' Requ', 'S-1.2', 'eques', 'uest,', 'll, S', ' S-1.', '-1.2,', 'Reque', ', Req']),\n",
       " Row(Log='<S-1.2, null, Response, 12>', Log_split='S-1.2, null, Response,', Shingles=['2, nu', '.2, n', 'l, Re', 'onse,', 'null,', ', nul', '1.2, ', 'ull, ', ' null', ' Resp', 'll, R', ', Res', 'espon', 'S-1.2', '-1.2,', 'spons', 'Respo', 'ponse']),\n",
       " Row(Log='<null, S-1.2, Request, 13>', Log_split='null, S-1.2, Request,', Shingles=['null,', 'l, S-', 'quest', '1.2, ', 'ull, ', ', S-1', '.2, R', '2, Re', ' Requ', 'S-1.2', 'eques', 'uest,', 'll, S', ' S-1.', '-1.2,', 'Reque', ', Req']),\n",
       " Row(Log='<S-1.2, S-15.3, Request, 13>', Log_split='S-1.2, S-15.3, Request,', Shingles=['.2, S', '1.2, ', 'eques', '2, S-', 'Reque', '-15.3', 'S-15.', 'uest,', 'S-1.2', '5.3, ', '15.3,', 'quest', '3, Re', ', Req', ', S-1', '-1.2,', ' S-15', '.3, R', ' Requ']),\n",
       " Row(Log='<S-15.3, S-1.2, Response, 13>', Log_split='S-15.3, S-1.2, Response,', Shingles=['3, S-', '1.2, ', '.3, S', 'espon', 'spons', 'onse,', '-15.3', '.2, R', 'S-15.', ', Res', '2, Re', 'S-1.2', ' S-1.', '5.3, ', '15.3,', 'Respo', 'ponse', ' Resp', ', S-1', '-1.2,']),\n",
       " Row(Log='<S-1.2, null, Response, 13>', Log_split='S-1.2, null, Response,', Shingles=['2, nu', '.2, n', 'l, Re', 'onse,', 'null,', ', nul', '1.2, ', 'ull, ', ' null', ' Resp', 'll, R', ', Res', 'espon', 'S-1.2', '-1.2,', 'spons', 'Respo', 'ponse']),\n",
       " Row(Log='<null, S-1.2, Request, 14>', Log_split='null, S-1.2, Request,', Shingles=['null,', 'l, S-', 'quest', '1.2, ', 'ull, ', ', S-1', '.2, R', '2, Re', ' Requ', 'S-1.2', 'eques', 'uest,', 'll, S', ' S-1.', '-1.2,', 'Reque', ', Req']),\n",
       " Row(Log='<S-1.2, S-41.1, Request, 14>', Log_split='S-1.2, S-41.1, Request,', Shingles=['.2, S', '1.2, ', '1, Re', '-41.1', 'eques', '2, S-', 'Reque', '41.1,', '1.1, ', 'uest,', 'S-1.2', 'S-41.', 'quest', ', Req', ', S-4', '-1.2,', ' S-41', '.1, R', ' Requ']),\n",
       " Row(Log='<S-41.1, S-14.2, Request, 14>', Log_split='S-41.1, S-14.2, Request,', Shingles=['-41.1', '-14.2', 'eques', 'Reque', '41.1,', '1.1, ', '.1, S', '.2, R', '2, Re', 'uest,', 'S-41.', 'quest', ' S-14', ', Req', '4.2, ', '1, S-', ', S-1', '14.2,', ' Requ', 'S-14.']),\n",
       " Row(Log='<S-14.2, S-41.1, Response, 14>', Log_split='S-14.2, S-41.1, Response,', Shingles=['.2, S', '1, Re', '-41.1', '-14.2', 'espon', '2, S-', '41.1,', 'spons', 'onse,', '1.1, ', ', Res', 'S-41.', 'Respo', 'ponse', '4.2, ', ' Resp', ', S-4', '14.2,', ' S-41', '.1, R', 'S-14.']),\n",
       " Row(Log='<S-41.1, S-1.2, Response, 14>', Log_split='S-41.1, S-1.2, Response,', Shingles=['1.2, ', '-41.1', 'espon', '41.1,', 'spons', 'onse,', '1.1, ', '.1, S', '.2, R', ', Res', '2, Re', 'S-1.2', ' S-1.', 'S-41.', 'Respo', 'ponse', ' Resp', '1, S-', ', S-1', '-1.2,']),\n",
       " Row(Log='<S-1.2, null, Response, 14>', Log_split='S-1.2, null, Response,', Shingles=['2, nu', '.2, n', 'l, Re', 'onse,', 'null,', ', nul', '1.2, ', 'ull, ', ' null', ' Resp', 'll, R', ', Res', 'espon', 'S-1.2', '-1.2,', 'spons', 'Respo', 'ponse']),\n",
       " Row(Log='<null, S-1.1, Request, 15>', Log_split='null, S-1.1, Request,', Shingles=['1.1, ', 'null,', 'l, S-', 'quest', '1, Re', 'ull, ', ', S-1', '-1.1,', 'S-1.1', ' Requ', 'uest,', 'eques', 'll, S', ' S-1.', 'Reque', '.1, R', ', Req']),\n",
       " Row(Log='<S-1.1, S-38.1, Request, 15>', Log_split='S-1.1, S-38.1, Request,', Shingles=['1, Re', 'eques', 'Reque', '1.1, ', '.1, S', 'S-1.1', 'uest,', ' S-38', 'S-38.', '38.1,', 'quest', ', S-3', '8.1, ', ', Req', '1, S-', '-1.1,', '.1, R', ' Requ', '-38.1']),\n",
       " Row(Log='<S-38.1, S-1.1, Response, 15>', Log_split='S-38.1, S-1.1, Response,', Shingles=['1, Re', 'espon', 'spons', 'onse,', '1.1, ', '.1, S', 'S-1.1', ', Res', ' S-1.', 'S-38.', '38.1,', 'Respo', '8.1, ', 'ponse', ' Resp', '1, S-', ', S-1', '-1.1,', '.1, R', '-38.1']),\n",
       " Row(Log='<S-1.1, null, Response, 15>', Log_split='S-1.1, null, Response,', Shingles=['.1, n', '1.1, ', 'l, Re', 'onse,', 'null,', ', nul', ' Resp', '-1.1,', ' null', 'ull, ', 'S-1.1', 'll, R', ', Res', 'espon', 'spons', 'Respo', '1, nu', 'ponse']),\n",
       " Row(Log='<null, S-1.1, Request, 16>', Log_split='null, S-1.1, Request,', Shingles=['1.1, ', 'null,', 'l, S-', 'quest', '1, Re', 'ull, ', ', S-1', '-1.1,', 'S-1.1', ' Requ', 'uest,', 'eques', 'll, S', ' S-1.', 'Reque', '.1, R', ', Req']),\n",
       " Row(Log='<S-1.1, S-23.3, Request, 16>', Log_split='S-1.1, S-23.3, Request,', Shingles=['eques', 'Reque', '3.3, ', ' S-23', '1.1, ', '.1, S', 'S-1.1', 'uest,', 'S-23.', 'quest', '3, Re', '-23.3', ', Req', '1, S-', '-1.1,', '23.3,', '.3, R', ' Requ', ', S-2']),\n",
       " Row(Log='<S-23.3, S-1.1, Response, 16>', Log_split='S-23.3, S-1.1, Response,', Shingles=['3, S-', '1, Re', '.3, S', 'espon', 'spons', '3.3, ', 'onse,', '1.1, ', 'S-1.1', ', Res', ' S-1.', 'S-23.', 'Respo', '-23.3', 'ponse', ' Resp', '-1.1,', ', S-1', '23.3,', '.1, R']),\n",
       " Row(Log='<S-1.1, null, Response, 16>', Log_split='S-1.1, null, Response,', Shingles=['.1, n', '1.1, ', 'l, Re', 'onse,', 'null,', ', nul', ' Resp', '-1.1,', ' null', 'ull, ', 'S-1.1', 'll, R', ', Res', 'espon', 'spons', 'Respo', '1, nu', 'ponse']),\n",
       " Row(Log='<null, S-1.3, Request, 17>', Log_split='null, S-1.3, Request,', Shingles=['null,', 'l, S-', 'quest', '1.3, ', 'ull, ', ', S-1', '-1.3,', ' Requ', 'uest,', 'eques', '3, Re', 'll, S', ' S-1.', 'Reque', '.3, R', ', Req', 'S-1.3']),\n",
       " Row(Log='<S-1.3, S-26.4, Request, 17>', Log_split='S-1.3, S-26.4, Request,', Shingles=['3, S-', '.3, S', 'eques', 'Reque', 'S-1.3', 'S-26.', 'uest,', '4, Re', '26.4,', '.4, R', '-26.4', 'quest', '1.3, ', ' S-26', '6.4, ', ', Req', '-1.3,', ' Requ', ', S-2']),\n",
       " Row(Log='<S-26.4, S-40.3, Request, 17>', Log_split='S-26.4, S-40.3, Request,', Shingles=['-40.3', ' S-40', 'eques', 'Reque', 'S-26.', '0.3, ', 'uest,', '26.4,', '.4, S', '40.3,', '-26.4', 'quest', '6.4, ', '4, S-', '3, Re', ', Req', ', S-4', 'S-40.', '.3, R', ' Requ']),\n",
       " Row(Log='<S-40.3, S-31.3, Request, 17>', Log_split='S-40.3, S-31.3, Request,', Shingles=['3, S-', '-40.3', '.3, S', 'eques', 'Reque', '31.3,', '0.3, ', 'uest,', '-31.3', '40.3,', 'quest', ' S-31', '1.3, ', ', S-3', '3, Re', ', Req', 'S-31.', 'S-40.', '.3, R', ' Requ']),\n",
       " Row(Log='<S-31.3, S-40.3, Response, 17>', Log_split='S-31.3, S-40.3, Response,', Shingles=['3, S-', '-40.3', '.3, S', ' S-40', 'espon', 'spons', '31.3,', 'onse,', '0.3, ', ', Res', '-31.3', '40.3,', '1.3, ', '3, Re', 'Respo', 'ponse', 'S-31.', ' Resp', ', S-4', 'S-40.', '.3, R']),\n",
       " Row(Log='<S-40.3, S-12.2, Request, 17>', Log_split='S-40.3, S-12.2, Request,', Shingles=['3, S-', '-40.3', '.3, S', 'eques', 'S-12.', 'Reque', '-12.2', '12.2,', '0.3, ', '.2, R', '2.2, ', '2, Re', 'uest,', ' S-12', '40.3,', 'quest', ', Req', ', S-1', 'S-40.', ' Requ']),\n",
       " Row(Log='<S-12.2, S-46.4, Request, 17>', Log_split='S-12.2, S-46.4, Request,', Shingles=['.2, S', 'eques', 'S-12.', '2, S-', 'Reque', '-12.2', '12.2,', '2.2, ', 'uest,', '46.4,', '4, Re', '.4, R', 'S-46.', 'quest', '6.4, ', ' S-46', ', Req', ', S-4', '-46.4', ' Requ']),\n",
       " Row(Log='<S-46.4, S-12.2, Response, 17>', Log_split='S-46.4, S-12.2, Response,', Shingles=['espon', 'S-12.', 'spons', '-12.2', '12.2,', 'onse,', '.2, R', '2.2, ', ', Res', '2, Re', '46.4,', ' S-12', '.4, S', 'S-46.', '6.4, ', '4, S-', 'Respo', 'ponse', ' Resp', ', S-1', '-46.4']),\n",
       " Row(Log='<S-12.2, S-40.3, Response, 17>', Log_split='S-12.2, S-40.3, Response,', Shingles=['.2, S', '-40.3', ' S-40', 'espon', 'S-12.', '2, S-', 'spons', '-12.2', '12.2,', 'onse,', '0.3, ', '2.2, ', ', Res', '40.3,', '3, Re', 'Respo', 'ponse', ' Resp', ', S-4', 'S-40.', '.3, R']),\n",
       " Row(Log='<S-40.3, S-4.3, Request, 17>', Log_split='S-40.3, S-4.3, Request,', Shingles=['3, S-', '-40.3', '.3, S', 'S-4.3', 'eques', 'Reque', '0.3, ', '-4.3,', 'uest,', '40.3,', 'quest', '3, Re', '4.3, ', ', Req', ' S-4.', ', S-4', 'S-40.', '.3, R', ' Requ']),\n",
       " Row(Log='<S-4.3, S-40.3, Response, 17>', Log_split='S-4.3, S-40.3, Response,', Shingles=['3, S-', '-40.3', '.3, S', ' S-40', 'espon', 'S-4.3', 'spons', 'onse,', '0.3, ', '-4.3,', ', Res', '40.3,', '3, Re', '4.3, ', 'Respo', 'ponse', ' Resp', ', S-4', 'S-40.', '.3, R']),\n",
       " Row(Log='<S-40.3, S-26.4, Response, 17>', Log_split='S-40.3, S-26.4, Response,', Shingles=['3, S-', '-40.3', '.3, S', 'espon', 'spons', 'S-26.', 'onse,', '0.3, ', ', Res', '4, Re', '26.4,', '.4, R', '40.3,', '-26.4', ' S-26', '6.4, ', 'Respo', 'ponse', ' Resp', 'S-40.', ', S-2']),\n",
       " Row(Log='<S-26.4, S-1.3, Response, 17>', Log_split='S-26.4, S-1.3, Response,', Shingles=['espon', 'spons', 'S-1.3', 'S-26.', 'onse,', ', Res', ' S-1.', '26.4,', '.4, S', '-26.4', '1.3, ', '6.4, ', '4, S-', '3, Re', 'Respo', 'ponse', ' Resp', ', S-1', '-1.3,', '.3, R']),\n",
       " Row(Log='<S-1.3, null, Response, 17>', Log_split='S-1.3, null, Response,', Shingles=['onse,', 'ponse', 'l, Re', 'null,', ', nul', '1.3, ', 'ull, ', ' null', '-1.3,', 'll, R', ', Res', ' Resp', 'espon', '3, nu', 'spons', 'Respo', '.3, n', 'S-1.3']),\n",
       " Row(Log='<null, S-1.3, Request, 18>', Log_split='null, S-1.3, Request,', Shingles=['null,', 'l, S-', 'quest', '1.3, ', 'ull, ', ', S-1', '-1.3,', ' Requ', 'uest,', 'eques', '3, Re', 'll, S', ' S-1.', 'Reque', '.3, R', ', Req', 'S-1.3']),\n",
       " Row(Log='<S-1.3, S-23.2, Request, 18>', Log_split='S-1.3, S-23.2, Request,', Shingles=['3, S-', '.3, S', 'eques', 'Reque', '23.2,', 'S-1.3', ' S-23', '.2, R', '2, Re', 'uest,', '-23.2', 'S-23.', 'quest', '1.3, ', ', Req', '-1.3,', '3.2, ', ' Requ', ', S-2']),\n",
       " Row(Log='<S-23.2, S-9.2, Request, 18>', Log_split='S-23.2, S-9.2, Request,', Shingles=['.2, S', 'eques', '2, S-', 'Reque', ', S-9', '23.2,', '.2, R', '2, Re', 'uest,', '-23.2', 'S-9.2', 'S-23.', 'quest', ', Req', ' S-9.', '-9.2,', '3.2, ', '9.2, ', ' Requ']),\n",
       " Row(Log='<S-9.2, S-23.2, Response, 18>', Log_split='S-9.2, S-23.2, Response,', Shingles=['.2, S', 'espon', '2, S-', 'spons', '23.2,', ' S-23', 'onse,', '.2, R', ', Res', '2, Re', 'S-9.2', '-23.2', 'S-23.', 'Respo', 'ponse', ' Resp', '-9.2,', '3.2, ', '9.2, ', ', S-2']),\n",
       " Row(Log='<S-23.2, S-1.3, Response, 18>', Log_split='S-23.2, S-1.3, Response,', Shingles=['.2, S', 'espon', '2, S-', 'spons', '23.2,', 'S-1.3', 'onse,', ', Res', '-23.2', ' S-1.', 'S-23.', '1.3, ', '3, Re', 'Respo', 'ponse', ' Resp', ', S-1', '-1.3,', '3.2, ', '.3, R']),\n",
       " Row(Log='<S-1.3, null, Response, 18>', Log_split='S-1.3, null, Response,', Shingles=['onse,', 'ponse', 'l, Re', 'null,', ', nul', '1.3, ', 'ull, ', ' null', '-1.3,', 'll, R', ', Res', ' Resp', 'espon', '3, nu', 'spons', 'Respo', '.3, n', 'S-1.3']),\n",
       " Row(Log='<null, S-1.1, Request, 19>', Log_split='null, S-1.1, Request,', Shingles=['1.1, ', 'null,', 'l, S-', 'quest', '1, Re', 'ull, ', ', S-1', '-1.1,', 'S-1.1', ' Requ', 'uest,', 'eques', 'll, S', ' S-1.', 'Reque', '.1, R', ', Req']),\n",
       " Row(Log='<S-1.1, S-27.1, Request, 19>', Log_split='S-1.1, S-27.1, Request,', Shingles=['1, Re', 'eques', 'Reque', '-27.1', '1.1, ', '.1, S', ' S-27', 'S-1.1', 'S-27.', 'uest,', '27.1,', 'quest', '7.1, ', ', Req', '1, S-', '-1.1,', '.1, R', ' Requ', ', S-2']),\n",
       " Row(Log='<S-27.1, S-1.1, Response, 19>', Log_split='S-27.1, S-1.1, Response,', Shingles=['1, Re', 'espon', 'spons', '-27.1', 'onse,', '1.1, ', '.1, S', 'S-1.1', 'S-27.', ', Res', ' S-1.', '27.1,', '7.1, ', 'Respo', 'ponse', ' Resp', '1, S-', ', S-1', '-1.1,', '.1, R']),\n",
       " Row(Log='<S-1.1, S-5.1, Request, 19>', Log_split='S-1.1, S-5.1, Request,', Shingles=['1.1, ', '.1, S', '-5.1,', 'S-5.1', 'quest', '1, Re', '1, S-', '-1.1,', 'S-1.1', ' S-5.', ' Requ', 'uest,', 'eques', '5.1, ', 'Reque', '.1, R', ', Req', ', S-5']),\n",
       " Row(Log='<S-5.1, S-36.3, Request, 19>', Log_split='S-5.1, S-36.3, Request,', Shingles=['eques', 'Reque', '6.3, ', '.1, S', '-36.3', '36.3,', 'uest,', 'S-36.', '-5.1,', 'quest', ', S-3', '3, Re', ', Req', ' S-36', 'S-5.1', '1, S-', '5.1, ', '.3, R', ' Requ']),\n",
       " Row(Log='<S-36.3, S-5.1, Response, 19>', Log_split='S-36.3, S-5.1, Response,', Shingles=['3, S-', '1, Re', '.3, S', 'espon', 'spons', '6.3, ', 'onse,', '-36.3', '36.3,', ' S-5.', ', Res', 'S-36.', ', S-5', '-5.1,', 'Respo', 'ponse', 'S-5.1', ' Resp', '5.1, ', '.1, R']),\n",
       " Row(Log='<S-5.1, S-1.1, Response, 19>', Log_split='S-5.1, S-1.1, Response,', Shingles=['1, Re', 'espon', 'spons', 'onse,', '1.1, ', '.1, S', 'S-1.1', ', Res', ' S-1.', '-5.1,', 'Respo', 'ponse', 'S-5.1', ' Resp', '1, S-', ', S-1', '-1.1,', '5.1, ', '.1, R']),\n",
       " Row(Log='<S-1.1, S-20.1, Request, 19>', Log_split='S-1.1, S-20.1, Request,', Shingles=['1, Re', '0.1, ', 'S-20.', 'eques', 'Reque', '1.1, ', '.1, S', ' S-20', 'S-1.1', 'uest,', '20.1,', 'quest', '-20.1', ', Req', '1, S-', '-1.1,', '.1, R', ' Requ', ', S-2']),\n",
       " Row(Log='<S-20.1, S-1.1, Response, 19>', Log_split='S-20.1, S-1.1, Response,', Shingles=['1, Re', '0.1, ', 'espon', 'S-20.', 'spons', 'onse,', '1.1, ', '.1, S', 'S-1.1', ', Res', ' S-1.', '20.1,', '-20.1', 'Respo', 'ponse', ' Resp', '1, S-', ', S-1', '-1.1,', '.1, R']),\n",
       " Row(Log='<S-1.1, S-35.1, Request, 19>', Log_split='S-1.1, S-35.1, Request,', Shingles=['1, Re', 'eques', ' S-35', 'Reque', '1.1, ', '.1, S', 'S-1.1', 'uest,', '-35.1', '35.1,', 'S-35.', 'quest', ', S-3', ', Req', '1, S-', '-1.1,', '5.1, ', '.1, R', ' Requ']),\n",
       " Row(Log='<S-35.1, S-1.1, Response, 19>', Log_split='S-35.1, S-1.1, Response,', Shingles=['1, Re', 'espon', 'spons', 'onse,', '1.1, ', '.1, S', 'S-1.1', ', Res', '-35.1', ' S-1.', '35.1,', 'S-35.', 'Respo', 'ponse', ' Resp', '1, S-', ', S-1', '-1.1,', '5.1, ', '.1, R']),\n",
       " Row(Log='<S-1.1, null, Response, 19>', Log_split='S-1.1, null, Response,', Shingles=['.1, n', '1.1, ', 'l, Re', 'onse,', 'null,', ', nul', ' Resp', '-1.1,', ' null', 'ull, ', 'S-1.1', 'll, R', ', Res', 'espon', 'spons', 'Respo', '1, nu', 'ponse']),\n",
       " Row(Log='<S7, S8, Response, 20>', Log_split='S7, S8, Response,', Shingles=[', S8,', 'onse,', ' Resp', 'S8, R', ', Res', ' S8, ', 'espon', '8, Re', '7, S8', 'spons', 'Respo', 'S7, S', 'ponse']),\n",
       " Row(Log='<S7, S8, Response, 30>', Log_split='S7, S8, Response,', Shingles=[', S8,', 'onse,', ' Resp', 'S8, R', ', Res', ' S8, ', 'espon', '8, Re', '7, S8', 'spons', 'Respo', 'S7, S', 'ponse'])]"
      ]
     },
     "execution_count": 252,
     "metadata": {},
     "output_type": "execute_result"
    }
   ],
   "source": [
    "df_shingles.collect()"
   ]
  },
  {
   "cell_type": "code",
   "execution_count": 253,
   "metadata": {},
   "outputs": [
    {
     "name": "stdout",
     "output_type": "stream",
     "text": [
      "root\n",
      " |-- Log: array (nullable = true)\n",
      " |    |-- element: string (containsNull = false)\n",
      " |-- Log_split: string (nullable = true)\n",
      " |-- Shingles: array (nullable = true)\n",
      " |    |-- element: string (containsNull = true)\n",
      "\n",
      "+--------------------+--------------------+--------------------+\n",
      "|                 Log|           Log_split|            Shingles|\n",
      "+--------------------+--------------------+--------------------+\n",
      "|[null, S-1.2, Req...|null, S-1.2, Request|[null,, l, S-, qu...|\n",
      "|[S-1.2, null, Res...|S-1.2, null, Resp...|[2, nu, .2, n, l,...|\n",
      "|[null, S-1.3, Req...|null, S-1.3, Request|[null,, l, S-, qu...|\n",
      "|[S-1.3, S-48.2, R...|S-1.3, S-48.2, Re...|[ S-48, 3, S-, qu...|\n",
      "|[S-48.2, S-27.3, ...|S-48.2, S-27.3, R...|[.2, S, eques, 2,...|\n",
      "|[S-27.3, S-48.2, ...|S-27.3, S-48.2, R...|[3, S-, .3, S, es...|\n",
      "|[S-48.2, S-1.3, R...|S-48.2, S-1.3, Re...|[.2, S, espon, 2,...|\n",
      "|[S-1.3, null, Res...|S-1.3, null, Resp...|[ponse, l, Re, nu...|\n",
      "|[null, S-1.2, Req...|null, S-1.2, Request|[null,, l, S-, qu...|\n",
      "|[S-1.2, null, Res...|S-1.2, null, Resp...|[2, nu, .2, n, l,...|\n",
      "|[null, S-1.3, Req...|null, S-1.3, Request|[null,, l, S-, qu...|\n",
      "|[S-1.3, S-24.3, R...|S-1.3, S-24.3, Re...|[3, S-, , Req, qu...|\n",
      "|[S-24.3, S-17.2, ...|S-24.3, S-17.2, R...|[3, S-, 17.2,, .3...|\n",
      "|[S-17.2, S-28.3, ...|S-17.2, S-28.3, R...|[.2, S, -28.3, 17...|\n",
      "|[S-28.3, S-29.3, ...|S-28.3, S-29.3, R...|[3, S-, -28.3, .3...|\n",
      "|[S-29.3, S-32.1, ...|S-29.3, S-32.1, R...|[3, S-, 1, Re, .3...|\n",
      "|[S-32.1, S-29.3, ...|S-32.1, S-29.3, R...|[espon, spons, 32...|\n",
      "|[S-29.3, S-32.2, ...|S-29.3, S-32.2, R...|[3, S-, .3, S, eq...|\n",
      "|[S-32.2, S-29.3, ...|S-32.2, S-29.3, R...|[.2, S, espon, 2,...|\n",
      "|[S-29.3, S-28.3, ...|S-29.3, S-28.3, R...|[3, S-, -28.3, .3...|\n",
      "+--------------------+--------------------+--------------------+\n",
      "only showing top 20 rows\n",
      "\n",
      "First Server\n",
      "Second Server\n",
      "Communication Type\n",
      "Process ID\n",
      "root\n",
      " |-- Log: array (nullable = true)\n",
      " |    |-- element: string (containsNull = false)\n",
      " |-- Log_split: string (nullable = true)\n",
      " |-- Shingles: array (nullable = true)\n",
      " |    |-- element: string (containsNull = true)\n",
      " |-- First Server: string (nullable = true)\n",
      " |-- Second Server: string (nullable = true)\n",
      " |-- Communication Type: string (nullable = true)\n",
      " |-- Process ID: string (nullable = true)\n",
      "\n",
      "+--------------------+--------------------+--------------------+------------+-------------+------------------+----------+\n",
      "|                 Log|           Log_split|            Shingles|First Server|Second Server|Communication Type|Process ID|\n",
      "+--------------------+--------------------+--------------------+------------+-------------+------------------+----------+\n",
      "|[null, S-1.2, Req...|null, S-1.2, Request|[null,, l, S-, qu...|        null|        S-1.2|           Request|         0|\n",
      "|[S-1.2, null, Res...|S-1.2, null, Resp...|[2, nu, .2, n, l,...|       S-1.2|         null|          Response|         0|\n",
      "|[null, S-1.3, Req...|null, S-1.3, Request|[null,, l, S-, qu...|        null|        S-1.3|           Request|         1|\n",
      "|[S-1.3, S-48.2, R...|S-1.3, S-48.2, Re...|[ S-48, 3, S-, qu...|       S-1.3|       S-48.2|           Request|         1|\n",
      "|[S-48.2, S-27.3, ...|S-48.2, S-27.3, R...|[.2, S, eques, 2,...|      S-48.2|       S-27.3|           Request|         1|\n",
      "|[S-27.3, S-48.2, ...|S-27.3, S-48.2, R...|[3, S-, .3, S, es...|      S-27.3|       S-48.2|          Response|         1|\n",
      "|[S-48.2, S-1.3, R...|S-48.2, S-1.3, Re...|[.2, S, espon, 2,...|      S-48.2|        S-1.3|          Response|         1|\n",
      "|[S-1.3, null, Res...|S-1.3, null, Resp...|[ponse, l, Re, nu...|       S-1.3|         null|          Response|         1|\n",
      "|[null, S-1.2, Req...|null, S-1.2, Request|[null,, l, S-, qu...|        null|        S-1.2|           Request|         2|\n",
      "|[S-1.2, null, Res...|S-1.2, null, Resp...|[2, nu, .2, n, l,...|       S-1.2|         null|          Response|         2|\n",
      "|[null, S-1.3, Req...|null, S-1.3, Request|[null,, l, S-, qu...|        null|        S-1.3|           Request|         3|\n",
      "|[S-1.3, S-24.3, R...|S-1.3, S-24.3, Re...|[3, S-, , Req, qu...|       S-1.3|       S-24.3|           Request|         3|\n",
      "|[S-24.3, S-17.2, ...|S-24.3, S-17.2, R...|[3, S-, 17.2,, .3...|      S-24.3|       S-17.2|           Request|         3|\n",
      "|[S-17.2, S-28.3, ...|S-17.2, S-28.3, R...|[.2, S, -28.3, 17...|      S-17.2|       S-28.3|           Request|         3|\n",
      "|[S-28.3, S-29.3, ...|S-28.3, S-29.3, R...|[3, S-, -28.3, .3...|      S-28.3|       S-29.3|           Request|         3|\n",
      "|[S-29.3, S-32.1, ...|S-29.3, S-32.1, R...|[3, S-, 1, Re, .3...|      S-29.3|       S-32.1|           Request|         3|\n",
      "|[S-32.1, S-29.3, ...|S-32.1, S-29.3, R...|[espon, spons, 32...|      S-32.1|       S-29.3|          Response|         3|\n",
      "|[S-29.3, S-32.2, ...|S-29.3, S-32.2, R...|[3, S-, .3, S, eq...|      S-29.3|       S-32.2|           Request|         3|\n",
      "|[S-32.2, S-29.3, ...|S-32.2, S-29.3, R...|[.2, S, espon, 2,...|      S-32.2|       S-29.3|          Response|         3|\n",
      "|[S-29.3, S-28.3, ...|S-29.3, S-28.3, R...|[3, S-, -28.3, .3...|      S-29.3|       S-28.3|          Response|         3|\n",
      "+--------------------+--------------------+--------------------+------------+-------------+------------------+----------+\n",
      "only showing top 20 rows\n",
      "\n"
     ]
    }
   ],
   "source": [
    "df_shingles = df_shingles.withColumn(\"Log\", regexp_replace(col(\"Log\"), \"[<>]\", \"\"))\n",
    "df_shingles = df_shingles.withColumn(\"Log\", regexp_replace(col(\"Log\"), \",\", \"\"))\n",
    "df_shingles = df_shingles.withColumn(\"Log\", split(col(\"Log\"), \" \"))\n",
    "\n",
    "df_shingles.printSchema()\n",
    "df_shingles.show()\n",
    "\n",
    "columns = [\"First Server\", \"Second Server\", \"Communication Type\", \"Process ID\"]\n",
    "\n",
    "for i in range(len(columns)):\n",
    "    print(columns[i])\n",
    "    df_shingles = df_shingles.withColumn(columns[i], col(\"Log\")[i])\n",
    "\n",
    "df_shingles.printSchema()\n",
    "df_shingles.show()"
   ]
  },
  {
   "cell_type": "code",
   "execution_count": 270,
   "metadata": {},
   "outputs": [],
   "source": [
    "log = udf(lambda x: x[:-1], ArrayType(StringType())) \n",
    "df_shingles = df_shingles.withColumn('Log', log('Log')) "
   ]
  },
  {
   "cell_type": "code",
   "execution_count": 272,
   "metadata": {},
   "outputs": [
    {
     "name": "stdout",
     "output_type": "stream",
     "text": [
      "root\n",
      " |-- Process ID: string (nullable = true)\n",
      " |-- Shingles: array (nullable = false)\n",
      " |    |-- element: array (containsNull = false)\n",
      " |    |    |-- element: string (containsNull = true)\n",
      " |-- Log: array (nullable = false)\n",
      " |    |-- element: array (containsNull = false)\n",
      " |    |    |-- element: string (containsNull = true)\n",
      " |-- Flat shingles: array (nullable = false)\n",
      " |    |-- element: string (containsNull = true)\n",
      "\n"
     ]
    }
   ],
   "source": [
    "grouped_df = df_shingles.groupBy(\"Process ID\").agg(collect_set(\"Shingles\").alias(\"Shingles\"),collect_list(\"Log\").alias(\"Log\"))\n",
    "grouped_df = grouped_df.withColumn(\"Flat shingles\", flatten(col(\"Shingles\")))\n",
    "grouped_df.printSchema()"
   ]
  },
  {
   "cell_type": "code",
   "execution_count": 273,
   "metadata": {},
   "outputs": [
    {
     "name": "stdout",
     "output_type": "stream",
     "text": [
      "root\n",
      " |-- Process ID: string (nullable = true)\n",
      " |-- Characteristic Matrix: vector (nullable = true)\n",
      "\n",
      "+----------+---------------------+\n",
      "|Process ID|Characteristic Matrix|\n",
      "+----------+---------------------+\n",
      "|         7| (229,[0,1,2,3,4,5...|\n",
      "|        15| (229,[0,1,2,3,4,5...|\n",
      "|        11| (229,[0,1,2,3,4,5...|\n",
      "|         3| (229,[0,1,2,3,4,5...|\n",
      "|        30| (229,[0,1,2,3,4,5...|\n",
      "|         8| (229,[0,1,2,3,4,5...|\n",
      "|        16| (229,[0,1,2,3,4,5...|\n",
      "|         0| (229,[0,1,2,3,4,5...|\n",
      "|         5| (229,[0,1,2,3,4,5...|\n",
      "|        18| (229,[0,1,2,3,4,5...|\n",
      "|        17| (229,[0,1,2,3,4,5...|\n",
      "|         6| (229,[0,1,2,3,4,5...|\n",
      "|        19| (229,[0,1,2,3,4,5...|\n",
      "|         9| (229,[0,1,2,3,4,5...|\n",
      "|         1| (229,[0,1,2,3,4,5...|\n",
      "|        20| (229,[0,1,2,3,4,5...|\n",
      "|        10| (229,[0,1,2,3,4,5...|\n",
      "|         4| (229,[0,1,2,3,4,5...|\n",
      "|        12| (229,[0,1,2,3,4,5...|\n",
      "|        13| (229,[0,1,2,3,4,5...|\n",
      "+----------+---------------------+\n",
      "only showing top 20 rows\n",
      "\n",
      "Rows of Characteristic Matrix:  ['Respo', ', Res', ' Resp', 'spons', 'ponse', 'espon', 'eques', 'Reque', 'quest', ', Req', ' Requ', ', S-1', '3, Re', '.3, R', ' S-1.', 'null,', 'ull, ', 'onse,', '3, S-', '.3, S', 'uest,', '1.3, ', 'S-1.3', '-1.3,', '.2, R', '1.1, ', '2, Re', '1.2, ', 'S-1.1', '-1.1,', '1, Re', '.1, R', '-1.2,', 'S-1.2', '2, S-', '.2, S', ', S-2', '.1, S', '1, S-', ' null', 'l, Re', 'll, S', 'll, R', ', nul', 'l, S-', ', S-4', ', S-3', '0.3, ', '.4, R', '4, Re', '.4, S', '5.3, ', 'S-20.', '4, S-', '44.4,', 'S-40.', '4.4, ', 'S-35.', '2, nu', '-40.3', '9.3, ', '-44.4', 'S-32.', 'S-23.', 'S-44.', '40.3,', '.2, n', '5.1, ', '.3, n', '3, nu', '29.3,', '48.2,', '20.1,', '2.3, ', 'S-36.', 'S-29.', '6.4, ', '35.3,', '-29.3', '-48.2', 'S-48.', '0.1, ', '4.3, ', 'S-41.', '2.2, ', 'S-19.', '8.2, ', '9.4, ', '19.4,', '-35.3', '-20.1', '-19.4', '1, nu', ' S-20', '.1, n', '8.3, ', ' S-32', '-28.3', '17.2,', 'S-11.', 'S-28.', '-24.3', '7.2, ', 'S-17.', '-41.1', ' S-44', 'S-26.', 'S-24.', '36.2,', '12.2,', 'S-12.', '6.2, ', '23.2,', 'S-5.1', '41.1,', '-36.2', '-11.2', '-26.4', ' S-35', '-23.2', '24.3,', ' S-23', '-32.3', '32.3,', '-5.1,', '-17.2', '26.4,', 'S-27.', '-12.2', '28.3,', '3.2, ', '11.2,', ' S-40', ' S-48', ' S-19', ' S-41', ' S-29', ' S-36', '6.3, ', '-35.1', ', S-5', '-9.3,', '-46.4', ' S-11', '0.2, ', 'S-9.3', '-23.1', '4.2, ', ' S-26', '32.2,', ' S-5.', '46.4,', '9.2, ', 'S-9.2', '7.3, ', 'S-25.', '-20.2', '-20.3', '-2.3,', '-27.1', '20.2,', '7.1, ', '3.3, ', '38.1,', 'S-38.', '-41.2', 'S-31.', '27.1,', '27.3,', '41.2,', 'S-4.3', '8, Re', '23.1,', '-38.1', 'S-14.', '32.1,', ' S8, ', 'S-45.', ', S-9', 'S8, R', ' S-28', '14.2,', '-32.1', ' S-9.', ' S-27', '-9.2,', '25.1,', '36.3,', 'S-46.', '-23.3', '-15.3', '-27.3', '7, S8', '8.1, ', '20.3,', '15.3,', '-31.3', '-45.3', 'S7, S', '-25.1', '45.3,', '-36.3', 'S-15.', '31.3,', ', S8,', 'S-2.3', ' S-17', '-30.3', '-4.3,', '35.1,', '30.3,', '23.3,', ' S-12', 'S-30.', ' S-24', '2.1, ', '-32.2', '-14.2', '3.1, ', ' S-46', ' S-15', ' S-2.', ' S-31', ' S-25', ' S-4.', ' S-30', ' S-14', ' S-38', ' S-45']\n"
     ]
    }
   ],
   "source": [
    "characteristics = CountVectorizer(inputCol=\"Flat shingles\", outputCol=\"Characteristic Matrix\")\n",
    "\n",
    "model = characteristics.fit(grouped_df)\n",
    "char_matrix = model.transform(grouped_df).select(\"Process ID\", \"Characteristic Matrix\")\n",
    "\n",
    "char_matrix.printSchema()\n",
    "char_matrix.show()\n",
    "\n",
    "shingles = model.vocabulary\n",
    "print(\"Rows of Characteristic Matrix: \", shingles)"
   ]
  },
  {
   "cell_type": "code",
   "execution_count": 274,
   "metadata": {},
   "outputs": [
    {
     "name": "stdout",
     "output_type": "stream",
     "text": [
      "+----------+---------------------+--------------------+\n",
      "|Process ID|Characteristic Matrix|          Signatures|\n",
      "+----------+---------------------+--------------------+\n",
      "|         7| (229,[0,1,2,3,4,5...|[[6.0966673E7], [...|\n",
      "|        15| (229,[0,1,2,3,4,5...|[[6.3456052E7], [...|\n",
      "|        11| (229,[0,1,2,3,4,5...|[[6.1796466E7], [...|\n",
      "|         3| (229,[0,1,2,3,4,5...|[[5.8477294E7], [...|\n",
      "|        30| (229,[0,1,2,3,4,5...|[[1.29949889E8], ...|\n",
      "|         8| (229,[0,1,2,3,4,5...|[[1.29120096E8], ...|\n",
      "|        16| (229,[0,1,2,3,4,5...|[[6.3456052E7], [...|\n",
      "|         0| (229,[0,1,2,3,4,5...|[[1.29120096E8], ...|\n",
      "|         5| (229,[0,1,2,3,4,5...|[[1.29949889E8], ...|\n",
      "|        18| (229,[0,1,2,3,4,5...|[[6.013688E7], [3...|\n",
      "|        17| (229,[0,1,2,3,4,5...|[[1.29949889E8], ...|\n",
      "|         6| (229,[0,1,2,3,4,5...|[[1.29120096E8], ...|\n",
      "|        19| (229,[0,1,2,3,4,5...|[[5.9307087E7], [...|\n",
      "|         9| (229,[0,1,2,3,4,5...|[[1.29120096E8], ...|\n",
      "|         1| (229,[0,1,2,3,4,5...|[[5.9307087E7], [...|\n",
      "|        20| (229,[0,1,2,3,4,5...|[[1.29949889E8], ...|\n",
      "|        10| (229,[0,1,2,3,4,5...|[[6.3456052E7], [...|\n",
      "|         4| (229,[0,1,2,3,4,5...|[[1.29949889E8], ...|\n",
      "|        12| (229,[0,1,2,3,4,5...|[[1.29120096E8], ...|\n",
      "|        13| (229,[0,1,2,3,4,5...|[[1.29120096E8], ...|\n",
      "+----------+---------------------+--------------------+\n",
      "only showing top 20 rows\n",
      "\n"
     ]
    }
   ],
   "source": [
    "minhash = MinHashLSH(inputCol=\"Characteristic Matrix\", outputCol=\"Signatures\", numHashTables=5)\n",
    "\n",
    "# MinHash produces the signatures for the Characteritic matrix \n",
    "# numvHashTables is the number of the hush functioms that we want to use and the lenght of the signature \n",
    "model = minhash.fit(char_matrix)\n",
    "signatures = model.transform(char_matrix)\n",
    "\n",
    "signatures.show()"
   ]
  },
  {
   "cell_type": "code",
   "execution_count": 288,
   "metadata": {},
   "outputs": [
    {
     "name": "stdout",
     "output_type": "stream",
     "text": [
      "+--------------------+--------------------+-------------------+\n",
      "|            datasetA|            datasetB|   Jaccard Distance|\n",
      "+--------------------+--------------------+-------------------+\n",
      "|{12, (229,[0,1,2,...|{0, [[1.29120096E...|0.06666666666666665|\n",
      "|{11, (229,[0,1,2,...|{11, [[6.1796466E...|                0.0|\n",
      "|{2, (229,[0,1,2,3...|{8, [[1.29120096E...|                0.0|\n",
      "|{9, (229,[0,1,2,3...|{9, [[1.29120096E...|                0.0|\n",
      "|{18, (229,[0,1,2,...|{18, [[6.013688E7...|                0.0|\n",
      "|{15, (229,[0,1,2,...|{15, [[6.3456052E...|                0.0|\n",
      "|{5, (229,[0,1,2,3...|{5, [[1.29949889E...|                0.0|\n",
      "|{4, (229,[0,1,2,3...|{4, [[1.29949889E...|                0.0|\n",
      "|{6, (229,[0,1,2,3...|{2, [[1.29120096E...|                0.0|\n",
      "|{12, (229,[0,1,2,...|{2, [[1.29120096E...|0.06666666666666665|\n",
      "|{13, (229,[0,1,2,...|{13, [[1.29120096...|                0.0|\n",
      "|{12, (229,[0,1,2,...|{6, [[1.29120096E...|0.06666666666666665|\n",
      "|{30, (229,[0,1,2,...|{30, [[1.29949889...|                0.0|\n",
      "|{20, (229,[0,1,2,...|{30, [[1.29949889...|                0.0|\n",
      "|{2, (229,[0,1,2,3...|{2, [[1.29120096E...|                0.0|\n",
      "|{7, (229,[0,1,2,3...|{7, [[6.0966673E7...|                0.0|\n",
      "|{12, (229,[0,1,2,...|{8, [[1.29120096E...|0.06666666666666665|\n",
      "|{6, (229,[0,1,2,3...|{6, [[1.29120096E...|                0.0|\n",
      "|{6, (229,[0,1,2,3...|{8, [[1.29120096E...|                0.0|\n",
      "|{8, (229,[0,1,2,3...|{6, [[1.29120096E...|                0.0|\n",
      "+--------------------+--------------------+-------------------+\n",
      "only showing top 20 rows\n",
      "\n"
     ]
    }
   ],
   "source": [
    "# approxSimilarityJoin uses autmatically LSH to find rows that it is most likely \n",
    "# to have same \"Signatures\"\n",
    "# threshold: pairs with Jaccard Distance lower than threshlod\n",
    "similar_pairs = model.approxSimilarityJoin(signatures, signatures, threshold=0.2, distCol=\"Jaccard Distance\")\n",
    "similar_pairs.show()"
   ]
  },
  {
   "cell_type": "code",
   "execution_count": 300,
   "metadata": {},
   "outputs": [
    {
     "data": {
      "text/plain": [
       "44"
      ]
     },
     "execution_count": 300,
     "metadata": {},
     "output_type": "execute_result"
    }
   ],
   "source": [
    "similar_pairs.count()"
   ]
  },
  {
   "cell_type": "code",
   "execution_count": 290,
   "metadata": {},
   "outputs": [],
   "source": [
    "similar_pairs = similar_pairs.select(\"datasetA.Process ID\", \"datasetB.Process ID\", \n",
    "                     \"Jaccard Distance\")\\\n",
    "                        # .filter((col(\"datasetA.Process ID\") != col(\"datasetB.Process ID\")))"
   ]
  },
  {
   "cell_type": "code",
   "execution_count": 291,
   "metadata": {},
   "outputs": [
    {
     "name": "stdout",
     "output_type": "stream",
     "text": [
      "+----------+----------+-------------------+\n",
      "|Process ID|Process ID|   Jaccard Distance|\n",
      "+----------+----------+-------------------+\n",
      "|        12|         0|0.06666666666666665|\n",
      "|        11|        11|                0.0|\n",
      "|         2|         8|                0.0|\n",
      "|         9|         9|                0.0|\n",
      "|        18|        18|                0.0|\n",
      "|        15|        15|                0.0|\n",
      "|         5|         5|                0.0|\n",
      "|         4|         4|                0.0|\n",
      "|         6|         2|                0.0|\n",
      "|        12|         2|0.06666666666666665|\n",
      "|        13|        13|                0.0|\n",
      "|        12|         6|0.06666666666666665|\n",
      "|        30|        30|                0.0|\n",
      "|        20|        30|                0.0|\n",
      "|         2|         2|                0.0|\n",
      "|         7|         7|                0.0|\n",
      "|        12|         8|0.06666666666666665|\n",
      "|         6|         6|                0.0|\n",
      "|         6|         8|                0.0|\n",
      "|         8|         6|                0.0|\n",
      "+----------+----------+-------------------+\n",
      "only showing top 20 rows\n",
      "\n"
     ]
    }
   ],
   "source": [
    "similar_pairs.show()"
   ]
  },
  {
   "cell_type": "code",
   "execution_count": 292,
   "metadata": {},
   "outputs": [],
   "source": [
    "new_cols = [\"Process ID A\", \"Process ID B\", \"Jaccard Distance\"]\n",
    "similar_pairs = similar_pairs.toDF(*new_cols)"
   ]
  },
  {
   "cell_type": "code",
   "execution_count": 293,
   "metadata": {},
   "outputs": [
    {
     "name": "stdout",
     "output_type": "stream",
     "text": [
      "+------------+------------+-------------------+\n",
      "|Process ID A|Process ID B|   Jaccard Distance|\n",
      "+------------+------------+-------------------+\n",
      "|          12|           0|0.06666666666666665|\n",
      "|          11|          11|                0.0|\n",
      "|           2|           8|                0.0|\n",
      "|           9|           9|                0.0|\n",
      "|          18|          18|                0.0|\n",
      "|          15|          15|                0.0|\n",
      "|           5|           5|                0.0|\n",
      "|           4|           4|                0.0|\n",
      "|           6|           2|                0.0|\n",
      "|          12|           2|0.06666666666666665|\n",
      "|          13|          13|                0.0|\n",
      "|          12|           6|0.06666666666666665|\n",
      "|          30|          30|                0.0|\n",
      "|          20|          30|                0.0|\n",
      "|           2|           2|                0.0|\n",
      "|           7|           7|                0.0|\n",
      "|          12|           8|0.06666666666666665|\n",
      "|           6|           6|                0.0|\n",
      "|           6|           8|                0.0|\n",
      "|           8|           6|                0.0|\n",
      "+------------+------------+-------------------+\n",
      "only showing top 20 rows\n",
      "\n"
     ]
    }
   ],
   "source": [
    "similar_pairs.show()"
   ]
  },
  {
   "cell_type": "code",
   "execution_count": 294,
   "metadata": {},
   "outputs": [
    {
     "name": "stdout",
     "output_type": "stream",
     "text": [
      "+----------+--------------------+--------------------+--------------------+\n",
      "|Process ID|            Shingles|                 Log|       Flat shingles|\n",
      "+----------+--------------------+--------------------+--------------------+\n",
      "|         7|[[ S-23, 1.1, , ....|[[null, S-1.1, Re...|[ S-23, 1.1, , .1...|\n",
      "|        15|[[.1, n, 1.1, , l...|[[null, S-1.1, Re...|[.1, n, 1.1, , l,...|\n",
      "|        11|[[onse,, ponse, l...|[[null, S-1.3, Re...|[onse,, ponse, l,...|\n",
      "|         3|[[3, S-, -28.3, ....|[[null, S-1.3, Re...|[3, S-, -28.3, .3...|\n",
      "|        30|[[, S8,, onse,,  ...|[[S7, S8, Response]]|[, S8,, onse,,  R...|\n",
      "|         8|[[null,, l, S-, q...|[[null, S-1.2, Re...|[null,, l, S-, qu...|\n",
      "|        16|[[.1, n, 1.1, , l...|[[null, S-1.1, Re...|[.1, n, 1.1, , l,...|\n",
      "|         0|[[null,, l, S-, q...|[[null, S-1.2, Re...|[null,, l, S-, qu...|\n",
      "|         5|[[3, S-, quest, 1...|[[null, S-1.3, Re...|[3, S-, quest, 1....|\n",
      "|        18|[[onse,, ponse, l...|[[null, S-1.3, Re...|[onse,, ponse, l,...|\n",
      "|        17|[[onse,, ponse, l...|[[null, S-1.3, Re...|[onse,, ponse, l,...|\n",
      "|         6|[[null,, l, S-, q...|[[null, S-1.2, Re...|[null,, l, S-, qu...|\n",
      "|        19|[[.1, n, 1.1, , l...|[[null, S-1.1, Re...|[.1, n, 1.1, , l,...|\n",
      "|         9|[[.2, S, quest, 1...|[[null, S-1.2, Re...|[.2, S, quest, 1....|\n",
      "|         1|[[3, S-, .3, S, e...|[[null, S-1.3, Re...|[3, S-, .3, S, es...|\n",
      "|        20|[[, S8,, onse,,  ...|[[S7, S8, Response]]|[, S8,, onse,,  R...|\n",
      "|        10|[[.1, n, 1.1, , l...|[[null, S-1.1, Re...|[.1, n, 1.1, , l,...|\n",
      "|         4|[[3, S-, .3, S, e...|[[null, S-1.3, Re...|[3, S-, .3, S, es...|\n",
      "|        12|[[null,, l, S-, q...|[[null, S-1.2, Re...|[null,, l, S-, qu...|\n",
      "|        13|[[null,, l, S-, q...|[[null, S-1.2, Re...|[null,, l, S-, qu...|\n",
      "+----------+--------------------+--------------------+--------------------+\n",
      "only showing top 20 rows\n",
      "\n"
     ]
    }
   ],
   "source": [
    "grouped_df.show()"
   ]
  },
  {
   "cell_type": "code",
   "execution_count": 295,
   "metadata": {},
   "outputs": [],
   "source": [
    "pairs = similar_pairs.join(grouped_df, similar_pairs[\"Process ID A\"] == col(\"Process ID\")) \\\n",
    "                     .select(col(\"Process ID A\"), col(\"Process ID B\"), col(\"Log\").alias(\"Log A\")) \\\n",
    "                     .join(grouped_df, similar_pairs[\"Process ID B\"] == col(\"Process ID\")) \\\n",
    "                     .select(col(\"Process ID A\"), col(\"Process ID B\"), col(\"Log A\"), col(\"Log\").alias(\"Log B\"))"
   ]
  },
  {
   "cell_type": "code",
   "execution_count": 296,
   "metadata": {},
   "outputs": [
    {
     "data": {
      "text/plain": [
       "[Row(Process ID A='12', Process ID B='0', Log A=[['null', 'S-1.2', 'Request'], ['S-1.2', 'null', 'Response']], Log B=[['null', 'S-1.2', 'Request'], ['S-1.2', 'null', 'Response']]),\n",
       " Row(Process ID A='11', Process ID B='11', Log A=[['null', 'S-1.3', 'Request'], ['S-1.3', 'S-44.4', 'Request'], ['S-44.4', 'S-36.2', 'Request'], ['S-36.2', 'S-20.2', 'Request'], ['S-20.2', 'S-36.2', 'Response'], ['S-36.2', 'S-44.4', 'Response'], ['S-44.4', 'S-19.4', 'Request'], ['S-19.4', 'S-2.3', 'Request'], ['S-2.3', 'S-19.4', 'Response'], ['S-19.4', 'S-44.4', 'Response'], ['S-44.4', 'S-9.3', 'Request'], ['S-9.3', 'S-44.4', 'Response'], ['S-44.4', 'S-1.3', 'Response'], ['S-1.3', 'null', 'Response']], Log B=[['null', 'S-1.3', 'Request'], ['S-1.3', 'S-44.4', 'Request'], ['S-44.4', 'S-36.2', 'Request'], ['S-36.2', 'S-20.2', 'Request'], ['S-20.2', 'S-36.2', 'Response'], ['S-36.2', 'S-44.4', 'Response'], ['S-44.4', 'S-19.4', 'Request'], ['S-19.4', 'S-2.3', 'Request'], ['S-2.3', 'S-19.4', 'Response'], ['S-19.4', 'S-44.4', 'Response'], ['S-44.4', 'S-9.3', 'Request'], ['S-9.3', 'S-44.4', 'Response'], ['S-44.4', 'S-1.3', 'Response'], ['S-1.3', 'null', 'Response']]),\n",
       " Row(Process ID A='2', Process ID B='8', Log A=[['null', 'S-1.2', 'Request'], ['S-1.2', 'null', 'Response']], Log B=[['null', 'S-1.2', 'Request'], ['S-1.2', 'null', 'Response']]),\n",
       " Row(Process ID A='9', Process ID B='9', Log A=[['null', 'S-1.2', 'Request'], ['S-1.2', 'S-48.2', 'Request'], ['S-48.2', 'S-1.2', 'Response'], ['S-1.2', 'S-11.2', 'Request'], ['S-11.2', 'S-25.1', 'Request'], ['S-25.1', 'S-11.2', 'Response'], ['S-11.2', 'S-1.2', 'Response'], ['S-1.2', 'null', 'Response']], Log B=[['null', 'S-1.2', 'Request'], ['S-1.2', 'S-48.2', 'Request'], ['S-48.2', 'S-1.2', 'Response'], ['S-1.2', 'S-11.2', 'Request'], ['S-11.2', 'S-25.1', 'Request'], ['S-25.1', 'S-11.2', 'Response'], ['S-11.2', 'S-1.2', 'Response'], ['S-1.2', 'null', 'Response']]),\n",
       " Row(Process ID A='18', Process ID B='18', Log A=[['null', 'S-1.3', 'Request'], ['S-1.3', 'S-23.2', 'Request'], ['S-23.2', 'S-9.2', 'Request'], ['S-9.2', 'S-23.2', 'Response'], ['S-23.2', 'S-1.3', 'Response'], ['S-1.3', 'null', 'Response']], Log B=[['null', 'S-1.3', 'Request'], ['S-1.3', 'S-23.2', 'Request'], ['S-23.2', 'S-9.2', 'Request'], ['S-9.2', 'S-23.2', 'Response'], ['S-23.2', 'S-1.3', 'Response'], ['S-1.3', 'null', 'Response']]),\n",
       " Row(Process ID A='15', Process ID B='15', Log A=[['null', 'S-1.1', 'Request'], ['S-1.1', 'S-38.1', 'Request'], ['S-38.1', 'S-1.1', 'Response'], ['S-1.1', 'null', 'Response']], Log B=[['null', 'S-1.1', 'Request'], ['S-1.1', 'S-38.1', 'Request'], ['S-38.1', 'S-1.1', 'Response'], ['S-1.1', 'null', 'Response']]),\n",
       " Row(Process ID A='5', Process ID B='5', Log A=[['null', 'S-1.3', 'Request'], ['S-1.3', 'S-45.3', 'Request'], ['S-45.3', 'S-1.3', 'Response'], ['S-1.3', 'S-41.2', 'Request'], ['S-41.2', 'S-1.3', 'Response'], ['S-1.3', 'null', 'Response']], Log B=[['null', 'S-1.3', 'Request'], ['S-1.3', 'S-45.3', 'Request'], ['S-45.3', 'S-1.3', 'Response'], ['S-1.3', 'S-41.2', 'Request'], ['S-41.2', 'S-1.3', 'Response'], ['S-1.3', 'null', 'Response']]),\n",
       " Row(Process ID A='4', Process ID B='4', Log A=[['null', 'S-1.3', 'Request'], ['S-1.3', 'S-20.3', 'Request'], ['S-20.3', 'S-1.3', 'Response'], ['S-1.3', 'null', 'Response']], Log B=[['null', 'S-1.3', 'Request'], ['S-1.3', 'S-20.3', 'Request'], ['S-20.3', 'S-1.3', 'Response'], ['S-1.3', 'null', 'Response']]),\n",
       " Row(Process ID A='6', Process ID B='2', Log A=[['null', 'S-1.2', 'Request'], ['S-1.2', 'null', 'Response']], Log B=[['null', 'S-1.2', 'Request'], ['S-1.2', 'null', 'Response']]),\n",
       " Row(Process ID A='12', Process ID B='2', Log A=[['null', 'S-1.2', 'Request'], ['S-1.2', 'null', 'Response']], Log B=[['null', 'S-1.2', 'Request'], ['S-1.2', 'null', 'Response']]),\n",
       " Row(Process ID A='13', Process ID B='13', Log A=[['null', 'S-1.2', 'Request'], ['S-1.2', 'S-15.3', 'Request'], ['S-15.3', 'S-1.2', 'Response'], ['S-1.2', 'null', 'Response']], Log B=[['null', 'S-1.2', 'Request'], ['S-1.2', 'S-15.3', 'Request'], ['S-15.3', 'S-1.2', 'Response'], ['S-1.2', 'null', 'Response']]),\n",
       " Row(Process ID A='12', Process ID B='6', Log A=[['null', 'S-1.2', 'Request'], ['S-1.2', 'null', 'Response']], Log B=[['null', 'S-1.2', 'Request'], ['S-1.2', 'null', 'Response']]),\n",
       " Row(Process ID A='30', Process ID B='30', Log A=[['S7', 'S8', 'Response']], Log B=[['S7', 'S8', 'Response']]),\n",
       " Row(Process ID A='20', Process ID B='30', Log A=[['S7', 'S8', 'Response']], Log B=[['S7', 'S8', 'Response']]),\n",
       " Row(Process ID A='2', Process ID B='2', Log A=[['null', 'S-1.2', 'Request'], ['S-1.2', 'null', 'Response']], Log B=[['null', 'S-1.2', 'Request'], ['S-1.2', 'null', 'Response']]),\n",
       " Row(Process ID A='7', Process ID B='7', Log A=[['null', 'S-1.1', 'Request'], ['S-1.1', 'S-23.1', 'Request'], ['S-23.1', 'S-1.1', 'Response'], ['S-1.1', 'S-35.3', 'Request'], ['S-35.3', 'S-32.3', 'Request'], ['S-32.3', 'S-20.1', 'Request'], ['S-20.1', 'S-19.4', 'Request'], ['S-19.4', 'S-20.1', 'Response'], ['S-20.1', 'S-32.3', 'Response'], ['S-32.3', 'S-35.3', 'Response'], ['S-35.3', 'S-30.3', 'Request'], ['S-30.3', 'S-35.3', 'Response'], ['S-35.3', 'S-1.1', 'Response'], ['S-1.1', 'null', 'Response']], Log B=[['null', 'S-1.1', 'Request'], ['S-1.1', 'S-23.1', 'Request'], ['S-23.1', 'S-1.1', 'Response'], ['S-1.1', 'S-35.3', 'Request'], ['S-35.3', 'S-32.3', 'Request'], ['S-32.3', 'S-20.1', 'Request'], ['S-20.1', 'S-19.4', 'Request'], ['S-19.4', 'S-20.1', 'Response'], ['S-20.1', 'S-32.3', 'Response'], ['S-32.3', 'S-35.3', 'Response'], ['S-35.3', 'S-30.3', 'Request'], ['S-30.3', 'S-35.3', 'Response'], ['S-35.3', 'S-1.1', 'Response'], ['S-1.1', 'null', 'Response']]),\n",
       " Row(Process ID A='12', Process ID B='8', Log A=[['null', 'S-1.2', 'Request'], ['S-1.2', 'null', 'Response']], Log B=[['null', 'S-1.2', 'Request'], ['S-1.2', 'null', 'Response']]),\n",
       " Row(Process ID A='6', Process ID B='6', Log A=[['null', 'S-1.2', 'Request'], ['S-1.2', 'null', 'Response']], Log B=[['null', 'S-1.2', 'Request'], ['S-1.2', 'null', 'Response']]),\n",
       " Row(Process ID A='6', Process ID B='8', Log A=[['null', 'S-1.2', 'Request'], ['S-1.2', 'null', 'Response']], Log B=[['null', 'S-1.2', 'Request'], ['S-1.2', 'null', 'Response']]),\n",
       " Row(Process ID A='8', Process ID B='6', Log A=[['null', 'S-1.2', 'Request'], ['S-1.2', 'null', 'Response']], Log B=[['null', 'S-1.2', 'Request'], ['S-1.2', 'null', 'Response']]),\n",
       " Row(Process ID A='0', Process ID B='12', Log A=[['null', 'S-1.2', 'Request'], ['S-1.2', 'null', 'Response']], Log B=[['null', 'S-1.2', 'Request'], ['S-1.2', 'null', 'Response']]),\n",
       " Row(Process ID A='30', Process ID B='20', Log A=[['S7', 'S8', 'Response']], Log B=[['S7', 'S8', 'Response']]),\n",
       " Row(Process ID A='16', Process ID B='16', Log A=[['null', 'S-1.1', 'Request'], ['S-1.1', 'S-23.3', 'Request'], ['S-23.3', 'S-1.1', 'Response'], ['S-1.1', 'null', 'Response']], Log B=[['null', 'S-1.1', 'Request'], ['S-1.1', 'S-23.3', 'Request'], ['S-23.3', 'S-1.1', 'Response'], ['S-1.1', 'null', 'Response']]),\n",
       " Row(Process ID A='8', Process ID B='8', Log A=[['null', 'S-1.2', 'Request'], ['S-1.2', 'null', 'Response']], Log B=[['null', 'S-1.2', 'Request'], ['S-1.2', 'null', 'Response']]),\n",
       " Row(Process ID A='20', Process ID B='20', Log A=[['S7', 'S8', 'Response']], Log B=[['S7', 'S8', 'Response']]),\n",
       " Row(Process ID A='8', Process ID B='0', Log A=[['null', 'S-1.2', 'Request'], ['S-1.2', 'null', 'Response']], Log B=[['null', 'S-1.2', 'Request'], ['S-1.2', 'null', 'Response']]),\n",
       " Row(Process ID A='6', Process ID B='12', Log A=[['null', 'S-1.2', 'Request'], ['S-1.2', 'null', 'Response']], Log B=[['null', 'S-1.2', 'Request'], ['S-1.2', 'null', 'Response']]),\n",
       " Row(Process ID A='2', Process ID B='0', Log A=[['null', 'S-1.2', 'Request'], ['S-1.2', 'null', 'Response']], Log B=[['null', 'S-1.2', 'Request'], ['S-1.2', 'null', 'Response']]),\n",
       " Row(Process ID A='6', Process ID B='0', Log A=[['null', 'S-1.2', 'Request'], ['S-1.2', 'null', 'Response']], Log B=[['null', 'S-1.2', 'Request'], ['S-1.2', 'null', 'Response']]),\n",
       " Row(Process ID A='2', Process ID B='6', Log A=[['null', 'S-1.2', 'Request'], ['S-1.2', 'null', 'Response']], Log B=[['null', 'S-1.2', 'Request'], ['S-1.2', 'null', 'Response']]),\n",
       " Row(Process ID A='10', Process ID B='10', Log A=[['null', 'S-1.1', 'Request'], ['S-1.1', 'null', 'Response']], Log B=[['null', 'S-1.1', 'Request'], ['S-1.1', 'null', 'Response']]),\n",
       " Row(Process ID A='19', Process ID B='19', Log A=[['null', 'S-1.1', 'Request'], ['S-1.1', 'S-27.1', 'Request'], ['S-27.1', 'S-1.1', 'Response'], ['S-1.1', 'S-5.1', 'Request'], ['S-5.1', 'S-36.3', 'Request'], ['S-36.3', 'S-5.1', 'Response'], ['S-5.1', 'S-1.1', 'Response'], ['S-1.1', 'S-20.1', 'Request'], ['S-20.1', 'S-1.1', 'Response'], ['S-1.1', 'S-35.1', 'Request'], ['S-35.1', 'S-1.1', 'Response'], ['S-1.1', 'null', 'Response']], Log B=[['null', 'S-1.1', 'Request'], ['S-1.1', 'S-27.1', 'Request'], ['S-27.1', 'S-1.1', 'Response'], ['S-1.1', 'S-5.1', 'Request'], ['S-5.1', 'S-36.3', 'Request'], ['S-36.3', 'S-5.1', 'Response'], ['S-5.1', 'S-1.1', 'Response'], ['S-1.1', 'S-20.1', 'Request'], ['S-20.1', 'S-1.1', 'Response'], ['S-1.1', 'S-35.1', 'Request'], ['S-35.1', 'S-1.1', 'Response'], ['S-1.1', 'null', 'Response']]),\n",
       " Row(Process ID A='8', Process ID B='2', Log A=[['null', 'S-1.2', 'Request'], ['S-1.2', 'null', 'Response']], Log B=[['null', 'S-1.2', 'Request'], ['S-1.2', 'null', 'Response']]),\n",
       " Row(Process ID A='2', Process ID B='12', Log A=[['null', 'S-1.2', 'Request'], ['S-1.2', 'null', 'Response']], Log B=[['null', 'S-1.2', 'Request'], ['S-1.2', 'null', 'Response']]),\n",
       " Row(Process ID A='0', Process ID B='0', Log A=[['null', 'S-1.2', 'Request'], ['S-1.2', 'null', 'Response']], Log B=[['null', 'S-1.2', 'Request'], ['S-1.2', 'null', 'Response']]),\n",
       " Row(Process ID A='14', Process ID B='14', Log A=[['null', 'S-1.2', 'Request'], ['S-1.2', 'S-41.1', 'Request'], ['S-41.1', 'S-14.2', 'Request'], ['S-14.2', 'S-41.1', 'Response'], ['S-41.1', 'S-1.2', 'Response'], ['S-1.2', 'null', 'Response']], Log B=[['null', 'S-1.2', 'Request'], ['S-1.2', 'S-41.1', 'Request'], ['S-41.1', 'S-14.2', 'Request'], ['S-14.2', 'S-41.1', 'Response'], ['S-41.1', 'S-1.2', 'Response'], ['S-1.2', 'null', 'Response']]),\n",
       " Row(Process ID A='12', Process ID B='12', Log A=[['null', 'S-1.2', 'Request'], ['S-1.2', 'null', 'Response']], Log B=[['null', 'S-1.2', 'Request'], ['S-1.2', 'null', 'Response']]),\n",
       " Row(Process ID A='3', Process ID B='3', Log A=[['null', 'S-1.3', 'Request'], ['S-1.3', 'S-24.3', 'Request'], ['S-24.3', 'S-17.2', 'Request'], ['S-17.2', 'S-28.3', 'Request'], ['S-28.3', 'S-29.3', 'Request'], ['S-29.3', 'S-32.1', 'Request'], ['S-32.1', 'S-29.3', 'Response'], ['S-29.3', 'S-32.2', 'Request'], ['S-32.2', 'S-29.3', 'Response'], ['S-29.3', 'S-28.3', 'Response'], ['S-28.3', 'S-17.2', 'Response'], ['S-17.2', 'S-24.3', 'Response'], ['S-24.3', 'S-1.3', 'Response'], ['S-1.3', 'null', 'Response']], Log B=[['null', 'S-1.3', 'Request'], ['S-1.3', 'S-24.3', 'Request'], ['S-24.3', 'S-17.2', 'Request'], ['S-17.2', 'S-28.3', 'Request'], ['S-28.3', 'S-29.3', 'Request'], ['S-29.3', 'S-32.1', 'Request'], ['S-32.1', 'S-29.3', 'Response'], ['S-29.3', 'S-32.2', 'Request'], ['S-32.2', 'S-29.3', 'Response'], ['S-29.3', 'S-28.3', 'Response'], ['S-28.3', 'S-17.2', 'Response'], ['S-17.2', 'S-24.3', 'Response'], ['S-24.3', 'S-1.3', 'Response'], ['S-1.3', 'null', 'Response']]),\n",
       " Row(Process ID A='0', Process ID B='8', Log A=[['null', 'S-1.2', 'Request'], ['S-1.2', 'null', 'Response']], Log B=[['null', 'S-1.2', 'Request'], ['S-1.2', 'null', 'Response']]),\n",
       " Row(Process ID A='0', Process ID B='2', Log A=[['null', 'S-1.2', 'Request'], ['S-1.2', 'null', 'Response']], Log B=[['null', 'S-1.2', 'Request'], ['S-1.2', 'null', 'Response']]),\n",
       " Row(Process ID A='8', Process ID B='12', Log A=[['null', 'S-1.2', 'Request'], ['S-1.2', 'null', 'Response']], Log B=[['null', 'S-1.2', 'Request'], ['S-1.2', 'null', 'Response']]),\n",
       " Row(Process ID A='0', Process ID B='6', Log A=[['null', 'S-1.2', 'Request'], ['S-1.2', 'null', 'Response']], Log B=[['null', 'S-1.2', 'Request'], ['S-1.2', 'null', 'Response']]),\n",
       " Row(Process ID A='1', Process ID B='1', Log A=[['null', 'S-1.3', 'Request'], ['S-1.3', 'S-48.2', 'Request'], ['S-48.2', 'S-27.3', 'Request'], ['S-27.3', 'S-48.2', 'Response'], ['S-48.2', 'S-1.3', 'Response'], ['S-1.3', 'null', 'Response']], Log B=[['null', 'S-1.3', 'Request'], ['S-1.3', 'S-48.2', 'Request'], ['S-48.2', 'S-27.3', 'Request'], ['S-27.3', 'S-48.2', 'Response'], ['S-48.2', 'S-1.3', 'Response'], ['S-1.3', 'null', 'Response']]),\n",
       " Row(Process ID A='17', Process ID B='17', Log A=[['null', 'S-1.3', 'Request'], ['S-1.3', 'S-26.4', 'Request'], ['S-26.4', 'S-40.3', 'Request'], ['S-40.3', 'S-31.3', 'Request'], ['S-31.3', 'S-40.3', 'Response'], ['S-40.3', 'S-12.2', 'Request'], ['S-12.2', 'S-46.4', 'Request'], ['S-46.4', 'S-12.2', 'Response'], ['S-12.2', 'S-40.3', 'Response'], ['S-40.3', 'S-4.3', 'Request'], ['S-4.3', 'S-40.3', 'Response'], ['S-40.3', 'S-26.4', 'Response'], ['S-26.4', 'S-1.3', 'Response'], ['S-1.3', 'null', 'Response']], Log B=[['null', 'S-1.3', 'Request'], ['S-1.3', 'S-26.4', 'Request'], ['S-26.4', 'S-40.3', 'Request'], ['S-40.3', 'S-31.3', 'Request'], ['S-31.3', 'S-40.3', 'Response'], ['S-40.3', 'S-12.2', 'Request'], ['S-12.2', 'S-46.4', 'Request'], ['S-46.4', 'S-12.2', 'Response'], ['S-12.2', 'S-40.3', 'Response'], ['S-40.3', 'S-4.3', 'Request'], ['S-4.3', 'S-40.3', 'Response'], ['S-40.3', 'S-26.4', 'Response'], ['S-26.4', 'S-1.3', 'Response'], ['S-1.3', 'null', 'Response']])]"
      ]
     },
     "execution_count": 296,
     "metadata": {},
     "output_type": "execute_result"
    }
   ],
   "source": [
    "pairs.collect()"
   ]
  },
  {
   "cell_type": "code",
   "execution_count": 297,
   "metadata": {},
   "outputs": [],
   "source": [
    "def original_check(x,y):\n",
    "    return x==y\n",
    "\n",
    "orifinal_checking = udf(original_check, BooleanType())\n",
    "same_pairs = pairs.filter(orifinal_checking(col(\"Log A\"), col(\"Log B\")))"
   ]
  },
  {
   "cell_type": "code",
   "execution_count": 298,
   "metadata": {},
   "outputs": [],
   "source": [
    "same_pairs = same_pairs.groupBy(\"Log A\").agg(collect_set(\"Process ID A\"))"
   ]
  },
  {
   "cell_type": "code",
   "execution_count": 299,
   "metadata": {},
   "outputs": [
    {
     "name": "stdout",
     "output_type": "stream",
     "text": [
      "+--------------------+-------------------------+\n",
      "|               Log A|collect_set(Process ID A)|\n",
      "+--------------------+-------------------------+\n",
      "|[[null, S-1.3, Re...|                     [17]|\n",
      "|[[null, S-1.1, Re...|                     [19]|\n",
      "|[[null, S-1.3, Re...|                     [18]|\n",
      "|[[null, S-1.2, Re...|         [12, 2, 8, 6, 0]|\n",
      "|[[null, S-1.3, Re...|                     [11]|\n",
      "|[[null, S-1.3, Re...|                      [4]|\n",
      "|[[null, S-1.1, Re...|                     [16]|\n",
      "|[[null, S-1.2, Re...|                      [9]|\n",
      "|[[null, S-1.1, Re...|                     [10]|\n",
      "|[[null, S-1.2, Re...|                     [14]|\n",
      "|[[null, S-1.3, Re...|                      [3]|\n",
      "|[[S7, S8, Response]]|                 [20, 30]|\n",
      "|[[null, S-1.3, Re...|                      [5]|\n",
      "|[[null, S-1.1, Re...|                      [7]|\n",
      "|[[null, S-1.2, Re...|                     [13]|\n",
      "|[[null, S-1.1, Re...|                     [15]|\n",
      "|[[null, S-1.3, Re...|                      [1]|\n",
      "+--------------------+-------------------------+\n",
      "\n"
     ]
    }
   ],
   "source": [
    "same_pairs.show()"
   ]
  }
 ],
 "metadata": {
  "kernelspec": {
   "display_name": "data_intensive_systems",
   "language": "python",
   "name": "python3"
  },
  "language_info": {
   "codemirror_mode": {
    "name": "ipython",
    "version": 3
   },
   "file_extension": ".py",
   "mimetype": "text/x-python",
   "name": "python",
   "nbconvert_exporter": "python",
   "pygments_lexer": "ipython3",
   "version": "3.11.9"
  }
 },
 "nbformat": 4,
 "nbformat_minor": 2
}
