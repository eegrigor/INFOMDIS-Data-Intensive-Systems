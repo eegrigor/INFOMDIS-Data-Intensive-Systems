{
 "cells": [
  {
   "cell_type": "markdown",
   "metadata": {},
   "source": [
    "# Task 1"
   ]
  },
  {
   "cell_type": "code",
   "execution_count": 1,
   "metadata": {},
   "outputs": [],
   "source": [
    "import pyspark\n",
    "from pyspark import SparkContext, SparkConf\n",
    "from pyspark.sql import SparkSession\n",
    "import pandas as pd \n",
    "import numpy as np \n",
    "from pyspark.sql.functions import split, col, lit, regexp_replace, collect_list, explode, concat, collect_set, array_union, flatten\n",
    "from pyspark.ml.feature import CountVectorizer\n",
    "from pyspark.ml.feature import MinHashLSH\n",
    "from pyspark.ml.linalg import Vectors\n",
    "from pyspark.sql import SparkSession\n",
    "from pyspark.sql.functions import col, udf\n",
    "from pyspark.sql.types import ArrayType, StringType, BooleanType\n",
    "\n",
    "import time\n",
    "import random\n",
    "import subprocess"
   ]
  },
  {
   "cell_type": "markdown",
   "metadata": {},
   "source": [
    "### Configure Spark"
   ]
  },
  {
   "cell_type": "code",
   "execution_count": 2,
   "metadata": {},
   "outputs": [],
   "source": [
    "partition = 32"
   ]
  },
  {
   "cell_type": "code",
   "execution_count": 3,
   "metadata": {},
   "outputs": [
    {
     "name": "stderr",
     "output_type": "stream",
     "text": [
      "24/06/30 07:45:25 WARN Utils: Your hostname, abha-ThinkPad-P14s-Gen-4 resolves to a loopback address: 127.0.1.1; using 192.168.178.94 instead (on interface wlp2s0)\n",
      "24/06/30 07:45:25 WARN Utils: Set SPARK_LOCAL_IP if you need to bind to another address\n",
      "Setting default log level to \"WARN\".\n",
      "To adjust logging level use sc.setLogLevel(newLevel). For SparkR, use setLogLevel(newLevel).\n",
      "24/06/30 07:45:26 WARN NativeCodeLoader: Unable to load native-hadoop library for your platform... using builtin-java classes where applicable\n"
     ]
    },
    {
     "data": {
      "text/html": [
       "\n",
       "            <div>\n",
       "                <p><b>SparkSession - in-memory</b></p>\n",
       "                \n",
       "        <div>\n",
       "            <p><b>SparkContext</b></p>\n",
       "\n",
       "            <p><a href=\"http://192.168.178.94:4040\">Spark UI</a></p>\n",
       "\n",
       "            <dl>\n",
       "              <dt>Version</dt>\n",
       "                <dd><code>v3.5.1</code></dd>\n",
       "              <dt>Master</dt>\n",
       "                <dd><code>local[*]</code></dd>\n",
       "              <dt>AppName</dt>\n",
       "                <dd><code>Projet-Task-1</code></dd>\n",
       "            </dl>\n",
       "        </div>\n",
       "        \n",
       "            </div>\n",
       "        "
      ],
      "text/plain": [
       "<pyspark.sql.session.SparkSession at 0x7ce737fafec0>"
      ]
     },
     "execution_count": 3,
     "metadata": {},
     "output_type": "execute_result"
    }
   ],
   "source": [
    "spark = SparkSession.builder \\\n",
    "    .appName(\"Projet-Task-1\") \\\n",
    "    .master(\"local[*]\") \\\n",
    "    .config(\"spark.driver.memory\", \"12G\") \\\n",
    "    .config(\"spark.driver.maxResultSize\", \"2g\") \\\n",
    "    .config(\"spark.executor.memory\", \"6G\") \\\n",
    "    .config(\"spark.executor.memoryOverhead\", \"2G\") \\\n",
    "    .config(\"spark.executor.extraJavaOptions\", \"-XX:+UseG1GC -XX:MaxGCPauseMillis=500 -XX:InitiatingHeapOccupancyPercent=35\") \\\n",
    "    .config(\"spark.driver.extraJavaOptions\", \"-XX:+UseG1GC -XX:MaxGCPauseMillis=500 -XX:InitiatingHeapOccupancyPercent=35\") \\\n",
    "    .getOrCreate()\n",
    "# spark.sparkContext.setLogLevel(\"DEBUG\")\n",
    "spark.conf.set(\"spark.sql.shuffle.partitions\", partition)\n",
    "spark"
   ]
  },
  {
   "cell_type": "code",
   "execution_count": 4,
   "metadata": {},
   "outputs": [],
   "source": [
    "# spark.stop()"
   ]
  },
  {
   "cell_type": "markdown",
   "metadata": {},
   "source": [
    "### Read Data and Clean Logs"
   ]
  },
  {
   "cell_type": "code",
   "execution_count": 5,
   "metadata": {},
   "outputs": [],
   "source": [
    "df = spark.read.text(\"data.txt\").toDF(\"Log\")"
   ]
  },
  {
   "cell_type": "code",
   "execution_count": 6,
   "metadata": {},
   "outputs": [],
   "source": [
    "df = df.withColumn(\"Log\", regexp_replace(col(\"Log\"), \"[<>]\", \"\"))\n",
    "df = df.withColumn(\"Log\", regexp_replace(col(\"Log\"), \",\", \"\"))\n",
    "df = df.withColumn(\"Log\", split(col(\"Log\"), \" \"))\n",
    "\n",
    "columns = [\"First Server\", \"Second Server\", \"Date\", \"Time\", \"Communication Type\", \"Process ID\"]\n",
    "\n",
    "for i in range(len(columns)):\n",
    "    df = df.withColumn(columns[i], col(\"Log\")[i])\n",
    "\n",
    "df = df.withColumn(\"Timestamp\", concat(col(\"Date\"),lit(\"\"), col(\"Time\")))"
   ]
  },
  {
   "cell_type": "code",
   "execution_count": 7,
   "metadata": {},
   "outputs": [],
   "source": [
    "# Remove Process ID from request \n",
    "log = udf(lambda x: x[:-1], ArrayType(StringType())) \n",
    "\n",
    "def remove_timestamp(log):\n",
    "    return log[:2] + log[4:]\n",
    "\n",
    "log_timestamp = udf(remove_timestamp, ArrayType(StringType()))\n",
    "\n",
    "df = df.withColumn('Log', log('Log')) \n",
    "df = df.withColumn('Log', log_timestamp('Log'))"
   ]
  },
  {
   "cell_type": "markdown",
   "metadata": {},
   "source": [
    "### Group Log Events by Process ID"
   ]
  },
  {
   "cell_type": "code",
   "execution_count": 8,
   "metadata": {},
   "outputs": [
    {
     "name": "stdout",
     "output_type": "stream",
     "text": [
      "root\n",
      " |-- Process ID: string (nullable = true)\n",
      " |-- Log: array (nullable = false)\n",
      " |    |-- element: array (containsNull = false)\n",
      " |    |    |-- element: string (containsNull = true)\n",
      " |-- First Server: array (nullable = false)\n",
      " |    |-- element: string (containsNull = false)\n",
      " |-- Second Server: array (nullable = false)\n",
      " |    |-- element: string (containsNull = false)\n",
      " |-- FCommunication Type: array (nullable = false)\n",
      " |    |-- element: string (containsNull = false)\n",
      " |-- Timestamp: array (nullable = false)\n",
      " |    |-- element: string (containsNull = false)\n",
      "\n"
     ]
    }
   ],
   "source": [
    "grouped_df = df.groupBy(\"Process ID\").agg(collect_list(\"Log\").alias(\"Log\"), \n",
    "                                          collect_list(\"First Server\").alias(\"First Server\"),\n",
    "                                          collect_list(\"Second Server\").alias(\"Second Server\"),\n",
    "                                          collect_list(\"Communication Type\").alias(\"FCommunication Type\"),\n",
    "                                          collect_list(\"Timestamp\").alias(\"Timestamp\"))\n",
    "\n",
    "grouped_df.printSchema()"
   ]
  },
  {
   "cell_type": "code",
   "execution_count": 9,
   "metadata": {},
   "outputs": [],
   "source": [
    "distinct_servers_df = df.groupBy(\"Process ID\").agg(collect_set(\"First Server\").alias(\"First Server\"),\n",
    "                                                   collect_set(\"Second Server\").alias(\"Second Server\"))\n",
    "\n",
    "distinct_servers_df = distinct_servers_df.withColumn(\"Servers\", array_union(\"First Server\", \"Second Server\"))"
   ]
  },
  {
   "cell_type": "markdown",
   "metadata": {},
   "source": [
    "### Build Characteristic Matrix "
   ]
  },
  {
   "cell_type": "code",
   "execution_count": 10,
   "metadata": {},
   "outputs": [
    {
     "name": "stdout",
     "output_type": "stream",
     "text": [
      "+----------+---------------------+\n",
      "|Process ID|Characteristic Matrix|\n",
      "+----------+---------------------+\n",
      "|        56| (106,[0,2,17,68,9...|\n",
      "|        73| (106,[0,2,13,16],...|\n",
      "|        16| (106,[0,1,4,9,18,...|\n",
      "|        35| (106,[0,1],[1.0,1...|\n",
      "|        62| (106,[0,2],[1.0,1...|\n",
      "|        64| (106,[0,1],[1.0,1...|\n",
      "|        89| (106,[0,1,17,18,2...|\n",
      "|        12| (106,[0,2,3,6,21,...|\n",
      "|        27| (106,[0,1],[1.0,1...|\n",
      "|        68| (106,[0,2],[1.0,1...|\n",
      "|         0| (106,[0,2,3,6,14,...|\n",
      "|         6| (106,[0,2],[1.0,1...|\n",
      "|        10| (106,[0,1,3],[1.0...|\n",
      "|        24| (106,[0,1],[1.0,1...|\n",
      "|        30| (106,[0,2,5,40,59...|\n",
      "|        33| (106,[0,1,8],[1.0...|\n",
      "|        46| (106,[0,1,4,6,7,3...|\n",
      "|        50| (106,[0,1],[1.0,1...|\n",
      "|        82| (106,[0,2,11,12,2...|\n",
      "|        83| (106,[0,2,7,33,38...|\n",
      "+----------+---------------------+\n",
      "only showing top 20 rows\n",
      "\n"
     ]
    }
   ],
   "source": [
    "characteristics = CountVectorizer(inputCol=\"Servers\", outputCol=\"Characteristic Matrix\")\n",
    "\n",
    "model = characteristics.fit(distinct_servers_df)\n",
    "char_matrix = model.transform(distinct_servers_df).select(\"Process ID\", \"Characteristic Matrix\")\n",
    "\n",
    "char_matrix.show()\n",
    "\n",
    "servers = model.vocabulary"
   ]
  },
  {
   "cell_type": "markdown",
   "metadata": {},
   "source": [
    "### Generate MinHash"
   ]
  },
  {
   "cell_type": "code",
   "execution_count": 11,
   "metadata": {},
   "outputs": [],
   "source": [
    "minhash = MinHashLSH(inputCol=\"Characteristic Matrix\", outputCol=\"Signatures\", numHashTables=5)\n",
    "\n",
    "# MinHash produces the signatures for the Characteritic matrix \n",
    "# numvHashTables is the number of the hash functioms that we want to use and the lenght of the signature \n",
    "model = minhash.fit(char_matrix)\n",
    "signatures = model.transform(char_matrix)"
   ]
  },
  {
   "cell_type": "markdown",
   "metadata": {},
   "source": [
    "### Find Similar Pairs"
   ]
  },
  {
   "cell_type": "code",
   "execution_count": 12,
   "metadata": {},
   "outputs": [],
   "source": [
    "# approxSimilarityJoin uses LSH automatically to find rows that it is most likely \n",
    "# to have same \"Signatures\"\n",
    "# threshold: pairs with Jaccard Distance lower than threshlod\n",
    "similar_pairs = model.approxSimilarityJoin(signatures, signatures, threshold=0.01, distCol=\"Jaccard Distance\")"
   ]
  },
  {
   "cell_type": "code",
   "execution_count": 13,
   "metadata": {},
   "outputs": [],
   "source": [
    "similar_pairs = similar_pairs.select(\"datasetA.Process ID\", \"datasetB.Process ID\", \n",
    "                     \"Jaccard Distance\") \\\n",
    "                    # .filter((col(\"datasetA.Process ID\") != col(\"datasetB.Process ID\")))"
   ]
  },
  {
   "cell_type": "code",
   "execution_count": 14,
   "metadata": {},
   "outputs": [],
   "source": [
    "new_cols = [\"Process ID A\", \"Process ID B\", \"Jaccard Distance\"]\n",
    "similar_pairs = similar_pairs.toDF(*new_cols)"
   ]
  },
  {
   "cell_type": "code",
   "execution_count": 15,
   "metadata": {},
   "outputs": [],
   "source": [
    "pairs = similar_pairs.join(grouped_df, similar_pairs[\"Process ID A\"] == col(\"Process ID\")) \\\n",
    "                     .select(col(\"Process ID A\"), col(\"Process ID B\"), col(\"Log\").alias(\"Log A\")) \\\n",
    "                     .join(grouped_df, similar_pairs[\"Process ID B\"] == col(\"Process ID\")) \\\n",
    "                     .select(col(\"Process ID A\"), col(\"Process ID B\"), col(\"Log A\"), col(\"Log\").alias(\"Log B\"))"
   ]
  },
  {
   "cell_type": "markdown",
   "metadata": {},
   "source": [
    "### Check using Original Log"
   ]
  },
  {
   "cell_type": "code",
   "execution_count": 16,
   "metadata": {},
   "outputs": [],
   "source": [
    "def original_check(x,y):\n",
    "    return x==y\n",
    "\n",
    "original_checking = udf(original_check, BooleanType())"
   ]
  },
  {
   "cell_type": "code",
   "execution_count": 17,
   "metadata": {},
   "outputs": [],
   "source": [
    "same_pairs = pairs.filter(original_checking(col(\"Log A\"), col(\"Log B\")))\n",
    "same_pairs = same_pairs.groupBy(\"Log A\").agg(collect_set(\"Process ID A\").alias(\"Process Set\"))"
   ]
  },
  {
   "cell_type": "code",
   "execution_count": 18,
   "metadata": {},
   "outputs": [
    {
     "name": "stdout",
     "output_type": "stream",
     "text": [
      "root\n",
      " |-- Log A: array (nullable = false)\n",
      " |    |-- element: array (containsNull = false)\n",
      " |    |    |-- element: string (containsNull = true)\n",
      " |-- Process Set: array (nullable = false)\n",
      " |    |-- element: string (containsNull = false)\n",
      "\n"
     ]
    }
   ],
   "source": [
    "same_pairs.printSchema()"
   ]
  },
  {
   "cell_type": "markdown",
   "metadata": {},
   "source": [
    "### Output"
   ]
  },
  {
   "cell_type": "markdown",
   "metadata": {},
   "source": [
    "part1Observations.txt"
   ]
  },
  {
   "cell_type": "code",
   "execution_count": 19,
   "metadata": {},
   "outputs": [],
   "source": [
    "same_pairs_explode = same_pairs.select(same_pairs[\"Log A\"], same_pairs[\"Process Set\"], explode(same_pairs[\"Process Set\"]).alias(\"Process ID\"))"
   ]
  },
  {
   "cell_type": "code",
   "execution_count": 20,
   "metadata": {},
   "outputs": [],
   "source": [
    "def format_group(process_set):\n",
    "    process_set_string = ', '.join(str(x) for x in process_set)\n",
    "    return f\"Group: {{{process_set_string}}}\"\n",
    "\n",
    "def format_log(log, process_id):\n",
    "    log_formatted = \"\"\n",
    "    for l in log:\n",
    "        log_concat = ', '.join(str(x) for x in l)\n",
    "        log_formatted += f\"<{log_concat}, {process_id}>\\n\"\n",
    "    return log_formatted\n",
    "\n",
    "def format_group_logs(group, logs):\n",
    "    formatted = f\"{group}\\n\\n\" + \"\\n\".join(logs) \n",
    "    return formatted"
   ]
  },
  {
   "cell_type": "code",
   "execution_count": 21,
   "metadata": {},
   "outputs": [],
   "source": [
    "# UDFs for Formatting Output - part1Observations.txt\n",
    "format_group_udf = udf(format_group, StringType())\n",
    "format_udf = udf(format_log, StringType())\n",
    "final_format_udf = udf(format_group_logs, StringType())"
   ]
  },
  {
   "cell_type": "code",
   "execution_count": 22,
   "metadata": {},
   "outputs": [],
   "source": [
    "formatted_group = same_pairs_explode.withColumn(\"Group\", format_group_udf(col(\"Process Set\")))\n",
    "formatted_df = formatted_group.withColumn(\"Formatted Log\", format_udf(col(\"Log A\"), col(\"Process ID\")))\n",
    "grouped_logs = formatted_df.groupBy(\"Group\").agg(collect_list(\"Formatted Log\").alias(\"Group Log\"))\n",
    "final_formatted = grouped_logs.withColumn(\"Formatted\", final_format_udf(col(\"Group\"), col(\"Group Log\"))).select(\"Formatted\")"
   ]
  },
  {
   "cell_type": "code",
   "execution_count": 23,
   "metadata": {},
   "outputs": [],
   "source": [
    "final_formatted.coalesce(partition).write.mode('overwrite').text('part1Observations')"
   ]
  },
  {
   "cell_type": "code",
   "execution_count": 24,
   "metadata": {},
   "outputs": [
    {
     "name": "stderr",
     "output_type": "stream",
     "text": [
      "rm: cannot remove 'part1Observations/.': Is a directory\n",
      "rm: cannot remove 'part1Observations/..': Is a directory\n"
     ]
    },
    {
     "data": {
      "text/plain": [
       "CompletedProcess(args='rmdir part1Observations', returncode=0)"
      ]
     },
     "execution_count": 24,
     "metadata": {},
     "output_type": "execute_result"
    }
   ],
   "source": [
    "subprocess.run(\"mkdir -p output && cat part1Observations/part-* > output/part1Observations.txt\", shell=True)\n",
    "subprocess.run(\"find part1Observations/ -name 'part-*' -delete\", shell=True)\n",
    "subprocess.run(\"rm -f part1Observations/.*\", shell=True)\n",
    "subprocess.run(\"rm -f part1Observations/_SUCCESS\", shell=True) \n",
    "subprocess.run(\"rmdir part1Observations\", shell=True)"
   ]
  },
  {
   "cell_type": "markdown",
   "metadata": {},
   "source": [
    "part1Output.txt"
   ]
  },
  {
   "cell_type": "code",
   "execution_count": 25,
   "metadata": {},
   "outputs": [],
   "source": [
    "def format_log_output(log):\n",
    "    epoch = int(time.time())\n",
    "    rand = random.randint(1000, 9999)\n",
    "    process_id = f\"{epoch}{rand}\"\n",
    "    log_formatted = \"\"\n",
    "    for l in log:\n",
    "        log_concat = ', '.join(str(x) for x in l)\n",
    "        log_formatted += f\"<{log_concat}, {process_id}>\\n\"\n",
    "\n",
    "    formatted = f\"{process_id}:\\n\" + log_formatted\n",
    "    return formatted\n",
    "\n",
    "format_udf_output = udf(format_log_output, StringType())\n",
    "formatted_df_output = same_pairs.withColumn(\"Formatted\", format_udf_output(col(\"Log A\"))).select(\"Formatted\")"
   ]
  },
  {
   "cell_type": "code",
   "execution_count": 26,
   "metadata": {},
   "outputs": [],
   "source": [
    "formatted_df_output.coalesce(partition).write.mode('overwrite').text('part1Output')"
   ]
  },
  {
   "cell_type": "code",
   "execution_count": 27,
   "metadata": {},
   "outputs": [
    {
     "name": "stderr",
     "output_type": "stream",
     "text": [
      "rm: cannot remove 'part1Output/.': Is a directory\n",
      "rm: cannot remove 'part1Output/..': Is a directory\n"
     ]
    },
    {
     "data": {
      "text/plain": [
       "CompletedProcess(args='rmdir part1Output', returncode=0)"
      ]
     },
     "execution_count": 27,
     "metadata": {},
     "output_type": "execute_result"
    }
   ],
   "source": [
    "subprocess.run(\"cat part1Output/part-* > output/part1Output.txt\", shell=True)\n",
    "subprocess.run(\"find part1Output/ -name 'part-*' -delete\", shell=True)\n",
    "subprocess.run(\"rm -f part1Output/.*\", shell=True)\n",
    "subprocess.run(\"rm -f part1Output/_SUCCESS\", shell=True) \n",
    "subprocess.run(\"rmdir part1Output\", shell=True)"
   ]
  },
  {
   "cell_type": "markdown",
   "metadata": {},
   "source": [
    "## Another aproach - Shingling"
   ]
  },
  {
   "cell_type": "code",
   "execution_count": 28,
   "metadata": {},
   "outputs": [],
   "source": [
    "def k_shingling(text, k):\n",
    "    shingles = set()\n",
    "    for i in range(len(text) - k + 1):\n",
    "        shingle = text[i:i + k]\n",
    "        shingles.add(shingle)\n",
    "    return list(shingles)\n",
    "\n",
    "k_shingling_udf = udf(lambda text: k_shingling(text, 5), ArrayType(StringType()))"
   ]
  },
  {
   "cell_type": "code",
   "execution_count": 29,
   "metadata": {},
   "outputs": [],
   "source": [
    "df = spark.read.text(\"data.txt\").toDF(\"Log\")\n",
    "log = udf(lambda x: x[1:-4], StringType()) \n",
    "df = df.withColumn('Log_split', log('Log')) \n",
    "# df.collect()\n",
    "\n",
    "def remove_timestamp(log):\n",
    "    log_list = [item.strip() for item in log.split(\",\")]\n",
    "    log_rem_time = log_list[:2] + log_list[3:]\n",
    "    return \", \".join(log_rem_time)\n",
    "\n",
    "log_timestamp = udf(remove_timestamp, StringType())\n",
    "df = df.withColumn('Log_split', log_timestamp('Log_split'))\n",
    "\n",
    "df.collect()\n",
    "df_shingles = df.withColumn(\"Shingles\", k_shingling_udf(df[\"Log_split\"]))"
   ]
  },
  {
   "cell_type": "code",
   "execution_count": 30,
   "metadata": {},
   "outputs": [],
   "source": [
    "df_shingles = df_shingles.withColumn(\"Log\", regexp_replace(col(\"Log\"), \"[<>]\", \"\"))\n",
    "df_shingles = df_shingles.withColumn(\"Log\", regexp_replace(col(\"Log\"), \",\", \"\"))\n",
    "df_shingles = df_shingles.withColumn(\"Log\", split(col(\"Log\"), \" \"))\n",
    "\n",
    "columns = [\"First Server\", \"Second Server\", \"Date\", \"Time\", \"Communication Type\", \"Process ID\"]\n",
    "\n",
    "for i in range(len(columns)):\n",
    "    df_shingles = df_shingles.withColumn(columns[i], col(\"Log\")[i])\n",
    "\n",
    "df_shingles = df_shingles.withColumn(\"Timestamp\", concat(col(\"Date\"),lit(\"\"), col(\"Time\")))"
   ]
  },
  {
   "cell_type": "code",
   "execution_count": 31,
   "metadata": {},
   "outputs": [],
   "source": [
    "log = udf(lambda x: x[:-1], ArrayType(StringType())) \n",
    "\n",
    "def remove_timestamp(log):\n",
    "    return log[:2] + log[4:]\n",
    "\n",
    "log_timestamp = udf(remove_timestamp, ArrayType(StringType()))\n",
    "\n",
    "df_shingles = df_shingles.withColumn('Log', log('Log')) \n",
    "df_shingles = df_shingles.withColumn('Log', log_timestamp('Log'))"
   ]
  },
  {
   "cell_type": "code",
   "execution_count": 32,
   "metadata": {},
   "outputs": [
    {
     "name": "stdout",
     "output_type": "stream",
     "text": [
      "root\n",
      " |-- Process ID: string (nullable = true)\n",
      " |-- Shingles: array (nullable = false)\n",
      " |    |-- element: array (containsNull = false)\n",
      " |    |    |-- element: string (containsNull = true)\n",
      " |-- Log: array (nullable = false)\n",
      " |    |-- element: array (containsNull = false)\n",
      " |    |    |-- element: string (containsNull = true)\n",
      " |-- Flat shingles: array (nullable = false)\n",
      " |    |-- element: string (containsNull = true)\n",
      "\n"
     ]
    }
   ],
   "source": [
    "grouped_df = df_shingles.groupBy(\"Process ID\").agg(collect_set(\"Shingles\").alias(\"Shingles\"),collect_list(\"Log\").alias(\"Log\"))\n",
    "grouped_df = grouped_df.withColumn(\"Flat shingles\", flatten(col(\"Shingles\")))\n",
    "grouped_df.printSchema()"
   ]
  },
  {
   "cell_type": "code",
   "execution_count": 33,
   "metadata": {},
   "outputs": [
    {
     "name": "stdout",
     "output_type": "stream",
     "text": [
      "root\n",
      " |-- Process ID: string (nullable = true)\n",
      " |-- Characteristic Matrix: vector (nullable = true)\n",
      "\n",
      "Rows of Characteristic Matrix:  ['S-37.', 'Respo', ' Resp', 'quest', 'ponse', ' Requ', 'espon', 'eques', ', Res', 'Reque', 'spons', ', Req', 'est, ', 'nse, ', 'onse,', 'uest,', 'null,', 'ull, ', '7.2, ', ', S-3', '-37.2', '37.2,', '2, Re', ' S-37', '7.1, ', '37.1,', '-37.1', ', S-1', '.2, R', '1, Re', '.1, R', '2, S-', '1, S-', '.1, S', ' null', 'l, Re', 'll, S', 'll, R', ', nul', 'l, S-', '.2, S', '.2, n', '2, nu', '4.1, ', '1, nu', '.1, n', 'S-94.', ', S-4', ' S-11', '4.2, ', '8, Re', '8, S-', 'S-64,', 'S-115', '115, ', '-64, ', '-115,', ', S-9', '158, ', 'S-78,', 'S-158', '-158,', '-78, ', '5, Re', '5, S-', ' S-15', ', S-6', '6, S-', '6, Re', '-94.1', '94.1,', '-118.', ', S-7', 'S-118', '0.1, ', '8.2, ', ' S-94', 'S-4.2', 'S-40.', '-4.2,', '0, S-', '0, Re', '4, Re', '4, S-', '15, S', '15, R', ' S-4.', ' S-16', 'S-166', '1.2, ', 'S-42,', '166, ', '94.2,', '8.1, ', '64, S', '64, R', '-150,', ' S-64', '-166,', '1.1, ', 'S-150', '-94.2', '-42, ', '150, ', '78, S', '58, R', ' S-78', '78, R', '58, S', 'S-4.1', '40.1,', '18.1,', '-4.1,', '118.1', '-40.1', ' S-12', '-103.', 'S-103', ' S-13', ' S-10', '118.2', '-36, ', '3, S-', '103.2', '3.2, ', ' S-40', '3, Re', '18.2,', 'S-36,', '03.2,', '5.1, ', '9, S-', ' S-19', '9, Re', '66, R', '66, S', ' S-17', 'S-65.', 'S-1.1', '-1.1,', '9.2, ', '-90, ', '160, ', '65.1,', ', S-5', '-160,', '0.2, ', '5.2, ', 'S-58.', '-58.2', '-65.1', 'S-160', '50, R', '42, S', ' S-42', '50, S', '58.2,', 'S-90,', '42, R', '3.1, ', ' S-1.', '36, S', ' S-18', '36, R', '-173.', '73.1,', '-40.2', 'S-192', '-121.', '40.2,', '-71.2', 'S-111', 'S-113', '-1.2,', ', S-8', ' S-14', '21.1,', '-113,', 'S-152', '71.2,', '192, ', '-22, ', '52.1,', '2.1, ', 'S-16,', '-192,', '-76, ', '7, Re', '-152.', 'S-76,', '135, ', '7, S-', '-16, ', 'S-135', '173.1', '111, ', '152.1', 'S-173', 'S-121', '113, ', 'S-1.2', 'S-22,', 'S-32,', '-135,', '-32, ', 'S-71.', '-111,', '92, R', '90, R', '90, S', '13, S', '92, S', '13, R', ' S-36', 'S-33,', '127, ', '35, R', 'S-6, ', 'S-80.', '112, ', '79.2,', '136, ', '80.1,', '-188.', '198, ', 'S-139', 'S-59,', '-182,', '-198,', '105.2', '-165,', 'S-9.2', '-139,', ' S-58', '12.2,', ' S-65', '-17, ', '6.2, ', '07.1,', '165, ', '139, ', 'S-75,', 'S-13,', '10.1,', 'S-182', '60, S', '125.2', '-59, ', '-75, ', '-9.2,', '197.2', 'S-105', 'S-92,', '-127,', 'S-125', '25.2,', '128, ', '2.2, ', '-112,', '-125.', '-45, ', 'S-127', 'S-179', 'S-17,', '-80.1', ' S-90', '182, ', '35, S', '-92, ', '-13, ', 'S-69,', '97.2,', 'S-141', '-69, ', '-110.', 'S-12.', ', S-2', '107.1', '-141.', 'S-165', '-136,', 'S-107', 'S-136', 'S-198', 'S-188', '179.2', 'S-112', 'S-197', '188.2', '-128,', '-33, ', '-68, ', '-197.', '110.1', 'S-110', '-105.', '-12.2', 'S-68,', '-179.', 'S-45,', 'S-128', '121.1', '05.2,', '88.2,', '-107.', '60, R', '82, S', '22, S', '32, S', '45, S', ' S-76', ' S-71', '22, R', '16, R', '82, R', '32, R', '76, R', ' S-32', ' S-22', '45, R', '11, S', '76, S', '11, R', '16, S', '190, ', '121.2', '28, R', '-87.1', 'S-147', 'S-138', '126, ', 'S-190', '65, R', '172, ', '-196,', 'S-15,', '-49, ', 'S-181', 'S-79,', 'S-5.1', '87.1,', '-126,', 'S-82,', '41.2,', ' S-59', '-82, ', 'S-155', '-46.2', 'S-196', '47, R', '134.1', '75, R', '-14, ', '47, S', '141.2', '59, S', ' S-92', 'S-172', '171, ', '27, R', 'S-46.', '69, S', 'S-62,', 'S-89,', '-15, ', '-83, ', '27, S', '-5.1,', '145, ', '96, S', '180.2', '-18, ', '75, S', 'S-96,', '-124.', '-35, ', 'S-14,', '196, ', '17, S', 'S-47,', '141.1', '33, R', '96, R', '-93, ', 'S-93,', '-134.', '-21.1', '24.2,', '-89, ', '12, S', '34.1,', ' S-69', '-96, ', '-181,', ' S-33', '-47, ', '124.2', '-30, ', '68, R', '120, ', 'S-171', '98, S', '155, ', '28, S', '143, ', 'S-156', '68, S', '46.2,', '69, R', ' S-75', '59, R', '39, R', '103.1', ' S-68', '03.1,', 'S-49,', '41.1,', '38.1,', 'S-30,', 'S-87.', 'S-124', '-172,', '-147,', '181, ', '-156.', '-171,', '56.2,', ' S-80', 'S-180', '138.1', ' S-9.', '-62, ', 'S-143', '12, R', '33, S', '-180.', 'S-66,', 'S-18,', '-190,', '17, R', '-120,', '156.2', 'S-83,', '-155,', 'S-21.', '65, S', '-138.', 'S-134', 'S-126', 'S-54,', '-6, R', '-79, ', '39, S', '98, R', 'S-35,', 'S-120', '-145,', '80.2,', '147, ', '-66, ', '-6, S', ' S-6,', ' S-45', 'S-145', '-143,', '-54, ', '21.2,', ' S-46', '30, R', ' S-87', ' S-66', '43, S', ' S-5.', '49, S', ' S-54', '55, R', '83, S', '18, R', ' S-30', '26, S', '79, R', '89, R', ' S-79', '55, S', ' S-83', '18, S', ' S-89', ' S-82', '93, R', ' S-49', '14, S', '93, S', ' S-47', ' S-93', '54, R', '43, R', '14, R', '72, S', '62, S', '83, R', '62, R', '26, R', '72, R', '71, S', '20, R', ' S-35', '30, S', '81, R', ' S-96', '54, S', '89, S', '71, R', '20, S', '81, S', '79, S', ' S-62', ' S-21', '49, R']\n"
     ]
    }
   ],
   "source": [
    "characteristics = CountVectorizer(inputCol=\"Flat shingles\", outputCol=\"Characteristic Matrix\")\n",
    "\n",
    "model = characteristics.fit(grouped_df)\n",
    "char_matrix = model.transform(grouped_df).select(\"Process ID\", \"Characteristic Matrix\")\n",
    "\n",
    "char_matrix.printSchema()\n",
    "# char_matrix.show()\n",
    "\n",
    "shingles = model.vocabulary\n",
    "print(\"Rows of Characteristic Matrix: \", shingles)"
   ]
  },
  {
   "cell_type": "code",
   "execution_count": 34,
   "metadata": {},
   "outputs": [],
   "source": [
    "minhash = MinHashLSH(inputCol=\"Characteristic Matrix\", outputCol=\"Signatures\", numHashTables=5)\n",
    "\n",
    "# MinHash produces the signatures for the Characteritic matrix \n",
    "# numvHashTables is the number of the hush functioms that we want to use and the lenght of the signature \n",
    "model = minhash.fit(char_matrix)\n",
    "signatures = model.transform(char_matrix)\n",
    "\n",
    "# signatures.show()"
   ]
  },
  {
   "cell_type": "code",
   "execution_count": 35,
   "metadata": {},
   "outputs": [],
   "source": [
    "# approxSimilarityJoin uses autmatically LSH to find rows that it is most likely \n",
    "# to have same \"Signatures\"\n",
    "# threshold: pairs with Jaccard Distance lower than threshlod\n",
    "similar_pairs = model.approxSimilarityJoin(signatures, signatures, threshold=0.2, distCol=\"Jaccard Distance\")\n",
    "# similar_pairs.show()"
   ]
  },
  {
   "cell_type": "code",
   "execution_count": 36,
   "metadata": {},
   "outputs": [],
   "source": [
    "similar_pairs = similar_pairs.select(\"datasetA.Process ID\", \"datasetB.Process ID\", \n",
    "                     \"Jaccard Distance\")\\\n",
    "                        # .filter((col(\"datasetA.Process ID\") != col(\"datasetB.Process ID\")))"
   ]
  },
  {
   "cell_type": "code",
   "execution_count": 37,
   "metadata": {},
   "outputs": [],
   "source": [
    "new_cols = [\"Process ID A\", \"Process ID B\", \"Jaccard Distance\"]\n",
    "similar_pairs = similar_pairs.toDF(*new_cols)"
   ]
  },
  {
   "cell_type": "code",
   "execution_count": 38,
   "metadata": {},
   "outputs": [],
   "source": [
    "pairs = similar_pairs.join(grouped_df, similar_pairs[\"Process ID A\"] == col(\"Process ID\")) \\\n",
    "                     .select(col(\"Process ID A\"), col(\"Process ID B\"), col(\"Log\").alias(\"Log A\")) \\\n",
    "                     .join(grouped_df, similar_pairs[\"Process ID B\"] == col(\"Process ID\")) \\\n",
    "                     .select(col(\"Process ID A\"), col(\"Process ID B\"), col(\"Log A\"), col(\"Log\").alias(\"Log B\"))"
   ]
  },
  {
   "cell_type": "code",
   "execution_count": 39,
   "metadata": {},
   "outputs": [],
   "source": [
    "def original_check(x,y):\n",
    "    return x==y\n",
    "\n",
    "orifinal_checking = udf(original_check, BooleanType())\n",
    "same_pairs = pairs.filter(orifinal_checking(col(\"Log A\"), col(\"Log B\")))"
   ]
  },
  {
   "cell_type": "code",
   "execution_count": 40,
   "metadata": {},
   "outputs": [],
   "source": [
    "same_pairs = same_pairs.groupBy(\"Log A\").agg(collect_set(\"Process ID A\"))"
   ]
  },
  {
   "cell_type": "code",
   "execution_count": 41,
   "metadata": {},
   "outputs": [],
   "source": [
    "def format_log_output(log):\n",
    "    epoch = int(time.time())\n",
    "    rand = random.randint(1000, 9999)\n",
    "    process_id = f\"{epoch}{rand}\"\n",
    "    log_formatted = \"\"\n",
    "    for l in log:\n",
    "        log_concat = ', '.join(str(x) for x in l)\n",
    "        log_formatted += f\"<{log_concat}, {process_id}>\\n\"\n",
    "\n",
    "    formatted = f\"{process_id}:\\n\" + log_formatted\n",
    "    return formatted\n",
    "\n",
    "format_udf_output = udf(format_log_output, StringType())\n",
    "formatted_df_output = same_pairs.withColumn(\"Formatted\", format_udf_output(col(\"Log A\"))).select(\"Formatted\")"
   ]
  },
  {
   "cell_type": "code",
   "execution_count": 42,
   "metadata": {},
   "outputs": [],
   "source": [
    "formatted_df_output.coalesce(partition).write.mode('overwrite').text('part1Output')"
   ]
  },
  {
   "cell_type": "code",
   "execution_count": 43,
   "metadata": {},
   "outputs": [
    {
     "name": "stderr",
     "output_type": "stream",
     "text": [
      "rm: cannot remove 'part1Output/.': Is a directory\n",
      "rm: cannot remove 'part1Output/..': Is a directory\n"
     ]
    },
    {
     "data": {
      "text/plain": [
       "CompletedProcess(args='rmdir part1Output', returncode=0)"
      ]
     },
     "execution_count": 43,
     "metadata": {},
     "output_type": "execute_result"
    },
    {
     "name": "stderr",
     "output_type": "stream",
     "text": [
      "24/06/30 07:45:39 WARN GarbageCollectionMetrics: To enable non-built-in garbage collector(s) List(G1 Concurrent GC), users should configure it(them) to spark.eventLog.gcMetrics.youngGenerationGarbageCollectors or spark.eventLog.gcMetrics.oldGenerationGarbageCollectors\n"
     ]
    }
   ],
   "source": [
    "subprocess.run(\"cat part1Output/part-* > output/part1OutputShingles.txt\", shell=True)\n",
    "subprocess.run(\"find part1Output/ -name 'part-*' -delete\", shell=True)\n",
    "subprocess.run(\"rm -f part1Output/.*\", shell=True)\n",
    "subprocess.run(\"rm -f part1Output/_SUCCESS\", shell=True) \n",
    "subprocess.run(\"rmdir part1Output\", shell=True)"
   ]
  },
  {
   "cell_type": "code",
   "execution_count": null,
   "metadata": {},
   "outputs": [],
   "source": []
  }
 ],
 "metadata": {
  "kernelspec": {
   "display_name": "data_intensive_systems",
   "language": "python",
   "name": "python3"
  },
  "language_info": {
   "codemirror_mode": {
    "name": "ipython",
    "version": 3
   },
   "file_extension": ".py",
   "mimetype": "text/x-python",
   "name": "python",
   "nbconvert_exporter": "python",
   "pygments_lexer": "ipython3",
   "version": "3.12.3"
  }
 },
 "nbformat": 4,
 "nbformat_minor": 2
}
