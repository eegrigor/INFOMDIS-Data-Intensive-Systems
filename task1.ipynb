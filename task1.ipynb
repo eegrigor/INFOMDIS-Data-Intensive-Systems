{
 "cells": [
  {
   "cell_type": "code",
   "execution_count": 1,
   "metadata": {},
   "outputs": [],
   "source": [
    "import pyspark\n",
    "from pyspark import SparkContext, SparkConf\n",
    "from pyspark.sql import SparkSession\n",
    "import pandas as pd \n",
    "import numpy as np \n",
    "from pyspark.sql.functions import split, col, regexp_replace, collect_list, explode, concat, collect_set, array_union, element_at\n",
    "from pyspark.ml.feature import CountVectorizer\n",
    "from pyspark.ml.feature import MinHashLSH\n",
    "from pyspark.ml.linalg import Vectors"
   ]
  },
  {
   "cell_type": "code",
   "execution_count": 2,
   "metadata": {},
   "outputs": [
    {
     "name": "stderr",
     "output_type": "stream",
     "text": [
      "24/06/15 17:10:09 WARN Utils: Your hostname, abha-ThinkPad-P14s-Gen-4 resolves to a loopback address: 127.0.1.1; using 192.168.178.94 instead (on interface wlp2s0)\n",
      "24/06/15 17:10:09 WARN Utils: Set SPARK_LOCAL_IP if you need to bind to another address\n",
      "Setting default log level to \"WARN\".\n",
      "To adjust logging level use sc.setLogLevel(newLevel). For SparkR, use setLogLevel(newLevel).\n",
      "24/06/15 17:10:10 WARN NativeCodeLoader: Unable to load native-hadoop library for your platform... using builtin-java classes where applicable\n"
     ]
    },
    {
     "data": {
      "text/html": [
       "\n",
       "            <div>\n",
       "                <p><b>SparkSession - in-memory</b></p>\n",
       "                \n",
       "        <div>\n",
       "            <p><b>SparkContext</b></p>\n",
       "\n",
       "            <p><a href=\"http://192.168.178.94:4040\">Spark UI</a></p>\n",
       "\n",
       "            <dl>\n",
       "              <dt>Version</dt>\n",
       "                <dd><code>v3.5.1</code></dd>\n",
       "              <dt>Master</dt>\n",
       "                <dd><code>local[*]</code></dd>\n",
       "              <dt>AppName</dt>\n",
       "                <dd><code>Projet-Task-1</code></dd>\n",
       "            </dl>\n",
       "        </div>\n",
       "        \n",
       "            </div>\n",
       "        "
      ],
      "text/plain": [
       "<pyspark.sql.session.SparkSession at 0x7c3f61dcfec0>"
      ]
     },
     "execution_count": 2,
     "metadata": {},
     "output_type": "execute_result"
    }
   ],
   "source": [
    "spark = SparkSession.builder \\\n",
    "    .appName(\"Projet-Task-1\") \\\n",
    "    .master(\"local[*]\") \\\n",
    "    .config(\"spark.driver.memory\", \"2G\") \\\n",
    "    .config(\"spark.driver.maxResultSize\", \"2g\") \\\n",
    "    .getOrCreate()\n",
    "spark"
   ]
  },
  {
   "cell_type": "code",
   "execution_count": 3,
   "metadata": {},
   "outputs": [],
   "source": [
    "# spark.stop()"
   ]
  },
  {
   "cell_type": "code",
   "execution_count": 4,
   "metadata": {},
   "outputs": [],
   "source": [
    "df = spark.read.text(\"data.txt\").toDF(\"Log\")"
   ]
  },
  {
   "cell_type": "code",
   "execution_count": 5,
   "metadata": {},
   "outputs": [
    {
     "data": {
      "text/plain": [
       "DataFrame[Log: string]"
      ]
     },
     "execution_count": 5,
     "metadata": {},
     "output_type": "execute_result"
    }
   ],
   "source": [
    "df"
   ]
  },
  {
   "cell_type": "code",
   "execution_count": 6,
   "metadata": {},
   "outputs": [
    {
     "name": "stdout",
     "output_type": "stream",
     "text": [
      "root\n",
      " |-- Log: array (nullable = true)\n",
      " |    |-- element: string (containsNull = false)\n",
      "\n",
      "+--------------------+\n",
      "|                 Log|\n",
      "+--------------------+\n",
      "|[null, S-1.2, Req...|\n",
      "|[S-1.2, null, Res...|\n",
      "|[null, S-1.3, Req...|\n",
      "|[S-1.3, S-48.2, R...|\n",
      "|[S-48.2, S-27.3, ...|\n",
      "|[S-27.3, S-48.2, ...|\n",
      "|[S-48.2, S-1.3, R...|\n",
      "|[S-1.3, null, Res...|\n",
      "|[null, S-1.2, Req...|\n",
      "|[S-1.2, null, Res...|\n",
      "|[null, S-1.3, Req...|\n",
      "|[S-1.3, S-24.3, R...|\n",
      "|[S-24.3, S-17.2, ...|\n",
      "|[S-17.2, S-28.3, ...|\n",
      "|[S-28.3, S-29.3, ...|\n",
      "|[S-29.3, S-32.1, ...|\n",
      "|[S-32.1, S-29.3, ...|\n",
      "|[S-29.3, S-32.2, ...|\n",
      "|[S-32.2, S-29.3, ...|\n",
      "|[S-29.3, S-28.3, ...|\n",
      "+--------------------+\n",
      "only showing top 20 rows\n",
      "\n",
      "First Server\n",
      "Second Server\n",
      "Communication Type\n",
      "Process ID\n",
      "root\n",
      " |-- Log: array (nullable = true)\n",
      " |    |-- element: string (containsNull = false)\n",
      " |-- First Server: string (nullable = true)\n",
      " |-- Second Server: string (nullable = true)\n",
      " |-- Communication Type: string (nullable = true)\n",
      " |-- Process ID: string (nullable = true)\n",
      "\n",
      "+--------------------+------------+-------------+------------------+----------+\n",
      "|                 Log|First Server|Second Server|Communication Type|Process ID|\n",
      "+--------------------+------------+-------------+------------------+----------+\n",
      "|[null, S-1.2, Req...|        null|        S-1.2|           Request|         0|\n",
      "|[S-1.2, null, Res...|       S-1.2|         null|          Response|         0|\n",
      "|[null, S-1.3, Req...|        null|        S-1.3|           Request|         1|\n",
      "|[S-1.3, S-48.2, R...|       S-1.3|       S-48.2|           Request|         1|\n",
      "|[S-48.2, S-27.3, ...|      S-48.2|       S-27.3|           Request|         1|\n",
      "|[S-27.3, S-48.2, ...|      S-27.3|       S-48.2|          Response|         1|\n",
      "|[S-48.2, S-1.3, R...|      S-48.2|        S-1.3|          Response|         1|\n",
      "|[S-1.3, null, Res...|       S-1.3|         null|          Response|         1|\n",
      "|[null, S-1.2, Req...|        null|        S-1.2|           Request|         2|\n",
      "|[S-1.2, null, Res...|       S-1.2|         null|          Response|         2|\n",
      "|[null, S-1.3, Req...|        null|        S-1.3|           Request|         3|\n",
      "|[S-1.3, S-24.3, R...|       S-1.3|       S-24.3|           Request|         3|\n",
      "|[S-24.3, S-17.2, ...|      S-24.3|       S-17.2|           Request|         3|\n",
      "|[S-17.2, S-28.3, ...|      S-17.2|       S-28.3|           Request|         3|\n",
      "|[S-28.3, S-29.3, ...|      S-28.3|       S-29.3|           Request|         3|\n",
      "|[S-29.3, S-32.1, ...|      S-29.3|       S-32.1|           Request|         3|\n",
      "|[S-32.1, S-29.3, ...|      S-32.1|       S-29.3|          Response|         3|\n",
      "|[S-29.3, S-32.2, ...|      S-29.3|       S-32.2|           Request|         3|\n",
      "|[S-32.2, S-29.3, ...|      S-32.2|       S-29.3|          Response|         3|\n",
      "|[S-29.3, S-28.3, ...|      S-29.3|       S-28.3|          Response|         3|\n",
      "+--------------------+------------+-------------+------------------+----------+\n",
      "only showing top 20 rows\n",
      "\n"
     ]
    }
   ],
   "source": [
    "df = df.withColumn(\"Log\", regexp_replace(col(\"Log\"), \"[<>]\", \"\"))\n",
    "df = df.withColumn(\"Log\", regexp_replace(col(\"Log\"), \",\", \"\"))\n",
    "df = df.withColumn(\"Log\", split(col(\"Log\"), \" \"))\n",
    "\n",
    "df.printSchema()\n",
    "df.show()\n",
    "\n",
    "columns = [\"First Server\", \"Second Server\", \"Communication Type\", \"Process ID\"]\n",
    "\n",
    "for i in range(len(columns)):\n",
    "    print(columns[i])\n",
    "    df = df.withColumn(columns[i], col(\"Log\")[i])\n",
    "\n",
    "df.printSchema()\n",
    "df.show()"
   ]
  },
  {
   "cell_type": "code",
   "execution_count": 7,
   "metadata": {},
   "outputs": [
    {
     "name": "stdout",
     "output_type": "stream",
     "text": [
      "root\n",
      " |-- Process ID: string (nullable = true)\n",
      " |-- Log: array (nullable = false)\n",
      " |    |-- element: array (containsNull = false)\n",
      " |    |    |-- element: string (containsNull = false)\n",
      " |-- First Server: array (nullable = false)\n",
      " |    |-- element: string (containsNull = false)\n",
      " |-- Second Server: array (nullable = false)\n",
      " |    |-- element: string (containsNull = false)\n",
      " |-- FCommunication Type: array (nullable = false)\n",
      " |    |-- element: string (containsNull = false)\n",
      "\n",
      "+----------+--------------------+--------------------+--------------------+--------------------+\n",
      "|Process ID|                 Log|        First Server|       Second Server| FCommunication Type|\n",
      "+----------+--------------------+--------------------+--------------------+--------------------+\n",
      "|         7|[[null, S-1.1, Re...|[null, S-1.1, S-2...|[S-1.1, S-23.1, S...|[Request, Request...|\n",
      "|        15|[[null, S-1.1, Re...|[null, S-1.1, S-3...|[S-1.1, S-38.1, S...|[Request, Request...|\n",
      "|        11|[[null, S-1.3, Re...|[null, S-1.3, S-4...|[S-1.3, S-44.4, S...|[Request, Request...|\n",
      "|         3|[[null, S-1.3, Re...|[null, S-1.3, S-2...|[S-1.3, S-24.3, S...|[Request, Request...|\n",
      "|         8|[[null, S-1.2, Re...|       [null, S-1.2]|       [S-1.2, null]| [Request, Response]|\n",
      "|        16|[[null, S-1.1, Re...|[null, S-1.1, S-2...|[S-1.1, S-23.3, S...|[Request, Request...|\n",
      "|         0|[[null, S-1.2, Re...|       [null, S-1.2]|       [S-1.2, null]| [Request, Response]|\n",
      "|         5|[[null, S-1.3, Re...|[null, S-1.3, S-4...|[S-1.3, S-45.3, S...|[Request, Request...|\n",
      "|        18|[[null, S-1.3, Re...|[null, S-1.3, S-2...|[S-1.3, S-23.2, S...|[Request, Request...|\n",
      "|        17|[[null, S-1.3, Re...|[null, S-1.3, S-2...|[S-1.3, S-26.4, S...|[Request, Request...|\n",
      "|         6|[[null, S-1.2, Re...|       [null, S-1.2]|       [S-1.2, null]| [Request, Response]|\n",
      "|        19|[[null, S-1.1, Re...|[null, S-1.1, S-2...|[S-1.1, S-27.1, S...|[Request, Request...|\n",
      "|         9|[[null, S-1.2, Re...|[null, S-1.2, S-4...|[S-1.2, S-48.2, S...|[Request, Request...|\n",
      "|         1|[[null, S-1.3, Re...|[null, S-1.3, S-4...|[S-1.3, S-48.2, S...|[Request, Request...|\n",
      "|        10|[[null, S-1.1, Re...|       [null, S-1.1]|       [S-1.1, null]| [Request, Response]|\n",
      "|         4|[[null, S-1.3, Re...|[null, S-1.3, S-2...|[S-1.3, S-20.3, S...|[Request, Request...|\n",
      "|        12|[[null, S-1.2, Re...|       [null, S-1.2]|       [S-1.2, null]| [Request, Response]|\n",
      "|        13|[[null, S-1.2, Re...|[null, S-1.2, S-1...|[S-1.2, S-15.3, S...|[Request, Request...|\n",
      "|        14|[[null, S-1.2, Re...|[null, S-1.2, S-4...|[S-1.2, S-41.1, S...|[Request, Request...|\n",
      "|         2|[[null, S-1.2, Re...|       [null, S-1.2]|       [S-1.2, null]| [Request, Response]|\n",
      "+----------+--------------------+--------------------+--------------------+--------------------+\n",
      "\n"
     ]
    }
   ],
   "source": [
    "grouped_df = df.groupBy(\"Process ID\").agg(collect_list(\"Log\").alias(\"Log\"), \n",
    "                                          collect_list(\"First Server\").alias(\"First Server\"),\n",
    "                                          collect_list(\"Second Server\").alias(\"Second Server\"),\n",
    "                                          collect_list(\"Communication Type\").alias(\"FCommunication Type\"))\n",
    "\n",
    "grouped_df.printSchema()\n",
    "grouped_df.show()"
   ]
  },
  {
   "cell_type": "code",
   "execution_count": 8,
   "metadata": {},
   "outputs": [
    {
     "name": "stdout",
     "output_type": "stream",
     "text": [
      "+--------------------+------------+-------------+------------------+----------+\n",
      "|                 Log|First Server|Second Server|Communication Type|Process ID|\n",
      "+--------------------+------------+-------------+------------------+----------+\n",
      "|[null, S-1.2, Req...|        null|        S-1.2|           Request|         0|\n",
      "|[S-1.2, null, Res...|       S-1.2|         null|          Response|         0|\n",
      "|[null, S-1.3, Req...|        null|        S-1.3|           Request|         1|\n",
      "|[S-1.3, S-48.2, R...|       S-1.3|       S-48.2|           Request|         1|\n",
      "|[S-48.2, S-27.3, ...|      S-48.2|       S-27.3|           Request|         1|\n",
      "|[S-27.3, S-48.2, ...|      S-27.3|       S-48.2|          Response|         1|\n",
      "|[S-48.2, S-1.3, R...|      S-48.2|        S-1.3|          Response|         1|\n",
      "|[S-1.3, null, Res...|       S-1.3|         null|          Response|         1|\n",
      "|[null, S-1.2, Req...|        null|        S-1.2|           Request|         2|\n",
      "|[S-1.2, null, Res...|       S-1.2|         null|          Response|         2|\n",
      "|[null, S-1.3, Req...|        null|        S-1.3|           Request|         3|\n",
      "|[S-1.3, S-24.3, R...|       S-1.3|       S-24.3|           Request|         3|\n",
      "|[S-24.3, S-17.2, ...|      S-24.3|       S-17.2|           Request|         3|\n",
      "|[S-17.2, S-28.3, ...|      S-17.2|       S-28.3|           Request|         3|\n",
      "|[S-28.3, S-29.3, ...|      S-28.3|       S-29.3|           Request|         3|\n",
      "|[S-29.3, S-32.1, ...|      S-29.3|       S-32.1|           Request|         3|\n",
      "|[S-32.1, S-29.3, ...|      S-32.1|       S-29.3|          Response|         3|\n",
      "|[S-29.3, S-32.2, ...|      S-29.3|       S-32.2|           Request|         3|\n",
      "|[S-32.2, S-29.3, ...|      S-32.2|       S-29.3|          Response|         3|\n",
      "|[S-29.3, S-28.3, ...|      S-29.3|       S-28.3|          Response|         3|\n",
      "+--------------------+------------+-------------+------------------+----------+\n",
      "only showing top 20 rows\n",
      "\n"
     ]
    }
   ],
   "source": [
    "df.show()"
   ]
  },
  {
   "cell_type": "code",
   "execution_count": 9,
   "metadata": {},
   "outputs": [
    {
     "name": "stdout",
     "output_type": "stream",
     "text": [
      "root\n",
      " |-- Process ID: string (nullable = true)\n",
      " |-- First Server: array (nullable = false)\n",
      " |    |-- element: string (containsNull = false)\n",
      " |-- Second Server: array (nullable = false)\n",
      " |    |-- element: string (containsNull = false)\n",
      " |-- Servers: array (nullable = false)\n",
      " |    |-- element: string (containsNull = false)\n",
      "\n",
      "+----------+--------------------+--------------------+--------------------+\n",
      "|Process ID|        First Server|       Second Server|             Servers|\n",
      "+----------+--------------------+--------------------+--------------------+\n",
      "|         7|[S-23.1, S-1.1, S...|[S-23.1, S-1.1, S...|[S-23.1, S-1.1, S...|\n",
      "|        15|[S-1.1, S-38.1, n...|[S-1.1, S-38.1, n...|[S-1.1, S-38.1, n...|\n",
      "|        11|[S-44.4, S-2.3, S...|[S-44.4, S-2.3, S...|[S-44.4, S-2.3, S...|\n",
      "|         3|[S-1.3, S-28.3, S...|[S-1.3, S-28.3, S...|[S-1.3, S-28.3, S...|\n",
      "|         8|       [S-1.2, null]|       [S-1.2, null]|       [S-1.2, null]|\n",
      "|        16|[S-1.1, S-23.3, n...|[S-1.1, S-23.3, n...|[S-1.1, S-23.3, n...|\n",
      "|         0|       [S-1.2, null]|       [S-1.2, null]|       [S-1.2, null]|\n",
      "|         5|[S-41.2, S-1.3, S...|[S-41.2, S-1.3, S...|[S-41.2, S-1.3, S...|\n",
      "|        18|[S-9.2, S-1.3, S-...|[S-9.2, S-1.3, S-...|[S-9.2, S-1.3, S-...|\n",
      "|        17|[S-1.3, S-26.4, S...|[S-1.3, S-26.4, S...|[S-1.3, S-26.4, S...|\n",
      "|         6|       [S-1.2, null]|       [S-1.2, null]|       [S-1.2, null]|\n",
      "|        19|[S-1.1, S-35.1, S...|[S-1.1, S-35.1, S...|[S-1.1, S-35.1, S...|\n",
      "|         9|[S-48.2, S-25.1, ...|[S-48.2, S-25.1, ...|[S-48.2, S-25.1, ...|\n",
      "|         1|[S-48.2, S-1.3, n...|[S-48.2, S-1.3, S...|[S-48.2, S-1.3, n...|\n",
      "|        10|       [S-1.1, null]|       [S-1.1, null]|       [S-1.1, null]|\n",
      "|         4|[S-1.3, S-20.3, n...|[S-1.3, S-20.3, n...|[S-1.3, S-20.3, n...|\n",
      "|        12|       [S-1.2, null]|       [S-1.2, null]|       [S-1.2, null]|\n",
      "|        13|[S-15.3, S-1.2, n...|[S-15.3, S-1.2, n...|[S-15.3, S-1.2, n...|\n",
      "|        14|[S-14.2, S-41.1, ...|[S-14.2, S-41.1, ...|[S-14.2, S-41.1, ...|\n",
      "|         2|       [S-1.2, null]|       [S-1.2, null]|       [S-1.2, null]|\n",
      "+----------+--------------------+--------------------+--------------------+\n",
      "\n"
     ]
    }
   ],
   "source": [
    "distinct_servers_df = df.groupBy(\"Process ID\").agg(collect_set(\"First Server\").alias(\"First Server\"),\n",
    "                                                   collect_set(\"Second Server\").alias(\"Second Server\"))\n",
    "\n",
    "distinct_servers_df = distinct_servers_df.withColumn(\"Servers\", array_union(\"First Server\", \"Second Server\"))\n",
    "\n",
    "distinct_servers_df.printSchema()\n",
    "distinct_servers_df.show()"
   ]
  },
  {
   "cell_type": "code",
   "execution_count": 10,
   "metadata": {},
   "outputs": [
    {
     "name": "stdout",
     "output_type": "stream",
     "text": [
      "root\n",
      " |-- Process ID: string (nullable = true)\n",
      " |-- Characteristic Matrix: vector (nullable = true)\n",
      "\n",
      "+----------+---------------------+\n",
      "|Process ID|Characteristic Matrix|\n",
      "+----------+---------------------+\n",
      "|         7| (45,[0,3,4,5,27,3...|\n",
      "|        15| (45,[0,3,11],[1.0...|\n",
      "|        11| (45,[0,2,5,16,22,...|\n",
      "|         3| (45,[0,2,10,19,20...|\n",
      "|         8| (45,[0,1],[1.0,1.0])|\n",
      "|        16| (45,[0,3,34],[1.0...|\n",
      "|         0| (45,[0,1],[1.0,1.0])|\n",
      "|         5| (45,[0,2,13,15],[...|\n",
      "|        18| (45,[0,2,12,41],[...|\n",
      "|        17| (45,[0,2,8,21,23,...|\n",
      "|         6| (45,[0,1],[1.0,1.0])|\n",
      "|        19| (45,[0,3,4,7,14,1...|\n",
      "|         9| (45,[0,1,6,25,38]...|\n",
      "|         1| (45,[0,2,6,31],[1...|\n",
      "|        10| (45,[0,3],[1.0,1.0])|\n",
      "|         4| (45,[0,2,9],[1.0,...|\n",
      "|        12| (45,[0,1],[1.0,1.0])|\n",
      "|        13| (45,[0,1,24],[1.0...|\n",
      "|        14| (45,[0,1,17,26],[...|\n",
      "|         2| (45,[0,1],[1.0,1.0])|\n",
      "+----------+---------------------+\n",
      "\n",
      "Rows of Characteristic Matrix:  ['null', 'S-1.2', 'S-1.3', 'S-1.1', 'S-20.1', 'S-19.4', 'S-48.2', 'S-27.1', 'S-12.2', 'S-20.3', 'S-28.3', 'S-38.1', 'S-23.2', 'S-45.3', 'S-36.3', 'S-41.2', 'S-36.2', 'S-14.2', 'S-5.1', 'S-29.3', 'S-32.2', 'S-40.3', 'S-2.3', 'S-26.4', 'S-15.3', 'S-11.2', 'S-41.1', 'S-30.3', 'S-9.3', 'S-44.4', 'S-4.3', 'S-27.3', 'S-46.4', 'S-32.1', 'S-23.3', 'S-31.3', 'S-20.2', 'S-24.3', 'S-25.1', 'S-32.3', 'S-35.3', 'S-9.2', 'S-17.2', 'S-23.1', 'S-35.1']\n"
     ]
    }
   ],
   "source": [
    "characteristics = CountVectorizer(inputCol=\"Servers\", outputCol=\"Characteristic Matrix\")\n",
    "\n",
    "model = characteristics.fit(distinct_servers_df)\n",
    "char_matrix = model.transform(distinct_servers_df).select(\"Process ID\", \"Characteristic Matrix\")\n",
    "\n",
    "char_matrix.printSchema()\n",
    "char_matrix.show()\n",
    "\n",
    "servers = model.vocabulary\n",
    "print(\"Rows of Characteristic Matrix: \", servers)"
   ]
  },
  {
   "cell_type": "code",
   "execution_count": 11,
   "metadata": {},
   "outputs": [
    {
     "name": "stdout",
     "output_type": "stream",
     "text": [
      "+----------+---------------------+--------------------+\n",
      "|Process ID|Characteristic Matrix|             Buckets|\n",
      "+----------+---------------------+--------------------+\n",
      "|         7| (45,[0,3,4,5,27,3...|[[4.93447561E8], ...|\n",
      "|        15| (45,[0,3,11],[1.0...|[[3.7583083E7], [...|\n",
      "|        11| (45,[0,2,5,16,22,...|[[1.76222501E8], ...|\n",
      "|         3| (45,[0,2,10,19,20...|[[1.00245088E8], ...|\n",
      "|         8| (45,[0,1],[1.0,1.0])|[[7.97357213E8], ...|\n",
      "|        16| (45,[0,3,34],[1.0...|[[3.28177327E8], ...|\n",
      "|         0| (45,[0,1],[1.0,1.0])|[[7.97357213E8], ...|\n",
      "|         5| (45,[0,2,13,15],[...|[[7.213798E8], [8...|\n",
      "|        18| (45,[0,2,12,41],[...|[[7.213798E8], [2...|\n",
      "|        17| (45,[0,2,8,21,23,...|[[2.52199914E8], ...|\n",
      "|         6| (45,[0,1],[1.0,1.0])|[[7.97357213E8], ...|\n",
      "|        19| (45,[0,3,4,7,14,1...|[[3.41492735E8], ...|\n",
      "|         9| (45,[0,1,6,25,38]...|[[2.4267675E7], [...|\n",
      "|         1| (45,[0,2,6,31],[1...|[[4.17470148E8], ...|\n",
      "|        10| (45,[0,3],[1.0,1.0])|[[6.45402387E8], ...|\n",
      "|         4| (45,[0,2,9],[1.0,...|[[1.89537909E8], ...|\n",
      "|        12| (45,[0,1],[1.0,1.0])|[[7.97357213E8], ...|\n",
      "|        13| (45,[0,1,24],[1.0...|[[7.97357213E8], ...|\n",
      "|        14| (45,[0,1,17,26],[...|[[7.97357213E8], ...|\n",
      "|         2| (45,[0,1],[1.0,1.0])|[[7.97357213E8], ...|\n",
      "+----------+---------------------+--------------------+\n",
      "\n"
     ]
    }
   ],
   "source": [
    "minhash = MinHashLSH(inputCol=\"Characteristic Matrix\", outputCol=\"Buckets\", numHashTables=2)\n",
    "model = minhash.fit(char_matrix)\n",
    "buckets = model.transform(char_matrix)\n",
    "\n",
    "buckets.show()"
   ]
  },
  {
   "cell_type": "code",
   "execution_count": 12,
   "metadata": {},
   "outputs": [
    {
     "name": "stdout",
     "output_type": "stream",
     "text": [
      "+--------------------+--------------------+-------------------+\n",
      "|            datasetA|            datasetB|    JaccardDistance|\n",
      "+--------------------+--------------------+-------------------+\n",
      "|{16, (45,[0,3,34]...|{15, [[3.7583083E...|                0.5|\n",
      "|{14, (45,[0,1,17,...|{8, [[7.97357213E...|                0.5|\n",
      "|{15, (45,[0,3,11]...|{16, [[3.28177327...|                0.5|\n",
      "|{3, (45,[0,2,10,1...|{1, [[4.17470148E...|                0.8|\n",
      "|{4, (45,[0,2,9],[...|{1, [[4.17470148E...|                0.6|\n",
      "|{18, (45,[0,2,12,...|{1, [[4.17470148E...| 0.6666666666666667|\n",
      "|{14, (45,[0,1,17,...|{2, [[7.97357213E...|                0.5|\n",
      "|{2, (45,[0,1],[1....|{13, [[7.97357213...|0.33333333333333337|\n",
      "|{8, (45,[0,1],[1....|{14, [[7.97357213...|                0.5|\n",
      "|{12, (45,[0,1],[1...|{0, [[7.97357213E...|                0.0|\n",
      "|{4, (45,[0,2,9],[...|{18, [[7.213798E8...|                0.6|\n",
      "|{17, (45,[0,2,8,2...|{17, [[2.52199914...|                0.0|\n",
      "|{3, (45,[0,2,10,1...|{4, [[1.89537909E...| 0.7777777777777778|\n",
      "|{0, (45,[0,1],[1....|{0, [[7.97357213E...|                0.0|\n",
      "|{13, (45,[0,1,24]...|{14, [[7.97357213...|                0.6|\n",
      "|{3, (45,[0,2,10,1...|{3, [[1.00245088E...|                0.0|\n",
      "|{16, (45,[0,3,34]...|{10, [[6.45402387...|0.33333333333333337|\n",
      "|{6, (45,[0,1],[1....|{14, [[7.97357213...|                0.5|\n",
      "|{13, (45,[0,1,24]...|{13, [[7.97357213...|                0.0|\n",
      "|{15, (45,[0,3,11]...|{19, [[3.41492735...|               0.75|\n",
      "+--------------------+--------------------+-------------------+\n",
      "only showing top 20 rows\n",
      "\n"
     ]
    }
   ],
   "source": [
    "similar_pairs = model.approxSimilarityJoin(buckets, buckets, 1, distCol=\"JaccardDistance\")\n",
    "similar_pairs.show()"
   ]
  },
  {
   "cell_type": "code",
   "execution_count": 13,
   "metadata": {},
   "outputs": [
    {
     "name": "stdout",
     "output_type": "stream",
     "text": [
      "+--------------------+--------------------+---------------+\n",
      "|            datasetA|            datasetB|JaccardDistance|\n",
      "+--------------------+--------------------+---------------+\n",
      "|{12, (45,[0,1],[1...|{0, [[7.97357213E...|            0.0|\n",
      "|{17, (45,[0,2,8,2...|{17, [[2.52199914...|            0.0|\n",
      "|{0, (45,[0,1],[1....|{0, [[7.97357213E...|            0.0|\n",
      "|{3, (45,[0,2,10,1...|{3, [[1.00245088E...|            0.0|\n",
      "|{13, (45,[0,1,24]...|{13, [[7.97357213...|            0.0|\n",
      "|{12, (45,[0,1],[1...|{12, [[7.97357213...|            0.0|\n",
      "|{12, (45,[0,1],[1...|{6, [[7.97357213E...|            0.0|\n",
      "|{8, (45,[0,1],[1....|{2, [[7.97357213E...|            0.0|\n",
      "|{6, (45,[0,1],[1....|{12, [[7.97357213...|            0.0|\n",
      "|{12, (45,[0,1],[1...|{8, [[7.97357213E...|            0.0|\n",
      "|{6, (45,[0,1],[1....|{0, [[7.97357213E...|            0.0|\n",
      "|{15, (45,[0,3,11]...|{15, [[3.7583083E...|            0.0|\n",
      "|{8, (45,[0,1],[1....|{8, [[7.97357213E...|            0.0|\n",
      "|{16, (45,[0,3,34]...|{16, [[3.28177327...|            0.0|\n",
      "|{0, (45,[0,1],[1....|{2, [[7.97357213E...|            0.0|\n",
      "|{0, (45,[0,1],[1....|{6, [[7.97357213E...|            0.0|\n",
      "|{2, (45,[0,1],[1....|{6, [[7.97357213E...|            0.0|\n",
      "|{4, (45,[0,2,9],[...|{4, [[1.89537909E...|            0.0|\n",
      "|{2, (45,[0,1],[1....|{2, [[7.97357213E...|            0.0|\n",
      "|{0, (45,[0,1],[1....|{12, [[7.97357213...|            0.0|\n",
      "+--------------------+--------------------+---------------+\n",
      "only showing top 20 rows\n",
      "\n"
     ]
    }
   ],
   "source": [
    "zero_distance_processes = similar_pairs.filter(col(\"JaccardDistance\") == 0)\n",
    "zero_distance_processes.show()"
   ]
  },
  {
   "cell_type": "code",
   "execution_count": 14,
   "metadata": {},
   "outputs": [
    {
     "name": "stdout",
     "output_type": "stream",
     "text": [
      "+--------+--------+\n",
      "|ProcessA|ProcessB|\n",
      "+--------+--------+\n",
      "|      12|       0|\n",
      "|      17|      17|\n",
      "|       0|       0|\n",
      "|       3|       3|\n",
      "|      13|      13|\n",
      "|      12|      12|\n",
      "|      12|       6|\n",
      "|       8|       2|\n",
      "|       6|      12|\n",
      "|      12|       8|\n",
      "|       6|       0|\n",
      "|      15|      15|\n",
      "|       8|       8|\n",
      "|      16|      16|\n",
      "|       0|       2|\n",
      "|       0|       6|\n",
      "|       2|       6|\n",
      "|       4|       4|\n",
      "|       2|       2|\n",
      "|       0|      12|\n",
      "+--------+--------+\n",
      "only showing top 20 rows\n",
      "\n"
     ]
    }
   ],
   "source": [
    "process_a_b = zero_distance_processes.select(\n",
    "    col(\"datasetA.Process ID\").alias(\"ProcessA\"),\n",
    "    col(\"datasetB.Process ID\").alias(\"ProcessB\"),\n",
    ")\n",
    "process_a_b.show()"
   ]
  },
  {
   "cell_type": "code",
   "execution_count": 15,
   "metadata": {},
   "outputs": [
    {
     "name": "stdout",
     "output_type": "stream",
     "text": [
      "+--------+----------------+\n",
      "|ProcessA|     Process Set|\n",
      "+--------+----------------+\n",
      "|       7|             [7]|\n",
      "|      15|            [15]|\n",
      "|      11|            [11]|\n",
      "|       3|             [3]|\n",
      "|       8|[12, 2, 8, 6, 0]|\n",
      "|      16|            [16]|\n",
      "|       0|[12, 2, 8, 6, 0]|\n",
      "|       5|             [5]|\n",
      "|      18|            [18]|\n",
      "|      17|            [17]|\n",
      "|       6|[12, 2, 8, 6, 0]|\n",
      "|      19|            [19]|\n",
      "|       9|             [9]|\n",
      "|       1|             [1]|\n",
      "|      10|            [10]|\n",
      "|       4|             [4]|\n",
      "|      12|[12, 2, 8, 6, 0]|\n",
      "|      13|            [13]|\n",
      "|      14|            [14]|\n",
      "|       2|[12, 2, 8, 6, 0]|\n",
      "+--------+----------------+\n",
      "\n"
     ]
    }
   ],
   "source": [
    "grouped = process_a_b.groupBy(\"ProcessA\").agg(collect_set(\"ProcessB\").alias(\"Process Set\"))\n",
    "grouped.show()"
   ]
  },
  {
   "cell_type": "code",
   "execution_count": 16,
   "metadata": {},
   "outputs": [
    {
     "name": "stdout",
     "output_type": "stream",
     "text": [
      "+----------------+\n",
      "|     Process Set|\n",
      "+----------------+\n",
      "|             [7]|\n",
      "|            [15]|\n",
      "|            [11]|\n",
      "|             [3]|\n",
      "|            [16]|\n",
      "|             [5]|\n",
      "|            [18]|\n",
      "|            [17]|\n",
      "|[12, 2, 8, 6, 0]|\n",
      "|            [19]|\n",
      "|             [9]|\n",
      "|             [1]|\n",
      "|            [10]|\n",
      "|             [4]|\n",
      "|            [13]|\n",
      "|            [14]|\n",
      "+----------------+\n",
      "\n"
     ]
    }
   ],
   "source": [
    "# TODO:\n",
    "# this currently only works because currently self distance is being calculated (= 0)\n",
    "# if this is fixed, may need to first create a column merging process A and Process Set then grabbing distinct \n",
    "unique_processes_set = grouped.select(col(\"Process Set\")).distinct()\n",
    "unique_processes_set.show()"
   ]
  },
  {
   "cell_type": "code",
   "execution_count": 17,
   "metadata": {},
   "outputs": [],
   "source": [
    "unique_processes_set_log = unique_processes_set.join(grouped_df, element_at(col(\"Process Set\"), 1) == col(\"Process ID\"),\n",
    "    \"inner\").select(unique_processes_set['Process Set'], grouped_df['Log'])"
   ]
  },
  {
   "cell_type": "code",
   "execution_count": 18,
   "metadata": {},
   "outputs": [
    {
     "name": "stdout",
     "output_type": "stream",
     "text": [
      "+----------------+--------------------+\n",
      "|     Process Set|                 Log|\n",
      "+----------------+--------------------+\n",
      "|             [7]|[[null, S-1.1, Re...|\n",
      "|            [15]|[[null, S-1.1, Re...|\n",
      "|            [11]|[[null, S-1.3, Re...|\n",
      "|             [3]|[[null, S-1.3, Re...|\n",
      "|            [16]|[[null, S-1.1, Re...|\n",
      "|             [5]|[[null, S-1.3, Re...|\n",
      "|            [18]|[[null, S-1.3, Re...|\n",
      "|            [17]|[[null, S-1.3, Re...|\n",
      "|[12, 2, 8, 6, 0]|[[null, S-1.2, Re...|\n",
      "|            [19]|[[null, S-1.1, Re...|\n",
      "|             [9]|[[null, S-1.2, Re...|\n",
      "|             [1]|[[null, S-1.3, Re...|\n",
      "|            [10]|[[null, S-1.1, Re...|\n",
      "|             [4]|[[null, S-1.3, Re...|\n",
      "|            [13]|[[null, S-1.2, Re...|\n",
      "|            [14]|[[null, S-1.2, Re...|\n",
      "+----------------+--------------------+\n",
      "\n"
     ]
    }
   ],
   "source": [
    "# perhaps for part1Output.txt\n",
    "unique_processes_set_log.show()"
   ]
  },
  {
   "cell_type": "code",
   "execution_count": 19,
   "metadata": {},
   "outputs": [],
   "source": [
    "# for part1Observation.txt\n",
    "all_processes = unique_processes_set.withColumn(\"Process ID\", explode(col(\"Process Set\")))\n",
    "joined_log = all_processes.join(grouped_df, \"Process ID\", \"inner\").select(\"Process Set\", \"Process ID\", \"Log\").collect()"
   ]
  },
  {
   "cell_type": "code",
   "execution_count": 20,
   "metadata": {},
   "outputs": [
    {
     "name": "stderr",
     "output_type": "stream",
     "text": [
      "24/06/15 17:10:28 WARN GarbageCollectionMetrics: To enable non-built-in garbage collector(s) List(G1 Concurrent GC), users should configure it(them) to spark.eventLog.gcMetrics.youngGenerationGarbageCollectors or spark.eventLog.gcMetrics.oldGenerationGarbageCollectors\n"
     ]
    }
   ],
   "source": [
    "with open(\"part1Observations.txt\", \"w\") as file:\n",
    "    current_group = None\n",
    "    for row in joined_log:\n",
    "        process_set = row[\"Process Set\"]\n",
    "        process_id = row[\"Process ID\"]\n",
    "        log = row[\"Log\"]\n",
    "        \n",
    "        if process_set != current_group:\n",
    "            file.write(\"\\n\")\n",
    "            process_set_string = ', '.join(str(x) for x in process_set)\n",
    "            file.write(f\"Group: {{{process_set_string}}}\\n\")\n",
    "            current_group = process_set\n",
    "        \n",
    "        file.write(f\"\\n{process_id}:\\n\")\n",
    "        for l in log:\n",
    "            log_concat = ', '.join(str(x) for x in l)\n",
    "            file.write(f\"<{log_concat}>\\n\")"
   ]
  },
  {
   "cell_type": "code",
   "execution_count": null,
   "metadata": {},
   "outputs": [],
   "source": []
  }
 ],
 "metadata": {
  "kernelspec": {
   "display_name": "data_intensive_systems",
   "language": "python",
   "name": "python3"
  },
  "language_info": {
   "codemirror_mode": {
    "name": "ipython",
    "version": 3
   },
   "file_extension": ".py",
   "mimetype": "text/x-python",
   "name": "python",
   "nbconvert_exporter": "python",
   "pygments_lexer": "ipython3",
   "version": "3.12.3"
  }
 },
 "nbformat": 4,
 "nbformat_minor": 2
}
