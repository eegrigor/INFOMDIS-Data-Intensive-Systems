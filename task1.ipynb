{
 "cells": [
  {
   "cell_type": "code",
   "execution_count": 214,
   "metadata": {},
   "outputs": [],
   "source": [
    "import pyspark\n",
    "from pyspark import SparkContext, SparkConf\n",
    "from pyspark.sql import SparkSession\n",
    "import pandas as pd \n",
    "import numpy as np \n",
    "from pyspark.sql.functions import split, col, regexp_replace, collect_list, explode, concat, collect_set, array_union\n",
    "from pyspark.ml.feature import CountVectorizer\n",
    "from pyspark.ml.feature import MinHashLSH\n",
    "from pyspark.ml.linalg import Vectors"
   ]
  },
  {
   "cell_type": "code",
   "execution_count": 215,
   "metadata": {},
   "outputs": [
    {
     "data": {
      "text/html": [
       "\n",
       "            <div>\n",
       "                <p><b>SparkSession - in-memory</b></p>\n",
       "                \n",
       "        <div>\n",
       "            <p><b>SparkContext</b></p>\n",
       "\n",
       "            <p><a href=\"http://macbook-pro.home:4040\">Spark UI</a></p>\n",
       "\n",
       "            <dl>\n",
       "              <dt>Version</dt>\n",
       "                <dd><code>v3.5.1</code></dd>\n",
       "              <dt>Master</dt>\n",
       "                <dd><code>local[*]</code></dd>\n",
       "              <dt>AppName</dt>\n",
       "                <dd><code>MinHashExample</code></dd>\n",
       "            </dl>\n",
       "        </div>\n",
       "        \n",
       "            </div>\n",
       "        "
      ],
      "text/plain": [
       "<pyspark.sql.session.SparkSession at 0x137a401d0>"
      ]
     },
     "execution_count": 215,
     "metadata": {},
     "output_type": "execute_result"
    }
   ],
   "source": [
    "spark = SparkSession.builder \\\n",
    "    .appName(\"Projet-Task-1\") \\\n",
    "    .master(\"local[*]\") \\\n",
    "    .config(\"spark.driver.memory\", \"2G\") \\\n",
    "    .config(\"spark.driver.maxResultSize\", \"2g\") \\\n",
    "    .getOrCreate()\n",
    "spark"
   ]
  },
  {
   "cell_type": "code",
   "execution_count": 216,
   "metadata": {},
   "outputs": [],
   "source": [
    "# spark.stop()"
   ]
  },
  {
   "cell_type": "code",
   "execution_count": 217,
   "metadata": {},
   "outputs": [],
   "source": [
    "df = spark.read.text(\"data.txt\").toDF(\"Log\")"
   ]
  },
  {
   "cell_type": "code",
   "execution_count": 218,
   "metadata": {},
   "outputs": [
    {
     "name": "stdout",
     "output_type": "stream",
     "text": [
      "root\n",
      " |-- Log: array (nullable = true)\n",
      " |    |-- element: string (containsNull = false)\n",
      "\n",
      "+--------------------+\n",
      "|                 Log|\n",
      "+--------------------+\n",
      "|[null, S-1.2, Req...|\n",
      "|[S-1.2, null, Res...|\n",
      "|[null, S-1.3, Req...|\n",
      "|[S-1.3, S-48.2, R...|\n",
      "|[S-48.2, S-27.3, ...|\n",
      "|[S-27.3, S-48.2, ...|\n",
      "|[S-48.2, S-1.3, R...|\n",
      "|[S-1.3, null, Res...|\n",
      "|[null, S-1.2, Req...|\n",
      "|[S-1.2, null, Res...|\n",
      "|[null, S-1.3, Req...|\n",
      "|[S-1.3, S-24.3, R...|\n",
      "|[S-24.3, S-17.2, ...|\n",
      "|[S-17.2, S-28.3, ...|\n",
      "|[S-28.3, S-29.3, ...|\n",
      "|[S-29.3, S-32.1, ...|\n",
      "|[S-32.1, S-29.3, ...|\n",
      "|[S-29.3, S-32.2, ...|\n",
      "|[S-32.2, S-29.3, ...|\n",
      "|[S-29.3, S-28.3, ...|\n",
      "+--------------------+\n",
      "only showing top 20 rows\n",
      "\n",
      "First Server\n",
      "Second Server\n",
      "Communication Type\n",
      "Process ID\n",
      "root\n",
      " |-- Log: array (nullable = true)\n",
      " |    |-- element: string (containsNull = false)\n",
      " |-- First Server: string (nullable = true)\n",
      " |-- Second Server: string (nullable = true)\n",
      " |-- Communication Type: string (nullable = true)\n",
      " |-- Process ID: string (nullable = true)\n",
      "\n",
      "+--------------------+------------+-------------+------------------+----------+\n",
      "|                 Log|First Server|Second Server|Communication Type|Process ID|\n",
      "+--------------------+------------+-------------+------------------+----------+\n",
      "|[null, S-1.2, Req...|        null|        S-1.2|           Request|         0|\n",
      "|[S-1.2, null, Res...|       S-1.2|         null|          Response|         0|\n",
      "|[null, S-1.3, Req...|        null|        S-1.3|           Request|         1|\n",
      "|[S-1.3, S-48.2, R...|       S-1.3|       S-48.2|           Request|         1|\n",
      "|[S-48.2, S-27.3, ...|      S-48.2|       S-27.3|           Request|         1|\n",
      "|[S-27.3, S-48.2, ...|      S-27.3|       S-48.2|          Response|         1|\n",
      "|[S-48.2, S-1.3, R...|      S-48.2|        S-1.3|          Response|         1|\n",
      "|[S-1.3, null, Res...|       S-1.3|         null|          Response|         1|\n",
      "|[null, S-1.2, Req...|        null|        S-1.2|           Request|         2|\n",
      "|[S-1.2, null, Res...|       S-1.2|         null|          Response|         2|\n",
      "|[null, S-1.3, Req...|        null|        S-1.3|           Request|         3|\n",
      "|[S-1.3, S-24.3, R...|       S-1.3|       S-24.3|           Request|         3|\n",
      "|[S-24.3, S-17.2, ...|      S-24.3|       S-17.2|           Request|         3|\n",
      "|[S-17.2, S-28.3, ...|      S-17.2|       S-28.3|           Request|         3|\n",
      "|[S-28.3, S-29.3, ...|      S-28.3|       S-29.3|           Request|         3|\n",
      "|[S-29.3, S-32.1, ...|      S-29.3|       S-32.1|           Request|         3|\n",
      "|[S-32.1, S-29.3, ...|      S-32.1|       S-29.3|          Response|         3|\n",
      "|[S-29.3, S-32.2, ...|      S-29.3|       S-32.2|           Request|         3|\n",
      "|[S-32.2, S-29.3, ...|      S-32.2|       S-29.3|          Response|         3|\n",
      "|[S-29.3, S-28.3, ...|      S-29.3|       S-28.3|          Response|         3|\n",
      "+--------------------+------------+-------------+------------------+----------+\n",
      "only showing top 20 rows\n",
      "\n"
     ]
    }
   ],
   "source": [
    "df = df.withColumn(\"Log\", regexp_replace(col(\"Log\"), \"[<>]\", \"\"))\n",
    "df = df.withColumn(\"Log\", regexp_replace(col(\"Log\"), \",\", \"\"))\n",
    "df = df.withColumn(\"Log\", split(col(\"Log\"), \" \"))\n",
    "\n",
    "df.printSchema()\n",
    "df.show()\n",
    "\n",
    "columns = [\"First Server\", \"Second Server\", \"Communication Type\", \"Process ID\"]\n",
    "\n",
    "for i in range(len(columns)):\n",
    "    print(columns[i])\n",
    "    df = df.withColumn(columns[i], col(\"Log\")[i])\n",
    "\n",
    "df.printSchema()\n",
    "df.show()"
   ]
  },
  {
   "cell_type": "code",
   "execution_count": 219,
   "metadata": {},
   "outputs": [
    {
     "name": "stdout",
     "output_type": "stream",
     "text": [
      "root\n",
      " |-- Process ID: string (nullable = true)\n",
      " |-- Log: array (nullable = false)\n",
      " |    |-- element: array (containsNull = false)\n",
      " |    |    |-- element: string (containsNull = false)\n",
      " |-- First Server: array (nullable = false)\n",
      " |    |-- element: string (containsNull = false)\n",
      " |-- Second Server: array (nullable = false)\n",
      " |    |-- element: string (containsNull = false)\n",
      " |-- FCommunication Type: array (nullable = false)\n",
      " |    |-- element: string (containsNull = false)\n",
      "\n",
      "+----------+--------------------+--------------------+--------------------+--------------------+\n",
      "|Process ID|                 Log|        First Server|       Second Server| FCommunication Type|\n",
      "+----------+--------------------+--------------------+--------------------+--------------------+\n",
      "|         7|[[null, S-1.1, Re...|[null, S-1.1, S-2...|[S-1.1, S-23.1, S...|[Request, Request...|\n",
      "|        15|[[null, S-1.1, Re...|[null, S-1.1, S-3...|[S-1.1, S-38.1, S...|[Request, Request...|\n",
      "|        11|[[null, S-1.3, Re...|[null, S-1.3, S-4...|[S-1.3, S-44.4, S...|[Request, Request...|\n",
      "|         3|[[null, S-1.3, Re...|[null, S-1.3, S-2...|[S-1.3, S-24.3, S...|[Request, Request...|\n",
      "|         8|[[null, S-1.2, Re...|       [null, S-1.2]|       [S-1.2, null]| [Request, Response]|\n",
      "|        16|[[null, S-1.1, Re...|[null, S-1.1, S-2...|[S-1.1, S-23.3, S...|[Request, Request...|\n",
      "|         0|[[null, S-1.2, Re...|       [null, S-1.2]|       [S-1.2, null]| [Request, Response]|\n",
      "|         5|[[null, S-1.3, Re...|[null, S-1.3, S-4...|[S-1.3, S-45.3, S...|[Request, Request...|\n",
      "|        18|[[null, S-1.3, Re...|[null, S-1.3, S-2...|[S-1.3, S-23.2, S...|[Request, Request...|\n",
      "|        17|[[null, S-1.3, Re...|[null, S-1.3, S-2...|[S-1.3, S-26.4, S...|[Request, Request...|\n",
      "|         6|[[null, S-1.2, Re...|       [null, S-1.2]|       [S-1.2, null]| [Request, Response]|\n",
      "|        19|[[null, S-1.1, Re...|[null, S-1.1, S-2...|[S-1.1, S-27.1, S...|[Request, Request...|\n",
      "|         9|[[null, S-1.2, Re...|[null, S-1.2, S-4...|[S-1.2, S-48.2, S...|[Request, Request...|\n",
      "|         1|[[null, S-1.3, Re...|[null, S-1.3, S-4...|[S-1.3, S-48.2, S...|[Request, Request...|\n",
      "|        10|[[null, S-1.1, Re...|       [null, S-1.1]|       [S-1.1, null]| [Request, Response]|\n",
      "|         4|[[null, S-1.3, Re...|[null, S-1.3, S-2...|[S-1.3, S-20.3, S...|[Request, Request...|\n",
      "|        12|[[null, S-1.2, Re...|       [null, S-1.2]|       [S-1.2, null]| [Request, Response]|\n",
      "|        13|[[null, S-1.2, Re...|[null, S-1.2, S-1...|[S-1.2, S-15.3, S...|[Request, Request...|\n",
      "|        14|[[null, S-1.2, Re...|[null, S-1.2, S-4...|[S-1.2, S-41.1, S...|[Request, Request...|\n",
      "|         2|[[null, S-1.2, Re...|       [null, S-1.2]|       [S-1.2, null]| [Request, Response]|\n",
      "+----------+--------------------+--------------------+--------------------+--------------------+\n",
      "\n"
     ]
    }
   ],
   "source": [
    "grouped_df = df.groupBy(\"Process ID\").agg(collect_list(\"Log\").alias(\"Log\"), \n",
    "                                          collect_list(\"First Server\").alias(\"First Server\"),\n",
    "                                          collect_list(\"Second Server\").alias(\"Second Server\"),\n",
    "                                          collect_list(\"Communication Type\").alias(\"FCommunication Type\"))\n",
    "\n",
    "grouped_df.printSchema()\n",
    "grouped_df.show()"
   ]
  },
  {
   "cell_type": "code",
   "execution_count": 220,
   "metadata": {},
   "outputs": [
    {
     "name": "stdout",
     "output_type": "stream",
     "text": [
      "+--------------------+------------+-------------+------------------+----------+\n",
      "|                 Log|First Server|Second Server|Communication Type|Process ID|\n",
      "+--------------------+------------+-------------+------------------+----------+\n",
      "|[null, S-1.2, Req...|        null|        S-1.2|           Request|         0|\n",
      "|[S-1.2, null, Res...|       S-1.2|         null|          Response|         0|\n",
      "|[null, S-1.3, Req...|        null|        S-1.3|           Request|         1|\n",
      "|[S-1.3, S-48.2, R...|       S-1.3|       S-48.2|           Request|         1|\n",
      "|[S-48.2, S-27.3, ...|      S-48.2|       S-27.3|           Request|         1|\n",
      "|[S-27.3, S-48.2, ...|      S-27.3|       S-48.2|          Response|         1|\n",
      "|[S-48.2, S-1.3, R...|      S-48.2|        S-1.3|          Response|         1|\n",
      "|[S-1.3, null, Res...|       S-1.3|         null|          Response|         1|\n",
      "|[null, S-1.2, Req...|        null|        S-1.2|           Request|         2|\n",
      "|[S-1.2, null, Res...|       S-1.2|         null|          Response|         2|\n",
      "|[null, S-1.3, Req...|        null|        S-1.3|           Request|         3|\n",
      "|[S-1.3, S-24.3, R...|       S-1.3|       S-24.3|           Request|         3|\n",
      "|[S-24.3, S-17.2, ...|      S-24.3|       S-17.2|           Request|         3|\n",
      "|[S-17.2, S-28.3, ...|      S-17.2|       S-28.3|           Request|         3|\n",
      "|[S-28.3, S-29.3, ...|      S-28.3|       S-29.3|           Request|         3|\n",
      "|[S-29.3, S-32.1, ...|      S-29.3|       S-32.1|           Request|         3|\n",
      "|[S-32.1, S-29.3, ...|      S-32.1|       S-29.3|          Response|         3|\n",
      "|[S-29.3, S-32.2, ...|      S-29.3|       S-32.2|           Request|         3|\n",
      "|[S-32.2, S-29.3, ...|      S-32.2|       S-29.3|          Response|         3|\n",
      "|[S-29.3, S-28.3, ...|      S-29.3|       S-28.3|          Response|         3|\n",
      "+--------------------+------------+-------------+------------------+----------+\n",
      "only showing top 20 rows\n",
      "\n"
     ]
    }
   ],
   "source": [
    "df.show()"
   ]
  },
  {
   "cell_type": "code",
   "execution_count": 221,
   "metadata": {},
   "outputs": [
    {
     "name": "stdout",
     "output_type": "stream",
     "text": [
      "root\n",
      " |-- Process ID: string (nullable = true)\n",
      " |-- First Server: array (nullable = false)\n",
      " |    |-- element: string (containsNull = false)\n",
      " |-- Second Server: array (nullable = false)\n",
      " |    |-- element: string (containsNull = false)\n",
      " |-- Servers: array (nullable = false)\n",
      " |    |-- element: string (containsNull = false)\n",
      "\n",
      "+----------+--------------------+--------------------+--------------------+\n",
      "|Process ID|        First Server|       Second Server|             Servers|\n",
      "+----------+--------------------+--------------------+--------------------+\n",
      "|         7|[S-23.1, S-1.1, S...|[S-23.1, S-1.1, S...|[S-23.1, S-1.1, S...|\n",
      "|        15|[S-1.1, S-38.1, n...|[S-1.1, S-38.1, n...|[S-1.1, S-38.1, n...|\n",
      "|        11|[S-44.4, S-2.3, S...|[S-44.4, S-2.3, S...|[S-44.4, S-2.3, S...|\n",
      "|         3|[S-1.3, S-28.3, S...|[S-1.3, S-28.3, S...|[S-1.3, S-28.3, S...|\n",
      "|         8|       [S-1.2, null]|       [S-1.2, null]|       [S-1.2, null]|\n",
      "|        16|[S-1.1, S-23.3, n...|[S-1.1, S-23.3, n...|[S-1.1, S-23.3, n...|\n",
      "|         0|       [S-1.2, null]|       [S-1.2, null]|       [S-1.2, null]|\n",
      "|         5|[S-41.2, S-1.3, S...|[S-41.2, S-1.3, S...|[S-41.2, S-1.3, S...|\n",
      "|        18|[S-9.2, S-1.3, S-...|[S-9.2, S-1.3, S-...|[S-9.2, S-1.3, S-...|\n",
      "|        17|[S-1.3, S-26.4, S...|[S-1.3, S-26.4, S...|[S-1.3, S-26.4, S...|\n",
      "|         6|       [S-1.2, null]|       [S-1.2, null]|       [S-1.2, null]|\n",
      "|        19|[S-1.1, S-35.1, S...|[S-1.1, S-35.1, S...|[S-1.1, S-35.1, S...|\n",
      "|         9|[S-48.2, S-25.1, ...|[S-48.2, S-25.1, ...|[S-48.2, S-25.1, ...|\n",
      "|         1|[S-48.2, S-1.3, n...|[S-48.2, S-1.3, S...|[S-48.2, S-1.3, n...|\n",
      "|        10|       [S-1.1, null]|       [S-1.1, null]|       [S-1.1, null]|\n",
      "|         4|[S-1.3, S-20.3, n...|[S-1.3, S-20.3, n...|[S-1.3, S-20.3, n...|\n",
      "|        12|       [S-1.2, null]|       [S-1.2, null]|       [S-1.2, null]|\n",
      "|        13|[S-15.3, S-1.2, n...|[S-15.3, S-1.2, n...|[S-15.3, S-1.2, n...|\n",
      "|        14|[S-14.2, S-41.1, ...|[S-14.2, S-41.1, ...|[S-14.2, S-41.1, ...|\n",
      "|         2|       [S-1.2, null]|       [S-1.2, null]|       [S-1.2, null]|\n",
      "+----------+--------------------+--------------------+--------------------+\n",
      "\n"
     ]
    }
   ],
   "source": [
    "distinct_servers_df = df.groupBy(\"Process ID\").agg(collect_set(\"First Server\").alias(\"First Server\"),\n",
    "                                                   collect_set(\"Second Server\").alias(\"Second Server\"))\n",
    "\n",
    "distinct_servers_df = distinct_servers_df.withColumn(\"Servers\", array_union(\"First Server\", \"Second Server\"))\n",
    "\n",
    "distinct_servers_df.printSchema()\n",
    "distinct_servers_df.show()"
   ]
  },
  {
   "cell_type": "code",
   "execution_count": 222,
   "metadata": {},
   "outputs": [
    {
     "name": "stdout",
     "output_type": "stream",
     "text": [
      "root\n",
      " |-- Process ID: string (nullable = true)\n",
      " |-- Characteristic Matrix: vector (nullable = true)\n",
      "\n",
      "+----------+---------------------+\n",
      "|Process ID|Characteristic Matrix|\n",
      "+----------+---------------------+\n",
      "|         7| (45,[0,3,4,5,27,3...|\n",
      "|        15| (45,[0,3,11],[1.0...|\n",
      "|        11| (45,[0,2,5,16,22,...|\n",
      "|         3| (45,[0,2,10,19,20...|\n",
      "|         8| (45,[0,1],[1.0,1.0])|\n",
      "|        16| (45,[0,3,34],[1.0...|\n",
      "|         0| (45,[0,1],[1.0,1.0])|\n",
      "|         5| (45,[0,2,13,15],[...|\n",
      "|        18| (45,[0,2,12,41],[...|\n",
      "|        17| (45,[0,2,8,21,23,...|\n",
      "|         6| (45,[0,1],[1.0,1.0])|\n",
      "|        19| (45,[0,3,4,7,14,1...|\n",
      "|         9| (45,[0,1,6,25,38]...|\n",
      "|         1| (45,[0,2,6,31],[1...|\n",
      "|        10| (45,[0,3],[1.0,1.0])|\n",
      "|         4| (45,[0,2,9],[1.0,...|\n",
      "|        12| (45,[0,1],[1.0,1.0])|\n",
      "|        13| (45,[0,1,24],[1.0...|\n",
      "|        14| (45,[0,1,17,26],[...|\n",
      "|         2| (45,[0,1],[1.0,1.0])|\n",
      "+----------+---------------------+\n",
      "\n",
      "Rows of Characteristic Matrix:  ['null', 'S-1.2', 'S-1.3', 'S-1.1', 'S-20.1', 'S-19.4', 'S-48.2', 'S-27.1', 'S-12.2', 'S-20.3', 'S-28.3', 'S-38.1', 'S-23.2', 'S-45.3', 'S-36.3', 'S-41.2', 'S-36.2', 'S-14.2', 'S-5.1', 'S-29.3', 'S-32.2', 'S-40.3', 'S-2.3', 'S-26.4', 'S-15.3', 'S-11.2', 'S-41.1', 'S-30.3', 'S-9.3', 'S-44.4', 'S-4.3', 'S-27.3', 'S-46.4', 'S-32.1', 'S-23.3', 'S-31.3', 'S-20.2', 'S-24.3', 'S-25.1', 'S-32.3', 'S-35.3', 'S-9.2', 'S-17.2', 'S-23.1', 'S-35.1']\n"
     ]
    }
   ],
   "source": [
    "characteristics = CountVectorizer(inputCol=\"Servers\", outputCol=\"Characteristic Matrix\")\n",
    "\n",
    "model = characteristics.fit(distinct_servers_df)\n",
    "char_matrix = model.transform(distinct_servers_df).select(\"Process ID\", \"Characteristic Matrix\")\n",
    "\n",
    "char_matrix.printSchema()\n",
    "char_matrix.show()\n",
    "\n",
    "servers = model.vocabulary\n",
    "print(\"Rows of Characteristic Matrix: \", servers)"
   ]
  },
  {
   "cell_type": "code",
   "execution_count": 223,
   "metadata": {},
   "outputs": [
    {
     "name": "stdout",
     "output_type": "stream",
     "text": [
      "+----------+---------------------+--------------------+\n",
      "|Process ID|Characteristic Matrix|             Buckets|\n",
      "+----------+---------------------+--------------------+\n",
      "|         7| (45,[0,3,4,5,27,3...|[[2.96260827E8], ...|\n",
      "|        15| (45,[0,3,11],[1.0...|[[7.38071409E8], ...|\n",
      "|        11| (45,[0,2,5,16,22,...|[[1.6949694E7], [...|\n",
      "|         3| (45,[0,2,10,19,20...|[[2.87782109E8], ...|\n",
      "|         8| (45,[0,1],[1.0,1.0])|[[2.42094344E8], ...|\n",
      "|        16| (45,[0,3,34],[1.0...|[[1.79449143E8], ...|\n",
      "|         0| (45,[0,1],[1.0,1.0])|[[2.42094344E8], ...|\n",
      "|         5| (45,[0,2,13,15],[...|[[4.04593793E8], ...|\n",
      "|        18| (45,[0,2,12,41],[...|[[7.38071409E8], ...|\n",
      "|        17| (45,[0,2,8,21,23,...|[[1.2528266E8], [...|\n",
      "|         6| (45,[0,1],[1.0,1.0])|[[2.42094344E8], ...|\n",
      "|        19| (45,[0,3,4,7,14,1...|[[7.38071409E8], ...|\n",
      "|         9| (45,[0,1,6,25,38]...|[[2.33615626E8], ...|\n",
      "|         1| (45,[0,2,6,31],[1...|[[7.38071409E8], ...|\n",
      "|        10| (45,[0,3],[1.0,1.0])|[[7.38071409E8], ...|\n",
      "|         4| (45,[0,2,9],[1.0,...|[[3.5042731E8], [...|\n",
      "|        12| (45,[0,1],[1.0,1.0])|[[2.42094344E8], ...|\n",
      "|        13| (45,[0,1,24],[1.0...|[[2.42094344E8], ...|\n",
      "|        14| (45,[0,1,17,26],[...|[[7.1116177E7], [...|\n",
      "|         2| (45,[0,1],[1.0,1.0])|[[2.42094344E8], ...|\n",
      "+----------+---------------------+--------------------+\n",
      "\n"
     ]
    }
   ],
   "source": [
    "minhash = MinHashLSH(inputCol=\"Characteristic Matrix\", outputCol=\"Buckets\", numHashTables=2)\n",
    "model = minhash.fit(char_matrix)\n",
    "buckets = model.transform(char_matrix)\n",
    "\n",
    "buckets.show()"
   ]
  },
  {
   "cell_type": "code",
   "execution_count": 224,
   "metadata": {},
   "outputs": [
    {
     "name": "stdout",
     "output_type": "stream",
     "text": [
      "+--------------------+--------------------+-------------------+\n",
      "|            datasetA|            datasetB|    JaccardDistance|\n",
      "+--------------------+--------------------+-------------------+\n",
      "|{6, (45,[0,1],[1....|{1, [[7.38071409E...|                0.8|\n",
      "|{1, (45,[0,2,6,31...|{10, [[7.38071409...|                0.8|\n",
      "|{0, (45,[0,1],[1....|{5, [[4.04593793E...|                0.8|\n",
      "|{4, (45,[0,2,9],[...|{13, [[2.42094344...|                0.8|\n",
      "|{4, (45,[0,2,9],[...|{12, [[2.42094344...|               0.75|\n",
      "|{12, (45,[0,1],[1...|{2, [[2.42094344E...|                0.0|\n",
      "|{13, (45,[0,1,24]...|{19, [[7.38071409...| 0.8888888888888888|\n",
      "|{2, (45,[0,1],[1....|{9, [[2.33615626E...|                0.6|\n",
      "|{8, (45,[0,1],[1....|{8, [[2.42094344E...|                0.0|\n",
      "|{5, (45,[0,2,13,1...|{13, [[2.42094344...| 0.8333333333333334|\n",
      "|{1, (45,[0,2,6,31...|{5, [[4.04593793E...| 0.6666666666666667|\n",
      "|{12, (45,[0,1],[1...|{3, [[2.87782109E...| 0.8888888888888888|\n",
      "|{6, (45,[0,1],[1....|{12, [[2.42094344...|                0.0|\n",
      "|{6, (45,[0,1],[1....|{13, [[2.42094344...|0.33333333333333337|\n",
      "|{3, (45,[0,2,10,1...|{9, [[2.33615626E...| 0.9166666666666666|\n",
      "|{8, (45,[0,1],[1....|{19, [[7.38071409...|              0.875|\n",
      "|{0, (45,[0,1],[1....|{6, [[2.42094344E...|                0.0|\n",
      "|{5, (45,[0,2,13,1...|{1, [[7.38071409E...| 0.6666666666666667|\n",
      "|{6, (45,[0,1],[1....|{0, [[2.42094344E...|                0.0|\n",
      "|{3, (45,[0,2,10,1...|{19, [[7.38071409...| 0.9285714285714286|\n",
      "+--------------------+--------------------+-------------------+\n",
      "only showing top 20 rows\n",
      "\n"
     ]
    }
   ],
   "source": [
    "similar_pairs = model.approxSimilarityJoin(buckets, buckets, 1, distCol=\"JaccardDistance\")\n",
    "similar_pairs.show()"
   ]
  }
 ],
 "metadata": {
  "kernelspec": {
   "display_name": "data_intensive_systems",
   "language": "python",
   "name": "python3"
  },
  "language_info": {
   "codemirror_mode": {
    "name": "ipython",
    "version": 3
   },
   "file_extension": ".py",
   "mimetype": "text/x-python",
   "name": "python",
   "nbconvert_exporter": "python",
   "pygments_lexer": "ipython3",
   "version": "3.11.9"
  }
 },
 "nbformat": 4,
 "nbformat_minor": 2
}
