{
 "cells": [
  {
   "cell_type": "code",
   "execution_count": 1,
   "metadata": {},
   "outputs": [],
   "source": [
    "import pyspark\n",
    "from pyspark import SparkContext, SparkConf\n",
    "from pyspark.sql import SparkSession\n",
    "import pandas as pd \n",
    "import numpy as np \n",
    "from pyspark.sql.functions import split, col, regexp_replace, collect_list, explode, concat, collect_set, array_union, flatten\n",
    "from pyspark.ml.feature import CountVectorizer\n",
    "from pyspark.ml.feature import MinHashLSH\n",
    "from pyspark.ml.linalg import Vectors\n",
    "from pyspark.sql import SparkSession\n",
    "from pyspark.sql.functions import col, udf\n",
    "from pyspark.sql.types import ArrayType, StringType, BooleanType"
   ]
  },
  {
   "cell_type": "code",
   "execution_count": 2,
   "metadata": {},
   "outputs": [
    {
     "name": "stderr",
     "output_type": "stream",
     "text": [
      "24/06/24 10:57:57 WARN Utils: Your hostname, abha-ThinkPad-P14s-Gen-4 resolves to a loopback address: 127.0.1.1; using 192.168.178.94 instead (on interface wlp2s0)\n",
      "24/06/24 10:57:57 WARN Utils: Set SPARK_LOCAL_IP if you need to bind to another address\n",
      "Setting default log level to \"WARN\".\n",
      "To adjust logging level use sc.setLogLevel(newLevel). For SparkR, use setLogLevel(newLevel).\n",
      "24/06/24 10:57:58 WARN NativeCodeLoader: Unable to load native-hadoop library for your platform... using builtin-java classes where applicable\n"
     ]
    },
    {
     "data": {
      "text/html": [
       "\n",
       "            <div>\n",
       "                <p><b>SparkSession - in-memory</b></p>\n",
       "                \n",
       "        <div>\n",
       "            <p><b>SparkContext</b></p>\n",
       "\n",
       "            <p><a href=\"http://192.168.178.94:4040\">Spark UI</a></p>\n",
       "\n",
       "            <dl>\n",
       "              <dt>Version</dt>\n",
       "                <dd><code>v3.5.1</code></dd>\n",
       "              <dt>Master</dt>\n",
       "                <dd><code>local[*]</code></dd>\n",
       "              <dt>AppName</dt>\n",
       "                <dd><code>Projet-Task-1</code></dd>\n",
       "            </dl>\n",
       "        </div>\n",
       "        \n",
       "            </div>\n",
       "        "
      ],
      "text/plain": [
       "<pyspark.sql.session.SparkSession at 0x7196267dfd70>"
      ]
     },
     "execution_count": 2,
     "metadata": {},
     "output_type": "execute_result"
    }
   ],
   "source": [
    "spark = SparkSession.builder \\\n",
    "    .appName(\"Projet-Task-1\") \\\n",
    "    .master(\"local[*]\") \\\n",
    "    .config(\"spark.driver.memory\", \"4G\") \\\n",
    "    .config(\"spark.driver.maxResultSize\", \"2g\") \\\n",
    "    .config(\"spark.executor.memory\", \"16G\") \\\n",
    "    .config(\"spark.executor.memoryOverhead\", \"4G\") \\\n",
    "    .config(\"spark.executor.extraJavaOptions\", \"-XX:+UseG1GC -XX:MaxGCPauseMillis=500 -XX:InitiatingHeapOccupancyPercent=35\") \\\n",
    "    .config(\"spark.driver.extraJavaOptions\", \"-XX:+UseG1GC -XX:MaxGCPauseMillis=500 -XX:InitiatingHeapOccupancyPercent=35\") \\\n",
    "    .getOrCreate()\n",
    "# spark.sparkContext.setLogLevel(\"DEBUG\")\n",
    "spark.conf.set(\"spark.sql.shuffle.partitions\", \"700\")\n",
    "spark"
   ]
  },
  {
   "cell_type": "code",
   "execution_count": 3,
   "metadata": {},
   "outputs": [],
   "source": [
    "# spark.stop()"
   ]
  },
  {
   "cell_type": "code",
   "execution_count": 4,
   "metadata": {},
   "outputs": [],
   "source": [
    "df = spark.read.text(\"data.txt\").toDF(\"Log\")"
   ]
  },
  {
   "cell_type": "code",
   "execution_count": 5,
   "metadata": {},
   "outputs": [
    {
     "name": "stdout",
     "output_type": "stream",
     "text": [
      "root\n",
      " |-- Log: array (nullable = true)\n",
      " |    |-- element: string (containsNull = false)\n",
      " |-- First Server: string (nullable = true)\n",
      " |-- Second Server: string (nullable = true)\n",
      " |-- Communication Type: string (nullable = true)\n",
      " |-- Process ID: string (nullable = true)\n",
      "\n"
     ]
    }
   ],
   "source": [
    "df = df.withColumn(\"Log\", regexp_replace(col(\"Log\"), \"[<>]\", \"\"))\n",
    "df = df.withColumn(\"Log\", regexp_replace(col(\"Log\"), \",\", \"\"))\n",
    "df = df.withColumn(\"Log\", split(col(\"Log\"), \" \"))\n",
    "\n",
    "# df.printSchema()\n",
    "# df.show()\n",
    "\n",
    "columns = [\"First Server\", \"Second Server\", \"Communication Type\", \"Process ID\"]\n",
    "\n",
    "for i in range(len(columns)):\n",
    "    # print(columns[i])\n",
    "    df = df.withColumn(columns[i], col(\"Log\")[i])\n",
    "\n",
    "df.printSchema()\n",
    "# df.show()"
   ]
  },
  {
   "cell_type": "code",
   "execution_count": 6,
   "metadata": {},
   "outputs": [],
   "source": [
    "# Remove Process ID from request \n",
    "log = udf(lambda x: x[:-1], ArrayType(StringType())) \n",
    "df = df.withColumn('Log', log('Log')) "
   ]
  },
  {
   "cell_type": "code",
   "execution_count": 7,
   "metadata": {},
   "outputs": [
    {
     "name": "stdout",
     "output_type": "stream",
     "text": [
      "root\n",
      " |-- Process ID: string (nullable = true)\n",
      " |-- Log: array (nullable = false)\n",
      " |    |-- element: array (containsNull = false)\n",
      " |    |    |-- element: string (containsNull = true)\n",
      " |-- First Server: array (nullable = false)\n",
      " |    |-- element: string (containsNull = false)\n",
      " |-- Second Server: array (nullable = false)\n",
      " |    |-- element: string (containsNull = false)\n",
      " |-- FCommunication Type: array (nullable = false)\n",
      " |    |-- element: string (containsNull = false)\n",
      "\n"
     ]
    }
   ],
   "source": [
    "grouped_df = df.groupBy(\"Process ID\").agg(collect_list(\"Log\").alias(\"Log\"), \n",
    "                                          collect_list(\"First Server\").alias(\"First Server\"),\n",
    "                                          collect_list(\"Second Server\").alias(\"Second Server\"),\n",
    "                                          collect_list(\"Communication Type\").alias(\"FCommunication Type\"))\n",
    "\n",
    "grouped_df.printSchema()\n",
    "# grouped_df.show()"
   ]
  },
  {
   "cell_type": "code",
   "execution_count": 8,
   "metadata": {},
   "outputs": [],
   "source": [
    "# df.show()"
   ]
  },
  {
   "cell_type": "code",
   "execution_count": 9,
   "metadata": {},
   "outputs": [
    {
     "name": "stdout",
     "output_type": "stream",
     "text": [
      "root\n",
      " |-- Process ID: string (nullable = true)\n",
      " |-- First Server: array (nullable = false)\n",
      " |    |-- element: string (containsNull = false)\n",
      " |-- Second Server: array (nullable = false)\n",
      " |    |-- element: string (containsNull = false)\n",
      " |-- Servers: array (nullable = false)\n",
      " |    |-- element: string (containsNull = false)\n",
      "\n"
     ]
    }
   ],
   "source": [
    "distinct_servers_df = df.groupBy(\"Process ID\").agg(collect_set(\"First Server\").alias(\"First Server\"),\n",
    "                                                   collect_set(\"Second Server\").alias(\"Second Server\"))\n",
    "\n",
    "distinct_servers_df = distinct_servers_df.withColumn(\"Servers\", array_union(\"First Server\", \"Second Server\"))\n",
    "\n",
    "distinct_servers_df.printSchema()\n",
    "# distinct_servers_df.show()"
   ]
  },
  {
   "cell_type": "code",
   "execution_count": 10,
   "metadata": {},
   "outputs": [
    {
     "name": "stderr",
     "output_type": "stream",
     "text": [
      "                                                                                \r"
     ]
    },
    {
     "name": "stdout",
     "output_type": "stream",
     "text": [
      "root\n",
      " |-- Process ID: string (nullable = true)\n",
      " |-- Characteristic Matrix: vector (nullable = true)\n",
      "\n",
      "Rows of Characteristic Matrix:  ['null', 'S-1.1', 'S-1.6', 'S-1.2', 'S-1.7', 'S-1.5', 'S-1.4', 'S-1.3', 'S-85.1', 'S-85.3', 'S-85.2', 'S-85.4', 'S-82.4', 'S-82.3', 'S-82.2', 'S-93.5', 'S-54.5', 'S-32.1', 'S-93.2', 'S-9.3', 'S-27.3', 'S-31.2', 'S-93.3', 'S-45.1', 'S-32.2', 'S-29.5', 'S-45.4', 'S-41.1', 'S-82.5', 'S-40.2', 'S-40.3', 'S-40.4', 'S-93.1', 'S-61.5', 'S-27.2', 'S-25.1', 'S-21.4', 'S-20.1', 'S-29.2', 'S-31.4', 'S-25.2', 'S-31.3', 'S-32.3', 'S-38.4', 'S-29.1', 'S-29.3', 'S-16.5', 'S-20.2', 'S-20.4', 'S-32.4', 'S-83.1', 'S-61.4', 'S-50.5', 'S-60.5', 'S-27.1', 'S-25.5', 'S-93.4', 'S-17.5', 'S-20.3', 'S-38.2', 'S-54.3', 'S-68.2', 'S-45.3', 'S-81.5', 'S-29.4', 'S-19.3', 'S-20.5', 'S-27.4', 'S-36.2', 'S-45.2', 'S-52.1', 'S-69.2', 'S-24.6', 'S-50.4', 'S-50.3', 'S-71.1', 'S-9.1', 'S-31.5', 'S-5.1', 'S-81.6', 'S-45.5', 'S-52.4', 'S-32.5', 'S-86.3', 'S-76.1', 'S-5.5', 'S-40.5', 'S-55.2', 'S-82.1', 'S-26.2', 'S-41.6', 'S-79.3', 'S-25.4', 'S-47.4', 'S-27.5', 'S-5.6', 'S-30.3', 'S-16.6', 'S-79.5', 'S-77.3', 'S-76.4', 'S-74.4', 'S-30.1', 'S-9.2', 'S-60.2', 'S-19.1', 'S-54.1', 'S-74.5', 'S-22.2', 'S-33.4', 'S-73.3', 'S-22.5', 'S-50.1', 'S-68.1', 'S-52.3', 'S-26.5', 'S-17.2', 'S-96.6', 'S-23.5', 'S-73.1', 'S-69.5', 'S-54.2', 'S-13.6', 'S-47.6', 'S-73.6', 'S-50.6', 'S-73.4', 'S-81.2', 'S-89.2', 'S-69.4', 'S-57.3', 'S-73.5', 'S-30.4', 'S-61.1', 'S-36.4', 'S-81.3', 'S-68.5', 'S-9.5', 'S-77.5', 'S-9.4', 'S-28.5', 'S-69.3', 'S-71.5', 'S-68.6', 'S-5.4', 'S-26.6', 'S-57.4', 'S-76.3', 'S-79.2', 'S-55.3', 'S-19.2', 'S-65.6', 'S-41.5', 'S-78.4', 'S-89.5', 'S-76.6', 'S-98.1', 'S-31.1', 'S-37.6', 'S-37.5', 'S-61.3', 'S-95.7', 'S-74.3', 'S-23.4', 'S-40.1', 'S-69.6', 'S-16.1', 'S-89.6', 'S-74.1', 'S-37.1', 'S-22.6', 'S-25.3', 'S-47.3', 'S-52.6', 'S-47.1', 'S-23.6', 'S-62.6', 'S-63.3', 'S-26.3', 'S-55.4', 'S-24.1', 'S-38.5', 'S-79.1', 'S-26.1', 'S-22.4', 'S-17.3', 'S-17.6', 'S-22.1', 'S-67.3', 'S-86.5', 'S-68.4', 'S-68.3', 'S-81.4', 'S-78.3', 'S-15.3', 'S-59.6', 'S-5.2', 'S-78.1', 'S-38.6', 'S-77.6', 'S-30.6', 'S-77.2', 'S-89.3', 'S-73.2', 'S-74.2', 'S-23.3', 'S-63.2', 'S-21.5', 'S-89.4', 'S-52.5', 'S-91.3', 'S-59.4', 'S-24.3', 'S-81.1', 'S-28.3', 'S-91.2', 'S-59.5', 'S-75.6', 'S-15.5', 'S-36.5', 'S-47.2', 'S-41.3', 'S-56.3', 'S-26.4', 'S-65.1', 'S-50.2', 'S-55.6', 'S-46.7', 'S-60.6', 'S-91.1', 'S-56.2', 'S-64.3', 'S-41.4', 'S-98.5', 'S-16.4', 'S-28.6', 'S-65.4', 'S-24.4', 'S-22.3', 'S-91.6', 'S-37.4', 'S-60.1', 'S-91.4', 'S-3.4', 'S-23.1', 'S-28.1', 'S-63.1', 'S-96.4', 'S-83.4', 'S-88.7', 'S-15.2', 'S-67.4', 'S-30.5', 'S-36.6', 'S-86.2', 'S-23.2', 'S-89.1', 'S-41.2', 'S-33.2', 'S-15.1', 'S-17.4', 'S-54.4', 'S-51.5', 'S-39.3', 'S-86.4', 'S-86.1', 'S-2.6', 'S-12.5', 'S-63.4', 'S-19.6', 'S-71.3', 'S-38.1', 'S-61.6', 'S-5.3', 'S-13.3', 'S-91.5', 'S-74.6', 'S-83.3', 'S-46.1', 'S-69.1', 'S-55.5', 'S-57.6', 'S-77.1', 'S-79.6', 'S-39.4', 'S-78.6', 'S-10.3', 'S-14.5', 'S-13.4', 'S-36.1', 'S-87.3', 'S-56.7', 'S-66.2', 'S-13.7', 'S-77.4', 'S-59.1', 'S-76.5', 'S-16.2', 'S-60.4', 'S-55.1', 'S-57.5', 'S-57.2', 'S-76.2', 'S-96.3', 'S-60.3', 'S-97.5', 'S-33.5', 'S-66.4', 'S-59.3', 'S-84.6', 'S-87.2', 'S-8.6', 'S-98.2', 'S-51.4', 'S-12.2', 'S-47.5', 'S-21.6', 'S-15.4', 'S-98.4', 'S-62.4', 'S-30.2', 'S-16.3', 'S-83.5', 'S-11.7', 'S-2.2', 'S-61.2', 'S-71.4', 'S-33.3', 'S-33.6', 'S-48.3', 'S-46.2', 'S-63.6', 'S-21.2', 'S-39.5', 'S-88.4', 'S-83.2', 'S-67.5', 'S-52.2', 'S-59.2', 'S-66.7', 'S-3.7', 'S-53.5', 'S-96.2', 'S-65.3', 'S-64.1', 'S-15.6', 'S-80.5', 'S-2.3', 'S-96.1', 'S-48.5', 'S-48.2', 'S-39.1', 'S-53.4', 'S-24.5', 'S-19.4', 'S-64.2', 'S-28.4', 'S-92.4', 'S-56.5', 'S-75.5', 'S-10.7', 'S-28.2', 'S-36.3', 'S-71.6', 'S-17.1', 'S-11.6', 'S-84.4', 'S-24.2', 'S-34.5', 'S-66.6', 'S-67.1', 'S-79.4', 'S-51.3', 'S-67.7', 'S-8.7', 'S-97.6', 'S-8.5', 'S-96.5', 'S-62.3', 'S-80.2', 'S-8.4', 'S-98.3', 'S-71.2', 'S-3.6', 'S-95.6', 'S-88.3', 'S-65.5', 'S-63.5', 'S-37.2', 'S-66.5', 'S-62.2', 'S-13.5', 'S-87.7', 'S-48.6', 'S-8.3', 'S-95.2', 'S-48.1', 'S-21.1', 'S-2.1', 'S-8.2', 'S-57.1', 'S-53.2', 'S-10.4', 'S-92.3', 'S-75.7', 'S-51.6', 'S-8.1', 'S-88.6', 'S-62.5', 'S-58.7', 'S-19.5', 'S-48.4', 'S-13.1', 'S-14.1', 'S-83.6', 'S-92.7', 'S-64.5', 'S-14.3', 'S-78.2', 'S-92.1', 'S-75.1', 'S-13.2', 'S-78.5', 'S-39.2', 'S-46.6', 'S-10.1', 'S-64.6', 'S-58.5', 'S-62.7', 'S-86.6', 'S-48.7', 'S-58.1', 'S-65.2', 'S-88.1', 'S-90.1', 'S-37.3', 'S-51.7', 'S-66.1', 'S-67.2', 'S-3.3', 'S-6.3', 'S-10.5', 'S-11.5', 'S-3.5', 'S-87.6', 'S-75.4', 'S-2.7', 'S-7.7', 'S-11.3', 'S-87.5', 'S-80.1', 'S-7.2', 'S-6.1', 'S-58.2', 'S-67.6', 'S-56.1', 'S-80.7', 'S-42.8', 'S-58.4', 'S-3.1', 'S-95.5', 'S-92.6', 'S-14.6', 'S-64.4', 'S-75.3', 'S-46.3', 'S-10.2', 'S-75.2', 'S-12.6', 'S-12.1', 'S-33.1', 'S-21.3', 'S-92.2', 'S-95.1', 'S-11.1', 'S-35.4', 'S-56.4', 'S-51.2', 'S-33.7', 'S-12.3', 'S-35.3', 'S-6.2', 'S-90.2', 'S-53.6', 'S-58.6', 'S-46.4', 'S-42.7', 'S-7.3', 'S-97.4', 'S-14.2', 'S-80.3', 'S-35.8', 'S-35.5', 'S-42.3', 'S-53.3', 'S-12.4', 'S-34.3', 'S-46.5', 'S-58.3', 'S-2.5', 'S-62.1', 'S-34.1', 'S-7.6', 'S-80.4', 'S-6.7', 'S-84.7', 'S-43.6', 'S-10.6', 'S-11.2', 'S-88.5', 'S-90.5', 'S-51.1', 'S-38.3', 'S-92.5', 'S-49.8', 'S-97.2', 'S-53.1', 'S-7.1', 'S-97.1', 'S-35.6', 'S-84.3', 'S-42.6', 'S-84.1', 'S-6.4', 'S-97.3', 'S-88.2', 'S-7.8', 'S-87.1', 'S-43.2', 'S-66.3', 'S-11.4', 'S-84.5', 'S-2.4', 'S-56.6', 'S-49.1', 'S-6.5', 'S-12.7', 'S-90.6', 'S-43.5', 'S-34.6', 'S-90.3', 'S-44.7', 'S-94.1', 'S-49.9', 'S-18.7', 'S-6.6', 'S-84.2', 'S-7.4', 'S-94.7', 'S-18.1', 'S-70.2', 'S-95.4', 'S-3.2', 'S-94.3', 'S-49.4', 'S-70.3', 'S-70.6', 'S-70.5', 'S-34.4', 'S-35.1', 'S-64.7', 'S-90.4', 'S-42.5', 'S-35.7', 'S-95.3', 'S-43.3', 'S-43.1', 'S-7.5', 'S-42.4', 'S-44.6', 'S-87.4', 'S-18.3', 'S-18.4', 'S-44.4', 'S-18.6', 'S-70.1', 'S-72.4', 'S-80.6', 'S-94.6', 'S-14.4', 'S-43.4', 'S-70.4', 'S-35.2', 'S-18.2', 'S-4.6', 'S-49.6', 'S-34.2', 'S-72.3', 'S-4.3', 'S-94.5', 'S-42.2', 'S-49.3', 'S-4.7', 'S-49.7', 'S-44.1', 'S-49.5', 'S-94.2', 'S-4.4', 'S-44.3', 'S-18.5', 'S-72.2', 'S-72.5', 'S-94.4', 'S-4.8', 'S-44.2', 'S-44.5', 'S-72.7', 'S-49.2', 'S-94.8', 'S-94.9', 'S-42.1', 'S-70.7', 'S-4.1', 'S-4.2', 'S-4.5', 'S-72.6', 'S-72.8', 'S-72.1', 'S-99.2', 'S-99.1', 'S-99.6', 'S-99.3', 'S-99.5', 'S-99.4']\n"
     ]
    }
   ],
   "source": [
    "characteristics = CountVectorizer(inputCol=\"Servers\", outputCol=\"Characteristic Matrix\")\n",
    "\n",
    "model = characteristics.fit(distinct_servers_df)\n",
    "char_matrix = model.transform(distinct_servers_df).select(\"Process ID\", \"Characteristic Matrix\")\n",
    "\n",
    "char_matrix.printSchema()\n",
    "# char_matrix.show()\n",
    "\n",
    "servers = model.vocabulary\n",
    "print(\"Rows of Characteristic Matrix: \", servers)"
   ]
  },
  {
   "cell_type": "code",
   "execution_count": 11,
   "metadata": {},
   "outputs": [],
   "source": [
    "minhash = MinHashLSH(inputCol=\"Characteristic Matrix\", outputCol=\"Signatures\", numHashTables=5)\n",
    "\n",
    "# MinHash produces the signatures for the Characteritic matrix \n",
    "# numvHashTables is the number of the hush functioms that we want to use and the lenght of the signature \n",
    "model = minhash.fit(char_matrix)\n",
    "signatures = model.transform(char_matrix)\n",
    "\n",
    "# signatures.show()"
   ]
  },
  {
   "cell_type": "code",
   "execution_count": 12,
   "metadata": {},
   "outputs": [],
   "source": [
    "# approxSimilarityJoin uses autmatically LSH to find rows that it is most likely \n",
    "# to have same \"Signatures\"\n",
    "# threshold: pairs with Jaccard Distance lower than threshlod\n",
    "similar_pairs = model.approxSimilarityJoin(signatures, signatures, threshold=0.01, distCol=\"Jaccard Distance\")\n",
    "# similar_pairs.show()"
   ]
  },
  {
   "cell_type": "code",
   "execution_count": 13,
   "metadata": {},
   "outputs": [],
   "source": [
    "# similar_pairs.count()"
   ]
  },
  {
   "cell_type": "code",
   "execution_count": 14,
   "metadata": {},
   "outputs": [],
   "source": [
    "similar_pairs = similar_pairs.select(\"datasetA.Process ID\", \"datasetB.Process ID\", \n",
    "                     \"Jaccard Distance\") \\\n",
    "                    # .filter((col(\"datasetA.Process ID\") != col(\"datasetB.Process ID\")))"
   ]
  },
  {
   "cell_type": "code",
   "execution_count": 15,
   "metadata": {},
   "outputs": [],
   "source": [
    "new_cols = [\"Process ID A\", \"Process ID B\", \"Jaccard Distance\"]\n",
    "similar_pairs = similar_pairs.toDF(*new_cols)"
   ]
  },
  {
   "cell_type": "code",
   "execution_count": 16,
   "metadata": {},
   "outputs": [],
   "source": [
    "# similar_pairs.show()"
   ]
  },
  {
   "cell_type": "code",
   "execution_count": 17,
   "metadata": {},
   "outputs": [],
   "source": [
    "pairs = similar_pairs.join(grouped_df, similar_pairs[\"Process ID A\"] == col(\"Process ID\")) \\\n",
    "                     .select(col(\"Process ID A\"), col(\"Process ID B\"), col(\"Log\").alias(\"Log A\")) \\\n",
    "                     .join(grouped_df, similar_pairs[\"Process ID B\"] == col(\"Process ID\")) \\\n",
    "                     .select(col(\"Process ID A\"), col(\"Process ID B\"), col(\"Log A\"), col(\"Log\").alias(\"Log B\"))"
   ]
  },
  {
   "cell_type": "code",
   "execution_count": 18,
   "metadata": {},
   "outputs": [],
   "source": [
    "# pairs.show()"
   ]
  },
  {
   "cell_type": "code",
   "execution_count": 19,
   "metadata": {},
   "outputs": [],
   "source": [
    "def original_check(x,y):\n",
    "    return x==y\n",
    "\n",
    "orifinal_checking = udf(original_check, BooleanType())\n",
    "same_pairs = pairs.filter(orifinal_checking(col(\"Log A\"), col(\"Log B\")))"
   ]
  },
  {
   "cell_type": "code",
   "execution_count": 20,
   "metadata": {},
   "outputs": [],
   "source": [
    "from pyspark.sql.functions import col, count\n",
    "same_pairs = same_pairs.groupBy(\"Log A\").agg(collect_set(\"Process ID A\").alias(\"Process Set\"))"
   ]
  },
  {
   "cell_type": "code",
   "execution_count": 21,
   "metadata": {},
   "outputs": [
    {
     "name": "stdout",
     "output_type": "stream",
     "text": [
      "root\n",
      " |-- Log A: array (nullable = false)\n",
      " |    |-- element: array (containsNull = false)\n",
      " |    |    |-- element: string (containsNull = true)\n",
      " |-- Process Set: array (nullable = false)\n",
      " |    |-- element: string (containsNull = false)\n",
      "\n"
     ]
    }
   ],
   "source": [
    "same_pairs.printSchema()"
   ]
  },
  {
   "cell_type": "markdown",
   "metadata": {},
   "source": [
    "### Output - part1Observations.txt"
   ]
  },
  {
   "cell_type": "code",
   "execution_count": 22,
   "metadata": {},
   "outputs": [],
   "source": [
    "# same_pairs.show()"
   ]
  },
  {
   "cell_type": "code",
   "execution_count": 23,
   "metadata": {},
   "outputs": [],
   "source": [
    "same_pairs_explode = same_pairs.select(same_pairs[\"Log A\"], same_pairs[\"Process Set\"], explode(same_pairs[\"Process Set\"]).alias(\"Process ID\"))\n",
    "# same_pairs_explode.show()"
   ]
  },
  {
   "cell_type": "code",
   "execution_count": 24,
   "metadata": {},
   "outputs": [],
   "source": [
    "# same_pairs_explode.first()[0]"
   ]
  },
  {
   "cell_type": "code",
   "execution_count": 25,
   "metadata": {},
   "outputs": [],
   "source": [
    "def format_group(process_set):\n",
    "    process_set_string = ', '.join(str(x) for x in process_set)\n",
    "    return f\"Group: {{{process_set_string}}}\"\n",
    "\n",
    "def format_log(log, process_id):\n",
    "    # log_final_string = f\"\\n\"\n",
    "    log_formatted = \"\"\n",
    "    for l in log:\n",
    "        log_concat = ', '.join(str(x) for x in l)\n",
    "        log_formatted += f\"<{log_concat}, {process_id}>\\n\"\n",
    "    return log_formatted\n",
    "\n",
    "format_group_udf = udf(format_group, StringType())\n",
    "formatted_group = same_pairs_explode.withColumn(\"Group\", format_group_udf(col(\"Process Set\")))\n",
    "# formatted_group.show()\n",
    "\n",
    "format_udf = udf(format_log, StringType())\n",
    "formatted_df = formatted_group.withColumn(\"Formatted Log\", format_udf(col(\"Log A\"), col(\"Process ID\")))\n",
    "# formatted_df.show()\n",
    "\n",
    "grouped_logs = formatted_df.groupBy(\"Group\").agg(collect_list(\"Formatted Log\").alias(\"Group Log\"))\n",
    "# grouped_logs.show()\n",
    "# grouped_logs.first()[1]\n",
    "# print(grouped_logs.dtypes)\n",
    "\n",
    "def format_group_logs(group, logs):\n",
    "    formatted = f\"{group}\\n\\n\" + \"\\n\".join(logs) \n",
    "    return formatted\n",
    "\n",
    "final_format_udf = udf(format_group_logs, StringType())\n",
    "final_formatted = grouped_logs.withColumn(\"Formatted\", final_format_udf(col(\"Group\"), col(\"Group Log\"))).select(\"Formatted\")\n",
    "# final_formatted.show()"
   ]
  },
  {
   "cell_type": "code",
   "execution_count": 26,
   "metadata": {},
   "outputs": [],
   "source": [
    "# final_formatted.rdd.getNumPartitions()"
   ]
  },
  {
   "cell_type": "code",
   "execution_count": 27,
   "metadata": {},
   "outputs": [
    {
     "name": "stderr",
     "output_type": "stream",
     "text": [
      "24/06/24 10:58:13 WARN GarbageCollectionMetrics: To enable non-built-in garbage collector(s) List(G1 Concurrent GC), users should configure it(them) to spark.eventLog.gcMetrics.youngGenerationGarbageCollectors or spark.eventLog.gcMetrics.oldGenerationGarbageCollectors\n",
      "                                                                                \r"
     ]
    }
   ],
   "source": [
    "# partitions = 100\n",
    "final_formatted.coalesce(700).write.mode('overwrite').text('output')\n",
    "# final_formatted.write.mode('overwrite').text('output')"
   ]
  },
  {
   "cell_type": "code",
   "execution_count": 28,
   "metadata": {},
   "outputs": [
    {
     "name": "stderr",
     "output_type": "stream",
     "text": [
      "rm: cannot remove 'output/.': Is a directory\n",
      "rm: cannot remove 'output/..': Is a directory\n"
     ]
    },
    {
     "data": {
      "text/plain": [
       "CompletedProcess(args='rm -f output/_SUCCESS', returncode=0)"
      ]
     },
     "execution_count": 28,
     "metadata": {},
     "output_type": "execute_result"
    }
   ],
   "source": [
    "import subprocess\n",
    "subprocess.run(\"cat output/part-* > output/part1Observations.txt\", shell=True)\n",
    "subprocess.run(\"find output/ -name 'part-*' -delete\", shell=True)\n",
    "subprocess.run(\"rm -f output/.*\", shell=True)\n",
    "subprocess.run(\"rm -f output/_SUCCESS\", shell=True) "
   ]
  },
  {
   "cell_type": "code",
   "execution_count": 27,
   "metadata": {},
   "outputs": [],
   "source": [
    "# same_pairs_col = same_pairs.collect()"
   ]
  },
  {
   "cell_type": "markdown",
   "metadata": {},
   "source": [
    "### HAVENT CHANGED CODE BELOW"
   ]
  },
  {
   "cell_type": "code",
   "execution_count": null,
   "metadata": {},
   "outputs": [],
   "source": [
    "# with open(\"part1Observations.txt\", \"w\") as file:\n",
    "#     current_group = None\n",
    "#     for row in same_pairs_col:\n",
    "#         process_set = row[\"Process Set\"]\n",
    "#         # process_id = row[\"Process ID\"]\n",
    "#         log = row[\"Log A\"]\n",
    "        \n",
    "#         if process_set != current_group:\n",
    "#             file.write(\"\\n\")\n",
    "#             process_set_string = ', '.join(str(x) for x in process_set)\n",
    "#             file.write(f\"Group: {{{process_set_string}}}\\n\")\n",
    "#             current_group = process_set\n",
    "        \n",
    "#         for process in process_set:\n",
    "#             file.write(f\"\\n{process}:\\n\")\n",
    "#             for l in log:\n",
    "#                 log_concat = ', '.join(str(x) for x in l)\n",
    "#                 file.write(f\"<{log_concat}>\\n\")"
   ]
  },
  {
   "cell_type": "markdown",
   "metadata": {},
   "source": [
    "### Output - part1Output.txt"
   ]
  },
  {
   "cell_type": "code",
   "execution_count": null,
   "metadata": {},
   "outputs": [
    {
     "data": {
      "text/plain": [
       "[('Log', 'array<string>'),\n",
       " ('First Server', 'string'),\n",
       " ('Second Server', 'string'),\n",
       " ('Communication Type', 'string'),\n",
       " ('Process ID', 'string')]"
      ]
     },
     "execution_count": 400,
     "metadata": {},
     "output_type": "execute_result"
    }
   ],
   "source": [
    "df.dtypes"
   ]
  },
  {
   "cell_type": "code",
   "execution_count": null,
   "metadata": {},
   "outputs": [],
   "source": [
    "from pyspark.sql.types import IntegerType\n",
    "\n",
    "df = df.withColumn('pid_integer', df['Process ID'].cast(IntegerType()))\n",
    "max_process_id = df.agg({\"pid_integer\": \"max\"}).collect()[0][0]\n",
    "# print(max_process_id)"
   ]
  },
  {
   "cell_type": "code",
   "execution_count": null,
   "metadata": {},
   "outputs": [],
   "source": [
    "with open(\"part1Output.txt\", \"w\") as file:\n",
    "    current_group = None\n",
    "    process_id = max_process_id+1\n",
    "\n",
    "    for row in same_pairs_col:\n",
    "        log = row[\"Log A\"]\n",
    "        \n",
    "        file.write(f\"\\n{process_id}:\\n\")\n",
    "        for l in log:\n",
    "            log_concat = ', '.join(str(x) for x in l)\n",
    "            log_concat = f\"{log_concat}, {process_id}\"\n",
    "            file.write(f\"<{log_concat}>\\n\")\n",
    "        process_id+=1"
   ]
  },
  {
   "cell_type": "code",
   "execution_count": null,
   "metadata": {},
   "outputs": [],
   "source": [
    "from pyspark.sql.types import IntegerType\n"
   ]
  },
  {
   "cell_type": "markdown",
   "metadata": {},
   "source": [
    "# Shingling"
   ]
  },
  {
   "cell_type": "code",
   "execution_count": null,
   "metadata": {},
   "outputs": [],
   "source": [
    "def k_shingling(text, k):\n",
    "    shingles = set()\n",
    "    for i in range(len(text) - k + 1):\n",
    "        shingle = text[i:i + k]\n",
    "        shingles.add(shingle)\n",
    "    return list(shingles)\n",
    "\n",
    "k_shingling_udf = udf(lambda text: k_shingling(text, 5), ArrayType(StringType()))"
   ]
  },
  {
   "cell_type": "code",
   "execution_count": null,
   "metadata": {},
   "outputs": [],
   "source": [
    "df = spark.read.text(\"data.txt\").toDF(\"Log\")\n",
    "log = udf(lambda x: x[1:-4], StringType()) \n",
    "df = df.withColumn('Log_split', log('Log')) \n",
    "df.collect()\n",
    "df_shingles = df.withColumn(\"Shingles\", k_shingling_udf(df[\"Log_split\"]))\n",
    "# df_shingles.show()"
   ]
  },
  {
   "cell_type": "code",
   "execution_count": null,
   "metadata": {},
   "outputs": [],
   "source": [
    "# df_shingles.collect()"
   ]
  },
  {
   "cell_type": "code",
   "execution_count": null,
   "metadata": {},
   "outputs": [
    {
     "name": "stdout",
     "output_type": "stream",
     "text": [
      "root\n",
      " |-- Log: array (nullable = true)\n",
      " |    |-- element: string (containsNull = false)\n",
      " |-- Log_split: string (nullable = true)\n",
      " |-- Shingles: array (nullable = true)\n",
      " |    |-- element: string (containsNull = true)\n",
      "\n",
      "First Server\n",
      "Second Server\n",
      "Communication Type\n",
      "Process ID\n",
      "root\n",
      " |-- Log: array (nullable = true)\n",
      " |    |-- element: string (containsNull = false)\n",
      " |-- Log_split: string (nullable = true)\n",
      " |-- Shingles: array (nullable = true)\n",
      " |    |-- element: string (containsNull = true)\n",
      " |-- First Server: string (nullable = true)\n",
      " |-- Second Server: string (nullable = true)\n",
      " |-- Communication Type: string (nullable = true)\n",
      " |-- Process ID: string (nullable = true)\n",
      "\n"
     ]
    }
   ],
   "source": [
    "df_shingles = df_shingles.withColumn(\"Log\", regexp_replace(col(\"Log\"), \"[<>]\", \"\"))\n",
    "df_shingles = df_shingles.withColumn(\"Log\", regexp_replace(col(\"Log\"), \",\", \"\"))\n",
    "df_shingles = df_shingles.withColumn(\"Log\", split(col(\"Log\"), \" \"))\n",
    "\n",
    "df_shingles.printSchema()\n",
    "# df_shingles.show()\n",
    "\n",
    "columns = [\"First Server\", \"Second Server\", \"Communication Type\", \"Process ID\"]\n",
    "\n",
    "for i in range(len(columns)):\n",
    "    print(columns[i])\n",
    "    df_shingles = df_shingles.withColumn(columns[i], col(\"Log\")[i])\n",
    "\n",
    "df_shingles.printSchema()\n",
    "# df_shingles.show()"
   ]
  },
  {
   "cell_type": "code",
   "execution_count": null,
   "metadata": {},
   "outputs": [],
   "source": [
    "log = udf(lambda x: x[:-1], ArrayType(StringType())) \n",
    "df_shingles = df_shingles.withColumn('Log', log('Log')) "
   ]
  },
  {
   "cell_type": "code",
   "execution_count": null,
   "metadata": {},
   "outputs": [
    {
     "name": "stdout",
     "output_type": "stream",
     "text": [
      "root\n",
      " |-- Process ID: string (nullable = true)\n",
      " |-- Shingles: array (nullable = false)\n",
      " |    |-- element: array (containsNull = false)\n",
      " |    |    |-- element: string (containsNull = true)\n",
      " |-- Log: array (nullable = false)\n",
      " |    |-- element: array (containsNull = false)\n",
      " |    |    |-- element: string (containsNull = true)\n",
      " |-- Flat shingles: array (nullable = false)\n",
      " |    |-- element: string (containsNull = true)\n",
      "\n"
     ]
    }
   ],
   "source": [
    "grouped_df = df_shingles.groupBy(\"Process ID\").agg(collect_set(\"Shingles\").alias(\"Shingles\"),collect_list(\"Log\").alias(\"Log\"))\n",
    "grouped_df = grouped_df.withColumn(\"Flat shingles\", flatten(col(\"Shingles\")))\n",
    "grouped_df.printSchema()"
   ]
  },
  {
   "cell_type": "code",
   "execution_count": null,
   "metadata": {},
   "outputs": [
    {
     "name": "stdout",
     "output_type": "stream",
     "text": [
      "root\n",
      " |-- Process ID: string (nullable = true)\n",
      " |-- Characteristic Matrix: vector (nullable = true)\n",
      "\n",
      "Rows of Characteristic Matrix:  ['espon', ' Resp', 'Respo', 'ponse', ' Requ', ', Res', 'eques', 'quest', 'spons', ', Req', 'Reque', 'uest,', 'onse,', 'est, ', 'nse, ', ', S-1', 'null,', 'ull, ', ' S-1.', 'S-1.1', 'S-1.2', '1, Re', '2, Re', '3, Re', 'l, Re', 'll, R', ' null', 'll, S', ', nul', 'l, S-', '1, S-', '4, Re', '5, Re', '2, S-', '3, S-', ', S-6', '6, Re', '8, Re', ', S-5', '4, S-', ', S-8', ', S-7', ', S-3', '7, Re', '5, S-', '9, Re', ', S-2', ', S-4', '0, Re', '6, S-', '8, S-', '7, S-', ', S-9', '9, S-', 'S-1.3', '0, S-', '.13, ', '.10, ', '.28, ', '.25, ', 'st, 6', 'se, 6', '.11, ', '.23, ', '.21, ', '.15, ', '.26, ', '.24, ', '.29, ', 'se, 7', 'st, 7', '.12, ', '.20, ', 'st, 2', 'se, 2', '.19, ', '.22, ', '.17, ', '.18, ', '.14, ', '.27, ', '.16, ', 'se, 9', 'st, 9', 'se, 1', 'st, 1', 'se, 8', 'st, 8', '.30, ', 'se, 3', 'st, 3', 'st, 4', 'se, 4', '.31, ', 'se, 5', 'st, 5', '.32, ', '.33, ', '13, R', '10, R', '.8, R', '.5, R', '.34, ', '28, R', '.9, R', '25, R', '11, R', '.3, R', '23, R', '15, R', '.7, R', '21, R', '.6, R', '26, R', '24, R', '29, R', '.1, R', '.4, R', '12, R', '20, R', '19, R', '17, R', '.2, R', '22, R', '14, R', '18, R', '27, R', '13, S', '.8, S', '16, R', '28, S', '10, S', '.5, S', '.9, S', '25, S', '11, S', '.3, S', '30, R', '29, S', '.7, S', '21, S', '.1, S', '15, S', '24, S', '26, S', '23, S', '.6, S', '.4, S', '31, R', '20, S', '12, S', '.2, S', '19, S', '22, S', '17, S', '18, S', '14, S', '27, S', '16, S', '32, R', '30, S', '.35, ', '31, S', '32, S', '33, R', 'S-61.', 'S-20.', 'S-79.', 'S-51.', '1.5, ', 'S-52.', 'S-95.', 'S-39.', 'S-70.', 'S-63.', 'S-48.', '1.10,', 'S-37.', 'S-31.', 'S-97.', 'S-62.', '1.8, ', 'S-58.', 'S-60.', 'S-77.', 'S-82.', 'S-89.', 'S-72.', 'S-88.', 'S-13.', 'S-19.', 'S-81.', 'S-78.', 'S-76.', 'S-54.', '1.6, ', 'S-33.', 'S-40.', 'S-64.', 'S-30.', '33, S', 'S-38.', 'S-85.', 'S-29.', '1.23,', 'S-92.', 'S-14.', 'S-12.', 'S-66.', 'S-16.', 'S-45.', 'S-47.', '1.32,', 'S-24.', '1.12,', 'S-44.', 'S-34.', '1.14,', 'S-55.', 'S-26.', 'S-53.', 'S-18.', 'S-80.', 'S-41.', 'S-59.', '1.31,', 'S-65.', 'S-22.', '1.9, ', '1.25,', 'S-28.', 'S-49.', 'S-23.', '1.28,', 'S-87.', '1.21,', 'S-27.', 'S-17.', 'S-32.', 'S-57.', 'S-93.', '1.24,', 'S-69.', 'S-90.', '1.15,', 'S-91.', 'S-36.', '1.4, ', 'S-83.', 'S-67.', '1.18,', 'S-94.', '1.19,', '1.27,', '1.2, ', '1.11,', 'S-68.', 'S-73.', 'S-75.', '1.13,', 'S-96.', 'S-15.', 'S-98.', 'S-11.', 'S-50.', 'S-84.', '1.26,', 'S-21.', '1.17,', 'S-25.', '1.20,', 'S-86.', '34, R', '1.22,', 'S-46.', 'S-42.', 'S-56.', '1.7, ', 'S-71.', '1.1, ', 'S-43.', '1.3, ', '1.33,', '1.30,', 'S-10.', 'S-35.', '1.29,', 'S-74.', '1.16,', '1.35,', '1.34,', '-1.10', '-1.31', '-1.33', '5, nu', '-1.5,', 'S-1.5', '-1.32', '4, nu', '1, nu', 'S-1.9', '-1.9,', '34, S', '-1.12', '2, nu', '3, nu', '-1.23', '-1.28', '-1.15', '-1.17', 'S-1.6', '-1.6,', '-1.26', '-1.8,', 'S-1.8', '-1.24', '35, R', '-1.25', '-1.11', '-1.18', '-1.19', '-1.14', '-1.21', '-1.35', '-1.34', '-1.22', '-1.7,', 'S-1.7', 'S-1.4', '-1.1,', '-1.4,', '-1.20', '-1.13', '-1.2,', '-1.27', '-1.3,', '-1.29', '-1.16', '-1.30', '.36, ', ' S-61', ' S-20', ' S-79', '8, nu', ' S-51', '9, nu', ' S-52', ' S-95', '6, nu', '7, nu', '0, nu', ' S-39', ' S-70', ' S-63', ' S-48', ' S-37', ' S-97', ' S-31', ' S-8.', ' S-62', '35, S', ' S-60', ' S-58', ' S-82', ' S-77', ' S-72', ' S-89', ' S-13', ' S-88', ' S-81', ' S-19', ' S-78', ' S-76', ' S-54', ' S-33', ' S-40', ' S-64', ' S-30', ' S-38', ' S-85', ' S-29', ' S-92', ' S-14', ' S-12', ' S-66', ' S-16', ' S-45', ' S-47', ' S-24', ' S-34', ' S-44', ' S-55', ' S-26', ' S-53', ' S-18', ' S-80', ' S-41', ' S-59', ' S-65', ' S-22', ' S-28', ' S-49', ' S-23', ' S-5.', ' S-87', ' S-6.', ' S-27', ' S-17', ' S-57', ' S-32', ' S-93', ' S-90', ' S-69', ' S-7.', ' S-91', ' S-36', ' S-83', ' S-67', ' S-94', ' S-68', ' S-73', ' S-75', ' S-96', ' S-15', ' S-98', ' S-50', ' S-84', ' S-11', ' S-3.', ' S-21', ' S-25', ' S-86', ' S-2.', ' S-4.', ' S-42', ' S-46', ' S-56', ' S-71', ' S-43', ' S-9.', '-18.2', '-89.1', ' S-10', ' S-35', ' S-74', '-16.2', '-79.1', '-95.2', '-20.1', '-77.1', '-76.1', '-15.1', '-52.1', '8.13,', '-60.1', '-97.2', '-70.2', '-36.2', '-63.2', '-52.2', '-93.2', '-47.2', '-80.2', '-47.1', '-87.2', '-60.2', '-68.1', '-89.2', '2.10,', '-79.2', '-40.2', '-27.2', '-58.1', '-54.1', '-65.1', '-28.1', '-54.2', '-61.1', '-12.2', '-45.1', '-51.2', '-37.1', '7.13,', '-45.2', '-28.2', '-70.1', '-31.1', '-65.2', '5.12,', '5.21,', '7.23,', '-40.1', '-61.2', '-48.2', '-95.1', '8.1, ', '5.25,', '-62.1', '-80.1', '-92.1', '2.2, ', '-37.2', '4.30,', 'S-6.1', '-84.1', '-30.1', '-24.2', '-18.1', '-59.2', '6.3, ', '6.29,', '-21.2', '-96.1', '-82.1', '-26.2', '3.9, ', '8.29,', '-98.1', '5.23,', '-33.1', '-20.2', '-19.2', '-62.2', '8.3, ', '-35.2', '-83.2', '2.29,', '5.17,', '-91.2', '6.9, ', '3.4, ', '-85.1', '-85.2', '-86.2', 'S-8.2', '-93.1', 'S-5.1', 'S-3.2', '2.28,', '-41.2', '-50.1', '-29.1', '-53.2', '-19.1', '7.22,', '-31.2', '-15.2', '-43.2', '-51.1', '6.5, ', '2.27,', '6.13,', '5.7, ', '-41.1', '6.25,', '-48.1', '-87.1', '7.3, ', '2.6, ', '0.17,', '-38.1', '-32.2', '-83.1', '5.11,', '-44.2', '-77.2', 'S-2.2', '2.9, ', '3.29,', '-55.1', '-91.1', '5.26,', '8.27,', '0.1, ', '-75.2', '9.9, ', '6.10,', '7.28,', '7.21,', '-63.1', '-38.2', '8.24,', '4.11,', '-76.2', '-43.1', '8.15,', '5.1, ', '0.5, ', 'S-8.1', '-81.1', '3.19,', '6.6, ', '-21.1', '8.14,', '8.28,', '-86.1', '-88.1', '-74.1', 'S-9.2', '-58.2', '5.6, ', '-33.2', '6.4, ', '-26.1', 'S-4.1', '-72.1', '-92.2', '3.22,', '6.21,', '-14.1', '3.7, ', '-30.2', '-59.1', '3.16,', '-34.2', '-22.1', '-67.1', '-10.1', '-71.2', '-49.1', '-12.1', '.37, ', '-23.1', '6.24,', '4.5, ', '4.24,', '-46.2', '5.8, ', '5.4, ', '7.5, ', '-13.2', '4.8, ', '8.4, ', '3.20,', '6.22,', '8.11,', '0.28,', '8.8, ', '2.11,', '7.12,', '-82.2', '-23.2', '2.15,', '3.21,', '3.2, ', 'S-2.1', '0.3, ', '2.26,', '-94.2', '7.26,', '7.20,', '-50.2', '0.23,', '-39.2', '6.26,', '8.20,', '9.15,', '6.8, ', '7.11,', '-78.3', '9.25,', '-17.2', '8.22,', '-39.3', '-25.1', '2.16,', '-46.1', '-29.2', '2.8, ', '3.3, ', '-97.1', '8.19,', '-84.2', '4.10,', '-81.2', '-90.1', '7.6, ', '-22.2', '7.8, ', '-56.2', '3.27,', '9.13,', '6.18,', '3.26,', '-55.2', '0.18,', '5.18,', '5.15,', 'S-6.2', '2.7, ', '4.7, ', '-98.2', '6.28,', '-24.1', '8.10,', '6.19,', '-75.1', '4.28,', '7.15,', '2.12,', '4.4, ', '3.11,', '3.24,', '7.1, ', '4.23,', '7.19,', '7.9, ', '5.22,', '3.1, ', '-90.2', '-78.1', '0.10,', '7.24,', '2.4, ', '9.8, ', '-39.1', '5.13,', '0.7, ', '4.27,', '-27.1', '8.17,', '-49.2', '6.17,', '5.20,', '4.25,', '0.29,', '4.29,', '-68.2', '-67.2', '8.5, ', '9.10,', '-32.1', '2.18,', '8.7, ', '36, R', 'S-4.2', '36, S', '2.13,', '5.16,', '6.7, ', '3.15,', '2.25,', '-64.2', '6.30,', '4.31,', '0.19,', '-57.2', '5.2, ', '2.32,', '-57.1', '3.5, ', '-56.1', '-17.1', '0.14,', '8.6, ', '-88.2', '2.30,', '8.16,', '9.20,', '4.26,', '-42.2', '8.26,', '4.12,', '6.20,', '5.3, ', '-72.2', '9.11,', '0.8, ', '3.28,', '3.23,', '7.7, ', '4.13,', '0.12,', '7.14,', '0.11,', '5.27,', '5.19,', '-14.2', '6.2, ', '5.28,', '-73.1', 'S-3.1', '6.14,', '9.17,', '0.15,', '-66.1', '3.25,', 'S-7.3', '-16.1', '2.19,', '7.29,', '3.18,', '-69.3', '7.25,', '0.21,', '7.4, ', '-34.1', '-64.3', '6.16,', '8.21,', '0.26,', '-13.1', '0.20,', '4.1, ', '-66.2', '3.13,', '2.3, ', '8.25,', '6.1, ', '9.2, ', '5.10,', '7.18,', '9.7, ', '4.18,', '5.24,', '5.9, ', '-25.2', '4.20,', '5.14,', '8.9, ', 'S-5.2', '7.2, ', '0.13,', '4.17,', '-71.1', '7.16,', '2.17,', '9.29,', '4.9, ', '2.5, ', '-69.1', '4.15,', '0.24,', '-53.1', '3.14,', '9.28,', '-74.2', '3.31,', '4.14,', '-36.1', '-96.2', '7.17,', 'S-9.1', '-35.1', '-44.1', '-78.2', '0.25,', '-64.1', '2.14,', '9.3, ', '2.20,', '8.18,', '8.2, ', '9.4, ', '2.24,', '0.6, ', '-10.2', '-13.3', '-94.1', '4.21,', '9.19,', '7.27,', '9.23,', '6.15,', '0.2, ', '3.6, ', '-42.1', '9.24,', '2.31,', '0.22,', '7.31,', '9.30,', '2.1, ', '-73.2', 'S-7.1', '9.12,', '4.16,', '-69.2', '-11.3', '7.10,', '2.23,', '4.6, ', '8.12,', '9.14,', '9.26,', '9.1, ', '8.31,', '9.16,', '4.2, ', '5.5, ', '-72.3', '3.12,', '2.22,', '6.12,', '2.21,', 'S-7.2', '7.30,', '6.23,', '9.22,', '6.11,', '-42.3', '0.9, ', '9.18,', '8.23,', '-53.3', '0.27,', '3.8, ', '9.21,', '3.10,', '-11.2', '-66.3', '4.22,', '4.3, ', '8.30,', '7.32,', '0.30,', '0.16,', '-11.1', '9.31,', '9.33,', '4.19,', '-94.3', '9.27,', '9.6, ', '-44.3', '3.30,', '6.32,', '3.17,', '-48.3', '4.32,', '5.29,', '-88.3', '6.27,', '6.31,', '-51.3', '-81.3', '5.30,', '0.31,', '-34.3', '-49.3', '3.32,', '-57.3', '2.33,', '0.32,', '-73.3', '8.32,', '9.5, ', '-55.3', '-14.3', '9.32,', '31, n', '10, n', '.5, n', '23, n', '-25.3', 'S-8.3', '.6, n', '-17.3', '33, n', '14, n', '.9, n', '32, n', '-22.3', '5.31,', '15, n', '.8, n', '-19.3', '-23.3', '-67.3', '28, n', '26, n', '19, n', '34, n', '18, n', '17, n', '-33.3', '21, n', '12, n', '35, n', '0.4, ', '.4, n', '24, n', '25, n', '-20.3', '.7, n', '11, n', '-31.3', 'S-5.3', '8.33,', '22, n', '.2, n', '.1, n', '7.33,', '-32.3', '-90.3', '27, n', '20, n', '4.33,', '-10.3', '13, n', '-61.3', '-29.3', '29, n', '0.33,', '7.34,', 'S-3.3', '-82.3', '.3, n', '-56.3', '30, n', '-62.3', '3.33,', '-37.3', '-75.3', '16, n', '-38.3', '37, S', '37, R', '5.32,', 'S-9.3', '-76.3', '-30.3', '-27.3', '-97.3', '2.34,', '-92.3', 'S-4.3', '-96.3', '-79.3', '3.34,', '4.34,', '9.34,', '-71.3', 'S-2.3', '-70.3', '-26.3', '-84.3', '-50.3', '-91.3', '-16.3', '-85.3', '.38, ', '8.34,', '-46.3', '-77.3', '-40.3', '-58.3', '-68.3', '4.35,', '5.34,', '-12.3', '6.33,', '-98.3', '-24.3', '-43.3', '-95.3', '3.36,', '-35.3', '-41.3', '-36.3', '9.36,', '5.35,', '-74.3', '6.34,', '2.35,', '-87.3', '8.36,', '3.35,', '-63.3', '-60.3', '-28.3', '-83.3', '-59.3', '9.35,', '4.36,', 'S-6.3', '-45.3', '-54.3', '5.33,', '61.32', '-52.3', '1.36,', '58.8,', '-58.8', '50.1,', '8.35,', '.39, ', '16.25', '49.15', '53.20', '22.10', '-63.7', '37.13', '87.22', '63.7,', '18.29', '-21.3', '85.7,', '-85.7', '47.21', '61.14', '38, R', '38, S', '-20.5', '20.5,', '-71.4', '77.23', '89.13', '59.9,', '5.36,', '-59.9', '89.10', '97.8,', '-86.3', '-97.8', '71.4,', '7.35,', '18.28', '66.9,', '38.5,', '65.6,', '-66.9', '-38.5', '-65.6', '28.13', '98.25', '24.5,', '13.32', '97.22', '93.21', '79.14', '67.1,', '45.12', '65.25', '18.27', '63.25', '-90.6', '-24.5', '62.32', '-5.4,', '90.6,', '60.3,', '52.28', '-80.3', 'S-5.4', '-61.5', '4.37,', '19.29', '45.2,', '70.17', '40.7,', '77.19', '70.11', '-3.24', '-8.20', '-40.7', '48.13', '15.27', '61.5,', '33.19', '85.12', '24.28', '52.9,', '94.33', '-52.9', '65.20', '89.2,', '58.1,', '97.3,', '61.4,', '58.4,', '-61.4', '-64.4', '36.26', '41.27', '-58.4', '54.7,', '21.8,', '66.19', '47.9,', '34.8,', '-54.7', '93.27', '72.31', '60.17', '-9.22', '-5.17', '89.19', '90.33', '49.25', '31.17', '20.33', '-34.8', '86.21', '65.18', '-21.8', '62.27', '-47.9', '23.21', '-4.15', '21.5,', '89.26', '-21.5', '88.4,', '79.20', '59.27', '81.5,', '79.13', '80.25', '-88.4', '77.13', '28.16', '30.16', '15.11', '80.29', '27.21', '61.10', '97.13', '55.19', '-81.5', '95.13', '53.11', '31.20', '45.25', '97.32', '38.29', '52.29', '61.8,', '-63.9', '15.16', '19.9,', '-3.16', '93.9,', '19.15', '70.5,', '-93.9', '20.15', '12.28', '45.26', '-65.3', '65.7,', '26.29', '40.29', '-19.9', '-89.3', '45.8,', '-61.8', '-7.34', '-65.7', '91.2,', '-70.5', '-45.8', '62.13', '63.9,', '41.19', '63.8,', '80.28', '82.15', '52.12', '-6.11', '-3.22', '95.23', '12.10', '10.32', '94.30', '60.23', '34.21', '91.18', '15.21', '43.26', '69.34', '52.13', '29.33', '66.3,', '95.21', '23.1,', '88.34', '40.10', '-63.8', '57.23', '47.28', '54.10', '76.26', '60.22', '26.28', '14.17', '-29.7', '83.15', '41.23', '30.2,', '97.24', '38.13', '95.9,', '73.4,', '-6.5,', '74.30', '-95.8', '-61.6', 'S-6.5', 'S-4.8', '61.6,', '51.26', '97.20', '29.1,', '94.32', '84.3,', '16.30', '98.15', '71.13', '16.28', '82.28', '72.11', '87.12', '-6.9,', '32.35', '-73.4', '33.18', '95.8,', '-95.9', '76.14', '70.2,', '41.13', '54.11', '91.11', '29.7,', '41.30', 'S-6.9', '-4.8,', '79.10', '92.1,', '87.15', '23.29', '-36.9', '88.24', '78.24', '20.17', '69.33', '18.11', '27.19', '90.28', '75.10', '32.2,', '79.21', '51.25', '74.26', '95.24', '11.9,', '82.33', '50.3,', '42.3,', '80.26', '-85.8', '-6.13', '37.28', '59.20', '16.26', '36.29', '53.19', '25.25', '47.29', '82.6,', '96.14', '25.32', '57.10', '91.3,', '39.3,', '96.24', '7.37,', '63.1,', '33.29', '-52.5', '46.1,', '52.11', '85.8,', '-82.6', '54.3,', '63.31', '52.5,', '54.29', '-11.9', '-7.37', '-8.33', '36.9,', '95.27', '58.31', '92.8,', '44.35', '-51.6', '47.17', '20.31', '-24.4', '80.5,', '31.10', '-87.6', '92.14', '70.23', '45.19', '98.10', '97.4,', '0.34,', '62.6,', '-2.3,', '47.11', '80.18', '-11.8', '65.11', '10.12', '29.32', '-92.8', '52.19', '-80.5', '75.21', '27.22', '83.1,', '63.28', '82.27', '68.17', '76.16', '33.22', '61.19', '97.16', '-4.30', '88.19', '11.8,', '79.5,', '77.32', '92.27', '80.1,', '28.22', '39.8,', '96.6,', '86.25', '95.4,', '20.18', '40.16', '58.26', '52.2,', '51.6,', '40.22', '47.16', '10.34', '70.32', '42.32', '24.4,', '-97.4', '-96.6', '40.28', '20.28', '15.23', '20.13', '48.29', '-79.5', '47.12', '-95.4', '74.1,', '96.32', '27.3,', '-62.6', '12.29', '93.17', '98.12', '87.6,', '-39.8', '15.18', '17.29', '-45.6', '28.1,', '9.37,', '-14.5', '52.3,', '61.22', '17.22', '19.33', '-46.8', '54.16', '-13.5', '37.1,', '15.1,', '52.7,', '37.12', '76.18', '95.30', '23.3,', '72.16', '46.7,', 'S-9.9', '-39.4', '63.15', '-37.9', '24.11', '36.8,', '57.7,', '76.24', '75.17', '-57.7', '33.30', '18.13', '20.1,', '60.10', '91.24', '41.6,', '19.25', '-93.3', '21.14', '93.3,', '72.32', '25.21', '13.20', '57.2,', '46.8,', '-8.3,', '18.24', '54.28', '76.10', '89.20', '14.5,', '21.2,', '13.5,', '37.9,', '-52.7', '66.30', '-8.15', '23.31', '2.37,', '39.4,', '45.6,', '51.3,', '64.2,', '-41.6', '34.28', '-46.7', '15.17', '-36.8', '-9.9,', '95.12', '78.30', '54.19', '21.18', '83.3,', '11.5,', '-26.8', '97.26', '55.8,', '53.5,', '32.26', '13.11', '26.6,', '54.27', '31.12', '37.23', '16.29', '66.5,', '80.6,', '44.29', '47.24', '59.29', '-11.5', '30.5,', '-3.31', '82.4,', '28.21', '50.20', '89.4,', '98.6,', '2.36,', '-33.9', '55.15', '-70.7', '80.23', '-92.7', '70.7,', '45.11', '-53.5', '-83.4', '-80.6', '47.20', '-26.6', 'S-4.9', '82.8,', '77.27', '30.9,', '41.8,', '92.7,', '35.11', '21.15', '-82.8', '28.23', '48.28', '30.12', '92.15', '86.5,', '-86.5', '50.2,', '39.37', '39.17', '-41.8', '58.11', '54.5,', '89.12', '70.24', '-55.8', '50.17', '55.13', '-5.23', '56.13', '79.18', '59.15', '86.10', '-6.23', '44.31', '33.9,', '39.24', '68.1,', '-4.9,', '69.11', '89.16', '77.12', '66.24', '93.29', '-30.9', '44.18', '69.36', '-98.6', '26.8,', '53.36', '-89.4', '73.34', '43.10', '-82.4', '-54.5', '83.4,', '64.25', '-30.5', '33.20', '25.13', '-66.5', '25.3,', '95.26', '23.22', '33.16', '49.11', '71.20', '36.4,', '-3.3,', '34.11', '81.10', '81.33', '98.14', '-14.7', '68.32', '59.8,', '90.15', '16.17', '38.14', '83.25', '20.20', '67.20', '93.13', '38.16', '-16.7', '-9.33', '89.11', '-59.8', '-27.4', '72.2,', '85.28', '76.15', '31.32', '-4.27', '30.11', '32.6,', '26.22', '-36.4', '75.23', '16.7,', '-4.14', '70.27', '67.31', '83.29', '-17.5', '46.30', '41.1,', '17.5,', '91.13', '59.30', '-32.6', '89.25', '17.33', '79.30', '27.4,', '28.20', '32.25', '26.3,', '77.8,', '90.17', '59.13', '71.23', '29.8,', '39.18', '83.22', '-29.8', '79.25', '-77.8', '22.11', '52.1,', '16.22', '86.6,', '24.24', '22.4,', '79.2,', '57.31', '48.1,', '35.26', '62.30', '21.25', '86.19', '31.15', '-86.6', '81.1,', '33.32', '20.12', '76.2,', '44.24', '54.20', '14.7,', '83.27', '50.18', '79.31', '-22.4', '64.31', '38.22', '33.10', '96.7,', '95.17', '-7.3,', '82.18', '21.30', '-86.9', '50.8,', '61.30', '10.20', '86.9,', '58.6,', '13.4,', '52.20', 'S-6.4', '51.21', '60.19', '20.19', '83.14', '84.24', '27.25', '60.27', '78.14', 'S-6.7', '40.18', '63.24', '51.19', '65.22', '-8.32', '60.12', '44.23', '-10.8', '49.30', '77.10', '17.32', '36.24', '-93.4', '-2.2,', '69.23', '54.12', '86.3,', '18.25', '91.21', '56.22', '52.27', '-96.7', '34.18', '46.25', '94.27', '-50.8', '81.25', '-47.4', '61.21', '52.25', '51.10', '35.22', '96.16', '38.7,', '39.25', '86.23', '22.12', '66.32', '35.20', '-79.8', '36.28', '-8.18', '76.1,', '57.6,', '-58.6', '47.4,', '52.18', '12.4,', '79.12', 'S-8.7', '46.21', '70.28', '74.19', '18.9,', '-18.9', '38.33', '26.10', '-8.24', '74.29', '70.29', '80.21', '-6.7,', '-33.4', '51.12', '93.4,', '66.33', '84.10', '-9.18', '88.13', '33.4,', '-4.24', '-57.6', '76.3,', '37.20', '-12.4', '84.26', '62.9,', '48.36', '85.24', '10.13', '25.15', '61.20', '63.19', '70.31', '22.30', '-38.7', '-2.26', '-13.4', '22.18', '87.24', '-62.9', '56.34', '53.27', '37.11', '45.23', '-6.4,', '28.19', '3.37,', '62.12', '32.16', '60.11', '58.19', '40.19', '55.34', '79.8,', '36.32', '55.25', '10.8,', '-8.7,', '56.18', '62.25', '16.21', '41.25', '93.2,', '29.19', '63.16', '-83.7', '35.21', '18.1,', '31.27', '64.23', '47.23', '46.29', '85.15', '-52.8', '-12.9', '-59.4', '37.21', '62.10', '16.27', '25.12', '-15.5', '50.14', 'S-8.6', '38.3,', '24.8,', '-18.4', '51.2,', '79.1,', '21.29', '93.28', '78.13', '63.21', '15.5,', '60.6,', '-8.6,', '85.26', '17.11', '77.15', '93.19', '98.8,', '84.14', '81.28', '38.27', '32.10', '17.7,', '-60.5', '31.31', '61.23', '42.29', '27.28', '12.6,', '11.10', '48.17', '-60.6', '55.22', '-5.34', '-30.7', '66.12', '85.22', '80.10', '75.28', '68.2,', '56.28', '55.17', '18.8,', '51.27', '59.4,', '53.2,', '-7.15', '30.7,', '71.2,', '68.10', '60.5,', '97.23', '12.9,', '-80.7', '20.26', '54.24', '-17.7', '94.21', '71.30', '84.25', '-12.6', '-8.29', '19.34', '-98.8', '29.28', '94.1,', '-24.8', '38.6,', '18.4,', '67.15', '24.20', '36.27', '83.7,', '92.10', '83.18', '54.14', '86.1,', '-38.6', '61.31', '43.25', '87.20', '45.17', '80.7,', '73.16', '14.30', '57.11', '61.25', '43.2,', '-8.12', '-18.8', '50.24', '52.8,', '88.22', '31.14', '-68.8', '-24.6', '13.36', '73.14', '-72.4', '59.16', '70.13', '67.14', '12.2,', '-2.10', '40.15', 'S-7.9', '65.14', '-9.27', '62.8,', '-6.21', '-22.9', '82.26', '78.28', '28.26', '14.6,', '89.5,', '75.6,', '-90.9', '87.5,', '88.18', '14.23', '-71.5', '58.21', '58.12', '19.12', '90.3,', '26.26', '35.29', '13.24', '-56.4', '-41.5', '-4.12', '86.14', '14.15', '26.23', '41.5,', '-5.11', '87.26', '98.20', '-7.9,', '97.21', '91.28', '89.17', '36.2,', '26.17', '68.18', '45.10', '68.19', '20.29', '22.34', '-89.5', '21.6,', '62.15', '22.29', '69.17', '95.29', '16.13', 'S-2.5', '44.7,', '22.9,', '29.15', '77.16', '-62.8', '96.18', '-59.6', '-47.7', '61.27', '71.5,', '89.22', '-20.4', '63.2,', '65.28', '-14.6', '75.24', '85.30', '78.1,', '60.1,', '21.21', '68.29', '-21.6', '90.9,', '82.17', '10.21', '60.30', '-75.6', '17.28', 'S-6.8', '92.28', '54.26', '23.13', '-6.8,', '94.23', '11.35', '70.19', '59.6,', '68.8,', '79.24', '18.14', '95.3,', '-44.7', '25.16', '-2.5,', '91.16', '44.25', '48.14', '-6.18', '20.4,', '74.16', '-9.3,', '28.29', '27.26', '72.4,', '40.13', '43.22', '60.14', '-9.32', '22.25', '38.15', '82.13', '47.7,', '24.6,', '72.29', '89.1,', '48.26', '93.23', '20.30', '64.22', '56.4,', '-87.5', '51.20', '30.14', '87.14', '30.3,', '18.21', '-16.9', '75.7,', '24.31', '23.16', '3.38,', '28.9,', '91.5,', '-2.19', '-73.6', '12.7,', '92.9,', '15.24', '86.20', '21.24', '13.23', '85.6,', '38.20', '-4.23', '-28.9', '71.22', '54.25', '-86.4', '78.35', '31.29', '79.15', '91.6,', '94.4,', '46.3,', '87.13', '92.16', '24.22', '14.31', '17.3,', '89.28', '-12.7', '-8.5,', '67.33', '79.6,', '56.21', '74.13', '74.11', '39.15', '-6.25', '45.1,', '20.23', '48.33', '27.24', '51.5,', '34.36', '84.16', '12.23', '41.17', '-85.6', '-74.8', '46.17', '-8.17', '64.13', '29.20', '74.10', '-91.6', '52.10', '1.37,', '-20.8', '12.22', '98.21', '-79.6', '60.24', '53.38', '44.33', '-75.7', '95.1,', '58.27', '63.29', '36.13', '20.8,', '20.14', '-92.9', '22.33', '49.33', '-94.4', '81.24', '40.8,', '74.8,', '35.15', '-18.3', '27.13', '37.3,', '19.28', '84.1,', '13.12', '48.4,', '19.23', '16.3,', '80.14', '74.31', '37.19', '-46.5', '65.23', '-32.7', '-91.5', '98.11', '32.7,', '58.24', '73.6,', '93.8,', '61.28', '29.11', '28.3,', '34.27', '18.20', '11.29', '11.37', '92.17', '33.3,', '77.11', '45.18', '64.30', '62.24', '23.6,', '57.12', '-48.4', '-3.9,', '83.28', '34.25', '-5.19', '-3.32', 'S-8.5', '45.29', '76.29', '-6.17', '-3.33', '46.5,', '15.12', '14.12', '84.12', '-51.5', '16.9,', '-93.8', '43.32', 'S-3.9', '-40.8', '81.3,', '38.1,', '86.4,', '58.16', '92.30', '27.11', '85.2,', '94.13', '-23.6', '80.12', '63.26', '-6.29', '70.16', '18.3,', '41.24', '40.25', '-20.7', '69.31', '24.21', '4.40,', '86.22', '75.31', '84.4,', '81.17', '68.13', '70.15', '68.28', '-84.4', '-4.17', '43.21', '30.1,', '35.8,', '39.36', '72.34', '-44.4', '10.18', '-28.5', '54.2,', 'S-5.5', '79.28', '67.3,', '58.15', '25.35', '-15.4', '93.15', '88.27', '77.2,', '61.12', '-30.6', '88.7,', '88.3,', '98.3,', '15.4,', '24.13', '47.5,', '57.35', '22.6,', '51.13', '-65.4', '52.4,', '51.36', '-5.35', '55.26', '70.20', '-88.6', '77.29', '48.10', '64.40', '26.32', '23.9,', '-64.9', '31.23', '97.18', '55.21', '55.18', '41.21', '35.23', '-2.20', '78.22', '52.26', '33.2,', '63.5,', '90.14', '61.1,', '64.39', '40.21', '-2.15', '-47.5', '91.29', '73.24', '82.16', '81.8,', '71.24', '-22.6', '15.14', '55.1,', '65.13', '-23.9', '13.33', '-63.5', '4.39,', '44.27', '24.18', '72.9,', '-63.6', '29.21', '74.20', '48.23', '-5.5,', '32.24', '28.31', '65.12', '-94.5', '62.1,', '65.17', '94.31', '-27.9', '-81.8', '12.15', '-52.4', '47.10', '-9.28', '69.30', '44.4,', '59.28', '89.14', '-3.1,', '34.14', '32.19', '36.25', '85.14', '45.14', '53.14', '34.35', '85.18', '76.13', '42.25', '-4.32', '95.20', '94.5,', '-35.8', '92.2,', '59.23', '-2.27', '51.8,', '30.24', '68.14', '63.6,', '81.13', '51.30', '31.21', '20.7,', '-72.9', '79.22', '70.26', '81.35', '64.9,', '22.16', '57.33', '65.4,', '87.30', '75.26', '62.28', '42.26', '88.6,', '-88.7', '75.1,', '30.6,', '95.16', '79.16', '-51.8', '65.15', '48.3,', '60.26', '28.5,', '73.28', '.40, ', '67.28', '16.2,', '78.17', '10.22', '29.24', '75.20', '27.9,', '29.12', '39.23', '81.12', '-8.26', '40.26', '87.19', '26.5,', '68.11', '87.21', '71.7,', '83.19', '31.33', '94.3,', '30.31', '98.2,', '48.19', '-97.5', '58.3,', '41.31', '19.7,', '48.27', '41.14', '-76.5', '55.4,', '69.7,', '31.19', '20.10', '36.22', '12.12', '69.8,', '36.18', '-67.6', '71.8,', '76.12', '92.20', '66.10', '96.19', '26.30', '11.32', '40.1,', '73.7,', '40.23', '77.17', '35.3,', '-8.11', 'S-7.5', '-66.4', '66.25', '87.28', '59.10', '47.6,', '92.33', '17.26', '56.8,', '62.29', '32.18', '56.3,', '-88.9', '48.22', '53.30', '66.2,', '34.6,', '59.26', '36.20', '-6.10', '59.21', '67.30', '24.9,', '31.4,', '90.21', '-26.5', '35.1,', '-71.8', '-56.8', '18.2,', '31.2,', '49.1,', '42.21', '-69.7', '21.20', '68.16', '-3.29', '47.19', '94.10', '-34.6', '96.17', '73.9,', '51.11', '60.29', '-47.6', '96.4,', '43.5,', '-2.9,', '10.19', '-29.4', '-31.4', '38.31', '58.13', '17.13', '30.26', '29.9,', '-69.8', '57.15', '-9.26', '88.9,', '96.5,', '12.18', '-24.9', '54.4,', '-73.9', '95.25', '57.32', '53.25', '-4.4,', '-54.9', '76.20', '76.6,', 'S-4.4', '64.3,', '-19.7', '-69.9', '88.15', '-41.4', '11.22', '79.3,', '51.22', '81.14', '84.31', '90.27', '-76.6', '-7.5,', '39, R', '28.14', '72.8,', '26.15', '32.29', '67.6,', 'S-2.9', '81.26', '52.21', '-71.7', '95.14', '17.18', '-54.4', '37.26', '-96.4', '41.4,', '14.34', '97.5,', '-43.5', '82.2,', '-4.26', '18.23', '19.17', '49.2,', '66.4,', '69.35', '65.1,', '96.20', '56.24', '76.5,', '29.4,', '-3.11', '93.20', '-72.8', '76.19', '-96.5', '51.14', '90.11', '97.25', '32.1,', '82.19', '38.24', '77.30', '30.17', '85.16', '-29.9', '54.9,', '39, S', '-73.7', '-6.6,', 'S-6.6', '80.15', '-55.4', '19.13', '34.10', '73.13', '69.9,', '20.25', 'S-8.9', '-41.7', '91.7,', '51.15', '-77.5', '-8.28', '82.22', '82.11', '66.13', '-72.6', '62.14', '35.25', '12.31', '92.22', '83.8,', '63.4,', '83.23', '56.19', '84.13', '30.21', '-98.5', '43.17', '51.9,', '78.39', '73.33', '17.8,', '17.9,', '42.24', '-9.2,', '66.15', '43.24', '-2.25', '49.24', '42.30', '70.12', '-79.9', '32.30', 'S-7.7', '46.24', '69.19', '-15.6', '-8.9,', '87.31', '-7.7,', '55.16', '43.15', '9.38,', '40.24', '23.10', '96.25', '21.28', '69.10', '57.14', '34.30', '20.3,', '16.15', '24.7,', '62.17', '8.39,', '-31.6', '-4.28', '56.6,', '12.8,', '60.25', '-24.7', '64.1,', '25.4,', '78.3,', '38.11', '19.26', '-63.4', '93.26', '53.23', '37.10', '68.6,', '-68.6', '-17.8', '95.2,', '25.30', '-25.4', '97.1,', '77.9,', '56.29', '86.7,', '67.26', '61.16', '21.12', '-8.30', '93.12', '-17.9', '13.7,', '24.32', '25.9,', '50.27', '63.23', '80.24', '27.18', '30.32', '96.13', '-12.8', '95.10', '10.10', '29.13', '-7.25', '65.5,', '81.23', '-65.5', '59.7,', '60.18', '-91.7', '-92.6', '86.13', '90.31', '60.21', '93.16', '-6.3,', '69.28', '54.1,', '79.4,', '41.7,', '64.18', '-51.9', '-83.8', '-5.15', '42.2,', '-59.7', '-2.11', '35.12', '14.32', '40.3,', '16.24', 'S-7.8', '16.18', '79.9,', '49.7,', '84.11', '77.26', '37.32', '-25.9', '65.21', '87.8,', '79.11', '92.6,', '24.17', '14.11', '-86.7', '14.18', '13.35', '-49.7', '78.33', '90.23', '60.15', '-87.8', '82.14', '37.22', '-7.23', '44.30', '72.24', '11.27', '77.5,', '27.29', '-4.11', '43.16', '98.5,', '16.10', '45.24', '67.34', '13.14', '72.6,', '12.21', '28.10', '38.19', '47.1,', '31.6,', '40.31', '-8.22', '-7.8,', '42.33', '14.24', '91.25', '15.6,', '26.1,', '30.20', '43.19', '87.29', '-79.4', '33.26', '-13.7', '-56.6', '-77.9', '71.21', '82.10', '82.31', '34.9,', '48.2,', '-35.7', '74.6,', '-98.7', '42.8,', '81.27', '-9.23', '96.12', '13.18', '85.17', '-48.7', '49.32', '88.12', '36.30', '81.18', '48.7,', '83.6,', '-82.5', '86.11', '44.22', '-25.6', '79.23', '-22.7', '53.34', '34.24', '27.27', 'S-5.9', '71.16', '56.17', 'S-2.8', '69.13', '61.9,', '-9.25', '22.23', '-5.9,', '93.1,', '89.9,', '62.21', '31.7,', '67.4,', '26.11', '76.23', '71.3,', '-9.16', '-21.7', '19.10', '46.27', '-6.31', '40.30', '40.14', '-15.7', 'S-9.8', '36.16', '80.30', '29.17', '87.25', '-2.23', '39.27', '66.34', '30.10', '69.2,', '27.17', '87.2,', '84.2,', '14.20', '26.18', '52.30', '-95.7', '66.31', '-74.6', '45.31', '-2.33', '-34.9', '8.37,', '62.3,', '72.27', '50.9,', '25.2,', '84.5,', '73.1,', '13.21', '-3.20', '91.12', '70.3,', '22.7,', '19.19', '-9.8,', '98.13', '18.19', '33.23', '-61.9', '67.9,', '93.11', '-67.9', '-50.9', '84.15', '-8.4,', '-89.9', '42.14', '-74.7', '-67.4', '26.20', '46.10', '92.13', '-7.31', '15.7,', '-9.6,', '95.31', '-84.5', '33.13', '11.30', '75.18', '26.4,', '-17.6', '88.11', '89.3,', '54.30', '23.2,', '-31.5', '35.9,', '-89.7', '31.13', '81.30', '17.6,', '-2.8,', '21.7,', '-8.2,', '10.1,', '-70.8', '74.15', '11.31', '-6.22', '25.11', '85.32', '58.14', '-2.32', '97.17', '61.2,', '63.10', '95.22', '50.6,', '-30.8', '82.7,', '67.23', '23.17', '39.14', '30.8,', '93.18', '16.4,', '98.7,', '12.13', '17.31', '20.11', '70.8,', '60.28', '14.13', '15.10', '39.38', '92.23', '22.26', '29.26', '40.2,', '97.27', '63.27', '48.34', '13.13', '62.11', '-7.17', '-6.16', '-83.6', '25.6,', '12.20', '51.18', '-7.13', '80.22', '24.23', '-26.4', '31.34', '65.10', 'S-8.4', '52.23', '12.32', '82.5,', '45.3,', '53.21', '28.25', '69.3,', '74.7,', '14.33', '96.11', 'S-9.6', '24.14', '-16.4', '49.19', '90.26', '31.5,', '-82.7', '-8.27', '21.11', '46.28', '17.30', '-9.11', '22.2,', '49.10', '92.24', '89.7,', '58.25', '51.35', '-35.9', '-42.8', '-50.6', '95.7,', '-3.26', '24.29', '-2.12', '44.1,', '35.7,', '87.3,', '90.32', '-31.7', '70.25', '98.27', '37.25', '95.28', '12.25', '33.7,', '22.27', '12.27', '88.33', '86.8,', '85.5,', '25.14', '-70.9', '66.21', '19.30', '73.35', '13.30', '18.15', '-14.4', '-50.4', '81.31', '39.21', '12.16', '84.30', '-9.31', '72.15', '63.3,', '52.14', '43.1,', '84.18', '72.19', '81.7,', '60.2,', '29.2,', '30.22', '19.14', '91.1,', '14.10', '-33.7', '-19.8', '17.14', '13.26', '77.1,', '62.19', '93.5,', '29.31', '-86.8', '76.11', '26.9,', '90.30', '21.1,', '43.23', '72.13', '63.18', '54.8,', '-3.18', '32.32', '73.31', '68.9,', '67.18', '43.11', '43.12', '20.21', '-81.7', '-5.13', '68.23', '81.6,', '15.28', '47.14', '-6.19', '14.21', '19.18', '62.22', '87.10', '88.25', '80.17', '98.30', '-6.2,', '89.24', '80.19', '34.37', '66.22', '86.12', '-4.29', '-5.12', '-74.4', '37.5,', '45.7,', '74.4,', '60.13', '47.18', '78.36', '18.26', '-37.4', '23.7,', 'S-7.6', '-54.8', '78.19', '95.19', '49.29', '29.22', '28.7,', '38.28', '49.31', '73.11', '37.4,', '-67.5', '-85.5', '56.16', '-45.7', '48.24', '31.16', '68.3,', '23.19', '55.27', '50.21', '50.23', '-23.7', '83.11', '50.4,', '28.27', '30.18', '35.32', '-93.5', '15.19', '-7.6,', '66.8,', '-66.8', '34.12', '70.9,', '10.15', '31.28', '90.25', '49.20', '97.7,', '32.15', '12.5,', '38.25', '14.4,', '-37.5', '-12.5', '52.17', '88.28', '-81.6', '-7.16', '91.32', '76.31', '85.11', '59.24', '30.30', '-26.9', '-97.7', '-2.24', '37.2,', '-3.23', '85.31', '-68.9', '31.22', '-6.14', '19.8,', '77.18', '19.22', '45.20', '-28.7', '67.5,', '22.31', '46.13', '85.25', '48.20', '67.16', '96.33', '11.11', '94.29', '94.24', '19.3,', '77.6,', '94.20', '89.18', '19.20', '96.10', '47.13', '-16.6', '78.4,', '-2.17', '61.11', '32.31', '-9.12', '-56.5', '-31.8', '-78.4', '-77.7', '84.8,', '-40.5', '48.6,', '16.6,', '53.26', '57.4,', '24.25', '-15.9', '59.3,', '43.6,', '-59.5', '-6.15', '67.27', '82.21', '81.19', '69.6,', '90.8,', '15.13', '85.1,', '-62.4', '57.8,', '95.6,', '-58.9', '-43.7', '42.16', '32.23', '85.21', '97.14', '-91.9', '60.8,', '49.4,', '90.20', '53.9,', '23.26', '68.26', '69.24', '-83.5', '78.34', '24.26', '39.31', '51.16', '28.15', '67.25', '57.5,', '43.14', '31.24', '37.34', '14.14', '62.4,', '49.21', '28.8,', '49.36', '29.16', '38.32', '71.27', '-3.28', '37.30', '-7.18', '84.29', '90.5,', '18.12', '71.11', '88.31', '81.22', '-48.6', '41.3,', '41.15', '59.11', '59.5,', '-57.4', '46.19', '-5.26', '41.11', '64.7,', '12.17', '-43.6', '58.20', '43.7,', '13.16', '15.26', '-64.7', '19.32', '-57.5', '37.24', '63.20', '-26.7', '19.31', '42.12', '51.32', '39.33', '-95.6', '25.1,', '84.20', '-96.9', '55.37', '39.29', '-90.5', '43.29', '53.24', '-87.7', '59.12', '-2.16', '-5.7,', '48.15', '-60.8', '16.20', '22.5,', '90.10', '80.4,', '14.8,', '57.3,', '60.20', '72.12', '32.14', '-78.6', '84.27', '23.34', '-14.8', '85.3,', '83.30', '12.30', '93.22', '36.15', '-28.8', '26.19', '43.4,', '68.25', '82.34', '85.29', '39.22', '87.7,', '-69.6', '20.9,', '96.9,', '59.17', '58.9,', '88.36', '46.22', '44.17', '71.10', '46.15', '-3.17', '83.9,', '91.9,', '15.25', '77.7,', '83.26', '-22.5', '90.19', '-53.9', '36.10', '83.5,', '-5.18', '34.29', '-57.8', '63.12', '78.26', '38.10', '26.7,', '-80.4', '11.1,', '91.26', '20.24', '33.15', '78.32', '56.5,', '97.2,', '13.28', '81.32', '53.15', '78.6,', '35.27', '47.27', '96.29', '-5.21', '-20.9', '-77.6', '96.3,', '-84.8', '21.26', '-49.4', '18.17', '84.17', '30.23', '12.26', '5.37,', '66.20', '68.15', '55.2,', '76.34', '-90.8', '64.19', '39.35', '23.30', '69.29', '15.9,', '40.5,', '-83.9', '31.8,', 'S-5.7', '-43.4', '68.21', '25.22', '83.2,', '39.34', '33.27', '-37.6', '-3.4,', '-3.8,', '41.2,', '88.10', '58.23', '48.25', '79.17', '29.3,', '49.9,', '33.31', '-39.6', '-60.9', '14.25', '-46.6', '68.5,', '75.8,', '46.14', '15.22', '24.15', '57.29', '78.18', '64.15', '37.6,', '-7.24', '56.31', '-5.14', '58.18', '94.12', '11.6,', '82.30', '39.9,', '86.29', '78.5,', '27.2,', '-2.22', '-4.1,', '-49.9', '27.31', '13.37', '32.9,', '18.10', '96.2,', '-16.5', '51.28', '-2.29', '10.27', '49.8,', 'S-3.8', '44.11', '75.25', '74.25', '72.28', '77.14', '-7.33', '36.14', '44.9,', '-44.5', '-68.5', '43.13', '11.23', '50.13', '86.26', '58.28', '60.9,', '68.30', '-8.10', '17.27', '89.29', '45.9,', '74.2,', '16.5,', '49.35', '32.4,', '14.16', '65.27', '56.26', '-11.6', '-5.28', '53.4,', '14.27', '15.3,', '28.17', '-78.5', '22.24', '27.6,', '41.22', '39.32', '77.28', '-44.9', '91.14', '-75.8', '18.16', '-64.8', '11.33', '-88.5', '80.3,', '-42.6', 'S-3.4', '87.27', '34.7,', '37.14', '76.28', '49.17', '86.17', '91.20', '-53.4', '44.5,', '41.9,', '42.15', '72.20', '24.12', '42.10', '-45.9', '91.4,', '-41.9', '78.10', '-8.16', '91.30', '70.22', '58.30', '79.32', '98.32', '87.23', '46.6,', '97.19', '83.13', '39.6,', '86.2,', '21.17', '12.1,', '11.15', '-27.6', '17.1,', '96.1,', '-91.4', '-5.10', '12.11', '-3.27', '-7.22', '74.22', '44.21', '21.27', '55.28', '-49.8', '29.30', '-15.3', '59.18', '14.28', '64.37', '65.2,', '26.21', '-39.9', '-32.9', '-32.4', '46.16', '42.6,', '88.16', '88.5,', '72.17', '64.8,', '73.22', '41.18', '69.14', '37.16', '75.3,', '67.13', '56.33', '-34.7', '71.18', '60.7,', '96.31', '44.16', '91.27', '26.13', '44.20', '-7.35', '46.31', '32.28', '-4.21', '40.32', '-60.7', '49.26', '51.34', '-5.16', '39.12', '11.34', '98.17', '57.30', '-55.9', '82.9,', '-78.7', '-7.14', '17.12', '55.9,', '28.4,', '-6.1,', '92.26', '32.34', '64.36', '-73.8', 'S-5.6', '28.11', '39.13', '25.20', '67.24', '13.9,', '65.29', '76.9,', '22.28', '83.10', '28.18', '-23.4', '57.28', '10.14', '-5.20', '34.32', '81.4,', '34.26', '19.27', '73.29', '-8.23', '27.33', '67.12', '77.21', '-7.27', '71.9,', '-94.6', '72.18', '50.29', '19.24', '65.3,', '15.20', '30.28', '39.19', '42.37', '35.16', '69.25', '-76.9', '71.14', '94.2,', '92.29', '-13.9', '-51.4', '11.14', '-43.9', '24.2,', '23.12', '77.20', '-8.31', '-82.9', '-79.7', '89.23', '68.12', '83.20', '71.33', '57.34', '39.7,', '-7.30', '-5.27', '79.7,', '17.23', '72.10', '-5.33', '14.35', '-68.7', '92.12', '24.30', '-9.17', '93.7,', '73.10', '14.26', '27.23', '92.5,', '-71.9', '-14.9', '57.21', '-39.7', '27.30', '50.10', '72.7,', '-9.5,', '50.28', '68.7,', '-53.7', '78.31', '10.26', '90.12', '-75.9', '14.9,', '98.16', '81.29', '7.36,', '24.16', '46.11', '17.25', '11.2,', '17.17', '58.22', '-81.4', '43.9,', '-93.7', '47.15', '73.15', '80.16', '-7.36', '-5.36', '98.9,', '78.7,', '-5.6,', '73.8,', '88.21', '94.6,', '18.22', '68.27', '87.16', '54.15', '78.2,', '33.14', '34.33', '92.31', '39.16', '-2.18', '88.1,', '50.31', '-92.5', '64.10', '55.33', '51.4,', 'S-9.5', '28.2,', '56.32', '44.10', '19.1,', '37.31', '-72.7', '59.31', '67.21', '-28.4', '42.31', '82.3,', '-3.2,', '23.18', '92.19', '17.21', '41.28', '41.12', '81.21', '33.11', '48.21', '95.15', '26.16', '83.24', '18.18', '65.30', '36.12', '53.7,', '50.19', '83.12', '35.13', '17.15', '67.22', '13.2,', '23.4,', '75.9,', '11.36', '22.22', '-98.9', '26.12', '72.23', '32.5,', '15.8,', '72.1,', '88.30', '62.2,', '-90.7', '64.38', '94.25', '20.2,', '95.11', '-9.7,', '-38.8', '83.31', '-45.4', '58.17', '16.14', '74.5,', '10.7,', '29.25', '93.25', '-34.5', '48.31', '21.4,', '33.17', '-8.13', '47.26', '57.18', '33.8,', '-5.22', '73.27', '33.12', '-8.14', '-84.9', '-5.29', '38.8,', '-32.5', '62.31', '55.24', '-66.6', 'S-3.6', '-93.6', '61.18', '-88.8', '92.32', '35.31', '-36.7', '85.23', '67.11', '42.18', '10.33', '56.20', '62.23', '22.13', '45.5,', '-21.4', '28.30', '50.25', '75.2,', '71.26', '-80.8', '-58.7', '-52.6', '46.4,', '-9.10', '13.6,', '-29.5', '62.20', '80.11', '-4.13', '64.27', '27.5,', '43.27', '10.31', '30.19', '44.28', '58.7,', '78.29', '77.3,', '42.17', '-74.5', '-4.34', '94.18', '57.1,', '64.12', '13.22', '-2.14', '44.6,', '29.29', '76.8,', '94.11', '21.3,', '29.5,', '-46.4', '61.17', '57.20', '-51.7', '-33.8', '-73.5', '98.1,', '16.31', '10.25', '36.21', '73.2,', '13.27', '73.19', '34.23', '65.19', '47.2,', '62.26', '-77.4', '30.29', '49.23', '84.19', '19.11', '55.3,', '-84.6', '57.25', '79.29', '-27.5', '51.7,', '21.10', '47.25', '-76.8', '12.24', '55.7,', '26.2,', '-4.22', '73.32', '-13.6', '-36.6', '80.8,', '-35.4', '40.27', '42.1,', '4.38,', '44.13', '90.7,', '-25.5', '-6.20', '26.31', '96.21', '34.17', '93.6,', '64.32', '36.6,', '45.4,', '42.11', '55.29', '-15.8', '52.6,', '85.10', '39.30', '48.11', '36.7,', '23.24', '32.22', '44.36', '61.3,', '-44.6', '88.17', '-5.1,', 'S-9.7', '66.17', '69.21', '25.28', '57.26', '35.30', '-8.21', '16.16', '79.19', '35.4,', '91.31', '75.11', '58.10', '25.5,', '-55.7', '94.28', '43.31', '73.5,', '12.3,', '71.15', '51.23', '84.6,', '34.34', '77.4,', 'S-99.', '-45.5', '70.10', '-10.7', '75.14', '-3.6,', '84.9,', '66.6,', '56.12', '32.21', '88.8,', '34.5,', '40.11', '25.7,', '97.9,', '38.9,', '56.10', '55.30', '11.13', '-7.2,', '90.18', '-19.6', '87.1,', '96.22', '75.12', '-42.7', '-56.7', '49.6,', '35.2,', '27.10', '-67.8', '85.27', '98.31', '21.16', '29.10', '54.23', '88.29', '23.14', '14.2,', '-97.9', '80.13', '97.30', '73.3,', '-49.6', '31.3,', '30.13', '46.20', '24.10', '72.5,', '78.20', '76.4,', '31.18', '64.21', '30.27', '46.12', '37.7,', '18.5,', '-38.9', '65.26', '68.22', '79.27', '56.1,', '-3.21', '-2.21', '38.17', '-6.26', '31.26', '11.4,', '-7.28', '-37.7', '48.18', '75.5,', '37.29', '72.30', '94.26', '15.2,', '-98.4', '-70.4', 'S-3.7', '53.3,', '54.18', '78.27', '31.9,', '61.7,', '78.15', '39.20', '36.1,', '37.18', '68.31', '27.1,', '-7.26', '70.4,', '-3.15', '-61.7', '40.17', '33.34', '30.33', '-9.1,', '11.25', '43.30', '96.26', '-31.9', '19.6,', '28.28', '59.19', '94.34', '42.7,', '-4.19', '17.2,', '-72.5', '13.29', '52.16', '38.2,', '-76.4', '-2.13', '19.16', '94.17', '62.18', '-3.7,', '67.8,', '87.18', 'S-2.7', '82.29', '-9.20', '-5.25', '97.31', '82.20', '94.22', '67.17', '-25.7', '-2.28', '87.17', '-11.4', '51.29', '75.15', '38.30', '-18.5', '-8.1,', '71.1,', '56.27', '98.24', '56.7,', '98.4,', '-75.5', '75.32', '-2.7,', '89.27', '64.17', '-87.4', '88.35', '54.22', '57.24', '-2.6,', '55.32', '54.17', '-78.9', '56.23', '-55.5', '27.8,', '33.33', '94.7,', '37.17', '90.1,', '-7.20', '78.8,', '61.26', '84.28', '56.25', '-47.8', '23.8,', '-36.5', '-2.31', 'S-2.6', '35.10', '69.16', '53.28', '23.20', '70.6,', '45.22', '72.36', '66.28', '81.16', '80.9,', '63.14', '76.30', '39.2,', '45.28', '46.26', '63.22', '13.15', '-85.9', '72.26', '98.23', '32.17', '53.32', '13.3,', '42.22', '29.14', '39.26', '38.26', '50.5,', '61.15', '23.27', '41.20', '11.3,', '-3.13', '64.28', '-23.8', '10.11', '50.11', '73.25', '74.23', '-48.5', '92.11', '76.22', '-70.6', '86.28', '36.5,', '50.7,', '71.32', '73.21', '74.17', '-2.1,', '60.16', '22.20', '25.10', '85.9,', '43.28', '85.20', '25.19', '49.12', '46.2,', '17.34', '42.20', '21.23', '36.3,', '44.34', '90.29', '21.19', '-27.8', '-37.8', '19.2,', '79.26', '50.33', '48.30', '88.2,', '48.5,', '23.5,', '55.5,', '58.29', '-50.5', '42.36', '40.20', '-23.5', '-94.7', '75.13', '11.16', '45.16', '49.34', '97.12', '47.8,', '85.4,', '37.8,', '70.18', '17.10', '32.20', '86.18', '-3.12', '98.18', '61.29', '-9.29', '49.14', '-78.8', '10.23', '49.13', '25.23', '32.27', '-50.7', '78.9,', '51.24', '-4.16', '97.29', '22.19', '87.4,', '36.23', '27.15', '27.20', '77.24', '20.27', '13.31', '85.19', '-80.9', '-85.4', '26.27', '97.28', '35.24', '53.12', '13.25', '8.38,', '59.14', '40.9,', '42.28', '77.25', '92.3,', '45.21', '-48.8', '90.4,', '70.1,', '72.21', '44.32', '65.16', '61.24', '63.30', '84.21', '-62.7', '29.6,', '73.20', '48.8,', '42.4,', '44.3,', '89.30', '70.21', '56.14', '67.7,', '81.34', '-5.3,', '42.5,', '91.15', '-4.5,', '28.24', '63.13', '25.27', '26.25', '84.22', '53.17', '35.6,', '86.27', '37.15', '-4.7,', '-9.15', '-40.9', '64.5,', '-42.4', '70.14', '90.13', '94.19', 'S-3.5', '55.12', '-3.5,', '-42.5', '39.10', '40.6,', '-90.4', '33.6,', '23.11', '66.23', 'S-4.7', '-3.14', '73.30', '97.6,', '73.18', '67.19', '97.15', '-18.7', '37.33', '85.13', '37.27', '88.32', '87.11', '-64.5', 'S-2.4', '18.7,', '-10.9', '76.17', '34.2,', '-4.20', '33.28', '10.9,', '45.30', '-7.11', '64.4,', '53.31', '86.30', '-91.8', '56.9,', '69.4,', '71.25', '72.33', '43.18', '25.34', '-40.6', '69.1,', '57.19', 'S-4.5', '98.26', '23.25', '64.24', '84.23', '49.27', '-6.30', '26.14', '84.32', '76.33', '22.32', '-97.6', '13.19', '54.13', '-9.21', '-69.4', '-4.10', '52.15', '-33.6', '74.12', '17.19', '94.16', '44.2,', '91.8,', '44.19', '50.30', '66.18', '38.21', '62.7,', '56.30', '-9.14', '66.29', '34.13', '-2.4,', '11.21', '-67.7', '91.10', '-29.6', '27.14', '78.38', '-56.9', '24.3,', '75.35', '-35.6', '61.13', '41.10', '-84.7', '77.31', '-64.6', '91.23', '-35.5', '39.1,', '50.12', '10.3,', '-32.8', '27.12', '43.33', '-4.6,', '32.11', '64.6,', '51.33', '50.22', '44.14', '45.15', '55.36', 'S-9.4', '75.19', '24.1,', '58.5,', '97.11', '39.28', '10.29', '64.33', '90.24', '73.12', '-38.4', '-9.13', '75.27', '16.1,', '-49.5', '31.30', '22.17', '23.35', '65.8,', '13.8,', '53.13', '89.6,', '-21.9', '-7.32', '75.16', '71.12', '-65.8', '73.23', '44.26', '26.24', '76.21', 'S-8.8', '48.37', '-89.6', '75.22', '96.28', '34.15', '67.2,', '46.32', '11.18', '44.15', '56.15', '25.26', '31.1,', '46.9,', '84.7,', '22.14', '74.3,', '60.4,', '-33.5', '20.22', '33.5,', '22.3,', '59.25', '31.11', '-60.4', '-9.4,', '34.31', '55.23', '41.26', '23.28', '-6.24', '15.15', '-46.9', '62.16', '21.9,', '98.22', '76.27', '-16.8', '-8.8,', '96.30', '19.21', '-11.7', '16.8,', '-6.12', '80.20', '77.22', '34.20', '82.23', '42.19', '63.11', '75.34', '33.21', '73.36', '50.15', '72.37', '32.8,', '72.22', '-71.6', '66.16', '-13.8', '82.12', '53.33', '20.32', '16.32', '71.6,', '38.4,', '59.2,', '11.7,', 'S-4.6', '49.5,', '-58.5', '72.14', '64.11', '78.11', '-5.2,', '92.21', '46.23', '-4.31', '71.31', '59.1,', '35.5,', '89.21', '72.35', '62.33', '91.19', '88.20', '20.6,', '95.5,', '57.13', '51.1,', '29.23', '86.16', '95.18', '50.16', '17.20', '16.23', '30.25', '-7.29', '6.35,', '-94.8', '55.6,', '91.17', '57.22', '-5.8,', '25.18', '17.16', '-9.19', '-3.30', '44.12', '44.8,', '22.21', '19.4,', '90.22', '11.20', '-6.28', '10.30', '90.16', '49.16', '-62.5', '10.24', '83.17', '40, S', '21.22', '-44.8', '40, R', '-95.5', 'S-5.8', '50.32', '53.18', '69.22', '67.32', '13.1,', '-7.10', '-66.7', '-19.4', '-81.9', '34.19', '45.27', '74.14', '14.22', '16.11', '11.19', '-7.1,', '73.26', '-47.3', '64.20', '-55.6', '75.4,', '64.26', '66.7,', '70.30', '80.2,', '64.16', '71.28', '47.3,', '96.15', '-75.4', '75.29', '98.28', '36.17', '62.5,', '86.24', '10.17', '-20.6', '-5.31', '10.16', '81.9,', '94.8,', '93.14', '12.14', '29.18', '82.25', '48.32', '66.35', '63.17', '81.11', '74.28', '49.18', '14.19', '41.29', '-25.8', '-7.12', '69.27', '54.6,', '76.32', '35.17', '48.12', '42.13', '56.2,', '12.19', '-8.34', '94.9,', '33.25', '35.14', '22.15', '11.24', '82.24', '46.18', '-89.8', '53.29', '51.31', '67.10', '27.16', '20.16', '25.24', '68.4,', '14.3,', '55.35', '14.29', '-10.5', '27.34', '-19.5', '29.27', '-8.19', '36.31', '64.14', '89.8,', '75.30', '-4.18', '22.35', '69.32', '33.24', '-3.25', '66.27', '71.19', '28.12', '25.8,', '53.35', '75.36', '-3.10', '10.5,', '-94.9', '47.22', '90.2,', '-5.24', '42.27', '55.31', '-54.6', '16.19', '88.23', '19.5,', '-68.4', '51.17', '35.28', '35.18', '54.21', '52.22', '57.27', '72.3,', '78.12', '92.18', '53.16', '23.15', '36.11', '74.27', '58.2,', '89.15', '55.11', '25.33', '94.14', '-7.4,', '-92.4', '74.9,', '59.22', '42.35', '-57.9', '78.16', '82.32', '96.8,', '-6.27', '93.10', '10.2,', '34.1,', '36.19', 'S-7.4', '34.16', '98.29', '88.26', '16.12', '34.22', '21.13', '92.25', '65.9,', '68.24', '13.17', '25.31', '23.23', '-7.19', '69.18', '66.11', '10.28', '-65.9', '68.20', '49.22', '49.3,', '-96.8', '69.5,', '57.9,', '32.3,', '93.24', '76.25', '81.15', '92.4,', '57.17', '17.24', '80.27', '-69.5', '32.12', '-74.9', '35.19', '-10.6', '30.15', '24.19', '-42.9', '34.4,', '-17.4', '83.21', '96.27', '72.25', '-9.24', '-4.33', '74.24', '52.24', '71.17', '42.34', '-53.6', '53.6,', '-48.9', '39.11', '53.37', '78.21', '56.11', '83.16', '65.24', '24.27', '94.15', '-43.8', '10.6,', '64.35', '55.10', '55.14', '42.9,', '53.22', '-34.4', '58.32', '48.35', '69.15', '43.8,', '49.28', '48.9,', '53.1,', '13.10', '13.34', '23.36', '17.4,', '78.23', '69.20', '86.15', '38.18', '27.32', '98.19', '-30.4', '27.7,', '10.4,', '67.29', '78.37', '75.33', '14.1,', '66.1,', '71.29', '-27.7', '81.2,', '-9.30', '11.26', '48.16', '66.26', '-5.32', '38.23', '-10.4', '43.20', '30.4,', ' S-99', '-3.19', '53.10', '81.20', '64.29', '55.20', '91.22', '2.38,', '72.38', '81.36', '69.26', '-4.2,', '11.28', '40.4,', '88.14', '38.12', '41.16', '23.33', '40.12', '64.34', '-4.3,', '96.23', '33.1,', '43.3,', '-7.21', '11.12', '-5.30', '42.23', '74.21', '-40.4', '66.14', '69.12', '57.16', '50.26', '45.13', '31.25', '82.1,', '92.34', '11.17', '74.18', '23.32', '-99.1', '25.17', '78.25', '-76.7', '76.7,', '32.13', '28.6,', '25.29', '73.17', '-28.6', '-53.8', '-4.25', '22.1,', '53.8,', '-99.3', '-18.6', '39.5,', '87.9,', '-22.8', '-39.5', '-8.25', '34.3,', '-99.2', '-87.9', '97.10', '18.6,', '32.33', '-2.30', '22.8,', '99.11', '-99.4', '99.4,', '99.37', '99.35', '99.16', '99.42', '.42, ', '99.29', '99.22', '99.2,', '99.3,', '99.12', '99.14', '99.38', '9.42,', '99.26', '99.17', '99.32', '42, R', '42, S']\n"
     ]
    }
   ],
   "source": [
    "characteristics = CountVectorizer(inputCol=\"Flat shingles\", outputCol=\"Characteristic Matrix\")\n",
    "\n",
    "model = characteristics.fit(grouped_df)\n",
    "char_matrix = model.transform(grouped_df).select(\"Process ID\", \"Characteristic Matrix\")\n",
    "\n",
    "char_matrix.printSchema()\n",
    "# char_matrix.show()\n",
    "\n",
    "shingles = model.vocabulary\n",
    "print(\"Rows of Characteristic Matrix: \", shingles)"
   ]
  },
  {
   "cell_type": "code",
   "execution_count": null,
   "metadata": {},
   "outputs": [],
   "source": [
    "minhash = MinHashLSH(inputCol=\"Characteristic Matrix\", outputCol=\"Signatures\", numHashTables=5)\n",
    "\n",
    "# MinHash produces the signatures for the Characteritic matrix \n",
    "# numvHashTables is the number of the hush functioms that we want to use and the lenght of the signature \n",
    "model = minhash.fit(char_matrix)\n",
    "signatures = model.transform(char_matrix)\n",
    "\n",
    "# signatures.show()"
   ]
  },
  {
   "cell_type": "code",
   "execution_count": null,
   "metadata": {},
   "outputs": [],
   "source": [
    "# approxSimilarityJoin uses autmatically LSH to find rows that it is most likely \n",
    "# to have same \"Signatures\"\n",
    "# threshold: pairs with Jaccard Distance lower than threshlod\n",
    "similar_pairs = model.approxSimilarityJoin(signatures, signatures, threshold=0.2, distCol=\"Jaccard Distance\")\n",
    "# similar_pairs.show()"
   ]
  },
  {
   "cell_type": "code",
   "execution_count": null,
   "metadata": {},
   "outputs": [],
   "source": [
    "# similar_pairs.count()"
   ]
  },
  {
   "cell_type": "code",
   "execution_count": null,
   "metadata": {},
   "outputs": [],
   "source": [
    "similar_pairs = similar_pairs.select(\"datasetA.Process ID\", \"datasetB.Process ID\", \n",
    "                     \"Jaccard Distance\")\\\n",
    "                        # .filter((col(\"datasetA.Process ID\") != col(\"datasetB.Process ID\")))"
   ]
  },
  {
   "cell_type": "code",
   "execution_count": null,
   "metadata": {},
   "outputs": [],
   "source": [
    "# similar_pairs.show()"
   ]
  },
  {
   "cell_type": "code",
   "execution_count": null,
   "metadata": {},
   "outputs": [],
   "source": [
    "new_cols = [\"Process ID A\", \"Process ID B\", \"Jaccard Distance\"]\n",
    "similar_pairs = similar_pairs.toDF(*new_cols)"
   ]
  },
  {
   "cell_type": "code",
   "execution_count": null,
   "metadata": {},
   "outputs": [],
   "source": [
    "# similar_pairs.show()"
   ]
  },
  {
   "cell_type": "code",
   "execution_count": null,
   "metadata": {},
   "outputs": [],
   "source": [
    "# grouped_df.show()"
   ]
  },
  {
   "cell_type": "code",
   "execution_count": null,
   "metadata": {},
   "outputs": [],
   "source": [
    "pairs = similar_pairs.join(grouped_df, similar_pairs[\"Process ID A\"] == col(\"Process ID\")) \\\n",
    "                     .select(col(\"Process ID A\"), col(\"Process ID B\"), col(\"Log\").alias(\"Log A\")) \\\n",
    "                     .join(grouped_df, similar_pairs[\"Process ID B\"] == col(\"Process ID\")) \\\n",
    "                     .select(col(\"Process ID A\"), col(\"Process ID B\"), col(\"Log A\"), col(\"Log\").alias(\"Log B\"))"
   ]
  },
  {
   "cell_type": "code",
   "execution_count": null,
   "metadata": {},
   "outputs": [],
   "source": [
    "# pairs.collect()"
   ]
  },
  {
   "cell_type": "code",
   "execution_count": null,
   "metadata": {},
   "outputs": [],
   "source": [
    "def original_check(x,y):\n",
    "    return x==y\n",
    "\n",
    "orifinal_checking = udf(original_check, BooleanType())\n",
    "same_pairs = pairs.filter(orifinal_checking(col(\"Log A\"), col(\"Log B\")))"
   ]
  },
  {
   "cell_type": "code",
   "execution_count": null,
   "metadata": {},
   "outputs": [],
   "source": [
    "same_pairs = same_pairs.groupBy(\"Log A\").agg(collect_set(\"Process ID A\"))"
   ]
  },
  {
   "cell_type": "code",
   "execution_count": null,
   "metadata": {},
   "outputs": [],
   "source": [
    "# same_pairs.select(\"collect_set(Process ID A)\").collect()"
   ]
  }
 ],
 "metadata": {
  "kernelspec": {
   "display_name": "data_intensive_systems",
   "language": "python",
   "name": "python3"
  },
  "language_info": {
   "codemirror_mode": {
    "name": "ipython",
    "version": 3
   },
   "file_extension": ".py",
   "mimetype": "text/x-python",
   "name": "python",
   "nbconvert_exporter": "python",
   "pygments_lexer": "ipython3",
   "version": "3.12.3"
  }
 },
 "nbformat": 4,
 "nbformat_minor": 2
}
